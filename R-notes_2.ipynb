{
 "cells": [
  {
   "cell_type": "markdown",
   "metadata": {},
   "source": [
    "# vapply and tapply"
   ]
  },
  {
   "cell_type": "code",
   "execution_count": 1,
   "metadata": {},
   "outputs": [],
   "source": [
    "#Loading the flags dataset\n",
    "\n",
    "y <- \"https://archive.ics.uci.edu/ml/machine-learning-databases/flags/flag.data\"\n",
    "flags <- read.table(y, header = FALSE, sep = \",\")\n",
    "names(flags) <- c(\"country\", \"landmass\", \"zone\", \"area\", \"population\", \"language\", \n",
    "              \"religion\", \"bars\", \"stripes\", \"colors\", \"red\", \"green\", \"blue\",\n",
    "              \"gold\", \"white\", \"black\", \"orange\",\"mainhue\", \"circles\", \"crosses\", \n",
    "              \"saltires\", \"quarters\", \"sunstars\", \"crescents\", \"triangle\", \"icon\",\n",
    "              \"animate\", \"text\", \"topleft\", \"botright\")"
   ]
  },
  {
   "cell_type": "code",
   "execution_count": 2,
   "metadata": {},
   "outputs": [],
   "source": [
    "?read.table"
   ]
  },
  {
   "cell_type": "code",
   "execution_count": 3,
   "metadata": {},
   "outputs": [
    {
     "data": {
      "text/html": [
       "<table>\n",
       "<thead><tr><th scope=col>country</th><th scope=col>landmass</th><th scope=col>zone</th><th scope=col>area</th><th scope=col>population</th><th scope=col>language</th><th scope=col>religion</th><th scope=col>bars</th><th scope=col>stripes</th><th scope=col>colors</th><th scope=col>⋯</th><th scope=col>saltires</th><th scope=col>quarters</th><th scope=col>sunstars</th><th scope=col>crescents</th><th scope=col>triangle</th><th scope=col>icon</th><th scope=col>animate</th><th scope=col>text</th><th scope=col>topleft</th><th scope=col>botright</th></tr></thead>\n",
       "<tbody>\n",
       "\t<tr><td>Afghanistan   </td><td>5             </td><td>1             </td><td> 648          </td><td>16            </td><td>10            </td><td>2             </td><td>0             </td><td>3             </td><td>5             </td><td>⋯             </td><td>0             </td><td>0             </td><td>1             </td><td>0             </td><td>0             </td><td>1             </td><td>0             </td><td>0             </td><td>black         </td><td>green         </td></tr>\n",
       "\t<tr><td>Albania       </td><td>3             </td><td>1             </td><td>  29          </td><td> 3            </td><td> 6            </td><td>6             </td><td>0             </td><td>0             </td><td>3             </td><td>⋯             </td><td>0             </td><td>0             </td><td>1             </td><td>0             </td><td>0             </td><td>0             </td><td>1             </td><td>0             </td><td>red           </td><td>red           </td></tr>\n",
       "\t<tr><td>Algeria       </td><td>4             </td><td>1             </td><td>2388          </td><td>20            </td><td> 8            </td><td>2             </td><td>2             </td><td>0             </td><td>3             </td><td>⋯             </td><td>0             </td><td>0             </td><td>1             </td><td>1             </td><td>0             </td><td>0             </td><td>0             </td><td>0             </td><td>green         </td><td>white         </td></tr>\n",
       "\t<tr><td>American-Samoa</td><td>6             </td><td>3             </td><td>   0          </td><td> 0            </td><td> 1            </td><td>1             </td><td>0             </td><td>0             </td><td>5             </td><td>⋯             </td><td>0             </td><td>0             </td><td>0             </td><td>0             </td><td>1             </td><td>1             </td><td>1             </td><td>0             </td><td>blue          </td><td>red           </td></tr>\n",
       "\t<tr><td>Andorra       </td><td>3             </td><td>1             </td><td>   0          </td><td> 0            </td><td> 6            </td><td>0             </td><td>3             </td><td>0             </td><td>3             </td><td>⋯             </td><td>0             </td><td>0             </td><td>0             </td><td>0             </td><td>0             </td><td>0             </td><td>0             </td><td>0             </td><td>blue          </td><td>red           </td></tr>\n",
       "\t<tr><td>Angola        </td><td>4             </td><td>2             </td><td>1247          </td><td> 7            </td><td>10            </td><td>5             </td><td>0             </td><td>2             </td><td>3             </td><td>⋯             </td><td>0             </td><td>0             </td><td>1             </td><td>0             </td><td>0             </td><td>1             </td><td>0             </td><td>0             </td><td>red           </td><td>black         </td></tr>\n",
       "</tbody>\n",
       "</table>\n"
      ],
      "text/latex": [
       "\\begin{tabular}{r|llllllllllllllllllllllllllllll}\n",
       " country & landmass & zone & area & population & language & religion & bars & stripes & colors & ⋯ & saltires & quarters & sunstars & crescents & triangle & icon & animate & text & topleft & botright\\\\\n",
       "\\hline\n",
       "\t Afghanistan    & 5              & 1              &  648           & 16             & 10             & 2              & 0              & 3              & 5              & ⋯              & 0              & 0              & 1              & 0              & 0              & 1              & 0              & 0              & black          & green         \\\\\n",
       "\t Albania        & 3              & 1              &   29           &  3             &  6             & 6              & 0              & 0              & 3              & ⋯              & 0              & 0              & 1              & 0              & 0              & 0              & 1              & 0              & red            & red           \\\\\n",
       "\t Algeria        & 4              & 1              & 2388           & 20             &  8             & 2              & 2              & 0              & 3              & ⋯              & 0              & 0              & 1              & 1              & 0              & 0              & 0              & 0              & green          & white         \\\\\n",
       "\t American-Samoa & 6              & 3              &    0           &  0             &  1             & 1              & 0              & 0              & 5              & ⋯              & 0              & 0              & 0              & 0              & 1              & 1              & 1              & 0              & blue           & red           \\\\\n",
       "\t Andorra        & 3              & 1              &    0           &  0             &  6             & 0              & 3              & 0              & 3              & ⋯              & 0              & 0              & 0              & 0              & 0              & 0              & 0              & 0              & blue           & red           \\\\\n",
       "\t Angola         & 4              & 2              & 1247           &  7             & 10             & 5              & 0              & 2              & 3              & ⋯              & 0              & 0              & 1              & 0              & 0              & 1              & 0              & 0              & red            & black         \\\\\n",
       "\\end{tabular}\n"
      ],
      "text/markdown": [
       "\n",
       "country | landmass | zone | area | population | language | religion | bars | stripes | colors | ⋯ | saltires | quarters | sunstars | crescents | triangle | icon | animate | text | topleft | botright | \n",
       "|---|---|---|---|---|---|\n",
       "| Afghanistan    | 5              | 1              |  648           | 16             | 10             | 2              | 0              | 3              | 5              | ⋯              | 0              | 0              | 1              | 0              | 0              | 1              | 0              | 0              | black          | green          | \n",
       "| Albania        | 3              | 1              |   29           |  3             |  6             | 6              | 0              | 0              | 3              | ⋯              | 0              | 0              | 1              | 0              | 0              | 0              | 1              | 0              | red            | red            | \n",
       "| Algeria        | 4              | 1              | 2388           | 20             |  8             | 2              | 2              | 0              | 3              | ⋯              | 0              | 0              | 1              | 1              | 0              | 0              | 0              | 0              | green          | white          | \n",
       "| American-Samoa | 6              | 3              |    0           |  0             |  1             | 1              | 0              | 0              | 5              | ⋯              | 0              | 0              | 0              | 0              | 1              | 1              | 1              | 0              | blue           | red            | \n",
       "| Andorra        | 3              | 1              |    0           |  0             |  6             | 0              | 3              | 0              | 3              | ⋯              | 0              | 0              | 0              | 0              | 0              | 0              | 0              | 0              | blue           | red            | \n",
       "| Angola         | 4              | 2              | 1247           |  7             | 10             | 5              | 0              | 2              | 3              | ⋯              | 0              | 0              | 1              | 0              | 0              | 1              | 0              | 0              | red            | black          | \n",
       "\n",
       "\n"
      ],
      "text/plain": [
       "  country        landmass zone area population language religion bars stripes\n",
       "1 Afghanistan    5        1     648 16         10       2        0    3      \n",
       "2 Albania        3        1      29  3          6       6        0    0      \n",
       "3 Algeria        4        1    2388 20          8       2        2    0      \n",
       "4 American-Samoa 6        3       0  0          1       1        0    0      \n",
       "5 Andorra        3        1       0  0          6       0        3    0      \n",
       "6 Angola         4        2    1247  7         10       5        0    2      \n",
       "  colors ⋯ saltires quarters sunstars crescents triangle icon animate text\n",
       "1 5      ⋯ 0        0        1        0         0        1    0       0   \n",
       "2 3      ⋯ 0        0        1        0         0        0    1       0   \n",
       "3 3      ⋯ 0        0        1        1         0        0    0       0   \n",
       "4 5      ⋯ 0        0        0        0         1        1    1       0   \n",
       "5 3      ⋯ 0        0        0        0         0        0    0       0   \n",
       "6 3      ⋯ 0        0        1        0         0        1    0       0   \n",
       "  topleft botright\n",
       "1 black   green   \n",
       "2 red     red     \n",
       "3 green   white   \n",
       "4 blue    red     \n",
       "5 blue    red     \n",
       "6 red     black   "
      ]
     },
     "metadata": {},
     "output_type": "display_data"
    }
   ],
   "source": [
    "head(flags)"
   ]
  },
  {
   "cell_type": "code",
   "execution_count": 4,
   "metadata": {},
   "outputs": [],
   "source": [
    "?str"
   ]
  },
  {
   "cell_type": "code",
   "execution_count": 5,
   "metadata": {},
   "outputs": [
    {
     "name": "stdout",
     "output_type": "stream",
     "text": [
      "'data.frame':\t194 obs. of  30 variables:\n",
      " $ country   : Factor w/ 194 levels \"Afghanistan\",..: 1 2 3 4 5 6 7 8 9 10 ...\n",
      " $ landmass  : int  5 3 4 6 3 4 1 1 2 2 ...\n",
      " $ zone      : int  1 1 1 3 1 2 4 4 3 3 ...\n",
      " $ area      : int  648 29 2388 0 0 1247 0 0 2777 2777 ...\n",
      " $ population: int  16 3 20 0 0 7 0 0 28 28 ...\n",
      " $ language  : int  10 6 8 1 6 10 1 1 2 2 ...\n",
      " $ religion  : int  2 6 2 1 0 5 1 1 0 0 ...\n",
      " $ bars      : int  0 0 2 0 3 0 0 0 0 0 ...\n",
      " $ stripes   : int  3 0 0 0 0 2 1 1 3 3 ...\n",
      " $ colors    : int  5 3 3 5 3 3 3 5 2 3 ...\n",
      " $ red       : int  1 1 1 1 1 1 0 1 0 0 ...\n",
      " $ green     : int  1 0 1 0 0 0 0 0 0 0 ...\n",
      " $ blue      : int  0 0 0 1 1 0 1 1 1 1 ...\n",
      " $ gold      : int  1 1 0 1 1 1 0 1 0 1 ...\n",
      " $ white     : int  1 0 1 1 0 0 1 1 1 1 ...\n",
      " $ black     : int  1 1 0 0 0 1 0 1 0 0 ...\n",
      " $ orange    : int  0 0 0 1 0 0 1 0 0 0 ...\n",
      " $ mainhue   : Factor w/ 8 levels \"black\",\"blue\",..: 5 7 5 2 4 7 8 7 2 2 ...\n",
      " $ circles   : int  0 0 0 0 0 0 0 0 0 0 ...\n",
      " $ crosses   : int  0 0 0 0 0 0 0 0 0 0 ...\n",
      " $ saltires  : int  0 0 0 0 0 0 0 0 0 0 ...\n",
      " $ quarters  : int  0 0 0 0 0 0 0 0 0 0 ...\n",
      " $ sunstars  : int  1 1 1 0 0 1 0 1 0 1 ...\n",
      " $ crescents : int  0 0 1 0 0 0 0 0 0 0 ...\n",
      " $ triangle  : int  0 0 0 1 0 0 0 1 0 0 ...\n",
      " $ icon      : int  1 0 0 1 0 1 0 0 0 0 ...\n",
      " $ animate   : int  0 1 0 1 0 0 1 0 0 0 ...\n",
      " $ text      : int  0 0 0 0 0 0 0 0 0 0 ...\n",
      " $ topleft   : Factor w/ 7 levels \"black\",\"blue\",..: 1 6 4 2 2 6 7 1 2 2 ...\n",
      " $ botright  : Factor w/ 8 levels \"black\",\"blue\",..: 5 7 8 7 7 1 2 7 2 2 ...\n"
     ]
    }
   ],
   "source": [
    "str(flags)"
   ]
  },
  {
   "cell_type": "code",
   "execution_count": 6,
   "metadata": {},
   "outputs": [
    {
     "data": {
      "text/plain": [
       "           country       landmass          zone            area        \n",
       " Afghanistan   :  1   Min.   :1.000   Min.   :1.000   Min.   :    0.0  \n",
       " Albania       :  1   1st Qu.:3.000   1st Qu.:1.000   1st Qu.:    9.0  \n",
       " Algeria       :  1   Median :4.000   Median :2.000   Median :  111.0  \n",
       " American-Samoa:  1   Mean   :3.572   Mean   :2.211   Mean   :  700.0  \n",
       " Andorra       :  1   3rd Qu.:5.000   3rd Qu.:4.000   3rd Qu.:  471.2  \n",
       " Angola        :  1   Max.   :6.000   Max.   :4.000   Max.   :22402.0  \n",
       " (Other)       :188                                                    \n",
       "   population         language        religion          bars       \n",
       " Min.   :   0.00   Min.   : 1.00   Min.   :0.000   Min.   :0.0000  \n",
       " 1st Qu.:   0.00   1st Qu.: 2.00   1st Qu.:1.000   1st Qu.:0.0000  \n",
       " Median :   4.00   Median : 6.00   Median :1.000   Median :0.0000  \n",
       " Mean   :  23.27   Mean   : 5.34   Mean   :2.191   Mean   :0.4536  \n",
       " 3rd Qu.:  14.00   3rd Qu.: 9.00   3rd Qu.:4.000   3rd Qu.:0.0000  \n",
       " Max.   :1008.00   Max.   :10.00   Max.   :7.000   Max.   :5.0000  \n",
       "                                                                   \n",
       "    stripes           colors           red             green       \n",
       " Min.   : 0.000   Min.   :1.000   Min.   :0.0000   Min.   :0.0000  \n",
       " 1st Qu.: 0.000   1st Qu.:3.000   1st Qu.:1.0000   1st Qu.:0.0000  \n",
       " Median : 0.000   Median :3.000   Median :1.0000   Median :0.0000  \n",
       " Mean   : 1.552   Mean   :3.464   Mean   :0.7887   Mean   :0.4691  \n",
       " 3rd Qu.: 3.000   3rd Qu.:4.000   3rd Qu.:1.0000   3rd Qu.:1.0000  \n",
       " Max.   :14.000   Max.   :8.000   Max.   :1.0000   Max.   :1.0000  \n",
       "                                                                   \n",
       "      blue             gold            white            black      \n",
       " Min.   :0.0000   Min.   :0.0000   Min.   :0.0000   Min.   :0.000  \n",
       " 1st Qu.:0.0000   1st Qu.:0.0000   1st Qu.:1.0000   1st Qu.:0.000  \n",
       " Median :1.0000   Median :0.0000   Median :1.0000   Median :0.000  \n",
       " Mean   :0.5103   Mean   :0.4691   Mean   :0.7526   Mean   :0.268  \n",
       " 3rd Qu.:1.0000   3rd Qu.:1.0000   3rd Qu.:1.0000   3rd Qu.:1.000  \n",
       " Max.   :1.0000   Max.   :1.0000   Max.   :1.0000   Max.   :1.000  \n",
       "                                                                   \n",
       "     orange         mainhue      circles          crosses      \n",
       " Min.   :0.000   red    :71   Min.   :0.0000   Min.   :0.0000  \n",
       " 1st Qu.:0.000   blue   :40   1st Qu.:0.0000   1st Qu.:0.0000  \n",
       " Median :0.000   green  :31   Median :0.0000   Median :0.0000  \n",
       " Mean   :0.134   white  :22   Mean   :0.1701   Mean   :0.1495  \n",
       " 3rd Qu.:0.000   gold   :19   3rd Qu.:0.0000   3rd Qu.:0.0000  \n",
       " Max.   :1.000   black  : 5   Max.   :4.0000   Max.   :2.0000  \n",
       "                 (Other): 6                                    \n",
       "    saltires          quarters         sunstars        crescents     \n",
       " Min.   :0.00000   Min.   :0.0000   Min.   : 0.000   Min.   :0.0000  \n",
       " 1st Qu.:0.00000   1st Qu.:0.0000   1st Qu.: 0.000   1st Qu.:0.0000  \n",
       " Median :0.00000   Median :0.0000   Median : 0.000   Median :0.0000  \n",
       " Mean   :0.09278   Mean   :0.1495   Mean   : 1.387   Mean   :0.0567  \n",
       " 3rd Qu.:0.00000   3rd Qu.:0.0000   3rd Qu.: 1.000   3rd Qu.:0.0000  \n",
       " Max.   :1.00000   Max.   :4.0000   Max.   :50.000   Max.   :1.0000  \n",
       "                                                                     \n",
       "    triangle           icon           animate           text        \n",
       " Min.   :0.0000   Min.   :0.0000   Min.   :0.000   Min.   :0.00000  \n",
       " 1st Qu.:0.0000   1st Qu.:0.0000   1st Qu.:0.000   1st Qu.:0.00000  \n",
       " Median :0.0000   Median :0.0000   Median :0.000   Median :0.00000  \n",
       " Mean   :0.1392   Mean   :0.2526   Mean   :0.201   Mean   :0.08247  \n",
       " 3rd Qu.:0.0000   3rd Qu.:0.7500   3rd Qu.:0.000   3rd Qu.:0.00000  \n",
       " Max.   :1.0000   Max.   :1.0000   Max.   :1.000   Max.   :1.00000  \n",
       "                                                                    \n",
       "   topleft      botright \n",
       " black :12   red    :69  \n",
       " blue  :43   blue   :47  \n",
       " gold  : 6   green  :40  \n",
       " green :32   white  :17  \n",
       " orange: 4   black  : 9  \n",
       " red   :56   gold   : 9  \n",
       " white :41   (Other): 3  "
      ]
     },
     "metadata": {},
     "output_type": "display_data"
    }
   ],
   "source": [
    "summary(flags)"
   ]
  },
  {
   "cell_type": "code",
   "execution_count": 8,
   "metadata": {},
   "outputs": [],
   "source": [
    "# List of unique elements in every component.\n",
    "\n",
    "unique_list <- sapply(flags, unique)"
   ]
  },
  {
   "cell_type": "code",
   "execution_count": 9,
   "metadata": {},
   "outputs": [
    {
     "data": {
      "text/html": [
       "<dl>\n",
       "\t<dt>$country</dt>\n",
       "\t\t<dd><ol class=list-inline>\n",
       "\t<li>Afghanistan</li>\n",
       "\t<li>Albania</li>\n",
       "\t<li>Algeria</li>\n",
       "\t<li>American-Samoa</li>\n",
       "\t<li>Andorra</li>\n",
       "\t<li>Angola</li>\n",
       "\t<li>Anguilla</li>\n",
       "\t<li>Antigua-Barbuda</li>\n",
       "\t<li>Argentina</li>\n",
       "\t<li>Argentine</li>\n",
       "\t<li>Australia</li>\n",
       "\t<li>Austria</li>\n",
       "\t<li>Bahamas</li>\n",
       "\t<li>Bahrain</li>\n",
       "\t<li>Bangladesh</li>\n",
       "\t<li>Barbados</li>\n",
       "\t<li>Belgium</li>\n",
       "\t<li>Belize</li>\n",
       "\t<li>Benin</li>\n",
       "\t<li>Bermuda</li>\n",
       "\t<li>Bhutan</li>\n",
       "\t<li>Bolivia</li>\n",
       "\t<li>Botswana</li>\n",
       "\t<li>Brazil</li>\n",
       "\t<li>British-Virgin-Isles</li>\n",
       "\t<li>Brunei</li>\n",
       "\t<li>Bulgaria</li>\n",
       "\t<li>Burkina</li>\n",
       "\t<li>Burma</li>\n",
       "\t<li>Burundi</li>\n",
       "\t<li>Cameroon</li>\n",
       "\t<li>Canada</li>\n",
       "\t<li>Cape-Verde-Islands</li>\n",
       "\t<li>Cayman-Islands</li>\n",
       "\t<li>Central-African-Republic</li>\n",
       "\t<li>Chad</li>\n",
       "\t<li>Chile</li>\n",
       "\t<li>China</li>\n",
       "\t<li>Colombia</li>\n",
       "\t<li>Comorro-Islands</li>\n",
       "\t<li>Congo</li>\n",
       "\t<li>Cook-Islands</li>\n",
       "\t<li>Costa-Rica</li>\n",
       "\t<li>Cuba</li>\n",
       "\t<li>Cyprus</li>\n",
       "\t<li>Czechoslovakia</li>\n",
       "\t<li>Denmark</li>\n",
       "\t<li>Djibouti</li>\n",
       "\t<li>Dominica</li>\n",
       "\t<li>Dominican-Republic</li>\n",
       "\t<li>Ecuador</li>\n",
       "\t<li>Egypt</li>\n",
       "\t<li>El-Salvador</li>\n",
       "\t<li>Equatorial-Guinea</li>\n",
       "\t<li>Ethiopia</li>\n",
       "\t<li>Faeroes</li>\n",
       "\t<li>Falklands-Malvinas</li>\n",
       "\t<li>Fiji</li>\n",
       "\t<li>Finland</li>\n",
       "\t<li>France</li>\n",
       "\t<li>French-Guiana</li>\n",
       "\t<li>French-Polynesia</li>\n",
       "\t<li>Gabon</li>\n",
       "\t<li>Gambia</li>\n",
       "\t<li>Germany-DDR</li>\n",
       "\t<li>Germany-FRG</li>\n",
       "\t<li>Ghana</li>\n",
       "\t<li>Gibraltar</li>\n",
       "\t<li>Greece</li>\n",
       "\t<li>Greenland</li>\n",
       "\t<li>Grenada</li>\n",
       "\t<li>Guam</li>\n",
       "\t<li>Guatemala</li>\n",
       "\t<li>Guinea</li>\n",
       "\t<li>Guinea-Bissau</li>\n",
       "\t<li>Guyana</li>\n",
       "\t<li>Haiti</li>\n",
       "\t<li>Honduras</li>\n",
       "\t<li>Hong-Kong</li>\n",
       "\t<li>Hungary</li>\n",
       "\t<li>Iceland</li>\n",
       "\t<li>India</li>\n",
       "\t<li>Indonesia</li>\n",
       "\t<li>Iran</li>\n",
       "\t<li>Iraq</li>\n",
       "\t<li>Ireland</li>\n",
       "\t<li>Israel</li>\n",
       "\t<li>Italy</li>\n",
       "\t<li>Ivory-Coast</li>\n",
       "\t<li>Jamaica</li>\n",
       "\t<li>Japan</li>\n",
       "\t<li>Jordan</li>\n",
       "\t<li>Kampuchea</li>\n",
       "\t<li>Kenya</li>\n",
       "\t<li>Kiribati</li>\n",
       "\t<li>Kuwait</li>\n",
       "\t<li>Laos</li>\n",
       "\t<li>Lebanon</li>\n",
       "\t<li>Lesotho</li>\n",
       "\t<li>Liberia</li>\n",
       "\t<li>Libya</li>\n",
       "\t<li>Liechtenstein</li>\n",
       "\t<li>Luxembourg</li>\n",
       "\t<li>Malagasy</li>\n",
       "\t<li>Malawi</li>\n",
       "\t<li>Malaysia</li>\n",
       "\t<li>Maldive-Islands</li>\n",
       "\t<li>Mali</li>\n",
       "\t<li>Malta</li>\n",
       "\t<li>Marianas</li>\n",
       "\t<li>Mauritania</li>\n",
       "\t<li>Mauritius</li>\n",
       "\t<li>Mexico</li>\n",
       "\t<li>Micronesia</li>\n",
       "\t<li>Monaco</li>\n",
       "\t<li>Mongolia</li>\n",
       "\t<li>Montserrat</li>\n",
       "\t<li>Morocco</li>\n",
       "\t<li>Mozambique</li>\n",
       "\t<li>Nauru</li>\n",
       "\t<li>Nepal</li>\n",
       "\t<li>Netherlands</li>\n",
       "\t<li>Netherlands-Antilles</li>\n",
       "\t<li>New-Zealand</li>\n",
       "\t<li>Nicaragua</li>\n",
       "\t<li>Niger</li>\n",
       "\t<li>Nigeria</li>\n",
       "\t<li>Niue</li>\n",
       "\t<li>North-Korea</li>\n",
       "\t<li>North-Yemen</li>\n",
       "\t<li>Norway</li>\n",
       "\t<li>Oman</li>\n",
       "\t<li>Pakistan</li>\n",
       "\t<li>Panama</li>\n",
       "\t<li>Papua-New-Guinea</li>\n",
       "\t<li>Parguay</li>\n",
       "\t<li>Peru</li>\n",
       "\t<li>Philippines</li>\n",
       "\t<li>Poland</li>\n",
       "\t<li>Portugal</li>\n",
       "\t<li>Puerto-Rico</li>\n",
       "\t<li>Qatar</li>\n",
       "\t<li>Romania</li>\n",
       "\t<li>Rwanda</li>\n",
       "\t<li>San-Marino</li>\n",
       "\t<li>Sao-Tome</li>\n",
       "\t<li>Saudi-Arabia</li>\n",
       "\t<li>Senegal</li>\n",
       "\t<li>Seychelles</li>\n",
       "\t<li>Sierra-Leone</li>\n",
       "\t<li>Singapore</li>\n",
       "\t<li>Soloman-Islands</li>\n",
       "\t<li>Somalia</li>\n",
       "\t<li>South-Africa</li>\n",
       "\t<li>South-Korea</li>\n",
       "\t<li>South-Yemen</li>\n",
       "\t<li>Spain</li>\n",
       "\t<li>Sri-Lanka</li>\n",
       "\t<li>St-Helena</li>\n",
       "\t<li>St-Kitts-Nevis</li>\n",
       "\t<li>St-Lucia</li>\n",
       "\t<li>St-Vincent</li>\n",
       "\t<li>Sudan</li>\n",
       "\t<li>Surinam</li>\n",
       "\t<li>Swaziland</li>\n",
       "\t<li>Sweden</li>\n",
       "\t<li>Switzerland</li>\n",
       "\t<li>Syria</li>\n",
       "\t<li>Taiwan</li>\n",
       "\t<li>Tanzania</li>\n",
       "\t<li>Thailand</li>\n",
       "\t<li>Togo</li>\n",
       "\t<li>Tonga</li>\n",
       "\t<li>Trinidad-Tobago</li>\n",
       "\t<li>Tunisia</li>\n",
       "\t<li>Turkey</li>\n",
       "\t<li>Turks-Cocos-Islands</li>\n",
       "\t<li>Tuvalu</li>\n",
       "\t<li>UAE</li>\n",
       "\t<li>Uganda</li>\n",
       "\t<li>UK</li>\n",
       "\t<li>Uruguay</li>\n",
       "\t<li>US-Virgin-Isles</li>\n",
       "\t<li>USA</li>\n",
       "\t<li>USSR</li>\n",
       "\t<li>Vanuatu</li>\n",
       "\t<li>Vatican-City</li>\n",
       "\t<li>Venezuela</li>\n",
       "\t<li>Vietnam</li>\n",
       "\t<li>Western-Samoa</li>\n",
       "\t<li>Yugoslavia</li>\n",
       "\t<li>Zaire</li>\n",
       "\t<li>Zambia</li>\n",
       "\t<li>Zimbabwe</li>\n",
       "</ol>\n",
       "\n",
       "<details>\n",
       "\t<summary style=display:list-item;cursor:pointer>\n",
       "\t\t<strong>Levels</strong>:\n",
       "\t</summary>\n",
       "\t<ol class=list-inline>\n",
       "\t\t<li>'Afghanistan'</li>\n",
       "\t\t<li>'Albania'</li>\n",
       "\t\t<li>'Algeria'</li>\n",
       "\t\t<li>'American-Samoa'</li>\n",
       "\t\t<li>'Andorra'</li>\n",
       "\t\t<li>'Angola'</li>\n",
       "\t\t<li>'Anguilla'</li>\n",
       "\t\t<li>'Antigua-Barbuda'</li>\n",
       "\t\t<li>'Argentina'</li>\n",
       "\t\t<li>'Argentine'</li>\n",
       "\t\t<li>'Australia'</li>\n",
       "\t\t<li>'Austria'</li>\n",
       "\t\t<li>'Bahamas'</li>\n",
       "\t\t<li>'Bahrain'</li>\n",
       "\t\t<li>'Bangladesh'</li>\n",
       "\t\t<li>'Barbados'</li>\n",
       "\t\t<li>'Belgium'</li>\n",
       "\t\t<li>'Belize'</li>\n",
       "\t\t<li>'Benin'</li>\n",
       "\t\t<li>'Bermuda'</li>\n",
       "\t\t<li>'Bhutan'</li>\n",
       "\t\t<li>'Bolivia'</li>\n",
       "\t\t<li>'Botswana'</li>\n",
       "\t\t<li>'Brazil'</li>\n",
       "\t\t<li>'British-Virgin-Isles'</li>\n",
       "\t\t<li>'Brunei'</li>\n",
       "\t\t<li>'Bulgaria'</li>\n",
       "\t\t<li>'Burkina'</li>\n",
       "\t\t<li>'Burma'</li>\n",
       "\t\t<li>'Burundi'</li>\n",
       "\t\t<li>'Cameroon'</li>\n",
       "\t\t<li>'Canada'</li>\n",
       "\t\t<li>'Cape-Verde-Islands'</li>\n",
       "\t\t<li>'Cayman-Islands'</li>\n",
       "\t\t<li>'Central-African-Republic'</li>\n",
       "\t\t<li>'Chad'</li>\n",
       "\t\t<li>'Chile'</li>\n",
       "\t\t<li>'China'</li>\n",
       "\t\t<li>'Colombia'</li>\n",
       "\t\t<li>'Comorro-Islands'</li>\n",
       "\t\t<li>'Congo'</li>\n",
       "\t\t<li>'Cook-Islands'</li>\n",
       "\t\t<li>'Costa-Rica'</li>\n",
       "\t\t<li>'Cuba'</li>\n",
       "\t\t<li>'Cyprus'</li>\n",
       "\t\t<li>'Czechoslovakia'</li>\n",
       "\t\t<li>'Denmark'</li>\n",
       "\t\t<li>'Djibouti'</li>\n",
       "\t\t<li>'Dominica'</li>\n",
       "\t\t<li>'Dominican-Republic'</li>\n",
       "\t\t<li>'Ecuador'</li>\n",
       "\t\t<li>'Egypt'</li>\n",
       "\t\t<li>'El-Salvador'</li>\n",
       "\t\t<li>'Equatorial-Guinea'</li>\n",
       "\t\t<li>'Ethiopia'</li>\n",
       "\t\t<li>'Faeroes'</li>\n",
       "\t\t<li>'Falklands-Malvinas'</li>\n",
       "\t\t<li>'Fiji'</li>\n",
       "\t\t<li>'Finland'</li>\n",
       "\t\t<li>'France'</li>\n",
       "\t\t<li>'French-Guiana'</li>\n",
       "\t\t<li>'French-Polynesia'</li>\n",
       "\t\t<li>'Gabon'</li>\n",
       "\t\t<li>'Gambia'</li>\n",
       "\t\t<li>'Germany-DDR'</li>\n",
       "\t\t<li>'Germany-FRG'</li>\n",
       "\t\t<li>'Ghana'</li>\n",
       "\t\t<li>'Gibraltar'</li>\n",
       "\t\t<li>'Greece'</li>\n",
       "\t\t<li>'Greenland'</li>\n",
       "\t\t<li>'Grenada'</li>\n",
       "\t\t<li>'Guam'</li>\n",
       "\t\t<li>'Guatemala'</li>\n",
       "\t\t<li>'Guinea'</li>\n",
       "\t\t<li>'Guinea-Bissau'</li>\n",
       "\t\t<li>'Guyana'</li>\n",
       "\t\t<li>'Haiti'</li>\n",
       "\t\t<li>'Honduras'</li>\n",
       "\t\t<li>'Hong-Kong'</li>\n",
       "\t\t<li>'Hungary'</li>\n",
       "\t\t<li>'Iceland'</li>\n",
       "\t\t<li>'India'</li>\n",
       "\t\t<li>'Indonesia'</li>\n",
       "\t\t<li>'Iran'</li>\n",
       "\t\t<li>'Iraq'</li>\n",
       "\t\t<li>'Ireland'</li>\n",
       "\t\t<li>'Israel'</li>\n",
       "\t\t<li>'Italy'</li>\n",
       "\t\t<li>'Ivory-Coast'</li>\n",
       "\t\t<li>'Jamaica'</li>\n",
       "\t\t<li>'Japan'</li>\n",
       "\t\t<li>'Jordan'</li>\n",
       "\t\t<li>'Kampuchea'</li>\n",
       "\t\t<li>'Kenya'</li>\n",
       "\t\t<li>'Kiribati'</li>\n",
       "\t\t<li>'Kuwait'</li>\n",
       "\t\t<li>'Laos'</li>\n",
       "\t\t<li>'Lebanon'</li>\n",
       "\t\t<li>'Lesotho'</li>\n",
       "\t\t<li>'Liberia'</li>\n",
       "\t\t<li>'Libya'</li>\n",
       "\t\t<li>'Liechtenstein'</li>\n",
       "\t\t<li>'Luxembourg'</li>\n",
       "\t\t<li>'Malagasy'</li>\n",
       "\t\t<li>'Malawi'</li>\n",
       "\t\t<li>'Malaysia'</li>\n",
       "\t\t<li>'Maldive-Islands'</li>\n",
       "\t\t<li>'Mali'</li>\n",
       "\t\t<li>'Malta'</li>\n",
       "\t\t<li>'Marianas'</li>\n",
       "\t\t<li>'Mauritania'</li>\n",
       "\t\t<li>'Mauritius'</li>\n",
       "\t\t<li>'Mexico'</li>\n",
       "\t\t<li>'Micronesia'</li>\n",
       "\t\t<li>'Monaco'</li>\n",
       "\t\t<li>'Mongolia'</li>\n",
       "\t\t<li>'Montserrat'</li>\n",
       "\t\t<li>'Morocco'</li>\n",
       "\t\t<li>'Mozambique'</li>\n",
       "\t\t<li>'Nauru'</li>\n",
       "\t\t<li>'Nepal'</li>\n",
       "\t\t<li>'Netherlands'</li>\n",
       "\t\t<li>'Netherlands-Antilles'</li>\n",
       "\t\t<li>'New-Zealand'</li>\n",
       "\t\t<li>'Nicaragua'</li>\n",
       "\t\t<li>'Niger'</li>\n",
       "\t\t<li>'Nigeria'</li>\n",
       "\t\t<li>'Niue'</li>\n",
       "\t\t<li>'North-Korea'</li>\n",
       "\t\t<li>'North-Yemen'</li>\n",
       "\t\t<li>'Norway'</li>\n",
       "\t\t<li>'Oman'</li>\n",
       "\t\t<li>'Pakistan'</li>\n",
       "\t\t<li>'Panama'</li>\n",
       "\t\t<li>'Papua-New-Guinea'</li>\n",
       "\t\t<li>'Parguay'</li>\n",
       "\t\t<li>'Peru'</li>\n",
       "\t\t<li>'Philippines'</li>\n",
       "\t\t<li>'Poland'</li>\n",
       "\t\t<li>'Portugal'</li>\n",
       "\t\t<li>'Puerto-Rico'</li>\n",
       "\t\t<li>'Qatar'</li>\n",
       "\t\t<li>'Romania'</li>\n",
       "\t\t<li>'Rwanda'</li>\n",
       "\t\t<li>'San-Marino'</li>\n",
       "\t\t<li>'Sao-Tome'</li>\n",
       "\t\t<li>'Saudi-Arabia'</li>\n",
       "\t\t<li>'Senegal'</li>\n",
       "\t\t<li>'Seychelles'</li>\n",
       "\t\t<li>'Sierra-Leone'</li>\n",
       "\t\t<li>'Singapore'</li>\n",
       "\t\t<li>'Soloman-Islands'</li>\n",
       "\t\t<li>'Somalia'</li>\n",
       "\t\t<li>'South-Africa'</li>\n",
       "\t\t<li>'South-Korea'</li>\n",
       "\t\t<li>'South-Yemen'</li>\n",
       "\t\t<li>'Spain'</li>\n",
       "\t\t<li>'Sri-Lanka'</li>\n",
       "\t\t<li>'St-Helena'</li>\n",
       "\t\t<li>'St-Kitts-Nevis'</li>\n",
       "\t\t<li>'St-Lucia'</li>\n",
       "\t\t<li>'St-Vincent'</li>\n",
       "\t\t<li>'Sudan'</li>\n",
       "\t\t<li>'Surinam'</li>\n",
       "\t\t<li>'Swaziland'</li>\n",
       "\t\t<li>'Sweden'</li>\n",
       "\t\t<li>'Switzerland'</li>\n",
       "\t\t<li>'Syria'</li>\n",
       "\t\t<li>'Taiwan'</li>\n",
       "\t\t<li>'Tanzania'</li>\n",
       "\t\t<li>'Thailand'</li>\n",
       "\t\t<li>'Togo'</li>\n",
       "\t\t<li>'Tonga'</li>\n",
       "\t\t<li>'Trinidad-Tobago'</li>\n",
       "\t\t<li>'Tunisia'</li>\n",
       "\t\t<li>'Turkey'</li>\n",
       "\t\t<li>'Turks-Cocos-Islands'</li>\n",
       "\t\t<li>'Tuvalu'</li>\n",
       "\t\t<li>'UAE'</li>\n",
       "\t\t<li>'Uganda'</li>\n",
       "\t\t<li>'UK'</li>\n",
       "\t\t<li>'Uruguay'</li>\n",
       "\t\t<li>'US-Virgin-Isles'</li>\n",
       "\t\t<li>'USA'</li>\n",
       "\t\t<li>'USSR'</li>\n",
       "\t\t<li>'Vanuatu'</li>\n",
       "\t\t<li>'Vatican-City'</li>\n",
       "\t\t<li>'Venezuela'</li>\n",
       "\t\t<li>'Vietnam'</li>\n",
       "\t\t<li>'Western-Samoa'</li>\n",
       "\t\t<li>'Yugoslavia'</li>\n",
       "\t\t<li>'Zaire'</li>\n",
       "\t\t<li>'Zambia'</li>\n",
       "\t\t<li>'Zimbabwe'</li>\n",
       "\t</ol>\n",
       "</details></dd>\n",
       "\t<dt>$landmass</dt>\n",
       "\t\t<dd><ol class=list-inline>\n",
       "\t<li>5</li>\n",
       "\t<li>3</li>\n",
       "\t<li>4</li>\n",
       "\t<li>6</li>\n",
       "\t<li>1</li>\n",
       "\t<li>2</li>\n",
       "</ol>\n",
       "</dd>\n",
       "\t<dt>$zone</dt>\n",
       "\t\t<dd><ol class=list-inline>\n",
       "\t<li>1</li>\n",
       "\t<li>3</li>\n",
       "\t<li>2</li>\n",
       "\t<li>4</li>\n",
       "</ol>\n",
       "</dd>\n",
       "\t<dt>$area</dt>\n",
       "\t\t<dd><ol class=list-inline>\n",
       "\t<li>648</li>\n",
       "\t<li>29</li>\n",
       "\t<li>2388</li>\n",
       "\t<li>0</li>\n",
       "\t<li>1247</li>\n",
       "\t<li>2777</li>\n",
       "\t<li>7690</li>\n",
       "\t<li>84</li>\n",
       "\t<li>19</li>\n",
       "\t<li>1</li>\n",
       "\t<li>143</li>\n",
       "\t<li>31</li>\n",
       "\t<li>23</li>\n",
       "\t<li>113</li>\n",
       "\t<li>47</li>\n",
       "\t<li>1099</li>\n",
       "\t<li>600</li>\n",
       "\t<li>8512</li>\n",
       "\t<li>6</li>\n",
       "\t<li>111</li>\n",
       "\t<li>274</li>\n",
       "\t<li>678</li>\n",
       "\t<li>28</li>\n",
       "\t<li>474</li>\n",
       "\t<li>9976</li>\n",
       "\t<li>4</li>\n",
       "\t<li>623</li>\n",
       "\t<li>1284</li>\n",
       "\t<li>757</li>\n",
       "\t<li>9561</li>\n",
       "\t<li>1139</li>\n",
       "\t<li>2</li>\n",
       "\t<li>342</li>\n",
       "\t<li>51</li>\n",
       "\t<li>115</li>\n",
       "\t<li>9</li>\n",
       "\t<li>128</li>\n",
       "\t<li>43</li>\n",
       "\t<li>22</li>\n",
       "\t<li>49</li>\n",
       "\t<li>284</li>\n",
       "\t<li>1001</li>\n",
       "\t<li>21</li>\n",
       "\t<li>1222</li>\n",
       "\t<li>12</li>\n",
       "\t<li>18</li>\n",
       "\t<li>337</li>\n",
       "\t<li>547</li>\n",
       "\t<li>91</li>\n",
       "\t<li>268</li>\n",
       "\t<li>10</li>\n",
       "\t<li>108</li>\n",
       "\t<li>249</li>\n",
       "\t<li>239</li>\n",
       "\t<li>132</li>\n",
       "\t<li>2176</li>\n",
       "\t<li>109</li>\n",
       "\t<li>246</li>\n",
       "\t<li>36</li>\n",
       "\t<li>215</li>\n",
       "\t<li>112</li>\n",
       "\t<li>93</li>\n",
       "\t<li>103</li>\n",
       "\t<li>3268</li>\n",
       "\t<li>1904</li>\n",
       "\t<li>1648</li>\n",
       "\t<li>435</li>\n",
       "\t<li>70</li>\n",
       "\t<li>301</li>\n",
       "\t<li>323</li>\n",
       "\t<li>11</li>\n",
       "\t<li>372</li>\n",
       "\t<li>98</li>\n",
       "\t<li>181</li>\n",
       "\t<li>583</li>\n",
       "\t<li>236</li>\n",
       "\t<li>30</li>\n",
       "\t<li>1760</li>\n",
       "\t<li>3</li>\n",
       "\t<li>587</li>\n",
       "\t<li>118</li>\n",
       "\t<li>333</li>\n",
       "\t<li>1240</li>\n",
       "\t<li>1031</li>\n",
       "\t<li>1973</li>\n",
       "\t<li>1566</li>\n",
       "\t<li>447</li>\n",
       "\t<li>783</li>\n",
       "\t<li>140</li>\n",
       "\t<li>41</li>\n",
       "\t<li>1267</li>\n",
       "\t<li>925</li>\n",
       "\t<li>121</li>\n",
       "\t<li>195</li>\n",
       "\t<li>324</li>\n",
       "\t<li>212</li>\n",
       "\t<li>804</li>\n",
       "\t<li>76</li>\n",
       "\t<li>463</li>\n",
       "\t<li>407</li>\n",
       "\t<li>1285</li>\n",
       "\t<li>300</li>\n",
       "\t<li>313</li>\n",
       "\t<li>92</li>\n",
       "\t<li>237</li>\n",
       "\t<li>26</li>\n",
       "\t<li>2150</li>\n",
       "\t<li>196</li>\n",
       "\t<li>72</li>\n",
       "\t<li>637</li>\n",
       "\t<li>1221</li>\n",
       "\t<li>99</li>\n",
       "\t<li>288</li>\n",
       "\t<li>505</li>\n",
       "\t<li>66</li>\n",
       "\t<li>2506</li>\n",
       "\t<li>63</li>\n",
       "\t<li>17</li>\n",
       "\t<li>450</li>\n",
       "\t<li>185</li>\n",
       "\t<li>945</li>\n",
       "\t<li>514</li>\n",
       "\t<li>57</li>\n",
       "\t<li>5</li>\n",
       "\t<li>164</li>\n",
       "\t<li>781</li>\n",
       "\t<li>245</li>\n",
       "\t<li>178</li>\n",
       "\t<li>9363</li>\n",
       "\t<li>22402</li>\n",
       "\t<li>15</li>\n",
       "\t<li>912</li>\n",
       "\t<li>256</li>\n",
       "\t<li>905</li>\n",
       "\t<li>753</li>\n",
       "\t<li>391</li>\n",
       "</ol>\n",
       "</dd>\n",
       "\t<dt>$population</dt>\n",
       "\t\t<dd><ol class=list-inline>\n",
       "\t<li>16</li>\n",
       "\t<li>3</li>\n",
       "\t<li>20</li>\n",
       "\t<li>0</li>\n",
       "\t<li>7</li>\n",
       "\t<li>28</li>\n",
       "\t<li>15</li>\n",
       "\t<li>8</li>\n",
       "\t<li>90</li>\n",
       "\t<li>10</li>\n",
       "\t<li>1</li>\n",
       "\t<li>6</li>\n",
       "\t<li>119</li>\n",
       "\t<li>9</li>\n",
       "\t<li>35</li>\n",
       "\t<li>4</li>\n",
       "\t<li>24</li>\n",
       "\t<li>2</li>\n",
       "\t<li>11</li>\n",
       "\t<li>1008</li>\n",
       "\t<li>5</li>\n",
       "\t<li>47</li>\n",
       "\t<li>31</li>\n",
       "\t<li>54</li>\n",
       "\t<li>17</li>\n",
       "\t<li>61</li>\n",
       "\t<li>14</li>\n",
       "\t<li>684</li>\n",
       "\t<li>157</li>\n",
       "\t<li>39</li>\n",
       "\t<li>57</li>\n",
       "\t<li>118</li>\n",
       "\t<li>13</li>\n",
       "\t<li>77</li>\n",
       "\t<li>12</li>\n",
       "\t<li>56</li>\n",
       "\t<li>18</li>\n",
       "\t<li>84</li>\n",
       "\t<li>48</li>\n",
       "\t<li>36</li>\n",
       "\t<li>22</li>\n",
       "\t<li>29</li>\n",
       "\t<li>38</li>\n",
       "\t<li>49</li>\n",
       "\t<li>45</li>\n",
       "\t<li>231</li>\n",
       "\t<li>274</li>\n",
       "\t<li>60</li>\n",
       "</ol>\n",
       "</dd>\n",
       "\t<dt>$language</dt>\n",
       "\t\t<dd><ol class=list-inline>\n",
       "\t<li>10</li>\n",
       "\t<li>6</li>\n",
       "\t<li>8</li>\n",
       "\t<li>1</li>\n",
       "\t<li>2</li>\n",
       "\t<li>4</li>\n",
       "\t<li>3</li>\n",
       "\t<li>5</li>\n",
       "\t<li>7</li>\n",
       "\t<li>9</li>\n",
       "</ol>\n",
       "</dd>\n",
       "\t<dt>$religion</dt>\n",
       "\t\t<dd><ol class=list-inline>\n",
       "\t<li>2</li>\n",
       "\t<li>6</li>\n",
       "\t<li>1</li>\n",
       "\t<li>0</li>\n",
       "\t<li>5</li>\n",
       "\t<li>3</li>\n",
       "\t<li>4</li>\n",
       "\t<li>7</li>\n",
       "</ol>\n",
       "</dd>\n",
       "\t<dt>$bars</dt>\n",
       "\t\t<dd><ol class=list-inline>\n",
       "\t<li>0</li>\n",
       "\t<li>2</li>\n",
       "\t<li>3</li>\n",
       "\t<li>1</li>\n",
       "\t<li>5</li>\n",
       "</ol>\n",
       "</dd>\n",
       "\t<dt>$stripes</dt>\n",
       "\t\t<dd><ol class=list-inline>\n",
       "\t<li>3</li>\n",
       "\t<li>0</li>\n",
       "\t<li>2</li>\n",
       "\t<li>1</li>\n",
       "\t<li>5</li>\n",
       "\t<li>9</li>\n",
       "\t<li>11</li>\n",
       "\t<li>14</li>\n",
       "\t<li>4</li>\n",
       "\t<li>6</li>\n",
       "\t<li>13</li>\n",
       "\t<li>7</li>\n",
       "</ol>\n",
       "</dd>\n",
       "\t<dt>$colors</dt>\n",
       "\t\t<dd><ol class=list-inline>\n",
       "\t<li>5</li>\n",
       "\t<li>3</li>\n",
       "\t<li>2</li>\n",
       "\t<li>8</li>\n",
       "\t<li>6</li>\n",
       "\t<li>4</li>\n",
       "\t<li>7</li>\n",
       "\t<li>1</li>\n",
       "</ol>\n",
       "</dd>\n",
       "\t<dt>$red</dt>\n",
       "\t\t<dd><ol class=list-inline>\n",
       "\t<li>1</li>\n",
       "\t<li>0</li>\n",
       "</ol>\n",
       "</dd>\n",
       "\t<dt>$green</dt>\n",
       "\t\t<dd><ol class=list-inline>\n",
       "\t<li>1</li>\n",
       "\t<li>0</li>\n",
       "</ol>\n",
       "</dd>\n",
       "\t<dt>$blue</dt>\n",
       "\t\t<dd><ol class=list-inline>\n",
       "\t<li>0</li>\n",
       "\t<li>1</li>\n",
       "</ol>\n",
       "</dd>\n",
       "\t<dt>$gold</dt>\n",
       "\t\t<dd><ol class=list-inline>\n",
       "\t<li>1</li>\n",
       "\t<li>0</li>\n",
       "</ol>\n",
       "</dd>\n",
       "\t<dt>$white</dt>\n",
       "\t\t<dd><ol class=list-inline>\n",
       "\t<li>1</li>\n",
       "\t<li>0</li>\n",
       "</ol>\n",
       "</dd>\n",
       "\t<dt>$black</dt>\n",
       "\t\t<dd><ol class=list-inline>\n",
       "\t<li>1</li>\n",
       "\t<li>0</li>\n",
       "</ol>\n",
       "</dd>\n",
       "\t<dt>$orange</dt>\n",
       "\t\t<dd><ol class=list-inline>\n",
       "\t<li>0</li>\n",
       "\t<li>1</li>\n",
       "</ol>\n",
       "</dd>\n",
       "\t<dt>$mainhue</dt>\n",
       "\t\t<dd><ol class=list-inline>\n",
       "\t<li>green</li>\n",
       "\t<li>red</li>\n",
       "\t<li>blue</li>\n",
       "\t<li>gold</li>\n",
       "\t<li>white</li>\n",
       "\t<li>orange</li>\n",
       "\t<li>black</li>\n",
       "\t<li>brown</li>\n",
       "</ol>\n",
       "\n",
       "<details>\n",
       "\t<summary style=display:list-item;cursor:pointer>\n",
       "\t\t<strong>Levels</strong>:\n",
       "\t</summary>\n",
       "\t<ol class=list-inline>\n",
       "\t\t<li>'black'</li>\n",
       "\t\t<li>'blue'</li>\n",
       "\t\t<li>'brown'</li>\n",
       "\t\t<li>'gold'</li>\n",
       "\t\t<li>'green'</li>\n",
       "\t\t<li>'orange'</li>\n",
       "\t\t<li>'red'</li>\n",
       "\t\t<li>'white'</li>\n",
       "\t</ol>\n",
       "</details></dd>\n",
       "\t<dt>$circles</dt>\n",
       "\t\t<dd><ol class=list-inline>\n",
       "\t<li>0</li>\n",
       "\t<li>1</li>\n",
       "\t<li>4</li>\n",
       "\t<li>2</li>\n",
       "</ol>\n",
       "</dd>\n",
       "\t<dt>$crosses</dt>\n",
       "\t\t<dd><ol class=list-inline>\n",
       "\t<li>0</li>\n",
       "\t<li>1</li>\n",
       "\t<li>2</li>\n",
       "</ol>\n",
       "</dd>\n",
       "\t<dt>$saltires</dt>\n",
       "\t\t<dd><ol class=list-inline>\n",
       "\t<li>0</li>\n",
       "\t<li>1</li>\n",
       "</ol>\n",
       "</dd>\n",
       "\t<dt>$quarters</dt>\n",
       "\t\t<dd><ol class=list-inline>\n",
       "\t<li>0</li>\n",
       "\t<li>1</li>\n",
       "\t<li>4</li>\n",
       "</ol>\n",
       "</dd>\n",
       "\t<dt>$sunstars</dt>\n",
       "\t\t<dd><ol class=list-inline>\n",
       "\t<li>1</li>\n",
       "\t<li>0</li>\n",
       "\t<li>6</li>\n",
       "\t<li>22</li>\n",
       "\t<li>14</li>\n",
       "\t<li>3</li>\n",
       "\t<li>4</li>\n",
       "\t<li>5</li>\n",
       "\t<li>15</li>\n",
       "\t<li>10</li>\n",
       "\t<li>7</li>\n",
       "\t<li>2</li>\n",
       "\t<li>9</li>\n",
       "\t<li>50</li>\n",
       "</ol>\n",
       "</dd>\n",
       "\t<dt>$crescents</dt>\n",
       "\t\t<dd><ol class=list-inline>\n",
       "\t<li>0</li>\n",
       "\t<li>1</li>\n",
       "</ol>\n",
       "</dd>\n",
       "\t<dt>$triangle</dt>\n",
       "\t\t<dd><ol class=list-inline>\n",
       "\t<li>0</li>\n",
       "\t<li>1</li>\n",
       "</ol>\n",
       "</dd>\n",
       "\t<dt>$icon</dt>\n",
       "\t\t<dd><ol class=list-inline>\n",
       "\t<li>1</li>\n",
       "\t<li>0</li>\n",
       "</ol>\n",
       "</dd>\n",
       "\t<dt>$animate</dt>\n",
       "\t\t<dd><ol class=list-inline>\n",
       "\t<li>0</li>\n",
       "\t<li>1</li>\n",
       "</ol>\n",
       "</dd>\n",
       "\t<dt>$text</dt>\n",
       "\t\t<dd><ol class=list-inline>\n",
       "\t<li>0</li>\n",
       "\t<li>1</li>\n",
       "</ol>\n",
       "</dd>\n",
       "\t<dt>$topleft</dt>\n",
       "\t\t<dd><ol class=list-inline>\n",
       "\t<li>black</li>\n",
       "\t<li>red</li>\n",
       "\t<li>green</li>\n",
       "\t<li>blue</li>\n",
       "\t<li>white</li>\n",
       "\t<li>orange</li>\n",
       "\t<li>gold</li>\n",
       "</ol>\n",
       "\n",
       "<details>\n",
       "\t<summary style=display:list-item;cursor:pointer>\n",
       "\t\t<strong>Levels</strong>:\n",
       "\t</summary>\n",
       "\t<ol class=list-inline>\n",
       "\t\t<li>'black'</li>\n",
       "\t\t<li>'blue'</li>\n",
       "\t\t<li>'gold'</li>\n",
       "\t\t<li>'green'</li>\n",
       "\t\t<li>'orange'</li>\n",
       "\t\t<li>'red'</li>\n",
       "\t\t<li>'white'</li>\n",
       "\t</ol>\n",
       "</details></dd>\n",
       "\t<dt>$botright</dt>\n",
       "\t\t<dd><ol class=list-inline>\n",
       "\t<li>green</li>\n",
       "\t<li>red</li>\n",
       "\t<li>white</li>\n",
       "\t<li>black</li>\n",
       "\t<li>blue</li>\n",
       "\t<li>gold</li>\n",
       "\t<li>orange</li>\n",
       "\t<li>brown</li>\n",
       "</ol>\n",
       "\n",
       "<details>\n",
       "\t<summary style=display:list-item;cursor:pointer>\n",
       "\t\t<strong>Levels</strong>:\n",
       "\t</summary>\n",
       "\t<ol class=list-inline>\n",
       "\t\t<li>'black'</li>\n",
       "\t\t<li>'blue'</li>\n",
       "\t\t<li>'brown'</li>\n",
       "\t\t<li>'gold'</li>\n",
       "\t\t<li>'green'</li>\n",
       "\t\t<li>'orange'</li>\n",
       "\t\t<li>'red'</li>\n",
       "\t\t<li>'white'</li>\n",
       "\t</ol>\n",
       "</details></dd>\n",
       "</dl>\n"
      ],
      "text/latex": [
       "\\begin{description}\n",
       "\\item[\\$country] \\begin{enumerate*}\n",
       "\\item Afghanistan\n",
       "\\item Albania\n",
       "\\item Algeria\n",
       "\\item American-Samoa\n",
       "\\item Andorra\n",
       "\\item Angola\n",
       "\\item Anguilla\n",
       "\\item Antigua-Barbuda\n",
       "\\item Argentina\n",
       "\\item Argentine\n",
       "\\item Australia\n",
       "\\item Austria\n",
       "\\item Bahamas\n",
       "\\item Bahrain\n",
       "\\item Bangladesh\n",
       "\\item Barbados\n",
       "\\item Belgium\n",
       "\\item Belize\n",
       "\\item Benin\n",
       "\\item Bermuda\n",
       "\\item Bhutan\n",
       "\\item Bolivia\n",
       "\\item Botswana\n",
       "\\item Brazil\n",
       "\\item British-Virgin-Isles\n",
       "\\item Brunei\n",
       "\\item Bulgaria\n",
       "\\item Burkina\n",
       "\\item Burma\n",
       "\\item Burundi\n",
       "\\item Cameroon\n",
       "\\item Canada\n",
       "\\item Cape-Verde-Islands\n",
       "\\item Cayman-Islands\n",
       "\\item Central-African-Republic\n",
       "\\item Chad\n",
       "\\item Chile\n",
       "\\item China\n",
       "\\item Colombia\n",
       "\\item Comorro-Islands\n",
       "\\item Congo\n",
       "\\item Cook-Islands\n",
       "\\item Costa-Rica\n",
       "\\item Cuba\n",
       "\\item Cyprus\n",
       "\\item Czechoslovakia\n",
       "\\item Denmark\n",
       "\\item Djibouti\n",
       "\\item Dominica\n",
       "\\item Dominican-Republic\n",
       "\\item Ecuador\n",
       "\\item Egypt\n",
       "\\item El-Salvador\n",
       "\\item Equatorial-Guinea\n",
       "\\item Ethiopia\n",
       "\\item Faeroes\n",
       "\\item Falklands-Malvinas\n",
       "\\item Fiji\n",
       "\\item Finland\n",
       "\\item France\n",
       "\\item French-Guiana\n",
       "\\item French-Polynesia\n",
       "\\item Gabon\n",
       "\\item Gambia\n",
       "\\item Germany-DDR\n",
       "\\item Germany-FRG\n",
       "\\item Ghana\n",
       "\\item Gibraltar\n",
       "\\item Greece\n",
       "\\item Greenland\n",
       "\\item Grenada\n",
       "\\item Guam\n",
       "\\item Guatemala\n",
       "\\item Guinea\n",
       "\\item Guinea-Bissau\n",
       "\\item Guyana\n",
       "\\item Haiti\n",
       "\\item Honduras\n",
       "\\item Hong-Kong\n",
       "\\item Hungary\n",
       "\\item Iceland\n",
       "\\item India\n",
       "\\item Indonesia\n",
       "\\item Iran\n",
       "\\item Iraq\n",
       "\\item Ireland\n",
       "\\item Israel\n",
       "\\item Italy\n",
       "\\item Ivory-Coast\n",
       "\\item Jamaica\n",
       "\\item Japan\n",
       "\\item Jordan\n",
       "\\item Kampuchea\n",
       "\\item Kenya\n",
       "\\item Kiribati\n",
       "\\item Kuwait\n",
       "\\item Laos\n",
       "\\item Lebanon\n",
       "\\item Lesotho\n",
       "\\item Liberia\n",
       "\\item Libya\n",
       "\\item Liechtenstein\n",
       "\\item Luxembourg\n",
       "\\item Malagasy\n",
       "\\item Malawi\n",
       "\\item Malaysia\n",
       "\\item Maldive-Islands\n",
       "\\item Mali\n",
       "\\item Malta\n",
       "\\item Marianas\n",
       "\\item Mauritania\n",
       "\\item Mauritius\n",
       "\\item Mexico\n",
       "\\item Micronesia\n",
       "\\item Monaco\n",
       "\\item Mongolia\n",
       "\\item Montserrat\n",
       "\\item Morocco\n",
       "\\item Mozambique\n",
       "\\item Nauru\n",
       "\\item Nepal\n",
       "\\item Netherlands\n",
       "\\item Netherlands-Antilles\n",
       "\\item New-Zealand\n",
       "\\item Nicaragua\n",
       "\\item Niger\n",
       "\\item Nigeria\n",
       "\\item Niue\n",
       "\\item North-Korea\n",
       "\\item North-Yemen\n",
       "\\item Norway\n",
       "\\item Oman\n",
       "\\item Pakistan\n",
       "\\item Panama\n",
       "\\item Papua-New-Guinea\n",
       "\\item Parguay\n",
       "\\item Peru\n",
       "\\item Philippines\n",
       "\\item Poland\n",
       "\\item Portugal\n",
       "\\item Puerto-Rico\n",
       "\\item Qatar\n",
       "\\item Romania\n",
       "\\item Rwanda\n",
       "\\item San-Marino\n",
       "\\item Sao-Tome\n",
       "\\item Saudi-Arabia\n",
       "\\item Senegal\n",
       "\\item Seychelles\n",
       "\\item Sierra-Leone\n",
       "\\item Singapore\n",
       "\\item Soloman-Islands\n",
       "\\item Somalia\n",
       "\\item South-Africa\n",
       "\\item South-Korea\n",
       "\\item South-Yemen\n",
       "\\item Spain\n",
       "\\item Sri-Lanka\n",
       "\\item St-Helena\n",
       "\\item St-Kitts-Nevis\n",
       "\\item St-Lucia\n",
       "\\item St-Vincent\n",
       "\\item Sudan\n",
       "\\item Surinam\n",
       "\\item Swaziland\n",
       "\\item Sweden\n",
       "\\item Switzerland\n",
       "\\item Syria\n",
       "\\item Taiwan\n",
       "\\item Tanzania\n",
       "\\item Thailand\n",
       "\\item Togo\n",
       "\\item Tonga\n",
       "\\item Trinidad-Tobago\n",
       "\\item Tunisia\n",
       "\\item Turkey\n",
       "\\item Turks-Cocos-Islands\n",
       "\\item Tuvalu\n",
       "\\item UAE\n",
       "\\item Uganda\n",
       "\\item UK\n",
       "\\item Uruguay\n",
       "\\item US-Virgin-Isles\n",
       "\\item USA\n",
       "\\item USSR\n",
       "\\item Vanuatu\n",
       "\\item Vatican-City\n",
       "\\item Venezuela\n",
       "\\item Vietnam\n",
       "\\item Western-Samoa\n",
       "\\item Yugoslavia\n",
       "\\item Zaire\n",
       "\\item Zambia\n",
       "\\item Zimbabwe\n",
       "\\end{enumerate*}\n",
       "\n",
       "\\emph{Levels}: \\begin{enumerate*}\n",
       "\\item 'Afghanistan'\n",
       "\\item 'Albania'\n",
       "\\item 'Algeria'\n",
       "\\item 'American-Samoa'\n",
       "\\item 'Andorra'\n",
       "\\item 'Angola'\n",
       "\\item 'Anguilla'\n",
       "\\item 'Antigua-Barbuda'\n",
       "\\item 'Argentina'\n",
       "\\item 'Argentine'\n",
       "\\item 'Australia'\n",
       "\\item 'Austria'\n",
       "\\item 'Bahamas'\n",
       "\\item 'Bahrain'\n",
       "\\item 'Bangladesh'\n",
       "\\item 'Barbados'\n",
       "\\item 'Belgium'\n",
       "\\item 'Belize'\n",
       "\\item 'Benin'\n",
       "\\item 'Bermuda'\n",
       "\\item 'Bhutan'\n",
       "\\item 'Bolivia'\n",
       "\\item 'Botswana'\n",
       "\\item 'Brazil'\n",
       "\\item 'British-Virgin-Isles'\n",
       "\\item 'Brunei'\n",
       "\\item 'Bulgaria'\n",
       "\\item 'Burkina'\n",
       "\\item 'Burma'\n",
       "\\item 'Burundi'\n",
       "\\item 'Cameroon'\n",
       "\\item 'Canada'\n",
       "\\item 'Cape-Verde-Islands'\n",
       "\\item 'Cayman-Islands'\n",
       "\\item 'Central-African-Republic'\n",
       "\\item 'Chad'\n",
       "\\item 'Chile'\n",
       "\\item 'China'\n",
       "\\item 'Colombia'\n",
       "\\item 'Comorro-Islands'\n",
       "\\item 'Congo'\n",
       "\\item 'Cook-Islands'\n",
       "\\item 'Costa-Rica'\n",
       "\\item 'Cuba'\n",
       "\\item 'Cyprus'\n",
       "\\item 'Czechoslovakia'\n",
       "\\item 'Denmark'\n",
       "\\item 'Djibouti'\n",
       "\\item 'Dominica'\n",
       "\\item 'Dominican-Republic'\n",
       "\\item 'Ecuador'\n",
       "\\item 'Egypt'\n",
       "\\item 'El-Salvador'\n",
       "\\item 'Equatorial-Guinea'\n",
       "\\item 'Ethiopia'\n",
       "\\item 'Faeroes'\n",
       "\\item 'Falklands-Malvinas'\n",
       "\\item 'Fiji'\n",
       "\\item 'Finland'\n",
       "\\item 'France'\n",
       "\\item 'French-Guiana'\n",
       "\\item 'French-Polynesia'\n",
       "\\item 'Gabon'\n",
       "\\item 'Gambia'\n",
       "\\item 'Germany-DDR'\n",
       "\\item 'Germany-FRG'\n",
       "\\item 'Ghana'\n",
       "\\item 'Gibraltar'\n",
       "\\item 'Greece'\n",
       "\\item 'Greenland'\n",
       "\\item 'Grenada'\n",
       "\\item 'Guam'\n",
       "\\item 'Guatemala'\n",
       "\\item 'Guinea'\n",
       "\\item 'Guinea-Bissau'\n",
       "\\item 'Guyana'\n",
       "\\item 'Haiti'\n",
       "\\item 'Honduras'\n",
       "\\item 'Hong-Kong'\n",
       "\\item 'Hungary'\n",
       "\\item 'Iceland'\n",
       "\\item 'India'\n",
       "\\item 'Indonesia'\n",
       "\\item 'Iran'\n",
       "\\item 'Iraq'\n",
       "\\item 'Ireland'\n",
       "\\item 'Israel'\n",
       "\\item 'Italy'\n",
       "\\item 'Ivory-Coast'\n",
       "\\item 'Jamaica'\n",
       "\\item 'Japan'\n",
       "\\item 'Jordan'\n",
       "\\item 'Kampuchea'\n",
       "\\item 'Kenya'\n",
       "\\item 'Kiribati'\n",
       "\\item 'Kuwait'\n",
       "\\item 'Laos'\n",
       "\\item 'Lebanon'\n",
       "\\item 'Lesotho'\n",
       "\\item 'Liberia'\n",
       "\\item 'Libya'\n",
       "\\item 'Liechtenstein'\n",
       "\\item 'Luxembourg'\n",
       "\\item 'Malagasy'\n",
       "\\item 'Malawi'\n",
       "\\item 'Malaysia'\n",
       "\\item 'Maldive-Islands'\n",
       "\\item 'Mali'\n",
       "\\item 'Malta'\n",
       "\\item 'Marianas'\n",
       "\\item 'Mauritania'\n",
       "\\item 'Mauritius'\n",
       "\\item 'Mexico'\n",
       "\\item 'Micronesia'\n",
       "\\item 'Monaco'\n",
       "\\item 'Mongolia'\n",
       "\\item 'Montserrat'\n",
       "\\item 'Morocco'\n",
       "\\item 'Mozambique'\n",
       "\\item 'Nauru'\n",
       "\\item 'Nepal'\n",
       "\\item 'Netherlands'\n",
       "\\item 'Netherlands-Antilles'\n",
       "\\item 'New-Zealand'\n",
       "\\item 'Nicaragua'\n",
       "\\item 'Niger'\n",
       "\\item 'Nigeria'\n",
       "\\item 'Niue'\n",
       "\\item 'North-Korea'\n",
       "\\item 'North-Yemen'\n",
       "\\item 'Norway'\n",
       "\\item 'Oman'\n",
       "\\item 'Pakistan'\n",
       "\\item 'Panama'\n",
       "\\item 'Papua-New-Guinea'\n",
       "\\item 'Parguay'\n",
       "\\item 'Peru'\n",
       "\\item 'Philippines'\n",
       "\\item 'Poland'\n",
       "\\item 'Portugal'\n",
       "\\item 'Puerto-Rico'\n",
       "\\item 'Qatar'\n",
       "\\item 'Romania'\n",
       "\\item 'Rwanda'\n",
       "\\item 'San-Marino'\n",
       "\\item 'Sao-Tome'\n",
       "\\item 'Saudi-Arabia'\n",
       "\\item 'Senegal'\n",
       "\\item 'Seychelles'\n",
       "\\item 'Sierra-Leone'\n",
       "\\item 'Singapore'\n",
       "\\item 'Soloman-Islands'\n",
       "\\item 'Somalia'\n",
       "\\item 'South-Africa'\n",
       "\\item 'South-Korea'\n",
       "\\item 'South-Yemen'\n",
       "\\item 'Spain'\n",
       "\\item 'Sri-Lanka'\n",
       "\\item 'St-Helena'\n",
       "\\item 'St-Kitts-Nevis'\n",
       "\\item 'St-Lucia'\n",
       "\\item 'St-Vincent'\n",
       "\\item 'Sudan'\n",
       "\\item 'Surinam'\n",
       "\\item 'Swaziland'\n",
       "\\item 'Sweden'\n",
       "\\item 'Switzerland'\n",
       "\\item 'Syria'\n",
       "\\item 'Taiwan'\n",
       "\\item 'Tanzania'\n",
       "\\item 'Thailand'\n",
       "\\item 'Togo'\n",
       "\\item 'Tonga'\n",
       "\\item 'Trinidad-Tobago'\n",
       "\\item 'Tunisia'\n",
       "\\item 'Turkey'\n",
       "\\item 'Turks-Cocos-Islands'\n",
       "\\item 'Tuvalu'\n",
       "\\item 'UAE'\n",
       "\\item 'Uganda'\n",
       "\\item 'UK'\n",
       "\\item 'Uruguay'\n",
       "\\item 'US-Virgin-Isles'\n",
       "\\item 'USA'\n",
       "\\item 'USSR'\n",
       "\\item 'Vanuatu'\n",
       "\\item 'Vatican-City'\n",
       "\\item 'Venezuela'\n",
       "\\item 'Vietnam'\n",
       "\\item 'Western-Samoa'\n",
       "\\item 'Yugoslavia'\n",
       "\\item 'Zaire'\n",
       "\\item 'Zambia'\n",
       "\\item 'Zimbabwe'\n",
       "\\end{enumerate*}\n",
       "\n",
       "\\item[\\$landmass] \\begin{enumerate*}\n",
       "\\item 5\n",
       "\\item 3\n",
       "\\item 4\n",
       "\\item 6\n",
       "\\item 1\n",
       "\\item 2\n",
       "\\end{enumerate*}\n",
       "\n",
       "\\item[\\$zone] \\begin{enumerate*}\n",
       "\\item 1\n",
       "\\item 3\n",
       "\\item 2\n",
       "\\item 4\n",
       "\\end{enumerate*}\n",
       "\n",
       "\\item[\\$area] \\begin{enumerate*}\n",
       "\\item 648\n",
       "\\item 29\n",
       "\\item 2388\n",
       "\\item 0\n",
       "\\item 1247\n",
       "\\item 2777\n",
       "\\item 7690\n",
       "\\item 84\n",
       "\\item 19\n",
       "\\item 1\n",
       "\\item 143\n",
       "\\item 31\n",
       "\\item 23\n",
       "\\item 113\n",
       "\\item 47\n",
       "\\item 1099\n",
       "\\item 600\n",
       "\\item 8512\n",
       "\\item 6\n",
       "\\item 111\n",
       "\\item 274\n",
       "\\item 678\n",
       "\\item 28\n",
       "\\item 474\n",
       "\\item 9976\n",
       "\\item 4\n",
       "\\item 623\n",
       "\\item 1284\n",
       "\\item 757\n",
       "\\item 9561\n",
       "\\item 1139\n",
       "\\item 2\n",
       "\\item 342\n",
       "\\item 51\n",
       "\\item 115\n",
       "\\item 9\n",
       "\\item 128\n",
       "\\item 43\n",
       "\\item 22\n",
       "\\item 49\n",
       "\\item 284\n",
       "\\item 1001\n",
       "\\item 21\n",
       "\\item 1222\n",
       "\\item 12\n",
       "\\item 18\n",
       "\\item 337\n",
       "\\item 547\n",
       "\\item 91\n",
       "\\item 268\n",
       "\\item 10\n",
       "\\item 108\n",
       "\\item 249\n",
       "\\item 239\n",
       "\\item 132\n",
       "\\item 2176\n",
       "\\item 109\n",
       "\\item 246\n",
       "\\item 36\n",
       "\\item 215\n",
       "\\item 112\n",
       "\\item 93\n",
       "\\item 103\n",
       "\\item 3268\n",
       "\\item 1904\n",
       "\\item 1648\n",
       "\\item 435\n",
       "\\item 70\n",
       "\\item 301\n",
       "\\item 323\n",
       "\\item 11\n",
       "\\item 372\n",
       "\\item 98\n",
       "\\item 181\n",
       "\\item 583\n",
       "\\item 236\n",
       "\\item 30\n",
       "\\item 1760\n",
       "\\item 3\n",
       "\\item 587\n",
       "\\item 118\n",
       "\\item 333\n",
       "\\item 1240\n",
       "\\item 1031\n",
       "\\item 1973\n",
       "\\item 1566\n",
       "\\item 447\n",
       "\\item 783\n",
       "\\item 140\n",
       "\\item 41\n",
       "\\item 1267\n",
       "\\item 925\n",
       "\\item 121\n",
       "\\item 195\n",
       "\\item 324\n",
       "\\item 212\n",
       "\\item 804\n",
       "\\item 76\n",
       "\\item 463\n",
       "\\item 407\n",
       "\\item 1285\n",
       "\\item 300\n",
       "\\item 313\n",
       "\\item 92\n",
       "\\item 237\n",
       "\\item 26\n",
       "\\item 2150\n",
       "\\item 196\n",
       "\\item 72\n",
       "\\item 637\n",
       "\\item 1221\n",
       "\\item 99\n",
       "\\item 288\n",
       "\\item 505\n",
       "\\item 66\n",
       "\\item 2506\n",
       "\\item 63\n",
       "\\item 17\n",
       "\\item 450\n",
       "\\item 185\n",
       "\\item 945\n",
       "\\item 514\n",
       "\\item 57\n",
       "\\item 5\n",
       "\\item 164\n",
       "\\item 781\n",
       "\\item 245\n",
       "\\item 178\n",
       "\\item 9363\n",
       "\\item 22402\n",
       "\\item 15\n",
       "\\item 912\n",
       "\\item 256\n",
       "\\item 905\n",
       "\\item 753\n",
       "\\item 391\n",
       "\\end{enumerate*}\n",
       "\n",
       "\\item[\\$population] \\begin{enumerate*}\n",
       "\\item 16\n",
       "\\item 3\n",
       "\\item 20\n",
       "\\item 0\n",
       "\\item 7\n",
       "\\item 28\n",
       "\\item 15\n",
       "\\item 8\n",
       "\\item 90\n",
       "\\item 10\n",
       "\\item 1\n",
       "\\item 6\n",
       "\\item 119\n",
       "\\item 9\n",
       "\\item 35\n",
       "\\item 4\n",
       "\\item 24\n",
       "\\item 2\n",
       "\\item 11\n",
       "\\item 1008\n",
       "\\item 5\n",
       "\\item 47\n",
       "\\item 31\n",
       "\\item 54\n",
       "\\item 17\n",
       "\\item 61\n",
       "\\item 14\n",
       "\\item 684\n",
       "\\item 157\n",
       "\\item 39\n",
       "\\item 57\n",
       "\\item 118\n",
       "\\item 13\n",
       "\\item 77\n",
       "\\item 12\n",
       "\\item 56\n",
       "\\item 18\n",
       "\\item 84\n",
       "\\item 48\n",
       "\\item 36\n",
       "\\item 22\n",
       "\\item 29\n",
       "\\item 38\n",
       "\\item 49\n",
       "\\item 45\n",
       "\\item 231\n",
       "\\item 274\n",
       "\\item 60\n",
       "\\end{enumerate*}\n",
       "\n",
       "\\item[\\$language] \\begin{enumerate*}\n",
       "\\item 10\n",
       "\\item 6\n",
       "\\item 8\n",
       "\\item 1\n",
       "\\item 2\n",
       "\\item 4\n",
       "\\item 3\n",
       "\\item 5\n",
       "\\item 7\n",
       "\\item 9\n",
       "\\end{enumerate*}\n",
       "\n",
       "\\item[\\$religion] \\begin{enumerate*}\n",
       "\\item 2\n",
       "\\item 6\n",
       "\\item 1\n",
       "\\item 0\n",
       "\\item 5\n",
       "\\item 3\n",
       "\\item 4\n",
       "\\item 7\n",
       "\\end{enumerate*}\n",
       "\n",
       "\\item[\\$bars] \\begin{enumerate*}\n",
       "\\item 0\n",
       "\\item 2\n",
       "\\item 3\n",
       "\\item 1\n",
       "\\item 5\n",
       "\\end{enumerate*}\n",
       "\n",
       "\\item[\\$stripes] \\begin{enumerate*}\n",
       "\\item 3\n",
       "\\item 0\n",
       "\\item 2\n",
       "\\item 1\n",
       "\\item 5\n",
       "\\item 9\n",
       "\\item 11\n",
       "\\item 14\n",
       "\\item 4\n",
       "\\item 6\n",
       "\\item 13\n",
       "\\item 7\n",
       "\\end{enumerate*}\n",
       "\n",
       "\\item[\\$colors] \\begin{enumerate*}\n",
       "\\item 5\n",
       "\\item 3\n",
       "\\item 2\n",
       "\\item 8\n",
       "\\item 6\n",
       "\\item 4\n",
       "\\item 7\n",
       "\\item 1\n",
       "\\end{enumerate*}\n",
       "\n",
       "\\item[\\$red] \\begin{enumerate*}\n",
       "\\item 1\n",
       "\\item 0\n",
       "\\end{enumerate*}\n",
       "\n",
       "\\item[\\$green] \\begin{enumerate*}\n",
       "\\item 1\n",
       "\\item 0\n",
       "\\end{enumerate*}\n",
       "\n",
       "\\item[\\$blue] \\begin{enumerate*}\n",
       "\\item 0\n",
       "\\item 1\n",
       "\\end{enumerate*}\n",
       "\n",
       "\\item[\\$gold] \\begin{enumerate*}\n",
       "\\item 1\n",
       "\\item 0\n",
       "\\end{enumerate*}\n",
       "\n",
       "\\item[\\$white] \\begin{enumerate*}\n",
       "\\item 1\n",
       "\\item 0\n",
       "\\end{enumerate*}\n",
       "\n",
       "\\item[\\$black] \\begin{enumerate*}\n",
       "\\item 1\n",
       "\\item 0\n",
       "\\end{enumerate*}\n",
       "\n",
       "\\item[\\$orange] \\begin{enumerate*}\n",
       "\\item 0\n",
       "\\item 1\n",
       "\\end{enumerate*}\n",
       "\n",
       "\\item[\\$mainhue] \\begin{enumerate*}\n",
       "\\item green\n",
       "\\item red\n",
       "\\item blue\n",
       "\\item gold\n",
       "\\item white\n",
       "\\item orange\n",
       "\\item black\n",
       "\\item brown\n",
       "\\end{enumerate*}\n",
       "\n",
       "\\emph{Levels}: \\begin{enumerate*}\n",
       "\\item 'black'\n",
       "\\item 'blue'\n",
       "\\item 'brown'\n",
       "\\item 'gold'\n",
       "\\item 'green'\n",
       "\\item 'orange'\n",
       "\\item 'red'\n",
       "\\item 'white'\n",
       "\\end{enumerate*}\n",
       "\n",
       "\\item[\\$circles] \\begin{enumerate*}\n",
       "\\item 0\n",
       "\\item 1\n",
       "\\item 4\n",
       "\\item 2\n",
       "\\end{enumerate*}\n",
       "\n",
       "\\item[\\$crosses] \\begin{enumerate*}\n",
       "\\item 0\n",
       "\\item 1\n",
       "\\item 2\n",
       "\\end{enumerate*}\n",
       "\n",
       "\\item[\\$saltires] \\begin{enumerate*}\n",
       "\\item 0\n",
       "\\item 1\n",
       "\\end{enumerate*}\n",
       "\n",
       "\\item[\\$quarters] \\begin{enumerate*}\n",
       "\\item 0\n",
       "\\item 1\n",
       "\\item 4\n",
       "\\end{enumerate*}\n",
       "\n",
       "\\item[\\$sunstars] \\begin{enumerate*}\n",
       "\\item 1\n",
       "\\item 0\n",
       "\\item 6\n",
       "\\item 22\n",
       "\\item 14\n",
       "\\item 3\n",
       "\\item 4\n",
       "\\item 5\n",
       "\\item 15\n",
       "\\item 10\n",
       "\\item 7\n",
       "\\item 2\n",
       "\\item 9\n",
       "\\item 50\n",
       "\\end{enumerate*}\n",
       "\n",
       "\\item[\\$crescents] \\begin{enumerate*}\n",
       "\\item 0\n",
       "\\item 1\n",
       "\\end{enumerate*}\n",
       "\n",
       "\\item[\\$triangle] \\begin{enumerate*}\n",
       "\\item 0\n",
       "\\item 1\n",
       "\\end{enumerate*}\n",
       "\n",
       "\\item[\\$icon] \\begin{enumerate*}\n",
       "\\item 1\n",
       "\\item 0\n",
       "\\end{enumerate*}\n",
       "\n",
       "\\item[\\$animate] \\begin{enumerate*}\n",
       "\\item 0\n",
       "\\item 1\n",
       "\\end{enumerate*}\n",
       "\n",
       "\\item[\\$text] \\begin{enumerate*}\n",
       "\\item 0\n",
       "\\item 1\n",
       "\\end{enumerate*}\n",
       "\n",
       "\\item[\\$topleft] \\begin{enumerate*}\n",
       "\\item black\n",
       "\\item red\n",
       "\\item green\n",
       "\\item blue\n",
       "\\item white\n",
       "\\item orange\n",
       "\\item gold\n",
       "\\end{enumerate*}\n",
       "\n",
       "\\emph{Levels}: \\begin{enumerate*}\n",
       "\\item 'black'\n",
       "\\item 'blue'\n",
       "\\item 'gold'\n",
       "\\item 'green'\n",
       "\\item 'orange'\n",
       "\\item 'red'\n",
       "\\item 'white'\n",
       "\\end{enumerate*}\n",
       "\n",
       "\\item[\\$botright] \\begin{enumerate*}\n",
       "\\item green\n",
       "\\item red\n",
       "\\item white\n",
       "\\item black\n",
       "\\item blue\n",
       "\\item gold\n",
       "\\item orange\n",
       "\\item brown\n",
       "\\end{enumerate*}\n",
       "\n",
       "\\emph{Levels}: \\begin{enumerate*}\n",
       "\\item 'black'\n",
       "\\item 'blue'\n",
       "\\item 'brown'\n",
       "\\item 'gold'\n",
       "\\item 'green'\n",
       "\\item 'orange'\n",
       "\\item 'red'\n",
       "\\item 'white'\n",
       "\\end{enumerate*}\n",
       "\n",
       "\\end{description}\n"
      ],
      "text/markdown": [
       "$country\n",
       ":   1. Afghanistan\n",
       "2. Albania\n",
       "3. Algeria\n",
       "4. American-Samoa\n",
       "5. Andorra\n",
       "6. Angola\n",
       "7. Anguilla\n",
       "8. Antigua-Barbuda\n",
       "9. Argentina\n",
       "10. Argentine\n",
       "11. Australia\n",
       "12. Austria\n",
       "13. Bahamas\n",
       "14. Bahrain\n",
       "15. Bangladesh\n",
       "16. Barbados\n",
       "17. Belgium\n",
       "18. Belize\n",
       "19. Benin\n",
       "20. Bermuda\n",
       "21. Bhutan\n",
       "22. Bolivia\n",
       "23. Botswana\n",
       "24. Brazil\n",
       "25. British-Virgin-Isles\n",
       "26. Brunei\n",
       "27. Bulgaria\n",
       "28. Burkina\n",
       "29. Burma\n",
       "30. Burundi\n",
       "31. Cameroon\n",
       "32. Canada\n",
       "33. Cape-Verde-Islands\n",
       "34. Cayman-Islands\n",
       "35. Central-African-Republic\n",
       "36. Chad\n",
       "37. Chile\n",
       "38. China\n",
       "39. Colombia\n",
       "40. Comorro-Islands\n",
       "41. Congo\n",
       "42. Cook-Islands\n",
       "43. Costa-Rica\n",
       "44. Cuba\n",
       "45. Cyprus\n",
       "46. Czechoslovakia\n",
       "47. Denmark\n",
       "48. Djibouti\n",
       "49. Dominica\n",
       "50. Dominican-Republic\n",
       "51. Ecuador\n",
       "52. Egypt\n",
       "53. El-Salvador\n",
       "54. Equatorial-Guinea\n",
       "55. Ethiopia\n",
       "56. Faeroes\n",
       "57. Falklands-Malvinas\n",
       "58. Fiji\n",
       "59. Finland\n",
       "60. France\n",
       "61. French-Guiana\n",
       "62. French-Polynesia\n",
       "63. Gabon\n",
       "64. Gambia\n",
       "65. Germany-DDR\n",
       "66. Germany-FRG\n",
       "67. Ghana\n",
       "68. Gibraltar\n",
       "69. Greece\n",
       "70. Greenland\n",
       "71. Grenada\n",
       "72. Guam\n",
       "73. Guatemala\n",
       "74. Guinea\n",
       "75. Guinea-Bissau\n",
       "76. Guyana\n",
       "77. Haiti\n",
       "78. Honduras\n",
       "79. Hong-Kong\n",
       "80. Hungary\n",
       "81. Iceland\n",
       "82. India\n",
       "83. Indonesia\n",
       "84. Iran\n",
       "85. Iraq\n",
       "86. Ireland\n",
       "87. Israel\n",
       "88. Italy\n",
       "89. Ivory-Coast\n",
       "90. Jamaica\n",
       "91. Japan\n",
       "92. Jordan\n",
       "93. Kampuchea\n",
       "94. Kenya\n",
       "95. Kiribati\n",
       "96. Kuwait\n",
       "97. Laos\n",
       "98. Lebanon\n",
       "99. Lesotho\n",
       "100. Liberia\n",
       "101. Libya\n",
       "102. Liechtenstein\n",
       "103. Luxembourg\n",
       "104. Malagasy\n",
       "105. Malawi\n",
       "106. Malaysia\n",
       "107. Maldive-Islands\n",
       "108. Mali\n",
       "109. Malta\n",
       "110. Marianas\n",
       "111. Mauritania\n",
       "112. Mauritius\n",
       "113. Mexico\n",
       "114. Micronesia\n",
       "115. Monaco\n",
       "116. Mongolia\n",
       "117. Montserrat\n",
       "118. Morocco\n",
       "119. Mozambique\n",
       "120. Nauru\n",
       "121. Nepal\n",
       "122. Netherlands\n",
       "123. Netherlands-Antilles\n",
       "124. New-Zealand\n",
       "125. Nicaragua\n",
       "126. Niger\n",
       "127. Nigeria\n",
       "128. Niue\n",
       "129. North-Korea\n",
       "130. North-Yemen\n",
       "131. Norway\n",
       "132. Oman\n",
       "133. Pakistan\n",
       "134. Panama\n",
       "135. Papua-New-Guinea\n",
       "136. Parguay\n",
       "137. Peru\n",
       "138. Philippines\n",
       "139. Poland\n",
       "140. Portugal\n",
       "141. Puerto-Rico\n",
       "142. Qatar\n",
       "143. Romania\n",
       "144. Rwanda\n",
       "145. San-Marino\n",
       "146. Sao-Tome\n",
       "147. Saudi-Arabia\n",
       "148. Senegal\n",
       "149. Seychelles\n",
       "150. Sierra-Leone\n",
       "151. Singapore\n",
       "152. Soloman-Islands\n",
       "153. Somalia\n",
       "154. South-Africa\n",
       "155. South-Korea\n",
       "156. South-Yemen\n",
       "157. Spain\n",
       "158. Sri-Lanka\n",
       "159. St-Helena\n",
       "160. St-Kitts-Nevis\n",
       "161. St-Lucia\n",
       "162. St-Vincent\n",
       "163. Sudan\n",
       "164. Surinam\n",
       "165. Swaziland\n",
       "166. Sweden\n",
       "167. Switzerland\n",
       "168. Syria\n",
       "169. Taiwan\n",
       "170. Tanzania\n",
       "171. Thailand\n",
       "172. Togo\n",
       "173. Tonga\n",
       "174. Trinidad-Tobago\n",
       "175. Tunisia\n",
       "176. Turkey\n",
       "177. Turks-Cocos-Islands\n",
       "178. Tuvalu\n",
       "179. UAE\n",
       "180. Uganda\n",
       "181. UK\n",
       "182. Uruguay\n",
       "183. US-Virgin-Isles\n",
       "184. USA\n",
       "185. USSR\n",
       "186. Vanuatu\n",
       "187. Vatican-City\n",
       "188. Venezuela\n",
       "189. Vietnam\n",
       "190. Western-Samoa\n",
       "191. Yugoslavia\n",
       "192. Zaire\n",
       "193. Zambia\n",
       "194. Zimbabwe\n",
       "\n",
       "\n",
       "\n",
       "**Levels**: 1. 'Afghanistan'\n",
       "2. 'Albania'\n",
       "3. 'Algeria'\n",
       "4. 'American-Samoa'\n",
       "5. 'Andorra'\n",
       "6. 'Angola'\n",
       "7. 'Anguilla'\n",
       "8. 'Antigua-Barbuda'\n",
       "9. 'Argentina'\n",
       "10. 'Argentine'\n",
       "11. 'Australia'\n",
       "12. 'Austria'\n",
       "13. 'Bahamas'\n",
       "14. 'Bahrain'\n",
       "15. 'Bangladesh'\n",
       "16. 'Barbados'\n",
       "17. 'Belgium'\n",
       "18. 'Belize'\n",
       "19. 'Benin'\n",
       "20. 'Bermuda'\n",
       "21. 'Bhutan'\n",
       "22. 'Bolivia'\n",
       "23. 'Botswana'\n",
       "24. 'Brazil'\n",
       "25. 'British-Virgin-Isles'\n",
       "26. 'Brunei'\n",
       "27. 'Bulgaria'\n",
       "28. 'Burkina'\n",
       "29. 'Burma'\n",
       "30. 'Burundi'\n",
       "31. 'Cameroon'\n",
       "32. 'Canada'\n",
       "33. 'Cape-Verde-Islands'\n",
       "34. 'Cayman-Islands'\n",
       "35. 'Central-African-Republic'\n",
       "36. 'Chad'\n",
       "37. 'Chile'\n",
       "38. 'China'\n",
       "39. 'Colombia'\n",
       "40. 'Comorro-Islands'\n",
       "41. 'Congo'\n",
       "42. 'Cook-Islands'\n",
       "43. 'Costa-Rica'\n",
       "44. 'Cuba'\n",
       "45. 'Cyprus'\n",
       "46. 'Czechoslovakia'\n",
       "47. 'Denmark'\n",
       "48. 'Djibouti'\n",
       "49. 'Dominica'\n",
       "50. 'Dominican-Republic'\n",
       "51. 'Ecuador'\n",
       "52. 'Egypt'\n",
       "53. 'El-Salvador'\n",
       "54. 'Equatorial-Guinea'\n",
       "55. 'Ethiopia'\n",
       "56. 'Faeroes'\n",
       "57. 'Falklands-Malvinas'\n",
       "58. 'Fiji'\n",
       "59. 'Finland'\n",
       "60. 'France'\n",
       "61. 'French-Guiana'\n",
       "62. 'French-Polynesia'\n",
       "63. 'Gabon'\n",
       "64. 'Gambia'\n",
       "65. 'Germany-DDR'\n",
       "66. 'Germany-FRG'\n",
       "67. 'Ghana'\n",
       "68. 'Gibraltar'\n",
       "69. 'Greece'\n",
       "70. 'Greenland'\n",
       "71. 'Grenada'\n",
       "72. 'Guam'\n",
       "73. 'Guatemala'\n",
       "74. 'Guinea'\n",
       "75. 'Guinea-Bissau'\n",
       "76. 'Guyana'\n",
       "77. 'Haiti'\n",
       "78. 'Honduras'\n",
       "79. 'Hong-Kong'\n",
       "80. 'Hungary'\n",
       "81. 'Iceland'\n",
       "82. 'India'\n",
       "83. 'Indonesia'\n",
       "84. 'Iran'\n",
       "85. 'Iraq'\n",
       "86. 'Ireland'\n",
       "87. 'Israel'\n",
       "88. 'Italy'\n",
       "89. 'Ivory-Coast'\n",
       "90. 'Jamaica'\n",
       "91. 'Japan'\n",
       "92. 'Jordan'\n",
       "93. 'Kampuchea'\n",
       "94. 'Kenya'\n",
       "95. 'Kiribati'\n",
       "96. 'Kuwait'\n",
       "97. 'Laos'\n",
       "98. 'Lebanon'\n",
       "99. 'Lesotho'\n",
       "100. 'Liberia'\n",
       "101. 'Libya'\n",
       "102. 'Liechtenstein'\n",
       "103. 'Luxembourg'\n",
       "104. 'Malagasy'\n",
       "105. 'Malawi'\n",
       "106. 'Malaysia'\n",
       "107. 'Maldive-Islands'\n",
       "108. 'Mali'\n",
       "109. 'Malta'\n",
       "110. 'Marianas'\n",
       "111. 'Mauritania'\n",
       "112. 'Mauritius'\n",
       "113. 'Mexico'\n",
       "114. 'Micronesia'\n",
       "115. 'Monaco'\n",
       "116. 'Mongolia'\n",
       "117. 'Montserrat'\n",
       "118. 'Morocco'\n",
       "119. 'Mozambique'\n",
       "120. 'Nauru'\n",
       "121. 'Nepal'\n",
       "122. 'Netherlands'\n",
       "123. 'Netherlands-Antilles'\n",
       "124. 'New-Zealand'\n",
       "125. 'Nicaragua'\n",
       "126. 'Niger'\n",
       "127. 'Nigeria'\n",
       "128. 'Niue'\n",
       "129. 'North-Korea'\n",
       "130. 'North-Yemen'\n",
       "131. 'Norway'\n",
       "132. 'Oman'\n",
       "133. 'Pakistan'\n",
       "134. 'Panama'\n",
       "135. 'Papua-New-Guinea'\n",
       "136. 'Parguay'\n",
       "137. 'Peru'\n",
       "138. 'Philippines'\n",
       "139. 'Poland'\n",
       "140. 'Portugal'\n",
       "141. 'Puerto-Rico'\n",
       "142. 'Qatar'\n",
       "143. 'Romania'\n",
       "144. 'Rwanda'\n",
       "145. 'San-Marino'\n",
       "146. 'Sao-Tome'\n",
       "147. 'Saudi-Arabia'\n",
       "148. 'Senegal'\n",
       "149. 'Seychelles'\n",
       "150. 'Sierra-Leone'\n",
       "151. 'Singapore'\n",
       "152. 'Soloman-Islands'\n",
       "153. 'Somalia'\n",
       "154. 'South-Africa'\n",
       "155. 'South-Korea'\n",
       "156. 'South-Yemen'\n",
       "157. 'Spain'\n",
       "158. 'Sri-Lanka'\n",
       "159. 'St-Helena'\n",
       "160. 'St-Kitts-Nevis'\n",
       "161. 'St-Lucia'\n",
       "162. 'St-Vincent'\n",
       "163. 'Sudan'\n",
       "164. 'Surinam'\n",
       "165. 'Swaziland'\n",
       "166. 'Sweden'\n",
       "167. 'Switzerland'\n",
       "168. 'Syria'\n",
       "169. 'Taiwan'\n",
       "170. 'Tanzania'\n",
       "171. 'Thailand'\n",
       "172. 'Togo'\n",
       "173. 'Tonga'\n",
       "174. 'Trinidad-Tobago'\n",
       "175. 'Tunisia'\n",
       "176. 'Turkey'\n",
       "177. 'Turks-Cocos-Islands'\n",
       "178. 'Tuvalu'\n",
       "179. 'UAE'\n",
       "180. 'Uganda'\n",
       "181. 'UK'\n",
       "182. 'Uruguay'\n",
       "183. 'US-Virgin-Isles'\n",
       "184. 'USA'\n",
       "185. 'USSR'\n",
       "186. 'Vanuatu'\n",
       "187. 'Vatican-City'\n",
       "188. 'Venezuela'\n",
       "189. 'Vietnam'\n",
       "190. 'Western-Samoa'\n",
       "191. 'Yugoslavia'\n",
       "192. 'Zaire'\n",
       "193. 'Zambia'\n",
       "194. 'Zimbabwe'\n",
       "\n",
       "\n",
       "\n",
       "$landmass\n",
       ":   1. 5\n",
       "2. 3\n",
       "3. 4\n",
       "4. 6\n",
       "5. 1\n",
       "6. 2\n",
       "\n",
       "\n",
       "\n",
       "$zone\n",
       ":   1. 1\n",
       "2. 3\n",
       "3. 2\n",
       "4. 4\n",
       "\n",
       "\n",
       "\n",
       "$area\n",
       ":   1. 648\n",
       "2. 29\n",
       "3. 2388\n",
       "4. 0\n",
       "5. 1247\n",
       "6. 2777\n",
       "7. 7690\n",
       "8. 84\n",
       "9. 19\n",
       "10. 1\n",
       "11. 143\n",
       "12. 31\n",
       "13. 23\n",
       "14. 113\n",
       "15. 47\n",
       "16. 1099\n",
       "17. 600\n",
       "18. 8512\n",
       "19. 6\n",
       "20. 111\n",
       "21. 274\n",
       "22. 678\n",
       "23. 28\n",
       "24. 474\n",
       "25. 9976\n",
       "26. 4\n",
       "27. 623\n",
       "28. 1284\n",
       "29. 757\n",
       "30. 9561\n",
       "31. 1139\n",
       "32. 2\n",
       "33. 342\n",
       "34. 51\n",
       "35. 115\n",
       "36. 9\n",
       "37. 128\n",
       "38. 43\n",
       "39. 22\n",
       "40. 49\n",
       "41. 284\n",
       "42. 1001\n",
       "43. 21\n",
       "44. 1222\n",
       "45. 12\n",
       "46. 18\n",
       "47. 337\n",
       "48. 547\n",
       "49. 91\n",
       "50. 268\n",
       "51. 10\n",
       "52. 108\n",
       "53. 249\n",
       "54. 239\n",
       "55. 132\n",
       "56. 2176\n",
       "57. 109\n",
       "58. 246\n",
       "59. 36\n",
       "60. 215\n",
       "61. 112\n",
       "62. 93\n",
       "63. 103\n",
       "64. 3268\n",
       "65. 1904\n",
       "66. 1648\n",
       "67. 435\n",
       "68. 70\n",
       "69. 301\n",
       "70. 323\n",
       "71. 11\n",
       "72. 372\n",
       "73. 98\n",
       "74. 181\n",
       "75. 583\n",
       "76. 236\n",
       "77. 30\n",
       "78. 1760\n",
       "79. 3\n",
       "80. 587\n",
       "81. 118\n",
       "82. 333\n",
       "83. 1240\n",
       "84. 1031\n",
       "85. 1973\n",
       "86. 1566\n",
       "87. 447\n",
       "88. 783\n",
       "89. 140\n",
       "90. 41\n",
       "91. 1267\n",
       "92. 925\n",
       "93. 121\n",
       "94. 195\n",
       "95. 324\n",
       "96. 212\n",
       "97. 804\n",
       "98. 76\n",
       "99. 463\n",
       "100. 407\n",
       "101. 1285\n",
       "102. 300\n",
       "103. 313\n",
       "104. 92\n",
       "105. 237\n",
       "106. 26\n",
       "107. 2150\n",
       "108. 196\n",
       "109. 72\n",
       "110. 637\n",
       "111. 1221\n",
       "112. 99\n",
       "113. 288\n",
       "114. 505\n",
       "115. 66\n",
       "116. 2506\n",
       "117. 63\n",
       "118. 17\n",
       "119. 450\n",
       "120. 185\n",
       "121. 945\n",
       "122. 514\n",
       "123. 57\n",
       "124. 5\n",
       "125. 164\n",
       "126. 781\n",
       "127. 245\n",
       "128. 178\n",
       "129. 9363\n",
       "130. 22402\n",
       "131. 15\n",
       "132. 912\n",
       "133. 256\n",
       "134. 905\n",
       "135. 753\n",
       "136. 391\n",
       "\n",
       "\n",
       "\n",
       "$population\n",
       ":   1. 16\n",
       "2. 3\n",
       "3. 20\n",
       "4. 0\n",
       "5. 7\n",
       "6. 28\n",
       "7. 15\n",
       "8. 8\n",
       "9. 90\n",
       "10. 10\n",
       "11. 1\n",
       "12. 6\n",
       "13. 119\n",
       "14. 9\n",
       "15. 35\n",
       "16. 4\n",
       "17. 24\n",
       "18. 2\n",
       "19. 11\n",
       "20. 1008\n",
       "21. 5\n",
       "22. 47\n",
       "23. 31\n",
       "24. 54\n",
       "25. 17\n",
       "26. 61\n",
       "27. 14\n",
       "28. 684\n",
       "29. 157\n",
       "30. 39\n",
       "31. 57\n",
       "32. 118\n",
       "33. 13\n",
       "34. 77\n",
       "35. 12\n",
       "36. 56\n",
       "37. 18\n",
       "38. 84\n",
       "39. 48\n",
       "40. 36\n",
       "41. 22\n",
       "42. 29\n",
       "43. 38\n",
       "44. 49\n",
       "45. 45\n",
       "46. 231\n",
       "47. 274\n",
       "48. 60\n",
       "\n",
       "\n",
       "\n",
       "$language\n",
       ":   1. 10\n",
       "2. 6\n",
       "3. 8\n",
       "4. 1\n",
       "5. 2\n",
       "6. 4\n",
       "7. 3\n",
       "8. 5\n",
       "9. 7\n",
       "10. 9\n",
       "\n",
       "\n",
       "\n",
       "$religion\n",
       ":   1. 2\n",
       "2. 6\n",
       "3. 1\n",
       "4. 0\n",
       "5. 5\n",
       "6. 3\n",
       "7. 4\n",
       "8. 7\n",
       "\n",
       "\n",
       "\n",
       "$bars\n",
       ":   1. 0\n",
       "2. 2\n",
       "3. 3\n",
       "4. 1\n",
       "5. 5\n",
       "\n",
       "\n",
       "\n",
       "$stripes\n",
       ":   1. 3\n",
       "2. 0\n",
       "3. 2\n",
       "4. 1\n",
       "5. 5\n",
       "6. 9\n",
       "7. 11\n",
       "8. 14\n",
       "9. 4\n",
       "10. 6\n",
       "11. 13\n",
       "12. 7\n",
       "\n",
       "\n",
       "\n",
       "$colors\n",
       ":   1. 5\n",
       "2. 3\n",
       "3. 2\n",
       "4. 8\n",
       "5. 6\n",
       "6. 4\n",
       "7. 7\n",
       "8. 1\n",
       "\n",
       "\n",
       "\n",
       "$red\n",
       ":   1. 1\n",
       "2. 0\n",
       "\n",
       "\n",
       "\n",
       "$green\n",
       ":   1. 1\n",
       "2. 0\n",
       "\n",
       "\n",
       "\n",
       "$blue\n",
       ":   1. 0\n",
       "2. 1\n",
       "\n",
       "\n",
       "\n",
       "$gold\n",
       ":   1. 1\n",
       "2. 0\n",
       "\n",
       "\n",
       "\n",
       "$white\n",
       ":   1. 1\n",
       "2. 0\n",
       "\n",
       "\n",
       "\n",
       "$black\n",
       ":   1. 1\n",
       "2. 0\n",
       "\n",
       "\n",
       "\n",
       "$orange\n",
       ":   1. 0\n",
       "2. 1\n",
       "\n",
       "\n",
       "\n",
       "$mainhue\n",
       ":   1. green\n",
       "2. red\n",
       "3. blue\n",
       "4. gold\n",
       "5. white\n",
       "6. orange\n",
       "7. black\n",
       "8. brown\n",
       "\n",
       "\n",
       "\n",
       "**Levels**: 1. 'black'\n",
       "2. 'blue'\n",
       "3. 'brown'\n",
       "4. 'gold'\n",
       "5. 'green'\n",
       "6. 'orange'\n",
       "7. 'red'\n",
       "8. 'white'\n",
       "\n",
       "\n",
       "\n",
       "$circles\n",
       ":   1. 0\n",
       "2. 1\n",
       "3. 4\n",
       "4. 2\n",
       "\n",
       "\n",
       "\n",
       "$crosses\n",
       ":   1. 0\n",
       "2. 1\n",
       "3. 2\n",
       "\n",
       "\n",
       "\n",
       "$saltires\n",
       ":   1. 0\n",
       "2. 1\n",
       "\n",
       "\n",
       "\n",
       "$quarters\n",
       ":   1. 0\n",
       "2. 1\n",
       "3. 4\n",
       "\n",
       "\n",
       "\n",
       "$sunstars\n",
       ":   1. 1\n",
       "2. 0\n",
       "3. 6\n",
       "4. 22\n",
       "5. 14\n",
       "6. 3\n",
       "7. 4\n",
       "8. 5\n",
       "9. 15\n",
       "10. 10\n",
       "11. 7\n",
       "12. 2\n",
       "13. 9\n",
       "14. 50\n",
       "\n",
       "\n",
       "\n",
       "$crescents\n",
       ":   1. 0\n",
       "2. 1\n",
       "\n",
       "\n",
       "\n",
       "$triangle\n",
       ":   1. 0\n",
       "2. 1\n",
       "\n",
       "\n",
       "\n",
       "$icon\n",
       ":   1. 1\n",
       "2. 0\n",
       "\n",
       "\n",
       "\n",
       "$animate\n",
       ":   1. 0\n",
       "2. 1\n",
       "\n",
       "\n",
       "\n",
       "$text\n",
       ":   1. 0\n",
       "2. 1\n",
       "\n",
       "\n",
       "\n",
       "$topleft\n",
       ":   1. black\n",
       "2. red\n",
       "3. green\n",
       "4. blue\n",
       "5. white\n",
       "6. orange\n",
       "7. gold\n",
       "\n",
       "\n",
       "\n",
       "**Levels**: 1. 'black'\n",
       "2. 'blue'\n",
       "3. 'gold'\n",
       "4. 'green'\n",
       "5. 'orange'\n",
       "6. 'red'\n",
       "7. 'white'\n",
       "\n",
       "\n",
       "\n",
       "$botright\n",
       ":   1. green\n",
       "2. red\n",
       "3. white\n",
       "4. black\n",
       "5. blue\n",
       "6. gold\n",
       "7. orange\n",
       "8. brown\n",
       "\n",
       "\n",
       "\n",
       "**Levels**: 1. 'black'\n",
       "2. 'blue'\n",
       "3. 'brown'\n",
       "4. 'gold'\n",
       "5. 'green'\n",
       "6. 'orange'\n",
       "7. 'red'\n",
       "8. 'white'\n",
       "\n",
       "\n",
       "\n",
       "\n",
       "\n"
      ],
      "text/plain": [
       "$country\n",
       "  [1] Afghanistan              Albania                  Algeria                 \n",
       "  [4] American-Samoa           Andorra                  Angola                  \n",
       "  [7] Anguilla                 Antigua-Barbuda          Argentina               \n",
       " [10] Argentine                Australia                Austria                 \n",
       " [13] Bahamas                  Bahrain                  Bangladesh              \n",
       " [16] Barbados                 Belgium                  Belize                  \n",
       " [19] Benin                    Bermuda                  Bhutan                  \n",
       " [22] Bolivia                  Botswana                 Brazil                  \n",
       " [25] British-Virgin-Isles     Brunei                   Bulgaria                \n",
       " [28] Burkina                  Burma                    Burundi                 \n",
       " [31] Cameroon                 Canada                   Cape-Verde-Islands      \n",
       " [34] Cayman-Islands           Central-African-Republic Chad                    \n",
       " [37] Chile                    China                    Colombia                \n",
       " [40] Comorro-Islands          Congo                    Cook-Islands            \n",
       " [43] Costa-Rica               Cuba                     Cyprus                  \n",
       " [46] Czechoslovakia           Denmark                  Djibouti                \n",
       " [49] Dominica                 Dominican-Republic       Ecuador                 \n",
       " [52] Egypt                    El-Salvador              Equatorial-Guinea       \n",
       " [55] Ethiopia                 Faeroes                  Falklands-Malvinas      \n",
       " [58] Fiji                     Finland                  France                  \n",
       " [61] French-Guiana            French-Polynesia         Gabon                   \n",
       " [64] Gambia                   Germany-DDR              Germany-FRG             \n",
       " [67] Ghana                    Gibraltar                Greece                  \n",
       " [70] Greenland                Grenada                  Guam                    \n",
       " [73] Guatemala                Guinea                   Guinea-Bissau           \n",
       " [76] Guyana                   Haiti                    Honduras                \n",
       " [79] Hong-Kong                Hungary                  Iceland                 \n",
       " [82] India                    Indonesia                Iran                    \n",
       " [85] Iraq                     Ireland                  Israel                  \n",
       " [88] Italy                    Ivory-Coast              Jamaica                 \n",
       " [91] Japan                    Jordan                   Kampuchea               \n",
       " [94] Kenya                    Kiribati                 Kuwait                  \n",
       " [97] Laos                     Lebanon                  Lesotho                 \n",
       "[100] Liberia                  Libya                    Liechtenstein           \n",
       "[103] Luxembourg               Malagasy                 Malawi                  \n",
       "[106] Malaysia                 Maldive-Islands          Mali                    \n",
       "[109] Malta                    Marianas                 Mauritania              \n",
       "[112] Mauritius                Mexico                   Micronesia              \n",
       "[115] Monaco                   Mongolia                 Montserrat              \n",
       "[118] Morocco                  Mozambique               Nauru                   \n",
       "[121] Nepal                    Netherlands              Netherlands-Antilles    \n",
       "[124] New-Zealand              Nicaragua                Niger                   \n",
       "[127] Nigeria                  Niue                     North-Korea             \n",
       "[130] North-Yemen              Norway                   Oman                    \n",
       "[133] Pakistan                 Panama                   Papua-New-Guinea        \n",
       "[136] Parguay                  Peru                     Philippines             \n",
       "[139] Poland                   Portugal                 Puerto-Rico             \n",
       "[142] Qatar                    Romania                  Rwanda                  \n",
       "[145] San-Marino               Sao-Tome                 Saudi-Arabia            \n",
       "[148] Senegal                  Seychelles               Sierra-Leone            \n",
       "[151] Singapore                Soloman-Islands          Somalia                 \n",
       "[154] South-Africa             South-Korea              South-Yemen             \n",
       "[157] Spain                    Sri-Lanka                St-Helena               \n",
       "[160] St-Kitts-Nevis           St-Lucia                 St-Vincent              \n",
       "[163] Sudan                    Surinam                  Swaziland               \n",
       "[166] Sweden                   Switzerland              Syria                   \n",
       "[169] Taiwan                   Tanzania                 Thailand                \n",
       "[172] Togo                     Tonga                    Trinidad-Tobago         \n",
       "[175] Tunisia                  Turkey                   Turks-Cocos-Islands     \n",
       "[178] Tuvalu                   UAE                      Uganda                  \n",
       "[181] UK                       Uruguay                  US-Virgin-Isles         \n",
       "[184] USA                      USSR                     Vanuatu                 \n",
       "[187] Vatican-City             Venezuela                Vietnam                 \n",
       "[190] Western-Samoa            Yugoslavia               Zaire                   \n",
       "[193] Zambia                   Zimbabwe                \n",
       "194 Levels: Afghanistan Albania Algeria American-Samoa Andorra ... Zimbabwe\n",
       "\n",
       "$landmass\n",
       "[1] 5 3 4 6 1 2\n",
       "\n",
       "$zone\n",
       "[1] 1 3 2 4\n",
       "\n",
       "$area\n",
       "  [1]   648    29  2388     0  1247  2777  7690    84    19     1   143    31\n",
       " [13]    23   113    47  1099   600  8512     6   111   274   678    28   474\n",
       " [25]  9976     4   623  1284   757  9561  1139     2   342    51   115     9\n",
       " [37]   128    43    22    49   284  1001    21  1222    12    18   337   547\n",
       " [49]    91   268    10   108   249   239   132  2176   109   246    36   215\n",
       " [61]   112    93   103  3268  1904  1648   435    70   301   323    11   372\n",
       " [73]    98   181   583   236    30  1760     3   587   118   333  1240  1031\n",
       " [85]  1973  1566   447   783   140    41  1267   925   121   195   324   212\n",
       " [97]   804    76   463   407  1285   300   313    92   237    26  2150   196\n",
       "[109]    72   637  1221    99   288   505    66  2506    63    17   450   185\n",
       "[121]   945   514    57     5   164   781   245   178  9363 22402    15   912\n",
       "[133]   256   905   753   391\n",
       "\n",
       "$population\n",
       " [1]   16    3   20    0    7   28   15    8   90   10    1    6  119    9   35\n",
       "[16]    4   24    2   11 1008    5   47   31   54   17   61   14  684  157   39\n",
       "[31]   57  118   13   77   12   56   18   84   48   36   22   29   38   49   45\n",
       "[46]  231  274   60\n",
       "\n",
       "$language\n",
       " [1] 10  6  8  1  2  4  3  5  7  9\n",
       "\n",
       "$religion\n",
       "[1] 2 6 1 0 5 3 4 7\n",
       "\n",
       "$bars\n",
       "[1] 0 2 3 1 5\n",
       "\n",
       "$stripes\n",
       " [1]  3  0  2  1  5  9 11 14  4  6 13  7\n",
       "\n",
       "$colors\n",
       "[1] 5 3 2 8 6 4 7 1\n",
       "\n",
       "$red\n",
       "[1] 1 0\n",
       "\n",
       "$green\n",
       "[1] 1 0\n",
       "\n",
       "$blue\n",
       "[1] 0 1\n",
       "\n",
       "$gold\n",
       "[1] 1 0\n",
       "\n",
       "$white\n",
       "[1] 1 0\n",
       "\n",
       "$black\n",
       "[1] 1 0\n",
       "\n",
       "$orange\n",
       "[1] 0 1\n",
       "\n",
       "$mainhue\n",
       "[1] green  red    blue   gold   white  orange black  brown \n",
       "Levels: black blue brown gold green orange red white\n",
       "\n",
       "$circles\n",
       "[1] 0 1 4 2\n",
       "\n",
       "$crosses\n",
       "[1] 0 1 2\n",
       "\n",
       "$saltires\n",
       "[1] 0 1\n",
       "\n",
       "$quarters\n",
       "[1] 0 1 4\n",
       "\n",
       "$sunstars\n",
       " [1]  1  0  6 22 14  3  4  5 15 10  7  2  9 50\n",
       "\n",
       "$crescents\n",
       "[1] 0 1\n",
       "\n",
       "$triangle\n",
       "[1] 0 1\n",
       "\n",
       "$icon\n",
       "[1] 1 0\n",
       "\n",
       "$animate\n",
       "[1] 0 1\n",
       "\n",
       "$text\n",
       "[1] 0 1\n",
       "\n",
       "$topleft\n",
       "[1] black  red    green  blue   white  orange gold  \n",
       "Levels: black blue gold green orange red white\n",
       "\n",
       "$botright\n",
       "[1] green  red    white  black  blue   gold   orange brown \n",
       "Levels: black blue brown gold green orange red white\n"
      ]
     },
     "metadata": {},
     "output_type": "display_data"
    }
   ],
   "source": [
    "unique_list"
   ]
  },
  {
   "cell_type": "markdown",
   "metadata": {},
   "source": [
    "### While writing code, one might forget that unique returns the unique elements or every component given in the list. If you want to be careful about what must be the correct format of the list, that is when vapply comes into picture"
   ]
  },
  {
   "cell_type": "markdown",
   "metadata": {},
   "source": [
    "### sapply tries to guess the correct format of the result, vapply will allow you to specify it explicitly. If result does not match the given format, an error will be thrown. This will prevent further problems"
   ]
  },
  {
   "cell_type": "code",
   "execution_count": 10,
   "metadata": {},
   "outputs": [
    {
     "ename": "ERROR",
     "evalue": "Error in vapply(flags, unique, numeric(1)): values must be length 1,\n but FUN(X[[1]]) result is length 194\n",
     "output_type": "error",
     "traceback": [
      "Error in vapply(flags, unique, numeric(1)): values must be length 1,\n but FUN(X[[1]]) result is length 194\nTraceback:\n",
      "1. vapply(flags, unique, numeric(1))"
     ]
    }
   ],
   "source": [
    "vapply(flags,unique, numeric(1))"
   ]
  },
  {
   "cell_type": "code",
   "execution_count": 17,
   "metadata": {},
   "outputs": [
    {
     "data": {
      "text/html": [
       "<dl class=dl-horizontal>\n",
       "\t<dt>country</dt>\n",
       "\t\t<dd>'factor'</dd>\n",
       "\t<dt>landmass</dt>\n",
       "\t\t<dd>'integer'</dd>\n",
       "\t<dt>zone</dt>\n",
       "\t\t<dd>'integer'</dd>\n",
       "\t<dt>area</dt>\n",
       "\t\t<dd>'integer'</dd>\n",
       "\t<dt>population</dt>\n",
       "\t\t<dd>'integer'</dd>\n",
       "\t<dt>language</dt>\n",
       "\t\t<dd>'integer'</dd>\n",
       "\t<dt>religion</dt>\n",
       "\t\t<dd>'integer'</dd>\n",
       "\t<dt>bars</dt>\n",
       "\t\t<dd>'integer'</dd>\n",
       "\t<dt>stripes</dt>\n",
       "\t\t<dd>'integer'</dd>\n",
       "\t<dt>colors</dt>\n",
       "\t\t<dd>'integer'</dd>\n",
       "\t<dt>red</dt>\n",
       "\t\t<dd>'integer'</dd>\n",
       "\t<dt>green</dt>\n",
       "\t\t<dd>'integer'</dd>\n",
       "\t<dt>blue</dt>\n",
       "\t\t<dd>'integer'</dd>\n",
       "\t<dt>gold</dt>\n",
       "\t\t<dd>'integer'</dd>\n",
       "\t<dt>white</dt>\n",
       "\t\t<dd>'integer'</dd>\n",
       "\t<dt>black</dt>\n",
       "\t\t<dd>'integer'</dd>\n",
       "\t<dt>orange</dt>\n",
       "\t\t<dd>'integer'</dd>\n",
       "\t<dt>mainhue</dt>\n",
       "\t\t<dd>'factor'</dd>\n",
       "\t<dt>circles</dt>\n",
       "\t\t<dd>'integer'</dd>\n",
       "\t<dt>crosses</dt>\n",
       "\t\t<dd>'integer'</dd>\n",
       "\t<dt>saltires</dt>\n",
       "\t\t<dd>'integer'</dd>\n",
       "\t<dt>quarters</dt>\n",
       "\t\t<dd>'integer'</dd>\n",
       "\t<dt>sunstars</dt>\n",
       "\t\t<dd>'integer'</dd>\n",
       "\t<dt>crescents</dt>\n",
       "\t\t<dd>'integer'</dd>\n",
       "\t<dt>triangle</dt>\n",
       "\t\t<dd>'integer'</dd>\n",
       "\t<dt>icon</dt>\n",
       "\t\t<dd>'integer'</dd>\n",
       "\t<dt>animate</dt>\n",
       "\t\t<dd>'integer'</dd>\n",
       "\t<dt>text</dt>\n",
       "\t\t<dd>'integer'</dd>\n",
       "\t<dt>topleft</dt>\n",
       "\t\t<dd>'factor'</dd>\n",
       "\t<dt>botright</dt>\n",
       "\t\t<dd>'factor'</dd>\n",
       "</dl>\n"
      ],
      "text/latex": [
       "\\begin{description*}\n",
       "\\item[country] 'factor'\n",
       "\\item[landmass] 'integer'\n",
       "\\item[zone] 'integer'\n",
       "\\item[area] 'integer'\n",
       "\\item[population] 'integer'\n",
       "\\item[language] 'integer'\n",
       "\\item[religion] 'integer'\n",
       "\\item[bars] 'integer'\n",
       "\\item[stripes] 'integer'\n",
       "\\item[colors] 'integer'\n",
       "\\item[red] 'integer'\n",
       "\\item[green] 'integer'\n",
       "\\item[blue] 'integer'\n",
       "\\item[gold] 'integer'\n",
       "\\item[white] 'integer'\n",
       "\\item[black] 'integer'\n",
       "\\item[orange] 'integer'\n",
       "\\item[mainhue] 'factor'\n",
       "\\item[circles] 'integer'\n",
       "\\item[crosses] 'integer'\n",
       "\\item[saltires] 'integer'\n",
       "\\item[quarters] 'integer'\n",
       "\\item[sunstars] 'integer'\n",
       "\\item[crescents] 'integer'\n",
       "\\item[triangle] 'integer'\n",
       "\\item[icon] 'integer'\n",
       "\\item[animate] 'integer'\n",
       "\\item[text] 'integer'\n",
       "\\item[topleft] 'factor'\n",
       "\\item[botright] 'factor'\n",
       "\\end{description*}\n"
      ],
      "text/markdown": [
       "country\n",
       ":   'factor'landmass\n",
       ":   'integer'zone\n",
       ":   'integer'area\n",
       ":   'integer'population\n",
       ":   'integer'language\n",
       ":   'integer'religion\n",
       ":   'integer'bars\n",
       ":   'integer'stripes\n",
       ":   'integer'colors\n",
       ":   'integer'red\n",
       ":   'integer'green\n",
       ":   'integer'blue\n",
       ":   'integer'gold\n",
       ":   'integer'white\n",
       ":   'integer'black\n",
       ":   'integer'orange\n",
       ":   'integer'mainhue\n",
       ":   'factor'circles\n",
       ":   'integer'crosses\n",
       ":   'integer'saltires\n",
       ":   'integer'quarters\n",
       ":   'integer'sunstars\n",
       ":   'integer'crescents\n",
       ":   'integer'triangle\n",
       ":   'integer'icon\n",
       ":   'integer'animate\n",
       ":   'integer'text\n",
       ":   'integer'topleft\n",
       ":   'factor'botright\n",
       ":   'factor'\n",
       "\n"
      ],
      "text/plain": [
       "   country   landmass       zone       area population   language   religion \n",
       "  \"factor\"  \"integer\"  \"integer\"  \"integer\"  \"integer\"  \"integer\"  \"integer\" \n",
       "      bars    stripes     colors        red      green       blue       gold \n",
       " \"integer\"  \"integer\"  \"integer\"  \"integer\"  \"integer\"  \"integer\"  \"integer\" \n",
       "     white      black     orange    mainhue    circles    crosses   saltires \n",
       " \"integer\"  \"integer\"  \"integer\"   \"factor\"  \"integer\"  \"integer\"  \"integer\" \n",
       "  quarters   sunstars  crescents   triangle       icon    animate       text \n",
       " \"integer\"  \"integer\"  \"integer\"  \"integer\"  \"integer\"  \"integer\"  \"integer\" \n",
       "   topleft   botright \n",
       "  \"factor\"   \"factor\" "
      ]
     },
     "metadata": {},
     "output_type": "display_data"
    }
   ],
   "source": [
    "# Get the class of every column in the dataset\n",
    "\n",
    "vapply(flags, class, character(1))"
   ]
  },
  {
   "cell_type": "markdown",
   "metadata": {},
   "source": [
    "### apply is safer then sapply, as the apply operation wont have to guess what will be the class of the result. "
   ]
  },
  {
   "cell_type": "markdown",
   "metadata": {},
   "source": [
    "### We might want to split the data and then based on the value of a variable, apply a function to each member of the group. tapply comes into picture in such cases"
   ]
  },
  {
   "cell_type": "code",
   "execution_count": 18,
   "metadata": {},
   "outputs": [],
   "source": [
    "?tapply"
   ]
  },
  {
   "cell_type": "code",
   "execution_count": 22,
   "metadata": {},
   "outputs": [
    {
     "data": {
      "text/plain": [
       "\n",
       " 1  2  3  4  5  6 \n",
       "31 17 35 52 39 20 "
      ]
     },
     "metadata": {},
     "output_type": "display_data"
    }
   ],
   "source": [
    "# table gives the count of every value of a given variable\n",
    "\n",
    "table(flags$landmass)"
   ]
  },
  {
   "cell_type": "code",
   "execution_count": 23,
   "metadata": {},
   "outputs": [
    {
     "data": {
      "text/plain": [
       "\n",
       "  0   1 \n",
       "155  39 "
      ]
     },
     "metadata": {},
     "output_type": "display_data"
    }
   ],
   "source": [
    "table(flags$animate)"
   ]
  },
  {
   "cell_type": "code",
   "execution_count": 36,
   "metadata": {},
   "outputs": [
    {
     "name": "stderr",
     "output_type": "stream",
     "text": [
      "ERROR while rich displaying an object: Error in dn[[2L]]: subscript out of bounds\n",
      "\n",
      "Traceback:\n",
      "1. FUN(X[[i]], ...)\n",
      "2. tryCatch(withCallingHandlers({\n",
      " .     rpr <- mime2repr[[mime]](obj)\n",
      " .     if (is.null(rpr)) \n",
      " .         return(NULL)\n",
      " .     prepare_content(is.raw(rpr), rpr)\n",
      " . }, error = error_handler), error = outer_handler)\n",
      "3. tryCatchList(expr, classes, parentenv, handlers)\n",
      "4. tryCatchOne(expr, names, parentenv, handlers[[1L]])\n",
      "5. doTryCatch(return(expr), name, parentenv, handler)\n",
      "6. withCallingHandlers({\n",
      " .     rpr <- mime2repr[[mime]](obj)\n",
      " .     if (is.null(rpr)) \n",
      " .         return(NULL)\n",
      " .     prepare_content(is.raw(rpr), rpr)\n",
      " . }, error = error_handler)\n",
      "7. mime2repr[[mime]](obj)\n",
      "8. repr_markdown.numeric(obj)\n",
      "9. repr_vector_generic(html_escape_names(obj), \"%s. %s\\n\", \"%s\\n:   %s\", \n",
      " .     \"**%s:** %s\", \"%s\\n\\n\", item_uses_numbers = TRUE, escape_fun = html_escape)\n",
      "10. html_escape_names(obj)\n",
      "11. .escape_names(obj, \"html\")\n",
      "12. colnames(obj)\n",
      "ERROR while rich displaying an object: Error in dn[[2L]]: subscript out of bounds\n",
      "\n",
      "Traceback:\n",
      "1. FUN(X[[i]], ...)\n",
      "2. tryCatch(withCallingHandlers({\n",
      " .     rpr <- mime2repr[[mime]](obj)\n",
      " .     if (is.null(rpr)) \n",
      " .         return(NULL)\n",
      " .     prepare_content(is.raw(rpr), rpr)\n",
      " . }, error = error_handler), error = outer_handler)\n",
      "3. tryCatchList(expr, classes, parentenv, handlers)\n",
      "4. tryCatchOne(expr, names, parentenv, handlers[[1L]])\n",
      "5. doTryCatch(return(expr), name, parentenv, handler)\n",
      "6. withCallingHandlers({\n",
      " .     rpr <- mime2repr[[mime]](obj)\n",
      " .     if (is.null(rpr)) \n",
      " .         return(NULL)\n",
      " .     prepare_content(is.raw(rpr), rpr)\n",
      " . }, error = error_handler)\n",
      "7. mime2repr[[mime]](obj)\n",
      "8. repr_latex.numeric(obj)\n",
      "9. repr_vector_generic(latex_escape_names(obj), \"\\\\item %s\\n\", \"\\\\item[%s] %s\\n\", \n",
      " .     \"\\\\textbf{%s:} %s\", enum_wrap = \"\\\\begin{enumerate*}\\n%s\\\\end{enumerate*}\\n\", \n",
      " .     named_wrap = \"\\\\begin{description*}\\n%s\\\\end{description*}\\n\", \n",
      " .     only_named_item = \"\\\\textbf{%s:} %s\", escape_fun = latex_escape)\n",
      "10. latex_escape_names(obj)\n",
      "11. .escape_names(obj, \"latex\")\n",
      "12. colnames(obj)\n"
     ]
    },
    {
     "data": {
      "text/html": [
       "<dl class=dl-horizontal>\n",
       "\t<dt>1</dt>\n",
       "\t\t<dd>0.419354838709677</dd>\n",
       "\t<dt>2</dt>\n",
       "\t\t<dd>0.176470588235294</dd>\n",
       "\t<dt>3</dt>\n",
       "\t\t<dd>0.114285714285714</dd>\n",
       "\t<dt>4</dt>\n",
       "\t\t<dd>0.134615384615385</dd>\n",
       "\t<dt>5</dt>\n",
       "\t\t<dd>0.153846153846154</dd>\n",
       "\t<dt>6</dt>\n",
       "\t\t<dd>0.3</dd>\n",
       "</dl>\n"
      ],
      "text/plain": [
       "        1         2         3         4         5         6 \n",
       "0.4193548 0.1764706 0.1142857 0.1346154 0.1538462 0.3000000 "
      ]
     },
     "metadata": {},
     "output_type": "display_data"
    }
   ],
   "source": [
    "#If you take the arithmetic mean of a bunch of 0s and 1s, you get the proportion of 1s. Use tapply(flagsanimate,flagslandmass, mean) to apply the mean function to the ‘animate’ variable separately for each of the six landmass groups, thus giving us the proportion of flags containing an animate image WITHIN each landmass group.\n",
    "\n",
    "tapply(flags$animate, flags$landmass, mean)"
   ]
  },
  {
   "cell_type": "code",
   "execution_count": 25,
   "metadata": {},
   "outputs": [
    {
     "data": {
      "text/plain": [
       "$`1`\n",
       "   Min. 1st Qu.  Median    Mean 3rd Qu.    Max. \n",
       " 0.0000  0.0000  0.0000  0.4194  1.0000  1.0000 \n",
       "\n",
       "$`2`\n",
       "   Min. 1st Qu.  Median    Mean 3rd Qu.    Max. \n",
       " 0.0000  0.0000  0.0000  0.1765  0.0000  1.0000 \n",
       "\n",
       "$`3`\n",
       "   Min. 1st Qu.  Median    Mean 3rd Qu.    Max. \n",
       " 0.0000  0.0000  0.0000  0.1143  0.0000  1.0000 \n",
       "\n",
       "$`4`\n",
       "   Min. 1st Qu.  Median    Mean 3rd Qu.    Max. \n",
       " 0.0000  0.0000  0.0000  0.1346  0.0000  1.0000 \n",
       "\n",
       "$`5`\n",
       "   Min. 1st Qu.  Median    Mean 3rd Qu.    Max. \n",
       " 0.0000  0.0000  0.0000  0.1538  0.0000  1.0000 \n",
       "\n",
       "$`6`\n",
       "   Min. 1st Qu.  Median    Mean 3rd Qu.    Max. \n",
       "    0.0     0.0     0.0     0.3     1.0     1.0 \n"
      ]
     },
     "metadata": {},
     "output_type": "display_data"
    }
   ],
   "source": [
    "tapply(flags$animate, flags$landmass, summary)"
   ]
  },
  {
   "cell_type": "code",
   "execution_count": 33,
   "metadata": {},
   "outputs": [
    {
     "data": {
      "text/plain": [
       "\n",
       "  0   1 \n",
       " 41 153 "
      ]
     },
     "metadata": {},
     "output_type": "display_data"
    }
   ],
   "source": [
    "table(flags$red)"
   ]
  },
  {
   "cell_type": "code",
   "execution_count": 34,
   "metadata": {},
   "outputs": [
    {
     "name": "stderr",
     "output_type": "stream",
     "text": [
      "ERROR while rich displaying an object: Error in dn[[2L]]: subscript out of bounds\n",
      "\n",
      "Traceback:\n",
      "1. FUN(X[[i]], ...)\n",
      "2. tryCatch(withCallingHandlers({\n",
      " .     rpr <- mime2repr[[mime]](obj)\n",
      " .     if (is.null(rpr)) \n",
      " .         return(NULL)\n",
      " .     prepare_content(is.raw(rpr), rpr)\n",
      " . }, error = error_handler), error = outer_handler)\n",
      "3. tryCatchList(expr, classes, parentenv, handlers)\n",
      "4. tryCatchOne(expr, names, parentenv, handlers[[1L]])\n",
      "5. doTryCatch(return(expr), name, parentenv, handler)\n",
      "6. withCallingHandlers({\n",
      " .     rpr <- mime2repr[[mime]](obj)\n",
      " .     if (is.null(rpr)) \n",
      " .         return(NULL)\n",
      " .     prepare_content(is.raw(rpr), rpr)\n",
      " . }, error = error_handler)\n",
      "7. mime2repr[[mime]](obj)\n",
      "8. repr_markdown.integer(obj)\n",
      "9. repr_vector_generic(html_escape_names(obj), \"%s. %s\\n\", \"%s\\n:   %s\", \n",
      " .     \"**%s:** %s\", \"%s\\n\\n\", item_uses_numbers = TRUE, escape_fun = html_escape)\n",
      "10. html_escape_names(obj)\n",
      "11. .escape_names(obj, \"html\")\n",
      "12. colnames(obj)\n",
      "ERROR while rich displaying an object: Error in dn[[2L]]: subscript out of bounds\n",
      "\n",
      "Traceback:\n",
      "1. FUN(X[[i]], ...)\n",
      "2. tryCatch(withCallingHandlers({\n",
      " .     rpr <- mime2repr[[mime]](obj)\n",
      " .     if (is.null(rpr)) \n",
      " .         return(NULL)\n",
      " .     prepare_content(is.raw(rpr), rpr)\n",
      " . }, error = error_handler), error = outer_handler)\n",
      "3. tryCatchList(expr, classes, parentenv, handlers)\n",
      "4. tryCatchOne(expr, names, parentenv, handlers[[1L]])\n",
      "5. doTryCatch(return(expr), name, parentenv, handler)\n",
      "6. withCallingHandlers({\n",
      " .     rpr <- mime2repr[[mime]](obj)\n",
      " .     if (is.null(rpr)) \n",
      " .         return(NULL)\n",
      " .     prepare_content(is.raw(rpr), rpr)\n",
      " . }, error = error_handler)\n",
      "7. mime2repr[[mime]](obj)\n",
      "8. repr_latex.integer(obj)\n",
      "9. repr_vector_generic(latex_escape_names(obj), \"\\\\item %s\\n\", \"\\\\item[%s] %s\\n\", \n",
      " .     \"\\\\textbf{%s:} %s\", enum_wrap = \"\\\\begin{enumerate*}\\n%s\\\\end{enumerate*}\\n\", \n",
      " .     named_wrap = \"\\\\begin{description*}\\n%s\\\\end{description*}\\n\", \n",
      " .     only_named_item = \"\\\\textbf{%s:} %s\", escape_fun = latex_escape)\n",
      "10. latex_escape_names(obj)\n",
      "11. .escape_names(obj, \"latex\")\n",
      "12. colnames(obj)\n"
     ]
    },
    {
     "data": {
      "text/html": [
       "<dl class=dl-horizontal>\n",
       "\t<dt>FALSE</dt>\n",
       "\t\t<dd>4</dd>\n",
       "\t<dt>TRUE</dt>\n",
       "\t\t<dd>3</dd>\n",
       "</dl>\n"
      ],
      "text/plain": [
       "FALSE  TRUE \n",
       "    4     3 "
      ]
     },
     "metadata": {},
     "output_type": "display_data"
    }
   ],
   "source": [
    "#What is the median population (in millions) for countries without the color red on their flag?\n",
    "\n",
    "tapply(flags$population, !flags$red, median)"
   ]
  },
  {
   "cell_type": "code",
   "execution_count": 35,
   "metadata": {},
   "outputs": [
    {
     "data": {
      "text/plain": [
       "$`1`\n",
       "   Min. 1st Qu.  Median    Mean 3rd Qu.    Max. \n",
       "   0.00    0.00    0.00   12.29    4.50  231.00 \n",
       "\n",
       "$`2`\n",
       "   Min. 1st Qu.  Median    Mean 3rd Qu.    Max. \n",
       "   0.00    1.00    6.00   15.71   15.00  119.00 \n",
       "\n",
       "$`3`\n",
       "   Min. 1st Qu.  Median    Mean 3rd Qu.    Max. \n",
       "   0.00    0.00    8.00   13.86   16.00   61.00 \n",
       "\n",
       "$`4`\n",
       "   Min. 1st Qu.  Median    Mean 3rd Qu.    Max. \n",
       "  0.000   1.000   5.000   8.788   9.750  56.000 \n",
       "\n",
       "$`5`\n",
       "   Min. 1st Qu.  Median    Mean 3rd Qu.    Max. \n",
       "   0.00    2.00   10.00   69.18   39.00 1008.00 \n",
       "\n",
       "$`6`\n",
       "   Min. 1st Qu.  Median    Mean 3rd Qu.    Max. \n",
       "   0.00    0.00    0.00   11.30    1.25  157.00 \n"
      ]
     },
     "metadata": {},
     "output_type": "display_data"
    }
   ],
   "source": [
    "tapply(flags$population, flags$landmass, summary)"
   ]
  },
  {
   "cell_type": "markdown",
   "metadata": {},
   "source": [
    "# LOOKING AT DATA"
   ]
  },
  {
   "cell_type": "markdown",
   "metadata": {},
   "source": [
    "When working with a new dataset, follow the following guidelines:\n",
    "1. What is the format of the data\n",
    "2. What are the dimensions\n",
    "3. What are the variable names\n",
    "4. How many variables are stored\n",
    "5. Is there any missing data\n",
    "6. Are there any flaws in the data"
   ]
  },
  {
   "cell_type": "markdown",
   "metadata": {},
   "source": [
    "#### Import the plants dataset - http://plants.usda.gov/adv_search.html"
   ]
  },
  {
   "cell_type": "code",
   "execution_count": 3,
   "metadata": {},
   "outputs": [],
   "source": [
    "plants <- read.table('/home/tushar/Desktop/R-Bootcamp/plants.txt', header = TRUE, sep = \",\")"
   ]
  },
  {
   "cell_type": "code",
   "execution_count": 4,
   "metadata": {},
   "outputs": [
    {
     "data": {
      "text/html": [
       "<table>\n",
       "<thead><tr><th scope=col>Accepted.Symbol</th><th scope=col>Synonym.Symbol</th><th scope=col>Scientific.Name</th><th scope=col>Duration</th><th scope=col>Active.Growth.Period</th><th scope=col>Foliage.Color</th><th scope=col>pH..Minimum.</th><th scope=col>pH..Maximum.</th><th scope=col>Precipitation..Minimum.</th><th scope=col>Precipitation..Maximum.</th><th scope=col>Shade.Tolerance</th><th scope=col>Temperature..Minimum...F.</th></tr></thead>\n",
       "<tbody>\n",
       "\t<tr><td>ABELI                 </td><td>NA                    </td><td>Abelia                </td><td>                      </td><td>                      </td><td>                      </td><td> NA                   </td><td> NA                   </td><td>NA                    </td><td>NA                    </td><td>                      </td><td>NA                    </td></tr>\n",
       "\t<tr><td>ABGR4                 </td><td>NA                    </td><td>Abelia ×grandiflora   </td><td>Perennial             </td><td>Spring, Summer, Fall  </td><td>Dark Green            </td><td>5.5                   </td><td>6.8                   </td><td>35                    </td><td>60                    </td><td>Tolerant              </td><td>-8                    </td></tr>\n",
       "\t<tr><td>ABELM                 </td><td>NA                    </td><td>Abelmoschus           </td><td>                      </td><td>                      </td><td>                      </td><td> NA                   </td><td> NA                   </td><td>NA                    </td><td>NA                    </td><td>                      </td><td>NA                    </td></tr>\n",
       "\t<tr><td>ABES                  </td><td>NA                    </td><td>Abelmoschus esculentus</td><td>Annual, Perennial     </td><td>                      </td><td>                      </td><td> NA                   </td><td> NA                   </td><td>NA                    </td><td>NA                    </td><td>                      </td><td>NA                    </td></tr>\n",
       "\t<tr><td>ABMA9                 </td><td>NA                    </td><td>Abelmoschus manihot   </td><td>                      </td><td>                      </td><td>                      </td><td> NA                   </td><td> NA                   </td><td>NA                    </td><td>NA                    </td><td>                      </td><td>NA                    </td></tr>\n",
       "\t<tr><td>ABMO                  </td><td>NA                    </td><td>Abelmoschus moschatus </td><td>Perennial             </td><td>                      </td><td>                      </td><td> NA                   </td><td> NA                   </td><td>NA                    </td><td>NA                    </td><td>                      </td><td>NA                    </td></tr>\n",
       "</tbody>\n",
       "</table>\n"
      ],
      "text/latex": [
       "\\begin{tabular}{r|llllllllllll}\n",
       " Accepted.Symbol & Synonym.Symbol & Scientific.Name & Duration & Active.Growth.Period & Foliage.Color & pH..Minimum. & pH..Maximum. & Precipitation..Minimum. & Precipitation..Maximum. & Shade.Tolerance & Temperature..Minimum...F.\\\\\n",
       "\\hline\n",
       "\t ABELI                  & NA                     & Abelia                 &                        &                        &                        &  NA                    &  NA                    & NA                     & NA                     &                        & NA                    \\\\\n",
       "\t ABGR4                  & NA                     & Abelia ×grandiflora    & Perennial              & Spring, Summer, Fall   & Dark Green             & 5.5                    & 6.8                    & 35                     & 60                     & Tolerant               & -8                    \\\\\n",
       "\t ABELM                  & NA                     & Abelmoschus            &                        &                        &                        &  NA                    &  NA                    & NA                     & NA                     &                        & NA                    \\\\\n",
       "\t ABES                   & NA                     & Abelmoschus esculentus & Annual, Perennial      &                        &                        &  NA                    &  NA                    & NA                     & NA                     &                        & NA                    \\\\\n",
       "\t ABMA9                  & NA                     & Abelmoschus manihot    &                        &                        &                        &  NA                    &  NA                    & NA                     & NA                     &                        & NA                    \\\\\n",
       "\t ABMO                   & NA                     & Abelmoschus moschatus  & Perennial              &                        &                        &  NA                    &  NA                    & NA                     & NA                     &                        & NA                    \\\\\n",
       "\\end{tabular}\n"
      ],
      "text/markdown": [
       "\n",
       "Accepted.Symbol | Synonym.Symbol | Scientific.Name | Duration | Active.Growth.Period | Foliage.Color | pH..Minimum. | pH..Maximum. | Precipitation..Minimum. | Precipitation..Maximum. | Shade.Tolerance | Temperature..Minimum...F. | \n",
       "|---|---|---|---|---|---|\n",
       "| ABELI                  | NA                     | Abelia                 |                        |                        |                        |  NA                    |  NA                    | NA                     | NA                     |                        | NA                     | \n",
       "| ABGR4                  | NA                     | Abelia ×grandiflora    | Perennial              | Spring, Summer, Fall   | Dark Green             | 5.5                    | 6.8                    | 35                     | 60                     | Tolerant               | -8                     | \n",
       "| ABELM                  | NA                     | Abelmoschus            |                        |                        |                        |  NA                    |  NA                    | NA                     | NA                     |                        | NA                     | \n",
       "| ABES                   | NA                     | Abelmoschus esculentus | Annual, Perennial      |                        |                        |  NA                    |  NA                    | NA                     | NA                     |                        | NA                     | \n",
       "| ABMA9                  | NA                     | Abelmoschus manihot    |                        |                        |                        |  NA                    |  NA                    | NA                     | NA                     |                        | NA                     | \n",
       "| ABMO                   | NA                     | Abelmoschus moschatus  | Perennial              |                        |                        |  NA                    |  NA                    | NA                     | NA                     |                        | NA                     | \n",
       "\n",
       "\n"
      ],
      "text/plain": [
       "  Accepted.Symbol Synonym.Symbol Scientific.Name        Duration         \n",
       "1 ABELI           NA             Abelia                                  \n",
       "2 ABGR4           NA             Abelia ×grandiflora    Perennial        \n",
       "3 ABELM           NA             Abelmoschus                             \n",
       "4 ABES            NA             Abelmoschus esculentus Annual, Perennial\n",
       "5 ABMA9           NA             Abelmoschus manihot                     \n",
       "6 ABMO            NA             Abelmoschus moschatus  Perennial        \n",
       "  Active.Growth.Period Foliage.Color pH..Minimum. pH..Maximum.\n",
       "1                                     NA           NA         \n",
       "2 Spring, Summer, Fall Dark Green    5.5          6.8         \n",
       "3                                     NA           NA         \n",
       "4                                     NA           NA         \n",
       "5                                     NA           NA         \n",
       "6                                     NA           NA         \n",
       "  Precipitation..Minimum. Precipitation..Maximum. Shade.Tolerance\n",
       "1 NA                      NA                                     \n",
       "2 35                      60                      Tolerant       \n",
       "3 NA                      NA                                     \n",
       "4 NA                      NA                                     \n",
       "5 NA                      NA                                     \n",
       "6 NA                      NA                                     \n",
       "  Temperature..Minimum...F.\n",
       "1 NA                       \n",
       "2 -8                       \n",
       "3 NA                       \n",
       "4 NA                       \n",
       "5 NA                       \n",
       "6 NA                       "
      ]
     },
     "metadata": {},
     "output_type": "display_data"
    }
   ],
   "source": [
    "head(plants)"
   ]
  },
  {
   "cell_type": "markdown",
   "metadata": {},
   "source": [
    "#### 1. Determine the class. As the class is data frame, we know that the data is rectangular"
   ]
  },
  {
   "cell_type": "code",
   "execution_count": 5,
   "metadata": {},
   "outputs": [
    {
     "data": {
      "text/html": [
       "'data.frame'"
      ],
      "text/latex": [
       "'data.frame'"
      ],
      "text/markdown": [
       "'data.frame'"
      ],
      "text/plain": [
       "[1] \"data.frame\""
      ]
     },
     "metadata": {},
     "output_type": "display_data"
    }
   ],
   "source": [
    "class(plants)"
   ]
  },
  {
   "cell_type": "markdown",
   "metadata": {},
   "source": [
    "#### 2. Determine the dimensions"
   ]
  },
  {
   "cell_type": "code",
   "execution_count": 6,
   "metadata": {},
   "outputs": [
    {
     "data": {
      "text/html": [
       "<ol class=list-inline>\n",
       "\t<li>49138</li>\n",
       "\t<li>12</li>\n",
       "</ol>\n"
      ],
      "text/latex": [
       "\\begin{enumerate*}\n",
       "\\item 49138\n",
       "\\item 12\n",
       "\\end{enumerate*}\n"
      ],
      "text/markdown": [
       "1. 49138\n",
       "2. 12\n",
       "\n",
       "\n"
      ],
      "text/plain": [
       "[1] 49138    12"
      ]
     },
     "metadata": {},
     "output_type": "display_data"
    }
   ],
   "source": [
    "dim(plants)"
   ]
  },
  {
   "cell_type": "code",
   "execution_count": 7,
   "metadata": {},
   "outputs": [
    {
     "data": {
      "text/html": [
       "49138"
      ],
      "text/latex": [
       "49138"
      ],
      "text/markdown": [
       "49138"
      ],
      "text/plain": [
       "[1] 49138"
      ]
     },
     "metadata": {},
     "output_type": "display_data"
    }
   ],
   "source": [
    "# Number of Rows\n",
    "\n",
    "nrow(plants)"
   ]
  },
  {
   "cell_type": "code",
   "execution_count": 9,
   "metadata": {},
   "outputs": [
    {
     "data": {
      "text/html": [
       "12"
      ],
      "text/latex": [
       "12"
      ],
      "text/markdown": [
       "12"
      ],
      "text/plain": [
       "[1] 12"
      ]
     },
     "metadata": {},
     "output_type": "display_data"
    }
   ],
   "source": [
    "# Number of columns\n",
    "\n",
    "ncol(plants)"
   ]
  },
  {
   "cell_type": "code",
   "execution_count": 11,
   "metadata": {},
   "outputs": [
    {
     "data": {
      "text/plain": [
       "10163704 bytes"
      ]
     },
     "metadata": {},
     "output_type": "display_data"
    }
   ],
   "source": [
    "# Memory occupied by the dataset\n",
    "object.size(plants)"
   ]
  },
  {
   "cell_type": "code",
   "execution_count": 12,
   "metadata": {},
   "outputs": [
    {
     "data": {
      "text/html": [
       "<ol class=list-inline>\n",
       "\t<li>'Accepted.Symbol'</li>\n",
       "\t<li>'Synonym.Symbol'</li>\n",
       "\t<li>'Scientific.Name'</li>\n",
       "\t<li>'Duration'</li>\n",
       "\t<li>'Active.Growth.Period'</li>\n",
       "\t<li>'Foliage.Color'</li>\n",
       "\t<li>'pH..Minimum.'</li>\n",
       "\t<li>'pH..Maximum.'</li>\n",
       "\t<li>'Precipitation..Minimum.'</li>\n",
       "\t<li>'Precipitation..Maximum.'</li>\n",
       "\t<li>'Shade.Tolerance'</li>\n",
       "\t<li>'Temperature..Minimum...F.'</li>\n",
       "</ol>\n"
      ],
      "text/latex": [
       "\\begin{enumerate*}\n",
       "\\item 'Accepted.Symbol'\n",
       "\\item 'Synonym.Symbol'\n",
       "\\item 'Scientific.Name'\n",
       "\\item 'Duration'\n",
       "\\item 'Active.Growth.Period'\n",
       "\\item 'Foliage.Color'\n",
       "\\item 'pH..Minimum.'\n",
       "\\item 'pH..Maximum.'\n",
       "\\item 'Precipitation..Minimum.'\n",
       "\\item 'Precipitation..Maximum.'\n",
       "\\item 'Shade.Tolerance'\n",
       "\\item 'Temperature..Minimum...F.'\n",
       "\\end{enumerate*}\n"
      ],
      "text/markdown": [
       "1. 'Accepted.Symbol'\n",
       "2. 'Synonym.Symbol'\n",
       "3. 'Scientific.Name'\n",
       "4. 'Duration'\n",
       "5. 'Active.Growth.Period'\n",
       "6. 'Foliage.Color'\n",
       "7. 'pH..Minimum.'\n",
       "8. 'pH..Maximum.'\n",
       "9. 'Precipitation..Minimum.'\n",
       "10. 'Precipitation..Maximum.'\n",
       "11. 'Shade.Tolerance'\n",
       "12. 'Temperature..Minimum...F.'\n",
       "\n",
       "\n"
      ],
      "text/plain": [
       " [1] \"Accepted.Symbol\"           \"Synonym.Symbol\"           \n",
       " [3] \"Scientific.Name\"           \"Duration\"                 \n",
       " [5] \"Active.Growth.Period\"      \"Foliage.Color\"            \n",
       " [7] \"pH..Minimum.\"              \"pH..Maximum.\"             \n",
       " [9] \"Precipitation..Minimum.\"   \"Precipitation..Maximum.\"  \n",
       "[11] \"Shade.Tolerance\"           \"Temperature..Minimum...F.\""
      ]
     },
     "metadata": {},
     "output_type": "display_data"
    }
   ],
   "source": [
    "# Get the column names\n",
    "\n",
    "names(plants)"
   ]
  },
  {
   "cell_type": "code",
   "execution_count": 13,
   "metadata": {},
   "outputs": [
    {
     "data": {
      "text/html": [
       "<table>\n",
       "<thead><tr><th scope=col>Accepted.Symbol</th><th scope=col>Synonym.Symbol</th><th scope=col>Scientific.Name</th><th scope=col>Duration</th><th scope=col>Active.Growth.Period</th><th scope=col>Foliage.Color</th><th scope=col>pH..Minimum.</th><th scope=col>pH..Maximum.</th><th scope=col>Precipitation..Minimum.</th><th scope=col>Precipitation..Maximum.</th><th scope=col>Shade.Tolerance</th><th scope=col>Temperature..Minimum...F.</th></tr></thead>\n",
       "<tbody>\n",
       "\t<tr><td>ABELI                 </td><td>NA                    </td><td>Abelia                </td><td>                      </td><td>                      </td><td>                      </td><td> NA                   </td><td> NA                   </td><td>NA                    </td><td>NA                    </td><td>                      </td><td>NA                    </td></tr>\n",
       "\t<tr><td>ABGR4                 </td><td>NA                    </td><td>Abelia ×grandiflora   </td><td>Perennial             </td><td>Spring, Summer, Fall  </td><td>Dark Green            </td><td>5.5                   </td><td>6.8                   </td><td>35                    </td><td>60                    </td><td>Tolerant              </td><td>-8                    </td></tr>\n",
       "\t<tr><td>ABELM                 </td><td>NA                    </td><td>Abelmoschus           </td><td>                      </td><td>                      </td><td>                      </td><td> NA                   </td><td> NA                   </td><td>NA                    </td><td>NA                    </td><td>                      </td><td>NA                    </td></tr>\n",
       "\t<tr><td>ABES                  </td><td>NA                    </td><td>Abelmoschus esculentus</td><td>Annual, Perennial     </td><td>                      </td><td>                      </td><td> NA                   </td><td> NA                   </td><td>NA                    </td><td>NA                    </td><td>                      </td><td>NA                    </td></tr>\n",
       "\t<tr><td>ABMA9                 </td><td>NA                    </td><td>Abelmoschus manihot   </td><td>                      </td><td>                      </td><td>                      </td><td> NA                   </td><td> NA                   </td><td>NA                    </td><td>NA                    </td><td>                      </td><td>NA                    </td></tr>\n",
       "\t<tr><td>ABMO                  </td><td>NA                    </td><td>Abelmoschus moschatus </td><td>Perennial             </td><td>                      </td><td>                      </td><td> NA                   </td><td> NA                   </td><td>NA                    </td><td>NA                    </td><td>                      </td><td>NA                    </td></tr>\n",
       "</tbody>\n",
       "</table>\n"
      ],
      "text/latex": [
       "\\begin{tabular}{r|llllllllllll}\n",
       " Accepted.Symbol & Synonym.Symbol & Scientific.Name & Duration & Active.Growth.Period & Foliage.Color & pH..Minimum. & pH..Maximum. & Precipitation..Minimum. & Precipitation..Maximum. & Shade.Tolerance & Temperature..Minimum...F.\\\\\n",
       "\\hline\n",
       "\t ABELI                  & NA                     & Abelia                 &                        &                        &                        &  NA                    &  NA                    & NA                     & NA                     &                        & NA                    \\\\\n",
       "\t ABGR4                  & NA                     & Abelia ×grandiflora    & Perennial              & Spring, Summer, Fall   & Dark Green             & 5.5                    & 6.8                    & 35                     & 60                     & Tolerant               & -8                    \\\\\n",
       "\t ABELM                  & NA                     & Abelmoschus            &                        &                        &                        &  NA                    &  NA                    & NA                     & NA                     &                        & NA                    \\\\\n",
       "\t ABES                   & NA                     & Abelmoschus esculentus & Annual, Perennial      &                        &                        &  NA                    &  NA                    & NA                     & NA                     &                        & NA                    \\\\\n",
       "\t ABMA9                  & NA                     & Abelmoschus manihot    &                        &                        &                        &  NA                    &  NA                    & NA                     & NA                     &                        & NA                    \\\\\n",
       "\t ABMO                   & NA                     & Abelmoschus moschatus  & Perennial              &                        &                        &  NA                    &  NA                    & NA                     & NA                     &                        & NA                    \\\\\n",
       "\\end{tabular}\n"
      ],
      "text/markdown": [
       "\n",
       "Accepted.Symbol | Synonym.Symbol | Scientific.Name | Duration | Active.Growth.Period | Foliage.Color | pH..Minimum. | pH..Maximum. | Precipitation..Minimum. | Precipitation..Maximum. | Shade.Tolerance | Temperature..Minimum...F. | \n",
       "|---|---|---|---|---|---|\n",
       "| ABELI                  | NA                     | Abelia                 |                        |                        |                        |  NA                    |  NA                    | NA                     | NA                     |                        | NA                     | \n",
       "| ABGR4                  | NA                     | Abelia ×grandiflora    | Perennial              | Spring, Summer, Fall   | Dark Green             | 5.5                    | 6.8                    | 35                     | 60                     | Tolerant               | -8                     | \n",
       "| ABELM                  | NA                     | Abelmoschus            |                        |                        |                        |  NA                    |  NA                    | NA                     | NA                     |                        | NA                     | \n",
       "| ABES                   | NA                     | Abelmoschus esculentus | Annual, Perennial      |                        |                        |  NA                    |  NA                    | NA                     | NA                     |                        | NA                     | \n",
       "| ABMA9                  | NA                     | Abelmoschus manihot    |                        |                        |                        |  NA                    |  NA                    | NA                     | NA                     |                        | NA                     | \n",
       "| ABMO                   | NA                     | Abelmoschus moschatus  | Perennial              |                        |                        |  NA                    |  NA                    | NA                     | NA                     |                        | NA                     | \n",
       "\n",
       "\n"
      ],
      "text/plain": [
       "  Accepted.Symbol Synonym.Symbol Scientific.Name        Duration         \n",
       "1 ABELI           NA             Abelia                                  \n",
       "2 ABGR4           NA             Abelia ×grandiflora    Perennial        \n",
       "3 ABELM           NA             Abelmoschus                             \n",
       "4 ABES            NA             Abelmoschus esculentus Annual, Perennial\n",
       "5 ABMA9           NA             Abelmoschus manihot                     \n",
       "6 ABMO            NA             Abelmoschus moschatus  Perennial        \n",
       "  Active.Growth.Period Foliage.Color pH..Minimum. pH..Maximum.\n",
       "1                                     NA           NA         \n",
       "2 Spring, Summer, Fall Dark Green    5.5          6.8         \n",
       "3                                     NA           NA         \n",
       "4                                     NA           NA         \n",
       "5                                     NA           NA         \n",
       "6                                     NA           NA         \n",
       "  Precipitation..Minimum. Precipitation..Maximum. Shade.Tolerance\n",
       "1 NA                      NA                                     \n",
       "2 35                      60                      Tolerant       \n",
       "3 NA                      NA                                     \n",
       "4 NA                      NA                                     \n",
       "5 NA                      NA                                     \n",
       "6 NA                      NA                                     \n",
       "  Temperature..Minimum...F.\n",
       "1 NA                       \n",
       "2 -8                       \n",
       "3 NA                       \n",
       "4 NA                       \n",
       "5 NA                       \n",
       "6 NA                       "
      ]
     },
     "metadata": {},
     "output_type": "display_data"
    }
   ],
   "source": [
    "# Preview top of the data\n",
    "\n",
    "head(plants)"
   ]
  },
  {
   "cell_type": "code",
   "execution_count": 14,
   "metadata": {},
   "outputs": [
    {
     "data": {
      "text/html": [
       "<table>\n",
       "<thead><tr><th scope=col>Accepted.Symbol</th><th scope=col>Synonym.Symbol</th><th scope=col>Scientific.Name</th><th scope=col>Duration</th><th scope=col>Active.Growth.Period</th><th scope=col>Foliage.Color</th><th scope=col>pH..Minimum.</th><th scope=col>pH..Maximum.</th><th scope=col>Precipitation..Minimum.</th><th scope=col>Precipitation..Maximum.</th><th scope=col>Shade.Tolerance</th><th scope=col>Temperature..Minimum...F.</th></tr></thead>\n",
       "<tbody>\n",
       "\t<tr><td>ABELI                 </td><td>NA                    </td><td>Abelia                </td><td>                      </td><td>                      </td><td>                      </td><td> NA                   </td><td> NA                   </td><td>NA                    </td><td> NA                   </td><td>                      </td><td> NA                   </td></tr>\n",
       "\t<tr><td>ABGR4                 </td><td>NA                    </td><td>Abelia ×grandiflora   </td><td>Perennial             </td><td>Spring, Summer, Fall  </td><td>Dark Green            </td><td>5.5                   </td><td>6.8                   </td><td>35                    </td><td> 60                   </td><td>Tolerant              </td><td> -8                   </td></tr>\n",
       "\t<tr><td>ABELM                 </td><td>NA                    </td><td>Abelmoschus           </td><td>                      </td><td>                      </td><td>                      </td><td> NA                   </td><td> NA                   </td><td>NA                    </td><td> NA                   </td><td>                      </td><td> NA                   </td></tr>\n",
       "\t<tr><td>ABES                  </td><td>NA                    </td><td>Abelmoschus esculentus</td><td>Annual, Perennial     </td><td>                      </td><td>                      </td><td> NA                   </td><td> NA                   </td><td>NA                    </td><td> NA                   </td><td>                      </td><td> NA                   </td></tr>\n",
       "\t<tr><td>ABMA9                 </td><td>NA                    </td><td>Abelmoschus manihot   </td><td>                      </td><td>                      </td><td>                      </td><td> NA                   </td><td> NA                   </td><td>NA                    </td><td> NA                   </td><td>                      </td><td> NA                   </td></tr>\n",
       "\t<tr><td>ABMO                  </td><td>NA                    </td><td>Abelmoschus moschatus </td><td>Perennial             </td><td>                      </td><td>                      </td><td> NA                   </td><td> NA                   </td><td>NA                    </td><td> NA                   </td><td>                      </td><td> NA                   </td></tr>\n",
       "\t<tr><td>ABIES                 </td><td>NA                    </td><td>Abies                 </td><td>                      </td><td>                      </td><td>                      </td><td> NA                   </td><td> NA                   </td><td>NA                    </td><td> NA                   </td><td>                      </td><td> NA                   </td></tr>\n",
       "\t<tr><td>ABAL3                 </td><td>NA                    </td><td>Abies alba            </td><td>Perennial             </td><td>                      </td><td>                      </td><td> NA                   </td><td> NA                   </td><td>NA                    </td><td> NA                   </td><td>                      </td><td> NA                   </td></tr>\n",
       "\t<tr><td>ABAM                  </td><td>NA                    </td><td>Abies amabilis        </td><td>Perennial             </td><td>Spring and Summer     </td><td>Gray-Green            </td><td>3.3                   </td><td>6.0                   </td><td>38                    </td><td>260                   </td><td>Tolerant              </td><td>-28                   </td></tr>\n",
       "\t<tr><td>ABBA                  </td><td>NA                    </td><td>Abies balsamea        </td><td>Perennial             </td><td>Spring and Summer     </td><td>Green                 </td><td>4.0                   </td><td>6.0                   </td><td>13                    </td><td> 60                   </td><td>Tolerant              </td><td>-43                   </td></tr>\n",
       "</tbody>\n",
       "</table>\n"
      ],
      "text/latex": [
       "\\begin{tabular}{r|llllllllllll}\n",
       " Accepted.Symbol & Synonym.Symbol & Scientific.Name & Duration & Active.Growth.Period & Foliage.Color & pH..Minimum. & pH..Maximum. & Precipitation..Minimum. & Precipitation..Maximum. & Shade.Tolerance & Temperature..Minimum...F.\\\\\n",
       "\\hline\n",
       "\t ABELI                  & NA                     & Abelia                 &                        &                        &                        &  NA                    &  NA                    & NA                     &  NA                    &                        &  NA                   \\\\\n",
       "\t ABGR4                  & NA                     & Abelia ×grandiflora    & Perennial              & Spring, Summer, Fall   & Dark Green             & 5.5                    & 6.8                    & 35                     &  60                    & Tolerant               &  -8                   \\\\\n",
       "\t ABELM                  & NA                     & Abelmoschus            &                        &                        &                        &  NA                    &  NA                    & NA                     &  NA                    &                        &  NA                   \\\\\n",
       "\t ABES                   & NA                     & Abelmoschus esculentus & Annual, Perennial      &                        &                        &  NA                    &  NA                    & NA                     &  NA                    &                        &  NA                   \\\\\n",
       "\t ABMA9                  & NA                     & Abelmoschus manihot    &                        &                        &                        &  NA                    &  NA                    & NA                     &  NA                    &                        &  NA                   \\\\\n",
       "\t ABMO                   & NA                     & Abelmoschus moschatus  & Perennial              &                        &                        &  NA                    &  NA                    & NA                     &  NA                    &                        &  NA                   \\\\\n",
       "\t ABIES                  & NA                     & Abies                  &                        &                        &                        &  NA                    &  NA                    & NA                     &  NA                    &                        &  NA                   \\\\\n",
       "\t ABAL3                  & NA                     & Abies alba             & Perennial              &                        &                        &  NA                    &  NA                    & NA                     &  NA                    &                        &  NA                   \\\\\n",
       "\t ABAM                   & NA                     & Abies amabilis         & Perennial              & Spring and Summer      & Gray-Green             & 3.3                    & 6.0                    & 38                     & 260                    & Tolerant               & -28                   \\\\\n",
       "\t ABBA                   & NA                     & Abies balsamea         & Perennial              & Spring and Summer      & Green                  & 4.0                    & 6.0                    & 13                     &  60                    & Tolerant               & -43                   \\\\\n",
       "\\end{tabular}\n"
      ],
      "text/markdown": [
       "\n",
       "Accepted.Symbol | Synonym.Symbol | Scientific.Name | Duration | Active.Growth.Period | Foliage.Color | pH..Minimum. | pH..Maximum. | Precipitation..Minimum. | Precipitation..Maximum. | Shade.Tolerance | Temperature..Minimum...F. | \n",
       "|---|---|---|---|---|---|---|---|---|---|\n",
       "| ABELI                  | NA                     | Abelia                 |                        |                        |                        |  NA                    |  NA                    | NA                     |  NA                    |                        |  NA                    | \n",
       "| ABGR4                  | NA                     | Abelia ×grandiflora    | Perennial              | Spring, Summer, Fall   | Dark Green             | 5.5                    | 6.8                    | 35                     |  60                    | Tolerant               |  -8                    | \n",
       "| ABELM                  | NA                     | Abelmoschus            |                        |                        |                        |  NA                    |  NA                    | NA                     |  NA                    |                        |  NA                    | \n",
       "| ABES                   | NA                     | Abelmoschus esculentus | Annual, Perennial      |                        |                        |  NA                    |  NA                    | NA                     |  NA                    |                        |  NA                    | \n",
       "| ABMA9                  | NA                     | Abelmoschus manihot    |                        |                        |                        |  NA                    |  NA                    | NA                     |  NA                    |                        |  NA                    | \n",
       "| ABMO                   | NA                     | Abelmoschus moschatus  | Perennial              |                        |                        |  NA                    |  NA                    | NA                     |  NA                    |                        |  NA                    | \n",
       "| ABIES                  | NA                     | Abies                  |                        |                        |                        |  NA                    |  NA                    | NA                     |  NA                    |                        |  NA                    | \n",
       "| ABAL3                  | NA                     | Abies alba             | Perennial              |                        |                        |  NA                    |  NA                    | NA                     |  NA                    |                        |  NA                    | \n",
       "| ABAM                   | NA                     | Abies amabilis         | Perennial              | Spring and Summer      | Gray-Green             | 3.3                    | 6.0                    | 38                     | 260                    | Tolerant               | -28                    | \n",
       "| ABBA                   | NA                     | Abies balsamea         | Perennial              | Spring and Summer      | Green                  | 4.0                    | 6.0                    | 13                     |  60                    | Tolerant               | -43                    | \n",
       "\n",
       "\n"
      ],
      "text/plain": [
       "   Accepted.Symbol Synonym.Symbol Scientific.Name        Duration         \n",
       "1  ABELI           NA             Abelia                                  \n",
       "2  ABGR4           NA             Abelia ×grandiflora    Perennial        \n",
       "3  ABELM           NA             Abelmoschus                             \n",
       "4  ABES            NA             Abelmoschus esculentus Annual, Perennial\n",
       "5  ABMA9           NA             Abelmoschus manihot                     \n",
       "6  ABMO            NA             Abelmoschus moschatus  Perennial        \n",
       "7  ABIES           NA             Abies                                   \n",
       "8  ABAL3           NA             Abies alba             Perennial        \n",
       "9  ABAM            NA             Abies amabilis         Perennial        \n",
       "10 ABBA            NA             Abies balsamea         Perennial        \n",
       "   Active.Growth.Period Foliage.Color pH..Minimum. pH..Maximum.\n",
       "1                                      NA           NA         \n",
       "2  Spring, Summer, Fall Dark Green    5.5          6.8         \n",
       "3                                      NA           NA         \n",
       "4                                      NA           NA         \n",
       "5                                      NA           NA         \n",
       "6                                      NA           NA         \n",
       "7                                      NA           NA         \n",
       "8                                      NA           NA         \n",
       "9  Spring and Summer    Gray-Green    3.3          6.0         \n",
       "10 Spring and Summer    Green         4.0          6.0         \n",
       "   Precipitation..Minimum. Precipitation..Maximum. Shade.Tolerance\n",
       "1  NA                       NA                                    \n",
       "2  35                       60                     Tolerant       \n",
       "3  NA                       NA                                    \n",
       "4  NA                       NA                                    \n",
       "5  NA                       NA                                    \n",
       "6  NA                       NA                                    \n",
       "7  NA                       NA                                    \n",
       "8  NA                       NA                                    \n",
       "9  38                      260                     Tolerant       \n",
       "10 13                       60                     Tolerant       \n",
       "   Temperature..Minimum...F.\n",
       "1   NA                      \n",
       "2   -8                      \n",
       "3   NA                      \n",
       "4   NA                      \n",
       "5   NA                      \n",
       "6   NA                      \n",
       "7   NA                      \n",
       "8   NA                      \n",
       "9  -28                      \n",
       "10 -43                      "
      ]
     },
     "metadata": {},
     "output_type": "display_data"
    }
   ],
   "source": [
    "# Preview top 10 rows\n",
    "\n",
    "head(plants, 10)"
   ]
  },
  {
   "cell_type": "code",
   "execution_count": 15,
   "metadata": {},
   "outputs": [
    {
     "data": {
      "text/html": [
       "<table>\n",
       "<thead><tr><th></th><th scope=col>Accepted.Symbol</th><th scope=col>Synonym.Symbol</th><th scope=col>Scientific.Name</th><th scope=col>Duration</th><th scope=col>Active.Growth.Period</th><th scope=col>Foliage.Color</th><th scope=col>pH..Minimum.</th><th scope=col>pH..Maximum.</th><th scope=col>Precipitation..Minimum.</th><th scope=col>Precipitation..Maximum.</th><th scope=col>Shade.Tolerance</th><th scope=col>Temperature..Minimum...F.</th></tr></thead>\n",
       "<tbody>\n",
       "\t<tr><th scope=row>49133</th><td>ZYVIR                                 </td><td>NA                                    </td><td>Zygodon viridissimus var. rupestris   </td><td>                                      </td><td>                                      </td><td>                                      </td><td>NA                                    </td><td>NA                                    </td><td>NA                                    </td><td>NA                                    </td><td>                                      </td><td>NA                                    </td></tr>\n",
       "\t<tr><th scope=row>49134</th><td>ZYVIV                                 </td><td>NA                                    </td><td>Zygodon viridissimus var. viridissimus</td><td>                                      </td><td>                                      </td><td>                                      </td><td>NA                                    </td><td>NA                                    </td><td>NA                                    </td><td>NA                                    </td><td>                                      </td><td>NA                                    </td></tr>\n",
       "\t<tr><th scope=row>49135</th><td>ZYGOP2                                </td><td>NA                                    </td><td>Zygophlebia                           </td><td>                                      </td><td>                                      </td><td>                                      </td><td>NA                                    </td><td>NA                                    </td><td>NA                                    </td><td>NA                                    </td><td>                                      </td><td>NA                                    </td></tr>\n",
       "\t<tr><th scope=row>49136</th><td>ZYSE                                  </td><td>NA                                    </td><td>Zygophlebia sectifrons                </td><td>Perennial                             </td><td>                                      </td><td>                                      </td><td>NA                                    </td><td>NA                                    </td><td>NA                                    </td><td>NA                                    </td><td>                                      </td><td>NA                                    </td></tr>\n",
       "\t<tr><th scope=row>49137</th><td>ZYGOP                                 </td><td>NA                                    </td><td>Zygophyllum                           </td><td>                                      </td><td>                                      </td><td>                                      </td><td>NA                                    </td><td>NA                                    </td><td>NA                                    </td><td>NA                                    </td><td>                                      </td><td>NA                                    </td></tr>\n",
       "\t<tr><th scope=row>49138</th><td>ZYFA                                  </td><td>NA                                    </td><td>Zygophyllum fabago                    </td><td>Perennial                             </td><td>                                      </td><td>                                      </td><td>NA                                    </td><td>NA                                    </td><td>NA                                    </td><td>NA                                    </td><td>                                      </td><td>NA                                    </td></tr>\n",
       "</tbody>\n",
       "</table>\n"
      ],
      "text/latex": [
       "\\begin{tabular}{r|llllllllllll}\n",
       "  & Accepted.Symbol & Synonym.Symbol & Scientific.Name & Duration & Active.Growth.Period & Foliage.Color & pH..Minimum. & pH..Maximum. & Precipitation..Minimum. & Precipitation..Maximum. & Shade.Tolerance & Temperature..Minimum...F.\\\\\n",
       "\\hline\n",
       "\t49133 & ZYVIR                                  & NA                                     & Zygodon viridissimus var. rupestris    &                                        &                                        &                                        & NA                                     & NA                                     & NA                                     & NA                                     &                                        & NA                                    \\\\\n",
       "\t49134 & ZYVIV                                  & NA                                     & Zygodon viridissimus var. viridissimus &                                        &                                        &                                        & NA                                     & NA                                     & NA                                     & NA                                     &                                        & NA                                    \\\\\n",
       "\t49135 & ZYGOP2                                 & NA                                     & Zygophlebia                            &                                        &                                        &                                        & NA                                     & NA                                     & NA                                     & NA                                     &                                        & NA                                    \\\\\n",
       "\t49136 & ZYSE                                   & NA                                     & Zygophlebia sectifrons                 & Perennial                              &                                        &                                        & NA                                     & NA                                     & NA                                     & NA                                     &                                        & NA                                    \\\\\n",
       "\t49137 & ZYGOP                                  & NA                                     & Zygophyllum                            &                                        &                                        &                                        & NA                                     & NA                                     & NA                                     & NA                                     &                                        & NA                                    \\\\\n",
       "\t49138 & ZYFA                                   & NA                                     & Zygophyllum fabago                     & Perennial                              &                                        &                                        & NA                                     & NA                                     & NA                                     & NA                                     &                                        & NA                                    \\\\\n",
       "\\end{tabular}\n"
      ],
      "text/markdown": [
       "\n",
       "| <!--/--> | Accepted.Symbol | Synonym.Symbol | Scientific.Name | Duration | Active.Growth.Period | Foliage.Color | pH..Minimum. | pH..Maximum. | Precipitation..Minimum. | Precipitation..Maximum. | Shade.Tolerance | Temperature..Minimum...F. | \n",
       "|---|---|---|---|---|---|\n",
       "| 49133 | ZYVIR                                  | NA                                     | Zygodon viridissimus var. rupestris    |                                        |                                        |                                        | NA                                     | NA                                     | NA                                     | NA                                     |                                        | NA                                     | \n",
       "| 49134 | ZYVIV                                  | NA                                     | Zygodon viridissimus var. viridissimus |                                        |                                        |                                        | NA                                     | NA                                     | NA                                     | NA                                     |                                        | NA                                     | \n",
       "| 49135 | ZYGOP2                                 | NA                                     | Zygophlebia                            |                                        |                                        |                                        | NA                                     | NA                                     | NA                                     | NA                                     |                                        | NA                                     | \n",
       "| 49136 | ZYSE                                   | NA                                     | Zygophlebia sectifrons                 | Perennial                              |                                        |                                        | NA                                     | NA                                     | NA                                     | NA                                     |                                        | NA                                     | \n",
       "| 49137 | ZYGOP                                  | NA                                     | Zygophyllum                            |                                        |                                        |                                        | NA                                     | NA                                     | NA                                     | NA                                     |                                        | NA                                     | \n",
       "| 49138 | ZYFA                                   | NA                                     | Zygophyllum fabago                     | Perennial                              |                                        |                                        | NA                                     | NA                                     | NA                                     | NA                                     |                                        | NA                                     | \n",
       "\n",
       "\n"
      ],
      "text/plain": [
       "      Accepted.Symbol Synonym.Symbol Scientific.Name                       \n",
       "49133 ZYVIR           NA             Zygodon viridissimus var. rupestris   \n",
       "49134 ZYVIV           NA             Zygodon viridissimus var. viridissimus\n",
       "49135 ZYGOP2          NA             Zygophlebia                           \n",
       "49136 ZYSE            NA             Zygophlebia sectifrons                \n",
       "49137 ZYGOP           NA             Zygophyllum                           \n",
       "49138 ZYFA            NA             Zygophyllum fabago                    \n",
       "      Duration  Active.Growth.Period Foliage.Color pH..Minimum. pH..Maximum.\n",
       "49133                                              NA           NA          \n",
       "49134                                              NA           NA          \n",
       "49135                                              NA           NA          \n",
       "49136 Perennial                                    NA           NA          \n",
       "49137                                              NA           NA          \n",
       "49138 Perennial                                    NA           NA          \n",
       "      Precipitation..Minimum. Precipitation..Maximum. Shade.Tolerance\n",
       "49133 NA                      NA                                     \n",
       "49134 NA                      NA                                     \n",
       "49135 NA                      NA                                     \n",
       "49136 NA                      NA                                     \n",
       "49137 NA                      NA                                     \n",
       "49138 NA                      NA                                     \n",
       "      Temperature..Minimum...F.\n",
       "49133 NA                       \n",
       "49134 NA                       \n",
       "49135 NA                       \n",
       "49136 NA                       \n",
       "49137 NA                       \n",
       "49138 NA                       "
      ]
     },
     "metadata": {},
     "output_type": "display_data"
    }
   ],
   "source": [
    "# Preview bottom 6\n",
    "\n",
    "tail(plants)"
   ]
  },
  {
   "cell_type": "code",
   "execution_count": 16,
   "metadata": {},
   "outputs": [
    {
     "data": {
      "text/plain": [
       " Accepted.Symbol Synonym.Symbol              Scientific.Name \n",
       " ABAB   :    1   Mode:logical   Canarium hirsutum    :    2  \n",
       " ABAB70 :    1   NA's:49138     Escobaria tuberculosa:    2  \n",
       " ABAL   :    1                  Hypolytrum nemorum   :    2  \n",
       " ABAL3  :    1                  Selaginella ciliaris :    2  \n",
       " ABAM   :    1                  ×Achnella            :    1  \n",
       " ABAM2  :    1                  ×Achnella caduca     :    1  \n",
       " (Other):49132                  (Other)              :49128  \n",
       "                Duration               Active.Growth.Period\n",
       " Perennial          :25819                       :47083    \n",
       "                    :16325   Spring and Summer   : 1168    \n",
       " Annual             : 4962   Spring              :  275    \n",
       " Annual, Perennial  :  709   Spring, Summer, Fall:  209    \n",
       " Biennial, Perennial:  338   Summer              :  190    \n",
       " Annual, Biennial   :  280   Year Round          :   75    \n",
       " (Other)            :  705   (Other)             :  138    \n",
       "      Foliage.Color    pH..Minimum.    pH..Maximum.   Precipitation..Minimum.\n",
       "             :47042   Min.   :2.10    Min.   : 5.10   Min.   :  2.00         \n",
       " Dark Green  :  199   1st Qu.:4.80    1st Qu.: 7.00   1st Qu.: 12.00         \n",
       " Gray-Green  :  106   Median :5.50    Median : 7.50   Median : 20.00         \n",
       " Green       : 1685   Mean   :5.39    Mean   : 7.53   Mean   : 22.19         \n",
       " Red         :   11   3rd Qu.:6.00    3rd Qu.: 8.00   3rd Qu.: 32.00         \n",
       " White-Gray  :   33   Max.   :7.50    Max.   :10.00   Max.   :100.00         \n",
       " Yellow-Green:   62   NA's   :47058   NA's   :47058   NA's   :47070          \n",
       " Precipitation..Maximum.     Shade.Tolerance  Temperature..Minimum...F.\n",
       " Min.   : 10.00                      :47072   Min.   :-79.00           \n",
       " 1st Qu.: 36.00          Intermediate:  590   1st Qu.:-34.00           \n",
       " Median : 55.00          Intolerant  : 1005   Median :-23.00           \n",
       " Mean   : 56.34          Tolerant    :  471   Mean   :-15.89           \n",
       " 3rd Qu.: 60.00                               3rd Qu.: -3.00           \n",
       " Max.   :450.00                               Max.   : 57.00           \n",
       " NA's   :47070                                NA's   :47032            "
      ]
     },
     "metadata": {},
     "output_type": "display_data"
    }
   ],
   "source": [
    "# Summary to get how each variable is distributed\n",
    "\n",
    "summary(plants)"
   ]
  },
  {
   "cell_type": "markdown",
   "metadata": {},
   "source": [
    "Summary provides different data for different data types\n",
    "\n",
    "1. Numeric data - Minimim, 1st quartile, median, mean, 3rd quartile, maximum.\n",
    "2. Categorical data - number of times each variable occurs.also called factor\n"
   ]
  },
  {
   "cell_type": "code",
   "execution_count": 17,
   "metadata": {},
   "outputs": [
    {
     "data": {
      "text/plain": [
       "\n",
       "                                           Fall Fall, Winter and Spring \n",
       "                  47083                      10                      47 \n",
       "                 Spring         Spring and Fall       Spring and Summer \n",
       "                    275                      22                    1168 \n",
       "   Spring, Summer, Fall                  Summer         Summer and Fall \n",
       "                    209                     190                      59 \n",
       "             Year Round \n",
       "                     75 "
      ]
     },
     "metadata": {},
     "output_type": "display_data"
    }
   ],
   "source": [
    "table(plants$Active.Growth.Period)"
   ]
  },
  {
   "cell_type": "code",
   "execution_count": 18,
   "metadata": {},
   "outputs": [
    {
     "name": "stdout",
     "output_type": "stream",
     "text": [
      "'data.frame':\t49138 obs. of  12 variables:\n",
      " $ Accepted.Symbol          : Factor w/ 49138 levels \"ABAB\",\"ABAB70\",..: 26 38 27 29 61 68 44 4 5 12 ...\n",
      " $ Synonym.Symbol           : logi  NA NA NA NA NA NA ...\n",
      " $ Scientific.Name          : Factor w/ 49134 levels \"×Achnella\",\"×Achnella caduca\",..: 73 74 75 76 77 78 79 80 81 82 ...\n",
      " $ Duration                 : Factor w/ 14 levels \"\",\"Annual\",\"Annual, Biennial\",..: 1 11 1 5 1 11 1 11 11 11 ...\n",
      " $ Active.Growth.Period     : Factor w/ 10 levels \"\",\"Fall\",\"Fall, Winter and Spring\",..: 1 7 1 1 1 1 1 1 6 6 ...\n",
      " $ Foliage.Color            : Factor w/ 7 levels \"\",\"Dark Green\",..: 1 2 1 1 1 1 1 1 3 4 ...\n",
      " $ pH..Minimum.             : num  NA 5.5 NA NA NA NA NA NA 3.3 4 ...\n",
      " $ pH..Maximum.             : num  NA 6.8 NA NA NA NA NA NA 6 6 ...\n",
      " $ Precipitation..Minimum.  : int  NA 35 NA NA NA NA NA NA 38 13 ...\n",
      " $ Precipitation..Maximum.  : int  NA 60 NA NA NA NA NA NA 260 60 ...\n",
      " $ Shade.Tolerance          : Factor w/ 4 levels \"\",\"Intermediate\",..: 1 4 1 1 1 1 1 1 4 4 ...\n",
      " $ Temperature..Minimum...F.: int  NA -8 NA NA NA NA NA NA -28 -43 ...\n"
     ]
    }
   ],
   "source": [
    "# To understand the structure\n",
    "\n",
    "str(plants)"
   ]
  },
  {
   "cell_type": "markdown",
   "metadata": {},
   "source": [
    "# SIMULATION"
   ]
  },
  {
   "cell_type": "markdown",
   "metadata": {},
   "source": [
    "R has vast number of tools for simulating random mumbers"
   ]
  },
  {
   "cell_type": "code",
   "execution_count": 32,
   "metadata": {},
   "outputs": [],
   "source": [
    "?sample"
   ]
  },
  {
   "cell_type": "code",
   "execution_count": 25,
   "metadata": {},
   "outputs": [
    {
     "data": {
      "text/html": [
       "<ol class=list-inline>\n",
       "\t<li>1</li>\n",
       "\t<li>6</li>\n",
       "\t<li>4</li>\n",
       "\t<li>5</li>\n",
       "</ol>\n"
      ],
      "text/latex": [
       "\\begin{enumerate*}\n",
       "\\item 1\n",
       "\\item 6\n",
       "\\item 4\n",
       "\\item 5\n",
       "\\end{enumerate*}\n"
      ],
      "text/markdown": [
       "1. 1\n",
       "2. 6\n",
       "3. 4\n",
       "4. 5\n",
       "\n",
       "\n"
      ],
      "text/plain": [
       "[1] 1 6 4 5"
      ]
     },
     "metadata": {},
     "output_type": "display_data"
    }
   ],
   "source": [
    "#Sample allows to randomly select 4 numbers in the range 1-6 and replace=TRUE allows a same number to appear more than once\n",
    "sample(1:6, 4, replace = TRUE)"
   ]
  },
  {
   "cell_type": "code",
   "execution_count": 22,
   "metadata": {},
   "outputs": [
    {
     "data": {
      "text/html": [
       "<ol class=list-inline>\n",
       "\t<li>4</li>\n",
       "\t<li>3</li>\n",
       "\t<li>2</li>\n",
       "\t<li>1</li>\n",
       "</ol>\n"
      ],
      "text/latex": [
       "\\begin{enumerate*}\n",
       "\\item 4\n",
       "\\item 3\n",
       "\\item 2\n",
       "\\item 1\n",
       "\\end{enumerate*}\n"
      ],
      "text/markdown": [
       "1. 4\n",
       "2. 3\n",
       "3. 2\n",
       "4. 1\n",
       "\n",
       "\n"
      ],
      "text/plain": [
       "[1] 4 3 2 1"
      ]
     },
     "metadata": {},
     "output_type": "display_data"
    }
   ],
   "source": [
    "sample(1:6, 4, replace = TRUE)"
   ]
  },
  {
   "cell_type": "code",
   "execution_count": 23,
   "metadata": {},
   "outputs": [
    {
     "data": {
      "text/html": [
       "<ol class=list-inline>\n",
       "\t<li>3</li>\n",
       "\t<li>6</li>\n",
       "\t<li>4</li>\n",
       "\t<li>2</li>\n",
       "</ol>\n"
      ],
      "text/latex": [
       "\\begin{enumerate*}\n",
       "\\item 3\n",
       "\\item 6\n",
       "\\item 4\n",
       "\\item 2\n",
       "\\end{enumerate*}\n"
      ],
      "text/markdown": [
       "1. 3\n",
       "2. 6\n",
       "3. 4\n",
       "4. 2\n",
       "\n",
       "\n"
      ],
      "text/plain": [
       "[1] 3 6 4 2"
      ]
     },
     "metadata": {},
     "output_type": "display_data"
    }
   ],
   "source": [
    "sample(1:6, 4, replace = TRUE)"
   ]
  },
  {
   "cell_type": "code",
   "execution_count": 24,
   "metadata": {},
   "outputs": [
    {
     "data": {
      "text/html": [
       "<ol class=list-inline>\n",
       "\t<li>6</li>\n",
       "\t<li>6</li>\n",
       "\t<li>1</li>\n",
       "\t<li>2</li>\n",
       "</ol>\n"
      ],
      "text/latex": [
       "\\begin{enumerate*}\n",
       "\\item 6\n",
       "\\item 6\n",
       "\\item 1\n",
       "\\item 2\n",
       "\\end{enumerate*}\n"
      ],
      "text/markdown": [
       "1. 6\n",
       "2. 6\n",
       "3. 1\n",
       "4. 2\n",
       "\n",
       "\n"
      ],
      "text/plain": [
       "[1] 6 6 1 2"
      ]
     },
     "metadata": {},
     "output_type": "display_data"
    }
   ],
   "source": [
    "sample(1:6, 4, replace = TRUE)"
   ]
  },
  {
   "cell_type": "code",
   "execution_count": 27,
   "metadata": {},
   "outputs": [
    {
     "data": {
      "text/html": [
       "<ol class=list-inline>\n",
       "\t<li>9</li>\n",
       "\t<li>1</li>\n",
       "\t<li>5</li>\n",
       "\t<li>10</li>\n",
       "</ol>\n"
      ],
      "text/latex": [
       "\\begin{enumerate*}\n",
       "\\item 9\n",
       "\\item 1\n",
       "\\item 5\n",
       "\\item 10\n",
       "\\end{enumerate*}\n"
      ],
      "text/markdown": [
       "1. 9\n",
       "2. 1\n",
       "3. 5\n",
       "4. 10\n",
       "\n",
       "\n"
      ],
      "text/plain": [
       "[1]  9  1  5 10"
      ]
     },
     "metadata": {},
     "output_type": "display_data"
    }
   ],
   "source": [
    "#Without re-placement\n",
    "\n",
    "sample(1:10, 4, replace = FALSE)"
   ]
  },
  {
   "cell_type": "code",
   "execution_count": 28,
   "metadata": {},
   "outputs": [
    {
     "data": {
      "text/html": [
       "<ol class=list-inline>\n",
       "\t<li>1</li>\n",
       "\t<li>3</li>\n",
       "\t<li>8</li>\n",
       "\t<li>4</li>\n",
       "</ol>\n"
      ],
      "text/latex": [
       "\\begin{enumerate*}\n",
       "\\item 1\n",
       "\\item 3\n",
       "\\item 8\n",
       "\\item 4\n",
       "\\end{enumerate*}\n"
      ],
      "text/markdown": [
       "1. 1\n",
       "2. 3\n",
       "3. 8\n",
       "4. 4\n",
       "\n",
       "\n"
      ],
      "text/plain": [
       "[1] 1 3 8 4"
      ]
     },
     "metadata": {},
     "output_type": "display_data"
    }
   ],
   "source": [
    "sample(1:10, 4, replace = FALSE)"
   ]
  },
  {
   "cell_type": "code",
   "execution_count": 29,
   "metadata": {},
   "outputs": [
    {
     "data": {
      "text/html": [
       "<ol class=list-inline>\n",
       "\t<li>7</li>\n",
       "\t<li>9</li>\n",
       "\t<li>6</li>\n",
       "\t<li>3</li>\n",
       "</ol>\n"
      ],
      "text/latex": [
       "\\begin{enumerate*}\n",
       "\\item 7\n",
       "\\item 9\n",
       "\\item 6\n",
       "\\item 3\n",
       "\\end{enumerate*}\n"
      ],
      "text/markdown": [
       "1. 7\n",
       "2. 9\n",
       "3. 6\n",
       "4. 3\n",
       "\n",
       "\n"
      ],
      "text/plain": [
       "[1] 7 9 6 3"
      ]
     },
     "metadata": {},
     "output_type": "display_data"
    }
   ],
   "source": [
    "sample(1:10, 4, replace = FALSE)"
   ]
  },
  {
   "cell_type": "code",
   "execution_count": 30,
   "metadata": {},
   "outputs": [
    {
     "data": {
      "text/html": [
       "<ol class=list-inline>\n",
       "\t<li>5</li>\n",
       "\t<li>6</li>\n",
       "\t<li>8</li>\n",
       "\t<li>7</li>\n",
       "</ol>\n"
      ],
      "text/latex": [
       "\\begin{enumerate*}\n",
       "\\item 5\n",
       "\\item 6\n",
       "\\item 8\n",
       "\\item 7\n",
       "\\end{enumerate*}\n"
      ],
      "text/markdown": [
       "1. 5\n",
       "2. 6\n",
       "3. 8\n",
       "4. 7\n",
       "\n",
       "\n"
      ],
      "text/plain": [
       "[1] 5 6 8 7"
      ]
     },
     "metadata": {},
     "output_type": "display_data"
    }
   ],
   "source": [
    "sample(1:10, 4, replace = FALSE)"
   ]
  },
  {
   "cell_type": "code",
   "execution_count": 31,
   "metadata": {},
   "outputs": [
    {
     "data": {
      "text/html": [
       "<ol class=list-inline>\n",
       "\t<li>5</li>\n",
       "\t<li>10</li>\n",
       "\t<li>6</li>\n",
       "\t<li>4</li>\n",
       "</ol>\n"
      ],
      "text/latex": [
       "\\begin{enumerate*}\n",
       "\\item 5\n",
       "\\item 10\n",
       "\\item 6\n",
       "\\item 4\n",
       "\\end{enumerate*}\n"
      ],
      "text/markdown": [
       "1. 5\n",
       "2. 10\n",
       "3. 6\n",
       "4. 4\n",
       "\n",
       "\n"
      ],
      "text/plain": [
       "[1]  5 10  6  4"
      ]
     },
     "metadata": {},
     "output_type": "display_data"
    }
   ],
   "source": [
    "sample(1:10, 4, replace = FALSE)"
   ]
  },
  {
   "cell_type": "code",
   "execution_count": 33,
   "metadata": {},
   "outputs": [
    {
     "data": {
      "text/html": [
       "<ol class=list-inline>\n",
       "\t<li>6</li>\n",
       "\t<li>5</li>\n",
       "\t<li>3</li>\n",
       "\t<li>7</li>\n",
       "</ol>\n"
      ],
      "text/latex": [
       "\\begin{enumerate*}\n",
       "\\item 6\n",
       "\\item 5\n",
       "\\item 3\n",
       "\\item 7\n",
       "\\end{enumerate*}\n"
      ],
      "text/markdown": [
       "1. 6\n",
       "2. 5\n",
       "3. 3\n",
       "4. 7\n",
       "\n",
       "\n"
      ],
      "text/plain": [
       "[1] 6 5 3 7"
      ]
     },
     "metadata": {},
     "output_type": "display_data"
    }
   ],
   "source": [
    "sample(1:10, 4)"
   ]
  },
  {
   "cell_type": "code",
   "execution_count": 34,
   "metadata": {},
   "outputs": [],
   "source": [
    "# LETTERS is apredefined variable which is a vector containing all the alphabets"
   ]
  },
  {
   "cell_type": "code",
   "execution_count": 35,
   "metadata": {},
   "outputs": [
    {
     "data": {
      "text/html": [
       "<ol class=list-inline>\n",
       "\t<li>'A'</li>\n",
       "\t<li>'B'</li>\n",
       "\t<li>'C'</li>\n",
       "\t<li>'D'</li>\n",
       "\t<li>'E'</li>\n",
       "\t<li>'F'</li>\n",
       "\t<li>'G'</li>\n",
       "\t<li>'H'</li>\n",
       "\t<li>'I'</li>\n",
       "\t<li>'J'</li>\n",
       "\t<li>'K'</li>\n",
       "\t<li>'L'</li>\n",
       "\t<li>'M'</li>\n",
       "\t<li>'N'</li>\n",
       "\t<li>'O'</li>\n",
       "\t<li>'P'</li>\n",
       "\t<li>'Q'</li>\n",
       "\t<li>'R'</li>\n",
       "\t<li>'S'</li>\n",
       "\t<li>'T'</li>\n",
       "\t<li>'U'</li>\n",
       "\t<li>'V'</li>\n",
       "\t<li>'W'</li>\n",
       "\t<li>'X'</li>\n",
       "\t<li>'Y'</li>\n",
       "\t<li>'Z'</li>\n",
       "</ol>\n"
      ],
      "text/latex": [
       "\\begin{enumerate*}\n",
       "\\item 'A'\n",
       "\\item 'B'\n",
       "\\item 'C'\n",
       "\\item 'D'\n",
       "\\item 'E'\n",
       "\\item 'F'\n",
       "\\item 'G'\n",
       "\\item 'H'\n",
       "\\item 'I'\n",
       "\\item 'J'\n",
       "\\item 'K'\n",
       "\\item 'L'\n",
       "\\item 'M'\n",
       "\\item 'N'\n",
       "\\item 'O'\n",
       "\\item 'P'\n",
       "\\item 'Q'\n",
       "\\item 'R'\n",
       "\\item 'S'\n",
       "\\item 'T'\n",
       "\\item 'U'\n",
       "\\item 'V'\n",
       "\\item 'W'\n",
       "\\item 'X'\n",
       "\\item 'Y'\n",
       "\\item 'Z'\n",
       "\\end{enumerate*}\n"
      ],
      "text/markdown": [
       "1. 'A'\n",
       "2. 'B'\n",
       "3. 'C'\n",
       "4. 'D'\n",
       "5. 'E'\n",
       "6. 'F'\n",
       "7. 'G'\n",
       "8. 'H'\n",
       "9. 'I'\n",
       "10. 'J'\n",
       "11. 'K'\n",
       "12. 'L'\n",
       "13. 'M'\n",
       "14. 'N'\n",
       "15. 'O'\n",
       "16. 'P'\n",
       "17. 'Q'\n",
       "18. 'R'\n",
       "19. 'S'\n",
       "20. 'T'\n",
       "21. 'U'\n",
       "22. 'V'\n",
       "23. 'W'\n",
       "24. 'X'\n",
       "25. 'Y'\n",
       "26. 'Z'\n",
       "\n",
       "\n"
      ],
      "text/plain": [
       " [1] \"A\" \"B\" \"C\" \"D\" \"E\" \"F\" \"G\" \"H\" \"I\" \"J\" \"K\" \"L\" \"M\" \"N\" \"O\" \"P\" \"Q\" \"R\" \"S\"\n",
       "[20] \"T\" \"U\" \"V\" \"W\" \"X\" \"Y\" \"Z\""
      ]
     },
     "metadata": {},
     "output_type": "display_data"
    }
   ],
   "source": [
    "LETTERS"
   ]
  },
  {
   "cell_type": "code",
   "execution_count": 36,
   "metadata": {},
   "outputs": [
    {
     "data": {
      "text/html": [
       "<ol class=list-inline>\n",
       "\t<li>'E'</li>\n",
       "\t<li>'B'</li>\n",
       "\t<li>'T'</li>\n",
       "\t<li>'L'</li>\n",
       "\t<li>'V'</li>\n",
       "\t<li>'D'</li>\n",
       "\t<li>'K'</li>\n",
       "\t<li>'A'</li>\n",
       "\t<li>'R'</li>\n",
       "\t<li>'C'</li>\n",
       "\t<li>'O'</li>\n",
       "\t<li>'S'</li>\n",
       "\t<li>'H'</li>\n",
       "\t<li>'Y'</li>\n",
       "\t<li>'N'</li>\n",
       "\t<li>'F'</li>\n",
       "\t<li>'J'</li>\n",
       "\t<li>'Z'</li>\n",
       "\t<li>'X'</li>\n",
       "\t<li>'G'</li>\n",
       "\t<li>'Q'</li>\n",
       "\t<li>'U'</li>\n",
       "\t<li>'P'</li>\n",
       "\t<li>'I'</li>\n",
       "\t<li>'M'</li>\n",
       "\t<li>'W'</li>\n",
       "</ol>\n"
      ],
      "text/latex": [
       "\\begin{enumerate*}\n",
       "\\item 'E'\n",
       "\\item 'B'\n",
       "\\item 'T'\n",
       "\\item 'L'\n",
       "\\item 'V'\n",
       "\\item 'D'\n",
       "\\item 'K'\n",
       "\\item 'A'\n",
       "\\item 'R'\n",
       "\\item 'C'\n",
       "\\item 'O'\n",
       "\\item 'S'\n",
       "\\item 'H'\n",
       "\\item 'Y'\n",
       "\\item 'N'\n",
       "\\item 'F'\n",
       "\\item 'J'\n",
       "\\item 'Z'\n",
       "\\item 'X'\n",
       "\\item 'G'\n",
       "\\item 'Q'\n",
       "\\item 'U'\n",
       "\\item 'P'\n",
       "\\item 'I'\n",
       "\\item 'M'\n",
       "\\item 'W'\n",
       "\\end{enumerate*}\n"
      ],
      "text/markdown": [
       "1. 'E'\n",
       "2. 'B'\n",
       "3. 'T'\n",
       "4. 'L'\n",
       "5. 'V'\n",
       "6. 'D'\n",
       "7. 'K'\n",
       "8. 'A'\n",
       "9. 'R'\n",
       "10. 'C'\n",
       "11. 'O'\n",
       "12. 'S'\n",
       "13. 'H'\n",
       "14. 'Y'\n",
       "15. 'N'\n",
       "16. 'F'\n",
       "17. 'J'\n",
       "18. 'Z'\n",
       "19. 'X'\n",
       "20. 'G'\n",
       "21. 'Q'\n",
       "22. 'U'\n",
       "23. 'P'\n",
       "24. 'I'\n",
       "25. 'M'\n",
       "26. 'W'\n",
       "\n",
       "\n"
      ],
      "text/plain": [
       " [1] \"E\" \"B\" \"T\" \"L\" \"V\" \"D\" \"K\" \"A\" \"R\" \"C\" \"O\" \"S\" \"H\" \"Y\" \"N\" \"F\" \"J\" \"Z\" \"X\"\n",
       "[20] \"G\" \"Q\" \"U\" \"P\" \"I\" \"M\" \"W\""
      ]
     },
     "metadata": {},
     "output_type": "display_data"
    }
   ],
   "source": [
    "sample(LETTERS)"
   ]
  },
  {
   "cell_type": "code",
   "execution_count": 37,
   "metadata": {},
   "outputs": [],
   "source": [
    "# When size isnot specified, sample will take the size equal to the length of the vector"
   ]
  },
  {
   "cell_type": "code",
   "execution_count": 38,
   "metadata": {},
   "outputs": [],
   "source": [
    "# Now, suppose we want to simulate 100 flips of an unfair two-sided coin. This particular coin has a 0.3 probability of landing ‘tails’ and a 0.7 probability of landing ‘heads’."
   ]
  },
  {
   "cell_type": "code",
   "execution_count": 39,
   "metadata": {},
   "outputs": [],
   "source": [
    "flips <- sample(c(0,1), 100, replace = TRUE, prob = c(0.3, 0.7))"
   ]
  },
  {
   "cell_type": "code",
   "execution_count": 40,
   "metadata": {},
   "outputs": [
    {
     "data": {
      "text/html": [
       "<ol class=list-inline>\n",
       "\t<li>1</li>\n",
       "\t<li>1</li>\n",
       "\t<li>1</li>\n",
       "\t<li>1</li>\n",
       "\t<li>0</li>\n",
       "\t<li>1</li>\n",
       "\t<li>0</li>\n",
       "\t<li>1</li>\n",
       "\t<li>1</li>\n",
       "\t<li>0</li>\n",
       "\t<li>1</li>\n",
       "\t<li>0</li>\n",
       "\t<li>0</li>\n",
       "\t<li>1</li>\n",
       "\t<li>1</li>\n",
       "\t<li>1</li>\n",
       "\t<li>0</li>\n",
       "\t<li>0</li>\n",
       "\t<li>1</li>\n",
       "\t<li>0</li>\n",
       "\t<li>0</li>\n",
       "\t<li>1</li>\n",
       "\t<li>0</li>\n",
       "\t<li>1</li>\n",
       "\t<li>1</li>\n",
       "\t<li>1</li>\n",
       "\t<li>0</li>\n",
       "\t<li>0</li>\n",
       "\t<li>1</li>\n",
       "\t<li>1</li>\n",
       "\t<li>1</li>\n",
       "\t<li>1</li>\n",
       "\t<li>1</li>\n",
       "\t<li>0</li>\n",
       "\t<li>1</li>\n",
       "\t<li>1</li>\n",
       "\t<li>0</li>\n",
       "\t<li>1</li>\n",
       "\t<li>1</li>\n",
       "\t<li>1</li>\n",
       "\t<li>0</li>\n",
       "\t<li>0</li>\n",
       "\t<li>1</li>\n",
       "\t<li>1</li>\n",
       "\t<li>1</li>\n",
       "\t<li>1</li>\n",
       "\t<li>0</li>\n",
       "\t<li>0</li>\n",
       "\t<li>1</li>\n",
       "\t<li>1</li>\n",
       "\t<li>1</li>\n",
       "\t<li>0</li>\n",
       "\t<li>0</li>\n",
       "\t<li>1</li>\n",
       "\t<li>0</li>\n",
       "\t<li>0</li>\n",
       "\t<li>0</li>\n",
       "\t<li>1</li>\n",
       "\t<li>1</li>\n",
       "\t<li>1</li>\n",
       "\t<li>1</li>\n",
       "\t<li>0</li>\n",
       "\t<li>0</li>\n",
       "\t<li>1</li>\n",
       "\t<li>1</li>\n",
       "\t<li>0</li>\n",
       "\t<li>1</li>\n",
       "\t<li>1</li>\n",
       "\t<li>1</li>\n",
       "\t<li>0</li>\n",
       "\t<li>1</li>\n",
       "\t<li>1</li>\n",
       "\t<li>1</li>\n",
       "\t<li>1</li>\n",
       "\t<li>0</li>\n",
       "\t<li>1</li>\n",
       "\t<li>1</li>\n",
       "\t<li>1</li>\n",
       "\t<li>1</li>\n",
       "\t<li>1</li>\n",
       "\t<li>1</li>\n",
       "\t<li>1</li>\n",
       "\t<li>1</li>\n",
       "\t<li>1</li>\n",
       "\t<li>1</li>\n",
       "\t<li>1</li>\n",
       "\t<li>1</li>\n",
       "\t<li>1</li>\n",
       "\t<li>1</li>\n",
       "\t<li>1</li>\n",
       "\t<li>1</li>\n",
       "\t<li>1</li>\n",
       "\t<li>1</li>\n",
       "\t<li>1</li>\n",
       "\t<li>1</li>\n",
       "\t<li>0</li>\n",
       "\t<li>1</li>\n",
       "\t<li>0</li>\n",
       "\t<li>1</li>\n",
       "\t<li>0</li>\n",
       "</ol>\n"
      ],
      "text/latex": [
       "\\begin{enumerate*}\n",
       "\\item 1\n",
       "\\item 1\n",
       "\\item 1\n",
       "\\item 1\n",
       "\\item 0\n",
       "\\item 1\n",
       "\\item 0\n",
       "\\item 1\n",
       "\\item 1\n",
       "\\item 0\n",
       "\\item 1\n",
       "\\item 0\n",
       "\\item 0\n",
       "\\item 1\n",
       "\\item 1\n",
       "\\item 1\n",
       "\\item 0\n",
       "\\item 0\n",
       "\\item 1\n",
       "\\item 0\n",
       "\\item 0\n",
       "\\item 1\n",
       "\\item 0\n",
       "\\item 1\n",
       "\\item 1\n",
       "\\item 1\n",
       "\\item 0\n",
       "\\item 0\n",
       "\\item 1\n",
       "\\item 1\n",
       "\\item 1\n",
       "\\item 1\n",
       "\\item 1\n",
       "\\item 0\n",
       "\\item 1\n",
       "\\item 1\n",
       "\\item 0\n",
       "\\item 1\n",
       "\\item 1\n",
       "\\item 1\n",
       "\\item 0\n",
       "\\item 0\n",
       "\\item 1\n",
       "\\item 1\n",
       "\\item 1\n",
       "\\item 1\n",
       "\\item 0\n",
       "\\item 0\n",
       "\\item 1\n",
       "\\item 1\n",
       "\\item 1\n",
       "\\item 0\n",
       "\\item 0\n",
       "\\item 1\n",
       "\\item 0\n",
       "\\item 0\n",
       "\\item 0\n",
       "\\item 1\n",
       "\\item 1\n",
       "\\item 1\n",
       "\\item 1\n",
       "\\item 0\n",
       "\\item 0\n",
       "\\item 1\n",
       "\\item 1\n",
       "\\item 0\n",
       "\\item 1\n",
       "\\item 1\n",
       "\\item 1\n",
       "\\item 0\n",
       "\\item 1\n",
       "\\item 1\n",
       "\\item 1\n",
       "\\item 1\n",
       "\\item 0\n",
       "\\item 1\n",
       "\\item 1\n",
       "\\item 1\n",
       "\\item 1\n",
       "\\item 1\n",
       "\\item 1\n",
       "\\item 1\n",
       "\\item 1\n",
       "\\item 1\n",
       "\\item 1\n",
       "\\item 1\n",
       "\\item 1\n",
       "\\item 1\n",
       "\\item 1\n",
       "\\item 1\n",
       "\\item 1\n",
       "\\item 1\n",
       "\\item 1\n",
       "\\item 1\n",
       "\\item 1\n",
       "\\item 0\n",
       "\\item 1\n",
       "\\item 0\n",
       "\\item 1\n",
       "\\item 0\n",
       "\\end{enumerate*}\n"
      ],
      "text/markdown": [
       "1. 1\n",
       "2. 1\n",
       "3. 1\n",
       "4. 1\n",
       "5. 0\n",
       "6. 1\n",
       "7. 0\n",
       "8. 1\n",
       "9. 1\n",
       "10. 0\n",
       "11. 1\n",
       "12. 0\n",
       "13. 0\n",
       "14. 1\n",
       "15. 1\n",
       "16. 1\n",
       "17. 0\n",
       "18. 0\n",
       "19. 1\n",
       "20. 0\n",
       "21. 0\n",
       "22. 1\n",
       "23. 0\n",
       "24. 1\n",
       "25. 1\n",
       "26. 1\n",
       "27. 0\n",
       "28. 0\n",
       "29. 1\n",
       "30. 1\n",
       "31. 1\n",
       "32. 1\n",
       "33. 1\n",
       "34. 0\n",
       "35. 1\n",
       "36. 1\n",
       "37. 0\n",
       "38. 1\n",
       "39. 1\n",
       "40. 1\n",
       "41. 0\n",
       "42. 0\n",
       "43. 1\n",
       "44. 1\n",
       "45. 1\n",
       "46. 1\n",
       "47. 0\n",
       "48. 0\n",
       "49. 1\n",
       "50. 1\n",
       "51. 1\n",
       "52. 0\n",
       "53. 0\n",
       "54. 1\n",
       "55. 0\n",
       "56. 0\n",
       "57. 0\n",
       "58. 1\n",
       "59. 1\n",
       "60. 1\n",
       "61. 1\n",
       "62. 0\n",
       "63. 0\n",
       "64. 1\n",
       "65. 1\n",
       "66. 0\n",
       "67. 1\n",
       "68. 1\n",
       "69. 1\n",
       "70. 0\n",
       "71. 1\n",
       "72. 1\n",
       "73. 1\n",
       "74. 1\n",
       "75. 0\n",
       "76. 1\n",
       "77. 1\n",
       "78. 1\n",
       "79. 1\n",
       "80. 1\n",
       "81. 1\n",
       "82. 1\n",
       "83. 1\n",
       "84. 1\n",
       "85. 1\n",
       "86. 1\n",
       "87. 1\n",
       "88. 1\n",
       "89. 1\n",
       "90. 1\n",
       "91. 1\n",
       "92. 1\n",
       "93. 1\n",
       "94. 1\n",
       "95. 1\n",
       "96. 0\n",
       "97. 1\n",
       "98. 0\n",
       "99. 1\n",
       "100. 0\n",
       "\n",
       "\n"
      ],
      "text/plain": [
       "  [1] 1 1 1 1 0 1 0 1 1 0 1 0 0 1 1 1 0 0 1 0 0 1 0 1 1 1 0 0 1 1 1 1 1 0 1 1 0\n",
       " [38] 1 1 1 0 0 1 1 1 1 0 0 1 1 1 0 0 1 0 0 0 1 1 1 1 0 0 1 1 0 1 1 1 0 1 1 1 1\n",
       " [75] 0 1 1 1 1 1 1 1 1 1 1 1 1 1 1 1 1 1 1 1 1 0 1 0 1 0"
      ]
     },
     "metadata": {},
     "output_type": "display_data"
    }
   ],
   "source": [
    "flips"
   ]
  },
  {
   "cell_type": "code",
   "execution_count": 41,
   "metadata": {},
   "outputs": [
    {
     "data": {
      "text/html": [
       "69"
      ],
      "text/latex": [
       "69"
      ],
      "text/markdown": [
       "69"
      ],
      "text/plain": [
       "[1] 69"
      ]
     },
     "metadata": {},
     "output_type": "display_data"
    }
   ],
   "source": [
    "sum(flips)"
   ]
  },
  {
   "cell_type": "code",
   "execution_count": 42,
   "metadata": {},
   "outputs": [],
   "source": [
    "#A coin flip is a binary outcome (0 or 1) and we are performing 100 independent trials (coin flips), so we can use rbinom() to simulate a binomial random variable. Pull up the documentation for rbinom() using ?rbinom."
   ]
  },
  {
   "cell_type": "code",
   "execution_count": 43,
   "metadata": {},
   "outputs": [],
   "source": [
    "?rbinom"
   ]
  },
  {
   "cell_type": "code",
   "execution_count": 44,
   "metadata": {},
   "outputs": [
    {
     "data": {
      "text/html": [
       "67"
      ],
      "text/latex": [
       "67"
      ],
      "text/markdown": [
       "67"
      ],
      "text/plain": [
       "[1] 67"
      ]
     },
     "metadata": {},
     "output_type": "display_data"
    }
   ],
   "source": [
    "rbinom(1, size = 100, prob = 0.7)"
   ]
  },
  {
   "cell_type": "code",
   "execution_count": 47,
   "metadata": {},
   "outputs": [],
   "source": [
    "# if we want to see all of the 0s and 1s, we can request 100 observations, each of size 1, with success probability of 0.7. Give it a try, assigning the result to a new variable called flips2\n",
    "\n",
    "flips2 = rbinom(100, size = 1, prob = 0.7)"
   ]
  },
  {
   "cell_type": "code",
   "execution_count": 48,
   "metadata": {},
   "outputs": [
    {
     "data": {
      "text/html": [
       "<ol class=list-inline>\n",
       "\t<li>0</li>\n",
       "\t<li>1</li>\n",
       "\t<li>1</li>\n",
       "\t<li>0</li>\n",
       "\t<li>1</li>\n",
       "\t<li>0</li>\n",
       "\t<li>1</li>\n",
       "\t<li>0</li>\n",
       "\t<li>1</li>\n",
       "\t<li>0</li>\n",
       "\t<li>1</li>\n",
       "\t<li>0</li>\n",
       "\t<li>1</li>\n",
       "\t<li>1</li>\n",
       "\t<li>1</li>\n",
       "\t<li>1</li>\n",
       "\t<li>1</li>\n",
       "\t<li>0</li>\n",
       "\t<li>1</li>\n",
       "\t<li>0</li>\n",
       "\t<li>1</li>\n",
       "\t<li>1</li>\n",
       "\t<li>0</li>\n",
       "\t<li>1</li>\n",
       "\t<li>1</li>\n",
       "\t<li>1</li>\n",
       "\t<li>0</li>\n",
       "\t<li>0</li>\n",
       "\t<li>0</li>\n",
       "\t<li>1</li>\n",
       "\t<li>0</li>\n",
       "\t<li>0</li>\n",
       "\t<li>1</li>\n",
       "\t<li>0</li>\n",
       "\t<li>1</li>\n",
       "\t<li>1</li>\n",
       "\t<li>1</li>\n",
       "\t<li>1</li>\n",
       "\t<li>1</li>\n",
       "\t<li>1</li>\n",
       "\t<li>0</li>\n",
       "\t<li>1</li>\n",
       "\t<li>1</li>\n",
       "\t<li>1</li>\n",
       "\t<li>1</li>\n",
       "\t<li>1</li>\n",
       "\t<li>1</li>\n",
       "\t<li>0</li>\n",
       "\t<li>1</li>\n",
       "\t<li>1</li>\n",
       "\t<li>1</li>\n",
       "\t<li>0</li>\n",
       "\t<li>1</li>\n",
       "\t<li>0</li>\n",
       "\t<li>1</li>\n",
       "\t<li>1</li>\n",
       "\t<li>0</li>\n",
       "\t<li>1</li>\n",
       "\t<li>1</li>\n",
       "\t<li>1</li>\n",
       "\t<li>1</li>\n",
       "\t<li>1</li>\n",
       "\t<li>0</li>\n",
       "\t<li>1</li>\n",
       "\t<li>1</li>\n",
       "\t<li>1</li>\n",
       "\t<li>1</li>\n",
       "\t<li>0</li>\n",
       "\t<li>1</li>\n",
       "\t<li>1</li>\n",
       "\t<li>1</li>\n",
       "\t<li>0</li>\n",
       "\t<li>0</li>\n",
       "\t<li>1</li>\n",
       "\t<li>0</li>\n",
       "\t<li>1</li>\n",
       "\t<li>1</li>\n",
       "\t<li>0</li>\n",
       "\t<li>1</li>\n",
       "\t<li>1</li>\n",
       "\t<li>1</li>\n",
       "\t<li>1</li>\n",
       "\t<li>0</li>\n",
       "\t<li>1</li>\n",
       "\t<li>1</li>\n",
       "\t<li>1</li>\n",
       "\t<li>1</li>\n",
       "\t<li>0</li>\n",
       "\t<li>1</li>\n",
       "\t<li>1</li>\n",
       "\t<li>1</li>\n",
       "\t<li>1</li>\n",
       "\t<li>0</li>\n",
       "\t<li>1</li>\n",
       "\t<li>1</li>\n",
       "\t<li>1</li>\n",
       "\t<li>0</li>\n",
       "\t<li>0</li>\n",
       "\t<li>1</li>\n",
       "\t<li>1</li>\n",
       "</ol>\n"
      ],
      "text/latex": [
       "\\begin{enumerate*}\n",
       "\\item 0\n",
       "\\item 1\n",
       "\\item 1\n",
       "\\item 0\n",
       "\\item 1\n",
       "\\item 0\n",
       "\\item 1\n",
       "\\item 0\n",
       "\\item 1\n",
       "\\item 0\n",
       "\\item 1\n",
       "\\item 0\n",
       "\\item 1\n",
       "\\item 1\n",
       "\\item 1\n",
       "\\item 1\n",
       "\\item 1\n",
       "\\item 0\n",
       "\\item 1\n",
       "\\item 0\n",
       "\\item 1\n",
       "\\item 1\n",
       "\\item 0\n",
       "\\item 1\n",
       "\\item 1\n",
       "\\item 1\n",
       "\\item 0\n",
       "\\item 0\n",
       "\\item 0\n",
       "\\item 1\n",
       "\\item 0\n",
       "\\item 0\n",
       "\\item 1\n",
       "\\item 0\n",
       "\\item 1\n",
       "\\item 1\n",
       "\\item 1\n",
       "\\item 1\n",
       "\\item 1\n",
       "\\item 1\n",
       "\\item 0\n",
       "\\item 1\n",
       "\\item 1\n",
       "\\item 1\n",
       "\\item 1\n",
       "\\item 1\n",
       "\\item 1\n",
       "\\item 0\n",
       "\\item 1\n",
       "\\item 1\n",
       "\\item 1\n",
       "\\item 0\n",
       "\\item 1\n",
       "\\item 0\n",
       "\\item 1\n",
       "\\item 1\n",
       "\\item 0\n",
       "\\item 1\n",
       "\\item 1\n",
       "\\item 1\n",
       "\\item 1\n",
       "\\item 1\n",
       "\\item 0\n",
       "\\item 1\n",
       "\\item 1\n",
       "\\item 1\n",
       "\\item 1\n",
       "\\item 0\n",
       "\\item 1\n",
       "\\item 1\n",
       "\\item 1\n",
       "\\item 0\n",
       "\\item 0\n",
       "\\item 1\n",
       "\\item 0\n",
       "\\item 1\n",
       "\\item 1\n",
       "\\item 0\n",
       "\\item 1\n",
       "\\item 1\n",
       "\\item 1\n",
       "\\item 1\n",
       "\\item 0\n",
       "\\item 1\n",
       "\\item 1\n",
       "\\item 1\n",
       "\\item 1\n",
       "\\item 0\n",
       "\\item 1\n",
       "\\item 1\n",
       "\\item 1\n",
       "\\item 1\n",
       "\\item 0\n",
       "\\item 1\n",
       "\\item 1\n",
       "\\item 1\n",
       "\\item 0\n",
       "\\item 0\n",
       "\\item 1\n",
       "\\item 1\n",
       "\\end{enumerate*}\n"
      ],
      "text/markdown": [
       "1. 0\n",
       "2. 1\n",
       "3. 1\n",
       "4. 0\n",
       "5. 1\n",
       "6. 0\n",
       "7. 1\n",
       "8. 0\n",
       "9. 1\n",
       "10. 0\n",
       "11. 1\n",
       "12. 0\n",
       "13. 1\n",
       "14. 1\n",
       "15. 1\n",
       "16. 1\n",
       "17. 1\n",
       "18. 0\n",
       "19. 1\n",
       "20. 0\n",
       "21. 1\n",
       "22. 1\n",
       "23. 0\n",
       "24. 1\n",
       "25. 1\n",
       "26. 1\n",
       "27. 0\n",
       "28. 0\n",
       "29. 0\n",
       "30. 1\n",
       "31. 0\n",
       "32. 0\n",
       "33. 1\n",
       "34. 0\n",
       "35. 1\n",
       "36. 1\n",
       "37. 1\n",
       "38. 1\n",
       "39. 1\n",
       "40. 1\n",
       "41. 0\n",
       "42. 1\n",
       "43. 1\n",
       "44. 1\n",
       "45. 1\n",
       "46. 1\n",
       "47. 1\n",
       "48. 0\n",
       "49. 1\n",
       "50. 1\n",
       "51. 1\n",
       "52. 0\n",
       "53. 1\n",
       "54. 0\n",
       "55. 1\n",
       "56. 1\n",
       "57. 0\n",
       "58. 1\n",
       "59. 1\n",
       "60. 1\n",
       "61. 1\n",
       "62. 1\n",
       "63. 0\n",
       "64. 1\n",
       "65. 1\n",
       "66. 1\n",
       "67. 1\n",
       "68. 0\n",
       "69. 1\n",
       "70. 1\n",
       "71. 1\n",
       "72. 0\n",
       "73. 0\n",
       "74. 1\n",
       "75. 0\n",
       "76. 1\n",
       "77. 1\n",
       "78. 0\n",
       "79. 1\n",
       "80. 1\n",
       "81. 1\n",
       "82. 1\n",
       "83. 0\n",
       "84. 1\n",
       "85. 1\n",
       "86. 1\n",
       "87. 1\n",
       "88. 0\n",
       "89. 1\n",
       "90. 1\n",
       "91. 1\n",
       "92. 1\n",
       "93. 0\n",
       "94. 1\n",
       "95. 1\n",
       "96. 1\n",
       "97. 0\n",
       "98. 0\n",
       "99. 1\n",
       "100. 1\n",
       "\n",
       "\n"
      ],
      "text/plain": [
       "  [1] 0 1 1 0 1 0 1 0 1 0 1 0 1 1 1 1 1 0 1 0 1 1 0 1 1 1 0 0 0 1 0 0 1 0 1 1 1\n",
       " [38] 1 1 1 0 1 1 1 1 1 1 0 1 1 1 0 1 0 1 1 0 1 1 1 1 1 0 1 1 1 1 0 1 1 1 0 0 1\n",
       " [75] 0 1 1 0 1 1 1 1 0 1 1 1 1 0 1 1 1 1 0 1 1 1 0 0 1 1"
      ]
     },
     "metadata": {},
     "output_type": "display_data"
    }
   ],
   "source": [
    "flips2"
   ]
  },
  {
   "cell_type": "code",
   "execution_count": 49,
   "metadata": {},
   "outputs": [
    {
     "data": {
      "text/html": [
       "69"
      ],
      "text/latex": [
       "69"
      ],
      "text/markdown": [
       "69"
      ],
      "text/plain": [
       "[1] 69"
      ]
     },
     "metadata": {},
     "output_type": "display_data"
    }
   ],
   "source": [
    "sum(flips2)"
   ]
  },
  {
   "cell_type": "code",
   "execution_count": 50,
   "metadata": {},
   "outputs": [],
   "source": [
    "# Similar to rbinom(), we can use R to simulate random numbers from many other probability distributions. Pull up the documentation for rnorm() now."
   ]
  },
  {
   "cell_type": "code",
   "execution_count": 51,
   "metadata": {},
   "outputs": [],
   "source": [
    "?rnorm"
   ]
  },
  {
   "cell_type": "code",
   "execution_count": 52,
   "metadata": {},
   "outputs": [
    {
     "data": {
      "text/html": [
       "<ol class=list-inline>\n",
       "\t<li>-0.153452496737027</li>\n",
       "\t<li>0.117501838039299</li>\n",
       "\t<li>0.887508419367986</li>\n",
       "\t<li>0.619854454064704</li>\n",
       "\t<li>0.107739986568073</li>\n",
       "\t<li>1.08600789693259</li>\n",
       "\t<li>-0.695787219853471</li>\n",
       "\t<li>0.212918456519471</li>\n",
       "\t<li>0.184201078587088</li>\n",
       "\t<li>0.0758940073861881</li>\n",
       "</ol>\n"
      ],
      "text/latex": [
       "\\begin{enumerate*}\n",
       "\\item -0.153452496737027\n",
       "\\item 0.117501838039299\n",
       "\\item 0.887508419367986\n",
       "\\item 0.619854454064704\n",
       "\\item 0.107739986568073\n",
       "\\item 1.08600789693259\n",
       "\\item -0.695787219853471\n",
       "\\item 0.212918456519471\n",
       "\\item 0.184201078587088\n",
       "\\item 0.0758940073861881\n",
       "\\end{enumerate*}\n"
      ],
      "text/markdown": [
       "1. -0.153452496737027\n",
       "2. 0.117501838039299\n",
       "3. 0.887508419367986\n",
       "4. 0.619854454064704\n",
       "5. 0.107739986568073\n",
       "6. 1.08600789693259\n",
       "7. -0.695787219853471\n",
       "8. 0.212918456519471\n",
       "9. 0.184201078587088\n",
       "10. 0.0758940073861881\n",
       "\n",
       "\n"
      ],
      "text/plain": [
       " [1] -0.15345250  0.11750184  0.88750842  0.61985445  0.10773999  1.08600790\n",
       " [7] -0.69578722  0.21291846  0.18420108  0.07589401"
      ]
     },
     "metadata": {},
     "output_type": "display_data"
    }
   ],
   "source": [
    "rnorm(10)"
   ]
  },
  {
   "cell_type": "code",
   "execution_count": 53,
   "metadata": {},
   "outputs": [
    {
     "data": {
      "text/html": [
       "<ol class=list-inline>\n",
       "\t<li>89.0993865828439</li>\n",
       "\t<li>100.04166628495</li>\n",
       "\t<li>128.095018567048</li>\n",
       "\t<li>93.0983318218682</li>\n",
       "\t<li>96.5011449668999</li>\n",
       "\t<li>148.386978336408</li>\n",
       "\t<li>121.354811076996</li>\n",
       "\t<li>82.9476115824026</li>\n",
       "\t<li>126.348142972571</li>\n",
       "\t<li>109.986992414741</li>\n",
       "</ol>\n"
      ],
      "text/latex": [
       "\\begin{enumerate*}\n",
       "\\item 89.0993865828439\n",
       "\\item 100.04166628495\n",
       "\\item 128.095018567048\n",
       "\\item 93.0983318218682\n",
       "\\item 96.5011449668999\n",
       "\\item 148.386978336408\n",
       "\\item 121.354811076996\n",
       "\\item 82.9476115824026\n",
       "\\item 126.348142972571\n",
       "\\item 109.986992414741\n",
       "\\end{enumerate*}\n"
      ],
      "text/markdown": [
       "1. 89.0993865828439\n",
       "2. 100.04166628495\n",
       "3. 128.095018567048\n",
       "4. 93.0983318218682\n",
       "5. 96.5011449668999\n",
       "6. 148.386978336408\n",
       "7. 121.354811076996\n",
       "8. 82.9476115824026\n",
       "9. 126.348142972571\n",
       "10. 109.986992414741\n",
       "\n",
       "\n"
      ],
      "text/plain": [
       " [1]  89.09939 100.04167 128.09502  93.09833  96.50114 148.38698 121.35481\n",
       " [8]  82.94761 126.34814 109.98699"
      ]
     },
     "metadata": {},
     "output_type": "display_data"
    }
   ],
   "source": [
    "rnorm(10,100,25)"
   ]
  },
  {
   "cell_type": "code",
   "execution_count": 55,
   "metadata": {},
   "outputs": [
    {
     "data": {
      "text/html": [
       "<ol class=list-inline>\n",
       "\t<li>12</li>\n",
       "\t<li>11</li>\n",
       "\t<li>13</li>\n",
       "\t<li>11</li>\n",
       "\t<li>9</li>\n",
       "</ol>\n"
      ],
      "text/latex": [
       "\\begin{enumerate*}\n",
       "\\item 12\n",
       "\\item 11\n",
       "\\item 13\n",
       "\\item 11\n",
       "\\item 9\n",
       "\\end{enumerate*}\n"
      ],
      "text/markdown": [
       "1. 12\n",
       "2. 11\n",
       "3. 13\n",
       "4. 11\n",
       "5. 9\n",
       "\n",
       "\n"
      ],
      "text/plain": [
       "[1] 12 11 13 11  9"
      ]
     },
     "metadata": {},
     "output_type": "display_data"
    }
   ],
   "source": [
    "rpois(5,10)"
   ]
  },
  {
   "cell_type": "code",
   "execution_count": 58,
   "metadata": {},
   "outputs": [],
   "source": [
    "my_pois = replicate(100, rpois(5,10))"
   ]
  },
  {
   "cell_type": "code",
   "execution_count": 59,
   "metadata": {},
   "outputs": [
    {
     "data": {
      "text/html": [
       "<table>\n",
       "<tbody>\n",
       "\t<tr><td> 4</td><td> 8</td><td>11</td><td>11</td><td> 9</td><td>12</td><td> 8</td><td> 7</td><td>10</td><td> 9</td><td>⋯ </td><td>13</td><td> 8</td><td>11</td><td> 9</td><td> 7</td><td> 7</td><td> 6</td><td> 9</td><td>8 </td><td> 5</td></tr>\n",
       "\t<tr><td>11</td><td>14</td><td> 8</td><td> 7</td><td>11</td><td> 8</td><td>12</td><td>12</td><td> 8</td><td>14</td><td>⋯ </td><td> 8</td><td> 5</td><td> 7</td><td>15</td><td>10</td><td>12</td><td>12</td><td> 6</td><td>9 </td><td> 9</td></tr>\n",
       "\t<tr><td> 9</td><td> 6</td><td>10</td><td>10</td><td> 6</td><td> 9</td><td> 8</td><td> 6</td><td>11</td><td>16</td><td>⋯ </td><td>13</td><td>13</td><td>14</td><td>10</td><td>14</td><td>12</td><td>10</td><td> 7</td><td>9 </td><td> 8</td></tr>\n",
       "\t<tr><td>13</td><td> 9</td><td> 8</td><td> 6</td><td>13</td><td>14</td><td> 7</td><td> 7</td><td>11</td><td> 7</td><td>⋯ </td><td> 8</td><td> 9</td><td>10</td><td>14</td><td> 8</td><td>13</td><td>11</td><td>13</td><td>7 </td><td> 5</td></tr>\n",
       "\t<tr><td> 9</td><td>15</td><td>10</td><td> 9</td><td>10</td><td>10</td><td> 7</td><td> 9</td><td>12</td><td> 8</td><td>⋯ </td><td> 9</td><td> 6</td><td>11</td><td>11</td><td>15</td><td>10</td><td>10</td><td>13</td><td>9 </td><td>18</td></tr>\n",
       "</tbody>\n",
       "</table>\n"
      ],
      "text/latex": [
       "\\begin{tabular}{llllllllllllllllllllllllllllllllllllllllllllllllllllllllllllllllllllllllllllllllllllllllllllllllllll}\n",
       "\t  4 &  8 & 11 & 11 &  9 & 12 &  8 &  7 & 10 &  9 & ⋯  & 13 &  8 & 11 &  9 &  7 &  7 &  6 &  9 & 8  &  5\\\\\n",
       "\t 11 & 14 &  8 &  7 & 11 &  8 & 12 & 12 &  8 & 14 & ⋯  &  8 &  5 &  7 & 15 & 10 & 12 & 12 &  6 & 9  &  9\\\\\n",
       "\t  9 &  6 & 10 & 10 &  6 &  9 &  8 &  6 & 11 & 16 & ⋯  & 13 & 13 & 14 & 10 & 14 & 12 & 10 &  7 & 9  &  8\\\\\n",
       "\t 13 &  9 &  8 &  6 & 13 & 14 &  7 &  7 & 11 &  7 & ⋯  &  8 &  9 & 10 & 14 &  8 & 13 & 11 & 13 & 7  &  5\\\\\n",
       "\t  9 & 15 & 10 &  9 & 10 & 10 &  7 &  9 & 12 &  8 & ⋯  &  9 &  6 & 11 & 11 & 15 & 10 & 10 & 13 & 9  & 18\\\\\n",
       "\\end{tabular}\n"
      ],
      "text/markdown": [
       "\n",
       "|  4 |  8 | 11 | 11 |  9 | 12 |  8 |  7 | 10 |  9 | ⋯  | 13 |  8 | 11 |  9 |  7 |  7 |  6 |  9 | 8  |  5 | \n",
       "| 11 | 14 |  8 |  7 | 11 |  8 | 12 | 12 |  8 | 14 | ⋯  |  8 |  5 |  7 | 15 | 10 | 12 | 12 |  6 | 9  |  9 | \n",
       "|  9 |  6 | 10 | 10 |  6 |  9 |  8 |  6 | 11 | 16 | ⋯  | 13 | 13 | 14 | 10 | 14 | 12 | 10 |  7 | 9  |  8 | \n",
       "| 13 |  9 |  8 |  6 | 13 | 14 |  7 |  7 | 11 |  7 | ⋯  |  8 |  9 | 10 | 14 |  8 | 13 | 11 | 13 | 7  |  5 | \n",
       "|  9 | 15 | 10 |  9 | 10 | 10 |  7 |  9 | 12 |  8 | ⋯  |  9 |  6 | 11 | 11 | 15 | 10 | 10 | 13 | 9  | 18 | \n",
       "\n",
       "\n"
      ],
      "text/plain": [
       "     [,1] [,2] [,3] [,4] [,5] [,6] [,7] [,8] [,9] [,10] [,11] [,12] [,13] [,14]\n",
       "[1,]  4    8   11   11    9   12    8    7   10    9    ⋯     13     8    11   \n",
       "[2,] 11   14    8    7   11    8   12   12    8   14    ⋯      8     5     7   \n",
       "[3,]  9    6   10   10    6    9    8    6   11   16    ⋯     13    13    14   \n",
       "[4,] 13    9    8    6   13   14    7    7   11    7    ⋯      8     9    10   \n",
       "[5,]  9   15   10    9   10   10    7    9   12    8    ⋯      9     6    11   \n",
       "     [,15] [,16] [,17] [,18] [,19] [,20] [,21]\n",
       "[1,]  9     7     7     6     9    8      5   \n",
       "[2,] 15    10    12    12     6    9      9   \n",
       "[3,] 10    14    12    10     7    9      8   \n",
       "[4,] 14     8    13    11    13    7      5   \n",
       "[5,] 11    15    10    10    13    9     18   "
      ]
     },
     "metadata": {},
     "output_type": "display_data"
    }
   ],
   "source": [
    "my_pois"
   ]
  },
  {
   "cell_type": "code",
   "execution_count": 63,
   "metadata": {},
   "outputs": [],
   "source": [
    "# mean of each column\n",
    "\n",
    "cm = colMeans(my_pois)"
   ]
  },
  {
   "cell_type": "code",
   "execution_count": 61,
   "metadata": {},
   "outputs": [
    {
     "data": {
      "text/html": [
       "<ol class=list-inline>\n",
       "\t<li>9.2</li>\n",
       "\t<li>10.4</li>\n",
       "\t<li>9.4</li>\n",
       "\t<li>8.6</li>\n",
       "\t<li>9.8</li>\n",
       "\t<li>10.6</li>\n",
       "\t<li>8.4</li>\n",
       "\t<li>8.2</li>\n",
       "\t<li>10.4</li>\n",
       "\t<li>10.8</li>\n",
       "\t<li>11.6</li>\n",
       "\t<li>11.8</li>\n",
       "\t<li>10.4</li>\n",
       "\t<li>9.2</li>\n",
       "\t<li>9.4</li>\n",
       "\t<li>10.2</li>\n",
       "\t<li>10</li>\n",
       "\t<li>10.4</li>\n",
       "\t<li>12.6</li>\n",
       "\t<li>12</li>\n",
       "\t<li>9</li>\n",
       "\t<li>12.6</li>\n",
       "\t<li>12.4</li>\n",
       "\t<li>10.6</li>\n",
       "\t<li>9.8</li>\n",
       "\t<li>12.2</li>\n",
       "\t<li>9.6</li>\n",
       "\t<li>9.4</li>\n",
       "\t<li>9</li>\n",
       "\t<li>9.4</li>\n",
       "\t<li>8.8</li>\n",
       "\t<li>10.4</li>\n",
       "\t<li>12</li>\n",
       "\t<li>9.2</li>\n",
       "\t<li>9.6</li>\n",
       "\t<li>9.8</li>\n",
       "\t<li>10</li>\n",
       "\t<li>7.8</li>\n",
       "\t<li>10.8</li>\n",
       "\t<li>10.6</li>\n",
       "\t<li>10.4</li>\n",
       "\t<li>10.8</li>\n",
       "\t<li>9.4</li>\n",
       "\t<li>11</li>\n",
       "\t<li>10</li>\n",
       "\t<li>8.6</li>\n",
       "\t<li>12</li>\n",
       "\t<li>11.6</li>\n",
       "\t<li>11.6</li>\n",
       "\t<li>11.4</li>\n",
       "\t<li>10</li>\n",
       "\t<li>10</li>\n",
       "\t<li>9</li>\n",
       "\t<li>10.4</li>\n",
       "\t<li>8.8</li>\n",
       "\t<li>8</li>\n",
       "\t<li>10.8</li>\n",
       "\t<li>9.2</li>\n",
       "\t<li>10.8</li>\n",
       "\t<li>9.8</li>\n",
       "\t<li>10.2</li>\n",
       "\t<li>10</li>\n",
       "\t<li>10.8</li>\n",
       "\t<li>11</li>\n",
       "\t<li>9</li>\n",
       "\t<li>9.4</li>\n",
       "\t<li>9.8</li>\n",
       "\t<li>11.6</li>\n",
       "\t<li>10</li>\n",
       "\t<li>11</li>\n",
       "\t<li>11.8</li>\n",
       "\t<li>12</li>\n",
       "\t<li>10</li>\n",
       "\t<li>11.6</li>\n",
       "\t<li>8.2</li>\n",
       "\t<li>13.2</li>\n",
       "\t<li>10.6</li>\n",
       "\t<li>6.8</li>\n",
       "\t<li>10.2</li>\n",
       "\t<li>11.2</li>\n",
       "\t<li>8.4</li>\n",
       "\t<li>9.8</li>\n",
       "\t<li>9.2</li>\n",
       "\t<li>8</li>\n",
       "\t<li>10.8</li>\n",
       "\t<li>13</li>\n",
       "\t<li>11.4</li>\n",
       "\t<li>10.4</li>\n",
       "\t<li>8.2</li>\n",
       "\t<li>11.6</li>\n",
       "\t<li>10.2</li>\n",
       "\t<li>8.2</li>\n",
       "\t<li>10.6</li>\n",
       "\t<li>11.8</li>\n",
       "\t<li>10.8</li>\n",
       "\t<li>10.8</li>\n",
       "\t<li>9.8</li>\n",
       "\t<li>9.6</li>\n",
       "\t<li>8.4</li>\n",
       "\t<li>9</li>\n",
       "</ol>\n"
      ],
      "text/latex": [
       "\\begin{enumerate*}\n",
       "\\item 9.2\n",
       "\\item 10.4\n",
       "\\item 9.4\n",
       "\\item 8.6\n",
       "\\item 9.8\n",
       "\\item 10.6\n",
       "\\item 8.4\n",
       "\\item 8.2\n",
       "\\item 10.4\n",
       "\\item 10.8\n",
       "\\item 11.6\n",
       "\\item 11.8\n",
       "\\item 10.4\n",
       "\\item 9.2\n",
       "\\item 9.4\n",
       "\\item 10.2\n",
       "\\item 10\n",
       "\\item 10.4\n",
       "\\item 12.6\n",
       "\\item 12\n",
       "\\item 9\n",
       "\\item 12.6\n",
       "\\item 12.4\n",
       "\\item 10.6\n",
       "\\item 9.8\n",
       "\\item 12.2\n",
       "\\item 9.6\n",
       "\\item 9.4\n",
       "\\item 9\n",
       "\\item 9.4\n",
       "\\item 8.8\n",
       "\\item 10.4\n",
       "\\item 12\n",
       "\\item 9.2\n",
       "\\item 9.6\n",
       "\\item 9.8\n",
       "\\item 10\n",
       "\\item 7.8\n",
       "\\item 10.8\n",
       "\\item 10.6\n",
       "\\item 10.4\n",
       "\\item 10.8\n",
       "\\item 9.4\n",
       "\\item 11\n",
       "\\item 10\n",
       "\\item 8.6\n",
       "\\item 12\n",
       "\\item 11.6\n",
       "\\item 11.6\n",
       "\\item 11.4\n",
       "\\item 10\n",
       "\\item 10\n",
       "\\item 9\n",
       "\\item 10.4\n",
       "\\item 8.8\n",
       "\\item 8\n",
       "\\item 10.8\n",
       "\\item 9.2\n",
       "\\item 10.8\n",
       "\\item 9.8\n",
       "\\item 10.2\n",
       "\\item 10\n",
       "\\item 10.8\n",
       "\\item 11\n",
       "\\item 9\n",
       "\\item 9.4\n",
       "\\item 9.8\n",
       "\\item 11.6\n",
       "\\item 10\n",
       "\\item 11\n",
       "\\item 11.8\n",
       "\\item 12\n",
       "\\item 10\n",
       "\\item 11.6\n",
       "\\item 8.2\n",
       "\\item 13.2\n",
       "\\item 10.6\n",
       "\\item 6.8\n",
       "\\item 10.2\n",
       "\\item 11.2\n",
       "\\item 8.4\n",
       "\\item 9.8\n",
       "\\item 9.2\n",
       "\\item 8\n",
       "\\item 10.8\n",
       "\\item 13\n",
       "\\item 11.4\n",
       "\\item 10.4\n",
       "\\item 8.2\n",
       "\\item 11.6\n",
       "\\item 10.2\n",
       "\\item 8.2\n",
       "\\item 10.6\n",
       "\\item 11.8\n",
       "\\item 10.8\n",
       "\\item 10.8\n",
       "\\item 9.8\n",
       "\\item 9.6\n",
       "\\item 8.4\n",
       "\\item 9\n",
       "\\end{enumerate*}\n"
      ],
      "text/markdown": [
       "1. 9.2\n",
       "2. 10.4\n",
       "3. 9.4\n",
       "4. 8.6\n",
       "5. 9.8\n",
       "6. 10.6\n",
       "7. 8.4\n",
       "8. 8.2\n",
       "9. 10.4\n",
       "10. 10.8\n",
       "11. 11.6\n",
       "12. 11.8\n",
       "13. 10.4\n",
       "14. 9.2\n",
       "15. 9.4\n",
       "16. 10.2\n",
       "17. 10\n",
       "18. 10.4\n",
       "19. 12.6\n",
       "20. 12\n",
       "21. 9\n",
       "22. 12.6\n",
       "23. 12.4\n",
       "24. 10.6\n",
       "25. 9.8\n",
       "26. 12.2\n",
       "27. 9.6\n",
       "28. 9.4\n",
       "29. 9\n",
       "30. 9.4\n",
       "31. 8.8\n",
       "32. 10.4\n",
       "33. 12\n",
       "34. 9.2\n",
       "35. 9.6\n",
       "36. 9.8\n",
       "37. 10\n",
       "38. 7.8\n",
       "39. 10.8\n",
       "40. 10.6\n",
       "41. 10.4\n",
       "42. 10.8\n",
       "43. 9.4\n",
       "44. 11\n",
       "45. 10\n",
       "46. 8.6\n",
       "47. 12\n",
       "48. 11.6\n",
       "49. 11.6\n",
       "50. 11.4\n",
       "51. 10\n",
       "52. 10\n",
       "53. 9\n",
       "54. 10.4\n",
       "55. 8.8\n",
       "56. 8\n",
       "57. 10.8\n",
       "58. 9.2\n",
       "59. 10.8\n",
       "60. 9.8\n",
       "61. 10.2\n",
       "62. 10\n",
       "63. 10.8\n",
       "64. 11\n",
       "65. 9\n",
       "66. 9.4\n",
       "67. 9.8\n",
       "68. 11.6\n",
       "69. 10\n",
       "70. 11\n",
       "71. 11.8\n",
       "72. 12\n",
       "73. 10\n",
       "74. 11.6\n",
       "75. 8.2\n",
       "76. 13.2\n",
       "77. 10.6\n",
       "78. 6.8\n",
       "79. 10.2\n",
       "80. 11.2\n",
       "81. 8.4\n",
       "82. 9.8\n",
       "83. 9.2\n",
       "84. 8\n",
       "85. 10.8\n",
       "86. 13\n",
       "87. 11.4\n",
       "88. 10.4\n",
       "89. 8.2\n",
       "90. 11.6\n",
       "91. 10.2\n",
       "92. 8.2\n",
       "93. 10.6\n",
       "94. 11.8\n",
       "95. 10.8\n",
       "96. 10.8\n",
       "97. 9.8\n",
       "98. 9.6\n",
       "99. 8.4\n",
       "100. 9\n",
       "\n",
       "\n"
      ],
      "text/plain": [
       "  [1]  9.2 10.4  9.4  8.6  9.8 10.6  8.4  8.2 10.4 10.8 11.6 11.8 10.4  9.2  9.4\n",
       " [16] 10.2 10.0 10.4 12.6 12.0  9.0 12.6 12.4 10.6  9.8 12.2  9.6  9.4  9.0  9.4\n",
       " [31]  8.8 10.4 12.0  9.2  9.6  9.8 10.0  7.8 10.8 10.6 10.4 10.8  9.4 11.0 10.0\n",
       " [46]  8.6 12.0 11.6 11.6 11.4 10.0 10.0  9.0 10.4  8.8  8.0 10.8  9.2 10.8  9.8\n",
       " [61] 10.2 10.0 10.8 11.0  9.0  9.4  9.8 11.6 10.0 11.0 11.8 12.0 10.0 11.6  8.2\n",
       " [76] 13.2 10.6  6.8 10.2 11.2  8.4  9.8  9.2  8.0 10.8 13.0 11.4 10.4  8.2 11.6\n",
       " [91] 10.2  8.2 10.6 11.8 10.8 10.8  9.8  9.6  8.4  9.0"
      ]
     },
     "metadata": {},
     "output_type": "display_data"
    }
   ],
   "source": [
    "cm"
   ]
  },
  {
   "cell_type": "code",
   "execution_count": 64,
   "metadata": {},
   "outputs": [
    {
     "data": {
      "image/png": "[encoded data removed]",
      "text/plain": [
       "Plot with title “Histogram of cm”"
      ]
     },
     "metadata": {},
     "output_type": "display_data"
    }
   ],
   "source": [
    "hist(cm)"
   ]
  },
  {
   "cell_type": "markdown",
   "metadata": {},
   "source": [
    "#### All of the standard probability distributions are built into R, including exponential (rexp()), chi-squared (rchisq()), gamma (rgamma()), …. Well, you see the pattern."
   ]
  },
  {
   "cell_type": "markdown",
   "metadata": {},
   "source": [
    "# DATES AND TIMES"
   ]
  },
  {
   "cell_type": "markdown",
   "metadata": {},
   "source": [
    "- Dates - Date class\n",
    "- Time - POSIXcy and POSIlt\n",
    "\n",
    "date internally stored as number of days after 1970-01-01\n",
    "time internally stored as number of seconds after 1970-01-01"
   ]
  },
  {
   "cell_type": "code",
   "execution_count": 65,
   "metadata": {},
   "outputs": [],
   "source": [
    "d1 <- Sys.Date()"
   ]
  },
  {
   "cell_type": "code",
   "execution_count": 66,
   "metadata": {},
   "outputs": [
    {
     "data": {
      "text/html": [
       "<time datetime=\"2018-12-27\">2018-12-27</time>"
      ],
      "text/latex": [
       "2018-12-27"
      ],
      "text/markdown": [
       "2018-12-27"
      ],
      "text/plain": [
       "[1] \"2018-12-27\""
      ]
     },
     "metadata": {},
     "output_type": "display_data"
    }
   ],
   "source": [
    "d1"
   ]
  },
  {
   "cell_type": "code",
   "execution_count": 67,
   "metadata": {},
   "outputs": [
    {
     "data": {
      "text/html": [
       "'Date'"
      ],
      "text/latex": [
       "'Date'"
      ],
      "text/markdown": [
       "'Date'"
      ],
      "text/plain": [
       "[1] \"Date\""
      ]
     },
     "metadata": {},
     "output_type": "display_data"
    }
   ],
   "source": [
    "class(d1)"
   ]
  },
  {
   "cell_type": "code",
   "execution_count": 68,
   "metadata": {},
   "outputs": [
    {
     "data": {
      "text/html": [
       "<ol class=list-inline>\n",
       "\t<li>'cm'</li>\n",
       "\t<li>'d1'</li>\n",
       "\t<li>'flips'</li>\n",
       "\t<li>'flips2'</li>\n",
       "\t<li>'my_pois'</li>\n",
       "\t<li>'mymath'</li>\n",
       "\t<li>'myprod'</li>\n",
       "\t<li>'plants'</li>\n",
       "</ol>\n"
      ],
      "text/latex": [
       "\\begin{enumerate*}\n",
       "\\item 'cm'\n",
       "\\item 'd1'\n",
       "\\item 'flips'\n",
       "\\item 'flips2'\n",
       "\\item 'my\\_pois'\n",
       "\\item 'mymath'\n",
       "\\item 'myprod'\n",
       "\\item 'plants'\n",
       "\\end{enumerate*}\n"
      ],
      "text/markdown": [
       "1. 'cm'\n",
       "2. 'd1'\n",
       "3. 'flips'\n",
       "4. 'flips2'\n",
       "5. 'my_pois'\n",
       "6. 'mymath'\n",
       "7. 'myprod'\n",
       "8. 'plants'\n",
       "\n",
       "\n"
      ],
      "text/plain": [
       "[1] \"cm\"      \"d1\"      \"flips\"   \"flips2\"  \"my_pois\" \"mymath\"  \"myprod\" \n",
       "[8] \"plants\" "
      ]
     },
     "metadata": {},
     "output_type": "display_data"
    }
   ],
   "source": [
    "ls()"
   ]
  },
  {
   "cell_type": "code",
   "execution_count": 69,
   "metadata": {},
   "outputs": [
    {
     "data": {
      "text/html": [
       "17892"
      ],
      "text/latex": [
       "17892"
      ],
      "text/markdown": [
       "17892"
      ],
      "text/plain": [
       "[1] 17892"
      ]
     },
     "metadata": {},
     "output_type": "display_data"
    }
   ],
   "source": [
    "#Use unclass to see what d1 looks like internally.\n",
    "unclass(d1)"
   ]
  },
  {
   "cell_type": "markdown",
   "metadata": {},
   "source": [
    "That is the number of days from 1970-01-01"
   ]
  },
  {
   "cell_type": "code",
   "execution_count": 70,
   "metadata": {},
   "outputs": [
    {
     "data": {
      "text/html": [
       "<time datetime=\"2018-12-27\">2018-12-27</time>"
      ],
      "text/latex": [
       "2018-12-27"
      ],
      "text/markdown": [
       "2018-12-27"
      ],
      "text/plain": [
       "[1] \"2018-12-27\""
      ]
     },
     "metadata": {},
     "output_type": "display_data"
    }
   ],
   "source": [
    "d1"
   ]
  },
  {
   "cell_type": "code",
   "execution_count": 71,
   "metadata": {},
   "outputs": [],
   "source": [
    "# Lets get an earlier date.\n",
    "\n",
    "d2 <- as.Date('1969-01-01')"
   ]
  },
  {
   "cell_type": "code",
   "execution_count": 72,
   "metadata": {},
   "outputs": [
    {
     "data": {
      "text/html": [
       "<time datetime=\"1969-01-01\">1969-01-01</time>"
      ],
      "text/latex": [
       "1969-01-01"
      ],
      "text/markdown": [
       "1969-01-01"
      ],
      "text/plain": [
       "[1] \"1969-01-01\""
      ]
     },
     "metadata": {},
     "output_type": "display_data"
    }
   ],
   "source": [
    "d2"
   ]
  },
  {
   "cell_type": "code",
   "execution_count": 73,
   "metadata": {},
   "outputs": [
    {
     "data": {
      "text/html": [
       "-365"
      ],
      "text/latex": [
       "-365"
      ],
      "text/markdown": [
       "-365"
      ],
      "text/plain": [
       "[1] -365"
      ]
     },
     "metadata": {},
     "output_type": "display_data"
    }
   ],
   "source": [
    "unclass(d2)"
   ]
  },
  {
   "cell_type": "markdown",
   "metadata": {},
   "source": [
    "#### TIME"
   ]
  },
  {
   "cell_type": "code",
   "execution_count": 74,
   "metadata": {},
   "outputs": [],
   "source": [
    "t1 <- Sys.time()"
   ]
  },
  {
   "cell_type": "code",
   "execution_count": 75,
   "metadata": {},
   "outputs": [
    {
     "data": {
      "text/plain": [
       "[1] \"2018-12-27 01:52:16 EST\""
      ]
     },
     "metadata": {},
     "output_type": "display_data"
    }
   ],
   "source": [
    "t1"
   ]
  },
  {
   "cell_type": "code",
   "execution_count": 76,
   "metadata": {},
   "outputs": [
    {
     "data": {
      "text/html": [
       "1545893536.62811"
      ],
      "text/latex": [
       "1545893536.62811"
      ],
      "text/markdown": [
       "1545893536.62811"
      ],
      "text/plain": [
       "[1] 1545893537"
      ]
     },
     "metadata": {},
     "output_type": "display_data"
    }
   ],
   "source": [
    "unclass(t1)"
   ]
  },
  {
   "cell_type": "code",
   "execution_count": 77,
   "metadata": {},
   "outputs": [
    {
     "data": {
      "text/html": [
       "<ol class=list-inline>\n",
       "\t<li>'POSIXct'</li>\n",
       "\t<li>'POSIXt'</li>\n",
       "</ol>\n"
      ],
      "text/latex": [
       "\\begin{enumerate*}\n",
       "\\item 'POSIXct'\n",
       "\\item 'POSIXt'\n",
       "\\end{enumerate*}\n"
      ],
      "text/markdown": [
       "1. 'POSIXct'\n",
       "2. 'POSIXt'\n",
       "\n",
       "\n"
      ],
      "text/plain": [
       "[1] \"POSIXct\" \"POSIXt\" "
      ]
     },
     "metadata": {},
     "output_type": "display_data"
    }
   ],
   "source": [
    "class(t1)"
   ]
  },
  {
   "cell_type": "code",
   "execution_count": 78,
   "metadata": {},
   "outputs": [],
   "source": [
    "t2 <- as.POSIXlt(Sys.time())"
   ]
  },
  {
   "cell_type": "code",
   "execution_count": 81,
   "metadata": {},
   "outputs": [
    {
     "data": {
      "text/plain": [
       "[1] \"2018-12-27 01:53:29 EST\""
      ]
     },
     "metadata": {},
     "output_type": "display_data"
    }
   ],
   "source": [
    "t2"
   ]
  },
  {
   "cell_type": "code",
   "execution_count": 79,
   "metadata": {},
   "outputs": [
    {
     "data": {
      "text/html": [
       "<ol class=list-inline>\n",
       "\t<li>'POSIXlt'</li>\n",
       "\t<li>'POSIXt'</li>\n",
       "</ol>\n"
      ],
      "text/latex": [
       "\\begin{enumerate*}\n",
       "\\item 'POSIXlt'\n",
       "\\item 'POSIXt'\n",
       "\\end{enumerate*}\n"
      ],
      "text/markdown": [
       "1. 'POSIXlt'\n",
       "2. 'POSIXt'\n",
       "\n",
       "\n"
      ],
      "text/plain": [
       "[1] \"POSIXlt\" \"POSIXt\" "
      ]
     },
     "metadata": {},
     "output_type": "display_data"
    }
   ],
   "source": [
    "class(t2)"
   ]
  },
  {
   "cell_type": "code",
   "execution_count": 80,
   "metadata": {},
   "outputs": [
    {
     "data": {
      "text/html": [
       "<dl>\n",
       "\t<dt>$sec</dt>\n",
       "\t\t<dd>29.3626081943512</dd>\n",
       "\t<dt>$min</dt>\n",
       "\t\t<dd>53</dd>\n",
       "\t<dt>$hour</dt>\n",
       "\t\t<dd>1</dd>\n",
       "\t<dt>$mday</dt>\n",
       "\t\t<dd>27</dd>\n",
       "\t<dt>$mon</dt>\n",
       "\t\t<dd>11</dd>\n",
       "\t<dt>$year</dt>\n",
       "\t\t<dd>118</dd>\n",
       "\t<dt>$wday</dt>\n",
       "\t\t<dd>4</dd>\n",
       "\t<dt>$yday</dt>\n",
       "\t\t<dd>360</dd>\n",
       "\t<dt>$isdst</dt>\n",
       "\t\t<dd>0</dd>\n",
       "\t<dt>$zone</dt>\n",
       "\t\t<dd>'EST'</dd>\n",
       "\t<dt>$gmtoff</dt>\n",
       "\t\t<dd>-18000</dd>\n",
       "</dl>\n"
      ],
      "text/latex": [
       "\\begin{description}\n",
       "\\item[\\$sec] 29.3626081943512\n",
       "\\item[\\$min] 53\n",
       "\\item[\\$hour] 1\n",
       "\\item[\\$mday] 27\n",
       "\\item[\\$mon] 11\n",
       "\\item[\\$year] 118\n",
       "\\item[\\$wday] 4\n",
       "\\item[\\$yday] 360\n",
       "\\item[\\$isdst] 0\n",
       "\\item[\\$zone] 'EST'\n",
       "\\item[\\$gmtoff] -18000\n",
       "\\end{description}\n"
      ],
      "text/markdown": [
       "$sec\n",
       ":   29.3626081943512\n",
       "$min\n",
       ":   53\n",
       "$hour\n",
       ":   1\n",
       "$mday\n",
       ":   27\n",
       "$mon\n",
       ":   11\n",
       "$year\n",
       ":   118\n",
       "$wday\n",
       ":   4\n",
       "$yday\n",
       ":   360\n",
       "$isdst\n",
       ":   0\n",
       "$zone\n",
       ":   'EST'\n",
       "$gmtoff\n",
       ":   -18000\n",
       "\n",
       "\n"
      ],
      "text/plain": [
       "$sec\n",
       "[1] 29.36261\n",
       "\n",
       "$min\n",
       "[1] 53\n",
       "\n",
       "$hour\n",
       "[1] 1\n",
       "\n",
       "$mday\n",
       "[1] 27\n",
       "\n",
       "$mon\n",
       "[1] 11\n",
       "\n",
       "$year\n",
       "[1] 118\n",
       "\n",
       "$wday\n",
       "[1] 4\n",
       "\n",
       "$yday\n",
       "[1] 360\n",
       "\n",
       "$isdst\n",
       "[1] 0\n",
       "\n",
       "$zone\n",
       "[1] \"EST\"\n",
       "\n",
       "$gmtoff\n",
       "[1] -18000\n",
       "\n",
       "attr(,\"tzone\")\n",
       "[1] \"\"    \"EST\" \"EDT\""
      ]
     },
     "metadata": {},
     "output_type": "display_data"
    }
   ],
   "source": [
    "unclass(t2)"
   ]
  },
  {
   "cell_type": "code",
   "execution_count": 82,
   "metadata": {},
   "outputs": [
    {
     "name": "stdout",
     "output_type": "stream",
     "text": [
      "List of 11\n",
      " $ sec   : num 29.4\n",
      " $ min   : int 53\n",
      " $ hour  : int 1\n",
      " $ mday  : int 27\n",
      " $ mon   : int 11\n",
      " $ year  : int 118\n",
      " $ wday  : int 4\n",
      " $ yday  : int 360\n",
      " $ isdst : int 0\n",
      " $ zone  : chr \"EST\"\n",
      " $ gmtoff: int -18000\n",
      " - attr(*, \"tzone\")= chr [1:3] \"\" \"EST\" \"EDT\"\n"
     ]
    }
   ],
   "source": [
    "str(unclass(t2))"
   ]
  },
  {
   "cell_type": "code",
   "execution_count": 83,
   "metadata": {},
   "outputs": [
    {
     "data": {
      "text/html": [
       "53"
      ],
      "text/latex": [
       "53"
      ],
      "text/markdown": [
       "53"
      ],
      "text/plain": [
       "[1] 53"
      ]
     },
     "metadata": {},
     "output_type": "display_data"
    }
   ],
   "source": [
    "t2$min"
   ]
  },
  {
   "cell_type": "markdown",
   "metadata": {},
   "source": [
    "### Functions that extract helpful info from these objects"
   ]
  },
  {
   "cell_type": "code",
   "execution_count": 84,
   "metadata": {},
   "outputs": [
    {
     "data": {
      "text/html": [
       "'Thursday'"
      ],
      "text/latex": [
       "'Thursday'"
      ],
      "text/markdown": [
       "'Thursday'"
      ],
      "text/plain": [
       "[1] \"Thursday\""
      ]
     },
     "metadata": {},
     "output_type": "display_data"
    }
   ],
   "source": [
    "weekdays(d1)"
   ]
  },
  {
   "cell_type": "code",
   "execution_count": 85,
   "metadata": {},
   "outputs": [
    {
     "data": {
      "text/html": [
       "'December'"
      ],
      "text/latex": [
       "'December'"
      ],
      "text/markdown": [
       "'December'"
      ],
      "text/plain": [
       "[1] \"December\""
      ]
     },
     "metadata": {},
     "output_type": "display_data"
    }
   ],
   "source": [
    "months(d1)"
   ]
  },
  {
   "cell_type": "code",
   "execution_count": 86,
   "metadata": {},
   "outputs": [
    {
     "data": {
      "text/html": [
       "'Q4'"
      ],
      "text/latex": [
       "'Q4'"
      ],
      "text/markdown": [
       "'Q4'"
      ],
      "text/plain": [
       "[1] \"Q4\""
      ]
     },
     "metadata": {},
     "output_type": "display_data"
    }
   ],
   "source": [
    "quarters(d1)"
   ]
  },
  {
   "cell_type": "markdown",
   "metadata": {},
   "source": [
    "Often, the dates and times in a dataset will be in a format that R does not recognize. The strptime() function can be helpful in this situation.\n",
    "\n",
    "strptime() converts character vectors to POSIXlt. In that sense, it is similar to as.POSIXlt(), except that the input doesn’t have to be in a particular format (YYYY-MM-DD)."
   ]
  },
  {
   "cell_type": "code",
   "execution_count": 87,
   "metadata": {},
   "outputs": [],
   "source": [
    "t3 <- \"14 January, 2018 22:01\""
   ]
  },
  {
   "cell_type": "code",
   "execution_count": 88,
   "metadata": {},
   "outputs": [
    {
     "data": {
      "text/html": [
       "'14 January, 2018 22:01'"
      ],
      "text/latex": [
       "'14 January, 2018 22:01'"
      ],
      "text/markdown": [
       "'14 January, 2018 22:01'"
      ],
      "text/plain": [
       "[1] \"14 January, 2018 22:01\""
      ]
     },
     "metadata": {},
     "output_type": "display_data"
    }
   ],
   "source": [
    "t3"
   ]
  },
  {
   "cell_type": "code",
   "execution_count": 89,
   "metadata": {},
   "outputs": [],
   "source": [
    "t4 <- strptime(t3, \"%d %B, %Y %H:%M\")"
   ]
  },
  {
   "cell_type": "code",
   "execution_count": 90,
   "metadata": {},
   "outputs": [
    {
     "data": {
      "text/plain": [
       "[1] \"2018-01-14 22:01:00 EST\""
      ]
     },
     "metadata": {},
     "output_type": "display_data"
    }
   ],
   "source": [
    "t4"
   ]
  },
  {
   "cell_type": "code",
   "execution_count": 91,
   "metadata": {},
   "outputs": [
    {
     "data": {
      "text/html": [
       "<ol class=list-inline>\n",
       "\t<li>'POSIXlt'</li>\n",
       "\t<li>'POSIXt'</li>\n",
       "</ol>\n"
      ],
      "text/latex": [
       "\\begin{enumerate*}\n",
       "\\item 'POSIXlt'\n",
       "\\item 'POSIXt'\n",
       "\\end{enumerate*}\n"
      ],
      "text/markdown": [
       "1. 'POSIXlt'\n",
       "2. 'POSIXt'\n",
       "\n",
       "\n"
      ],
      "text/plain": [
       "[1] \"POSIXlt\" \"POSIXt\" "
      ]
     },
     "metadata": {},
     "output_type": "display_data"
    }
   ],
   "source": [
    "class(t4)"
   ]
  },
  {
   "cell_type": "markdown",
   "metadata": {},
   "source": [
    "#### OPERATIONS on DATES"
   ]
  },
  {
   "cell_type": "code",
   "execution_count": 92,
   "metadata": {},
   "outputs": [
    {
     "data": {
      "text/html": [
       "TRUE"
      ],
      "text/latex": [
       "TRUE"
      ],
      "text/markdown": [
       "TRUE"
      ],
      "text/plain": [
       "[1] TRUE"
      ]
     },
     "metadata": {},
     "output_type": "display_data"
    }
   ],
   "source": [
    "Sys.time() > t1"
   ]
  },
  {
   "cell_type": "code",
   "execution_count": 93,
   "metadata": {},
   "outputs": [
    {
     "data": {
      "text/html": [
       "FALSE"
      ],
      "text/latex": [
       "FALSE"
      ],
      "text/markdown": [
       "FALSE"
      ],
      "text/plain": [
       "[1] FALSE"
      ]
     },
     "metadata": {},
     "output_type": "display_data"
    }
   ],
   "source": [
    "Sys.time() < t1"
   ]
  },
  {
   "cell_type": "code",
   "execution_count": 94,
   "metadata": {},
   "outputs": [
    {
     "data": {
      "text/plain": [
       "Time difference of 11.00504 mins"
      ]
     },
     "metadata": {},
     "output_type": "display_data"
    }
   ],
   "source": [
    "Sys.time() - t1"
   ]
  },
  {
   "cell_type": "code",
   "execution_count": 99,
   "metadata": {},
   "outputs": [
    {
     "data": {
      "text/plain": [
       "Time difference of 0.00121299 weeks"
      ]
     },
     "metadata": {},
     "output_type": "display_data"
    }
   ],
   "source": [
    "# To specify the units, use difftime\n",
    "\n",
    "difftime(Sys.time(), t1,units = 'weeks')"
   ]
  },
  {
   "cell_type": "markdown",
   "metadata": {},
   "source": [
    "# BASE GRAPHICS"
   ]
  },
  {
   "cell_type": "code",
   "execution_count": 100,
   "metadata": {},
   "outputs": [],
   "source": [
    "data(cars)"
   ]
  },
  {
   "cell_type": "code",
   "execution_count": 101,
   "metadata": {},
   "outputs": [],
   "source": [
    "?cars"
   ]
  },
  {
   "cell_type": "code",
   "execution_count": 103,
   "metadata": {},
   "outputs": [
    {
     "data": {
      "text/html": [
       "<table>\n",
       "<thead><tr><th scope=col>speed</th><th scope=col>dist</th></tr></thead>\n",
       "<tbody>\n",
       "\t<tr><td>4 </td><td> 2</td></tr>\n",
       "\t<tr><td>4 </td><td>10</td></tr>\n",
       "\t<tr><td>7 </td><td> 4</td></tr>\n",
       "\t<tr><td>7 </td><td>22</td></tr>\n",
       "\t<tr><td>8 </td><td>16</td></tr>\n",
       "\t<tr><td>9 </td><td>10</td></tr>\n",
       "</tbody>\n",
       "</table>\n"
      ],
      "text/latex": [
       "\\begin{tabular}{r|ll}\n",
       " speed & dist\\\\\n",
       "\\hline\n",
       "\t 4  &  2\\\\\n",
       "\t 4  & 10\\\\\n",
       "\t 7  &  4\\\\\n",
       "\t 7  & 22\\\\\n",
       "\t 8  & 16\\\\\n",
       "\t 9  & 10\\\\\n",
       "\\end{tabular}\n"
      ],
      "text/markdown": [
       "\n",
       "speed | dist | \n",
       "|---|---|---|---|---|---|\n",
       "| 4  |  2 | \n",
       "| 4  | 10 | \n",
       "| 7  |  4 | \n",
       "| 7  | 22 | \n",
       "| 8  | 16 | \n",
       "| 9  | 10 | \n",
       "\n",
       "\n"
      ],
      "text/plain": [
       "  speed dist\n",
       "1 4      2  \n",
       "2 4     10  \n",
       "3 7      4  \n",
       "4 7     22  \n",
       "5 8     16  \n",
       "6 9     10  "
      ]
     },
     "metadata": {},
     "output_type": "display_data"
    }
   ],
   "source": [
    "head(cars)"
   ]
  },
  {
   "cell_type": "code",
   "execution_count": 104,
   "metadata": {},
   "outputs": [
    {
     "data": {
      "image/png": "[encoded data removed]",
      "text/plain": [
       "plot without title"
      ]
     },
     "metadata": {},
     "output_type": "display_data"
    }
   ],
   "source": [
    "plot(cars)"
   ]
  },
  {
   "cell_type": "markdown",
   "metadata": {},
   "source": [
    "plot is shortform for scatterplot"
   ]
  },
  {
   "cell_type": "code",
   "execution_count": 105,
   "metadata": {},
   "outputs": [],
   "source": [
    "?plot"
   ]
  },
  {
   "cell_type": "code",
   "execution_count": 106,
   "metadata": {},
   "outputs": [
    {
     "data": {
      "image/png": "[encoded data removed]",
      "text/plain": [
       "plot without title"
      ]
     },
     "metadata": {},
     "output_type": "display_data"
    }
   ],
   "source": [
    "plot(x = cars$dist, y = cars$speed)"
   ]
  },
  {
   "cell_type": "code",
   "execution_count": 107,
   "metadata": {},
   "outputs": [
    {
     "data": {
      "image/png": "[encoded data removed]",
      "text/plain": [
       "plot without title"
      ]
     },
     "metadata": {},
     "output_type": "display_data"
    }
   ],
   "source": [
    "plot(y = cars$dist, x = cars$speed, xlab = \"Speed\")"
   ]
  },
  {
   "cell_type": "code",
   "execution_count": 109,
   "metadata": {},
   "outputs": [
    {
     "data": {
      "image/png": "[encoded data removed]",
      "text/plain": [
       "plot without title"
      ]
     },
     "metadata": {},
     "output_type": "display_data"
    }
   ],
   "source": [
    "plot(y = cars$dist, x = cars$speed, xlab = \"Speed\", ylab = \"Stopping Distance\")"
   ]
  },
  {
   "cell_type": "code",
   "execution_count": 110,
   "metadata": {},
   "outputs": [
    {
     "data": {
      "image/png": "[encoded data removed]",
      "text/plain": [
       "Plot with title “My Plot”"
      ]
     },
     "metadata": {},
     "output_type": "display_data"
    }
   ],
   "source": [
    "# Plot title\n",
    "\n",
    "plot(cars, main = \"My Plot\")"
   ]
  },
  {
   "cell_type": "code",
   "execution_count": 111,
   "metadata": {},
   "outputs": [
    {
     "data": {
      "image/png": "[encoded data removed]",
      "text/plain": [
       "plot without title"
      ]
     },
     "metadata": {},
     "output_type": "display_data"
    }
   ],
   "source": [
    "# Plot subtitle\n",
    "\n",
    "plot(cars, sub = \"Subtitle\")"
   ]
  },
  {
   "cell_type": "code",
   "execution_count": 112,
   "metadata": {},
   "outputs": [],
   "source": [
    "?par"
   ]
  },
  {
   "cell_type": "code",
   "execution_count": 115,
   "metadata": {},
   "outputs": [
    {
     "data": {
      "image/png": "[encoded data removed]",
      "text/plain": [
       "plot without title"
      ]
     },
     "metadata": {},
     "output_type": "display_data"
    }
   ],
   "source": [
    "# Plot with red color\n",
    "\n",
    "plot(cars, col=2)"
   ]
  },
  {
   "cell_type": "code",
   "execution_count": 116,
   "metadata": {},
   "outputs": [
    {
     "data": {
      "image/png": "[encoded data removed]",
      "text/plain": [
       "plot without title"
      ]
     },
     "metadata": {},
     "output_type": "display_data"
    }
   ],
   "source": [
    "#Plot cars while limiting the x-axis to 10 through 15. (Use xlim = c(10, 15) to achieve this effect.)\n",
    "\n",
    "plot(cars, xlim = c(10,15))"
   ]
  },
  {
   "cell_type": "code",
   "execution_count": 117,
   "metadata": {},
   "outputs": [
    {
     "data": {
      "image/png": "[encoded data removed]",
      "text/plain": [
       "plot without title"
      ]
     },
     "metadata": {},
     "output_type": "display_data"
    }
   ],
   "source": [
    "# CHange the shape of the symbols in the plot\n",
    "\n",
    "plot(cars, pch = 2)"
   ]
  },
  {
   "cell_type": "markdown",
   "metadata": {},
   "source": [
    "# LOOPS"
   ]
  },
  {
   "cell_type": "markdown",
   "metadata": {},
   "source": [
    "For loops-\n",
    "- designed to iterate over data structures- vector, matrix, data frame\n",
    "- 2 ways to access the elements- by position, by element directly"
   ]
  },
  {
   "cell_type": "code",
   "execution_count": 119,
   "metadata": {},
   "outputs": [
    {
     "name": "stdout",
     "output_type": "stream",
     "text": [
      "[1] 1\n",
      "[1] 2\n",
      "[1] 3\n",
      "[1] 4\n",
      "[1] 5\n"
     ]
    }
   ],
   "source": [
    "a <- c(1,2,3,4,5)\n",
    "\n",
    "for(x in a){\n",
    "    print(x)\n",
    "}"
   ]
  },
  {
   "cell_type": "code",
   "execution_count": 120,
   "metadata": {},
   "outputs": [
    {
     "name": "stdout",
     "output_type": "stream",
     "text": [
      "[1] 1\n",
      "[1] 2\n",
      "[1] 3\n",
      "[1] 4\n",
      "[1] 5\n"
     ]
    }
   ],
   "source": [
    "for(p in 1:length(a)){\n",
    "    print(a[p])\n",
    "}"
   ]
  },
  {
   "cell_type": "markdown",
   "metadata": {},
   "source": [
    "### Looping over matrix"
   ]
  },
  {
   "cell_type": "code",
   "execution_count": 121,
   "metadata": {},
   "outputs": [],
   "source": [
    "b = matrix(c(1,2,3,4,5,6,7,8,9), ncol = 3, nrow = 3)"
   ]
  },
  {
   "cell_type": "code",
   "execution_count": 122,
   "metadata": {},
   "outputs": [
    {
     "data": {
      "text/html": [
       "<table>\n",
       "<tbody>\n",
       "\t<tr><td>1</td><td>4</td><td>7</td></tr>\n",
       "\t<tr><td>2</td><td>5</td><td>8</td></tr>\n",
       "\t<tr><td>3</td><td>6</td><td>9</td></tr>\n",
       "</tbody>\n",
       "</table>\n"
      ],
      "text/latex": [
       "\\begin{tabular}{lll}\n",
       "\t 1 & 4 & 7\\\\\n",
       "\t 2 & 5 & 8\\\\\n",
       "\t 3 & 6 & 9\\\\\n",
       "\\end{tabular}\n"
      ],
      "text/markdown": [
       "\n",
       "| 1 | 4 | 7 | \n",
       "| 2 | 5 | 8 | \n",
       "| 3 | 6 | 9 | \n",
       "\n",
       "\n"
      ],
      "text/plain": [
       "     [,1] [,2] [,3]\n",
       "[1,] 1    4    7   \n",
       "[2,] 2    5    8   \n",
       "[3,] 3    6    9   "
      ]
     },
     "metadata": {},
     "output_type": "display_data"
    }
   ],
   "source": [
    "b"
   ]
  },
  {
   "cell_type": "code",
   "execution_count": 125,
   "metadata": {},
   "outputs": [
    {
     "name": "stdout",
     "output_type": "stream",
     "text": [
      "[1] 1\n",
      "[1] 4\n",
      "[1] 7\n",
      "[1] 2\n",
      "[1] 5\n",
      "[1] 8\n",
      "[1] 3\n",
      "[1] 6\n",
      "[1] 9\n"
     ]
    }
   ],
   "source": [
    "for(i in 1:nrow(b)){\n",
    "    for(j in 1:ncol(b)){\n",
    "        print(b[i,j])\n",
    "    }\n",
    "}"
   ]
  },
  {
   "cell_type": "markdown",
   "metadata": {},
   "source": [
    "#### WHILE loop\n",
    "\n",
    "while loop tests a condition and executes a block of code if the condition is true. It keeps doing that until the condition becomes false."
   ]
  },
  {
   "cell_type": "code",
   "execution_count": 126,
   "metadata": {},
   "outputs": [],
   "source": [
    "c <- 1"
   ]
  },
  {
   "cell_type": "code",
   "execution_count": 127,
   "metadata": {},
   "outputs": [
    {
     "name": "stdout",
     "output_type": "stream",
     "text": [
      "[1] 1\n",
      "[1] 2\n",
      "[1] 3\n",
      "[1] 4\n"
     ]
    }
   ],
   "source": [
    "while(c < 5){\n",
    "    print(c)\n",
    "    c <- c + 1\n",
    "}"
   ]
  },
  {
   "cell_type": "markdown",
   "metadata": {},
   "source": [
    "# FACTORS"
   ]
  },
  {
   "cell_type": "markdown",
   "metadata": {},
   "source": [
    "Variables are -\n",
    "1. Continuous\n",
    "    a. Have any value within a range. \n",
    "    b. Number of distinct values is infinite. \n",
    "2. Categorical\n",
    "    a. Number of distinct values is finite\n",
    "    \n",
    "Categorical variables can be-\n",
    "1. Nominal\n",
    "    a. Do not imply the order. Just amount Ex. London, Paris\n",
    "2. Ordinal\n",
    "    a. Imply order not amount. Ex. poor, good, excellent\n",
    "    \n",
    "Nominal and Ordinal variables are called factors"
   ]
  },
  {
   "cell_type": "code",
   "execution_count": 128,
   "metadata": {},
   "outputs": [],
   "source": [
    "diabetes <- c(\"T1\",\"T2\",\"T3\",\"T4\")\n",
    "\n",
    "ndiabetes <- factor(diabetes)"
   ]
  },
  {
   "cell_type": "code",
   "execution_count": 129,
   "metadata": {},
   "outputs": [
    {
     "data": {
      "text/html": [
       "<ol class=list-inline>\n",
       "\t<li>T1</li>\n",
       "\t<li>T2</li>\n",
       "\t<li>T3</li>\n",
       "\t<li>T4</li>\n",
       "</ol>\n",
       "\n",
       "<details>\n",
       "\t<summary style=display:list-item;cursor:pointer>\n",
       "\t\t<strong>Levels</strong>:\n",
       "\t</summary>\n",
       "\t<ol class=list-inline>\n",
       "\t\t<li>'T1'</li>\n",
       "\t\t<li>'T2'</li>\n",
       "\t\t<li>'T3'</li>\n",
       "\t\t<li>'T4'</li>\n",
       "\t</ol>\n",
       "</details>"
      ],
      "text/latex": [
       "\\begin{enumerate*}\n",
       "\\item T1\n",
       "\\item T2\n",
       "\\item T3\n",
       "\\item T4\n",
       "\\end{enumerate*}\n",
       "\n",
       "\\emph{Levels}: \\begin{enumerate*}\n",
       "\\item 'T1'\n",
       "\\item 'T2'\n",
       "\\item 'T3'\n",
       "\\item 'T4'\n",
       "\\end{enumerate*}\n"
      ],
      "text/markdown": [
       "1. T1\n",
       "2. T2\n",
       "3. T3\n",
       "4. T4\n",
       "\n",
       "\n",
       "\n",
       "**Levels**: 1. 'T1'\n",
       "2. 'T2'\n",
       "3. 'T3'\n",
       "4. 'T4'\n",
       "\n",
       "\n"
      ],
      "text/plain": [
       "[1] T1 T2 T3 T4\n",
       "Levels: T1 T2 T3 T4"
      ]
     },
     "metadata": {},
     "output_type": "display_data"
    }
   ],
   "source": [
    "ndiabetes"
   ]
  },
  {
   "cell_type": "code",
   "execution_count": 130,
   "metadata": {},
   "outputs": [],
   "source": [
    "performance <- c(\"poor\",\"Improved\",\"Excellent\")"
   ]
  },
  {
   "cell_type": "code",
   "execution_count": 131,
   "metadata": {},
   "outputs": [],
   "source": [
    "operformance <- factor(performance, ordered = TRUE)"
   ]
  },
  {
   "cell_type": "code",
   "execution_count": 132,
   "metadata": {},
   "outputs": [
    {
     "data": {
      "text/html": [
       "<ol class=list-inline>\n",
       "\t<li>poor</li>\n",
       "\t<li>Improved</li>\n",
       "\t<li>Excellent</li>\n",
       "</ol>\n",
       "\n",
       "<details>\n",
       "\t<summary style=display:list-item;cursor:pointer>\n",
       "\t\t<strong>Levels</strong>:\n",
       "\t</summary>\n",
       "\t<ol class=list-inline>\n",
       "\t\t<li>'Excellent'</li>\n",
       "\t\t<li>'Improved'</li>\n",
       "\t\t<li>'poor'</li>\n",
       "\t</ol>\n",
       "</details>"
      ],
      "text/latex": [
       "\\begin{enumerate*}\n",
       "\\item poor\n",
       "\\item Improved\n",
       "\\item Excellent\n",
       "\\end{enumerate*}\n",
       "\n",
       "\\emph{Levels}: \\begin{enumerate*}\n",
       "\\item 'Excellent'\n",
       "\\item 'Improved'\n",
       "\\item 'poor'\n",
       "\\end{enumerate*}\n"
      ],
      "text/markdown": [
       "1. poor\n",
       "2. Improved\n",
       "3. Excellent\n",
       "\n",
       "\n",
       "\n",
       "**Levels**: 1. 'Excellent'\n",
       "2. 'Improved'\n",
       "3. 'poor'\n",
       "\n",
       "\n"
      ],
      "text/plain": [
       "[1] poor      Improved  Excellent\n",
       "Levels: Excellent < Improved < poor"
      ]
     },
     "metadata": {},
     "output_type": "display_data"
    }
   ],
   "source": [
    "operformance"
   ]
  },
  {
   "cell_type": "markdown",
   "metadata": {},
   "source": [
    "By default, factor levels for character vectors are created in alphabetical order. To override the default, you specify a ‘levels’ option in the factor() function.\n",
    "\n",
    "Assign the levels 1=Poor, 2=Improved, and 3=Excellent with levels=c(“Poor”, “Improved”, “Excellent”) as an option to factor() for ‘reverse_performance’ variable."
   ]
  },
  {
   "cell_type": "code",
   "execution_count": 133,
   "metadata": {},
   "outputs": [],
   "source": [
    "rperformance <- factor(performance, ordered = TRUE, levels = c(\"poor\",\"Improved\",\"Excellent\"))"
   ]
  },
  {
   "cell_type": "code",
   "execution_count": 134,
   "metadata": {},
   "outputs": [
    {
     "data": {
      "text/html": [
       "<ol class=list-inline>\n",
       "\t<li>poor</li>\n",
       "\t<li>Improved</li>\n",
       "\t<li>Excellent</li>\n",
       "</ol>\n",
       "\n",
       "<details>\n",
       "\t<summary style=display:list-item;cursor:pointer>\n",
       "\t\t<strong>Levels</strong>:\n",
       "\t</summary>\n",
       "\t<ol class=list-inline>\n",
       "\t\t<li>'poor'</li>\n",
       "\t\t<li>'Improved'</li>\n",
       "\t\t<li>'Excellent'</li>\n",
       "\t</ol>\n",
       "</details>"
      ],
      "text/latex": [
       "\\begin{enumerate*}\n",
       "\\item poor\n",
       "\\item Improved\n",
       "\\item Excellent\n",
       "\\end{enumerate*}\n",
       "\n",
       "\\emph{Levels}: \\begin{enumerate*}\n",
       "\\item 'poor'\n",
       "\\item 'Improved'\n",
       "\\item 'Excellent'\n",
       "\\end{enumerate*}\n"
      ],
      "text/markdown": [
       "1. poor\n",
       "2. Improved\n",
       "3. Excellent\n",
       "\n",
       "\n",
       "\n",
       "**Levels**: 1. 'poor'\n",
       "2. 'Improved'\n",
       "3. 'Excellent'\n",
       "\n",
       "\n"
      ],
      "text/plain": [
       "[1] poor      Improved  Excellent\n",
       "Levels: poor < Improved < Excellent"
      ]
     },
     "metadata": {},
     "output_type": "display_data"
    }
   ],
   "source": [
    "rperformance"
   ]
  },
  {
   "cell_type": "markdown",
   "metadata": {},
   "source": [
    "# DATA READING AND WRITING"
   ]
  },
  {
   "cell_type": "code",
   "execution_count": 141,
   "metadata": {},
   "outputs": [],
   "source": [
    "# Entering data from keyboard into a dataframe"
   ]
  },
  {
   "cell_type": "code",
   "execution_count": 2,
   "metadata": {},
   "outputs": [],
   "source": [
    "my_df <- data.frame(age = numeric(0), gender = character(), weight = numeric(0))"
   ]
  },
  {
   "cell_type": "code",
   "execution_count": 3,
   "metadata": {},
   "outputs": [],
   "source": [
    "my_df <- data.frame(age = c(2), gender = c(\"Female\"), weight = c(50))"
   ]
  },
  {
   "cell_type": "code",
   "execution_count": 4,
   "metadata": {},
   "outputs": [
    {
     "data": {
      "text/html": [
       "<table>\n",
       "<thead><tr><th scope=col>age</th><th scope=col>gender</th><th scope=col>weight</th></tr></thead>\n",
       "<tbody>\n",
       "\t<tr><td>2     </td><td>Female</td><td>50    </td></tr>\n",
       "</tbody>\n",
       "</table>\n"
      ],
      "text/latex": [
       "\\begin{tabular}{r|lll}\n",
       " age & gender & weight\\\\\n",
       "\\hline\n",
       "\t 2      & Female & 50    \\\\\n",
       "\\end{tabular}\n"
      ],
      "text/markdown": [
       "\n",
       "age | gender | weight | \n",
       "|---|\n",
       "| 2      | Female | 50     | \n",
       "\n",
       "\n"
      ],
      "text/plain": [
       "  age gender weight\n",
       "1 2   Female 50    "
      ]
     },
     "metadata": {},
     "output_type": "display_data"
    }
   ],
   "source": [
    "my_df"
   ]
  },
  {
   "cell_type": "markdown",
   "metadata": {},
   "source": [
    "use edit(my_df) to input data in a blank data frame."
   ]
  },
  {
   "cell_type": "markdown",
   "metadata": {},
   "source": [
    "### Import data from a delimited text file"
   ]
  },
  {
   "cell_type": "code",
   "execution_count": 5,
   "metadata": {},
   "outputs": [
    {
     "name": "stdout",
     "output_type": "stream",
     "text": [
      "\n",
      "rd.tbl> ## using count.fields to handle unknown maximum number of fields\n",
      "rd.tbl> ## when fill = TRUE\n",
      "rd.tbl> test1 <- c(1:5, \"6,7\", \"8,9,10\")\n",
      "\n",
      "rd.tbl> tf <- tempfile()\n",
      "\n",
      "rd.tbl> writeLines(test1, tf)\n",
      "\n",
      "rd.tbl> read.csv(tf, fill = TRUE) # 1 column\n",
      "  X1\n",
      "1  2\n",
      "2  3\n",
      "3  4\n",
      "4  5\n",
      "5  6\n",
      "6  7\n",
      "7  8\n",
      "8  9\n",
      "9 10\n",
      "\n",
      "rd.tbl> ncol <- max(count.fields(tf, sep = \",\"))\n",
      "\n",
      "rd.tbl> read.csv(tf, fill = TRUE, header = FALSE,\n",
      "rd.tbl+          col.names = paste0(\"V\", seq_len(ncol)))\n",
      "  V1 V2 V3\n",
      "1  1 NA NA\n",
      "2  2 NA NA\n",
      "3  3 NA NA\n",
      "4  4 NA NA\n",
      "5  5 NA NA\n",
      "6  6  7 NA\n",
      "7  8  9 10\n",
      "\n",
      "rd.tbl> unlink(tf)\n",
      "\n",
      "rd.tbl> ## \"Inline\" data set, using text=\n",
      "rd.tbl> ## Notice that leading and trailing empty lines are auto-trimmed\n",
      "rd.tbl> \n",
      "rd.tbl> read.table(header = TRUE, text = \"\n",
      "rd.tbl+ a b\n",
      "rd.tbl+ 1 2\n",
      "rd.tbl+ 3 4\n",
      "rd.tbl+ \")\n",
      "  a b\n",
      "1 1 2\n",
      "2 3 4\n"
     ]
    }
   ],
   "source": [
    "example(read.table)"
   ]
  },
  {
   "cell_type": "code",
   "execution_count": 7,
   "metadata": {},
   "outputs": [
    {
     "data": {
      "text/html": [
       "<ol class=list-inline>\n",
       "\t<li>'Functions.ipynb'</li>\n",
       "\t<li>'functions.R'</li>\n",
       "\t<li>'Objects-Coercion-2.ipynb'</li>\n",
       "\t<li>'Objects-Coercion1.ipynb'</li>\n",
       "\t<li>'plants.txt'</li>\n",
       "\t<li>'R-Notes_1.ipynb'</li>\n",
       "\t<li>'R-notes_2.ipynb'</li>\n",
       "\t<li>'temp.R'</li>\n",
       "\t<li>'testdir'</li>\n",
       "\t<li>'Vectorization.ipynb'</li>\n",
       "\t<li>'x.R'</li>\n",
       "</ol>\n"
      ],
      "text/latex": [
       "\\begin{enumerate*}\n",
       "\\item 'Functions.ipynb'\n",
       "\\item 'functions.R'\n",
       "\\item 'Objects-Coercion-2.ipynb'\n",
       "\\item 'Objects-Coercion1.ipynb'\n",
       "\\item 'plants.txt'\n",
       "\\item 'R-Notes\\_1.ipynb'\n",
       "\\item 'R-notes\\_2.ipynb'\n",
       "\\item 'temp.R'\n",
       "\\item 'testdir'\n",
       "\\item 'Vectorization.ipynb'\n",
       "\\item 'x.R'\n",
       "\\end{enumerate*}\n"
      ],
      "text/markdown": [
       "1. 'Functions.ipynb'\n",
       "2. 'functions.R'\n",
       "3. 'Objects-Coercion-2.ipynb'\n",
       "4. 'Objects-Coercion1.ipynb'\n",
       "5. 'plants.txt'\n",
       "6. 'R-Notes_1.ipynb'\n",
       "7. 'R-notes_2.ipynb'\n",
       "8. 'temp.R'\n",
       "9. 'testdir'\n",
       "10. 'Vectorization.ipynb'\n",
       "11. 'x.R'\n",
       "\n",
       "\n"
      ],
      "text/plain": [
       " [1] \"Functions.ipynb\"          \"functions.R\"             \n",
       " [3] \"Objects-Coercion-2.ipynb\" \"Objects-Coercion1.ipynb\" \n",
       " [5] \"plants.txt\"               \"R-Notes_1.ipynb\"         \n",
       " [7] \"R-notes_2.ipynb\"          \"temp.R\"                  \n",
       " [9] \"testdir\"                  \"Vectorization.ipynb\"     \n",
       "[11] \"x.R\"                     "
      ]
     },
     "metadata": {},
     "output_type": "display_data"
    }
   ],
   "source": [
    "list.files()"
   ]
  },
  {
   "cell_type": "code",
   "execution_count": 8,
   "metadata": {},
   "outputs": [
    {
     "data": {
      "text/html": [
       "TRUE"
      ],
      "text/latex": [
       "TRUE"
      ],
      "text/markdown": [
       "TRUE"
      ],
      "text/plain": [
       "[1] TRUE"
      ]
     },
     "metadata": {},
     "output_type": "display_data"
    }
   ],
   "source": [
    "file.exists('plants.txt')"
   ]
  },
  {
   "cell_type": "code",
   "execution_count": 9,
   "metadata": {},
   "outputs": [],
   "source": [
    "plants <- read.table('plants.txt', header = TRUE, sep = \",\")"
   ]
  },
  {
   "cell_type": "code",
   "execution_count": 10,
   "metadata": {},
   "outputs": [
    {
     "data": {
      "text/html": [
       "<ol class=list-inline>\n",
       "\t<li>'Accepted.Symbol'</li>\n",
       "\t<li>'Synonym.Symbol'</li>\n",
       "\t<li>'Scientific.Name'</li>\n",
       "\t<li>'Duration'</li>\n",
       "\t<li>'Active.Growth.Period'</li>\n",
       "\t<li>'Foliage.Color'</li>\n",
       "\t<li>'pH..Minimum.'</li>\n",
       "\t<li>'pH..Maximum.'</li>\n",
       "\t<li>'Precipitation..Minimum.'</li>\n",
       "\t<li>'Precipitation..Maximum.'</li>\n",
       "\t<li>'Shade.Tolerance'</li>\n",
       "\t<li>'Temperature..Minimum...F.'</li>\n",
       "</ol>\n"
      ],
      "text/latex": [
       "\\begin{enumerate*}\n",
       "\\item 'Accepted.Symbol'\n",
       "\\item 'Synonym.Symbol'\n",
       "\\item 'Scientific.Name'\n",
       "\\item 'Duration'\n",
       "\\item 'Active.Growth.Period'\n",
       "\\item 'Foliage.Color'\n",
       "\\item 'pH..Minimum.'\n",
       "\\item 'pH..Maximum.'\n",
       "\\item 'Precipitation..Minimum.'\n",
       "\\item 'Precipitation..Maximum.'\n",
       "\\item 'Shade.Tolerance'\n",
       "\\item 'Temperature..Minimum...F.'\n",
       "\\end{enumerate*}\n"
      ],
      "text/markdown": [
       "1. 'Accepted.Symbol'\n",
       "2. 'Synonym.Symbol'\n",
       "3. 'Scientific.Name'\n",
       "4. 'Duration'\n",
       "5. 'Active.Growth.Period'\n",
       "6. 'Foliage.Color'\n",
       "7. 'pH..Minimum.'\n",
       "8. 'pH..Maximum.'\n",
       "9. 'Precipitation..Minimum.'\n",
       "10. 'Precipitation..Maximum.'\n",
       "11. 'Shade.Tolerance'\n",
       "12. 'Temperature..Minimum...F.'\n",
       "\n",
       "\n"
      ],
      "text/plain": [
       " [1] \"Accepted.Symbol\"           \"Synonym.Symbol\"           \n",
       " [3] \"Scientific.Name\"           \"Duration\"                 \n",
       " [5] \"Active.Growth.Period\"      \"Foliage.Color\"            \n",
       " [7] \"pH..Minimum.\"              \"pH..Maximum.\"             \n",
       " [9] \"Precipitation..Minimum.\"   \"Precipitation..Maximum.\"  \n",
       "[11] \"Shade.Tolerance\"           \"Temperature..Minimum...F.\""
      ]
     },
     "metadata": {},
     "output_type": "display_data"
    }
   ],
   "source": [
    "names(plants)"
   ]
  },
  {
   "cell_type": "markdown",
   "metadata": {},
   "source": [
    "colnames(my_flags) <- c(\"name\", \"landmass\", \"zone\", \"area\", \"population\", \"language\", \"religion\", \"bars\", \"stripes\", \"colours\", \"red\", \"green\", \"blue\", \"gold\", \"white\", \"black\", \"orange\", \"mainhue\", \"circles\", \"crosses\", \"saltires\", \"quarters\", \"sunstars\", \"crescent\", \"triangle\", \"icon\", \"animate\", \"text\", \"topleft\", \"botright\")"
   ]
  },
  {
   "cell_type": "markdown",
   "metadata": {},
   "source": [
    "IMPORTANT NOTE: By default, character variables are converted to factors. To suppress this behavior, pass ‘stringAsFactor=FALSE’ as an option to the read.table() function. Alternatively, you can use ‘colClasses’ option to specify a class (e.g., logical, numeric, character, factor) for each column: for example, colClasses=c(“logical”, “numeric”, “character”)"
   ]
  },
  {
   "cell_type": "markdown",
   "metadata": {},
   "source": [
    "### Importing from a CSV file"
   ]
  },
  {
   "cell_type": "code",
   "execution_count": 11,
   "metadata": {},
   "outputs": [],
   "source": [
    "urlCSV <- \"http://www.jaredlander.com/data/Tomato%20First.csv\""
   ]
  },
  {
   "cell_type": "code",
   "execution_count": 12,
   "metadata": {},
   "outputs": [],
   "source": [
    "tomato <- read.csv(urlCSV)"
   ]
  },
  {
   "cell_type": "code",
   "execution_count": 13,
   "metadata": {},
   "outputs": [
    {
     "data": {
      "text/html": [
       "<table>\n",
       "<thead><tr><th scope=col>Round</th><th scope=col>Tomato</th><th scope=col>Price</th><th scope=col>Source</th><th scope=col>Sweet</th><th scope=col>Acid</th><th scope=col>Color</th><th scope=col>Texture</th><th scope=col>Overall</th><th scope=col>Avg.of.Totals</th><th scope=col>Total.of.Avg</th></tr></thead>\n",
       "<tbody>\n",
       "\t<tr><td>1                       </td><td>Simpson SM              </td><td> 3.99                   </td><td>Whole Foods             </td><td>2.8                     </td><td>2.8                     </td><td>3.7                     </td><td>3.4                     </td><td>3.4                     </td><td>16.1                    </td><td>16.1                    </td></tr>\n",
       "\t<tr><td>1                       </td><td>Tuttorosso (blue)       </td><td> 2.99                   </td><td>Pioneer                 </td><td>3.3                     </td><td>2.8                     </td><td>3.4                     </td><td>3.0                     </td><td>2.9                     </td><td>15.3                    </td><td>15.3                    </td></tr>\n",
       "\t<tr><td>1                       </td><td>Tuttorosso (green)      </td><td> 0.99                   </td><td>Pioneer                 </td><td>2.8                     </td><td>2.6                     </td><td>3.3                     </td><td>2.8                     </td><td>2.9                     </td><td>14.3                    </td><td>14.3                    </td></tr>\n",
       "\t<tr><td>1                       </td><td>La Fede SM DOP          </td><td> 3.99                   </td><td>Shop Rite               </td><td>2.6                     </td><td>2.8                     </td><td>3.0                     </td><td>2.3                     </td><td>2.8                     </td><td>13.4                    </td><td>13.4                    </td></tr>\n",
       "\t<tr><td>2                       </td><td>Cento SM DOP            </td><td> 5.49                   </td><td>D Agostino              </td><td>3.3                     </td><td>3.1                     </td><td>2.9                     </td><td>2.8                     </td><td>3.1                     </td><td>14.4                    </td><td>15.2                    </td></tr>\n",
       "\t<tr><td>2                       </td><td>Cento Organic           </td><td> 4.99                   </td><td>D Agostino              </td><td>3.2                     </td><td>2.9                     </td><td>2.9                     </td><td>3.1                     </td><td>2.9                     </td><td>15.5                    </td><td>15.1                    </td></tr>\n",
       "\t<tr><td>2                       </td><td>La Valle SM             </td><td> 3.99                   </td><td>Shop Rite               </td><td>2.6                     </td><td>2.8                     </td><td>3.6                     </td><td>3.4                     </td><td>2.6                     </td><td>14.7                    </td><td>14.9                    </td></tr>\n",
       "\t<tr><td>2                       </td><td>La Valle SM DOP         </td><td> 3.99                   </td><td>Faicos                  </td><td>2.1                     </td><td>2.7                     </td><td>3.1                     </td><td>2.4                     </td><td>2.2                     </td><td>12.6                    </td><td>12.5                    </td></tr>\n",
       "\t<tr><td>3                       </td><td>Stanislaus Alta Cucina  </td><td> 4.53                   </td><td>Restaurant Depot        </td><td>3.4                     </td><td>3.3                     </td><td>4.1                     </td><td>3.2                     </td><td>3.7                     </td><td>17.8                    </td><td>17.7                    </td></tr>\n",
       "\t<tr><td>3                       </td><td>Ciao                    </td><td>   NA                   </td><td>Other                   </td><td>2.6                     </td><td>2.9                     </td><td>3.4                     </td><td>3.3                     </td><td>2.9                     </td><td>15.3                    </td><td>15.2                    </td></tr>\n",
       "\t<tr><td>3                       </td><td>Scotts Backyard SM      </td><td> 0.00                   </td><td>Home Grown              </td><td>1.6                     </td><td>2.9                     </td><td>3.1                     </td><td>2.4                     </td><td>1.9                     </td><td>11.9                    </td><td>11.9                    </td></tr>\n",
       "\t<tr><td>3                       </td><td>Di Casa Barone (organic)</td><td>12.80                   </td><td>Eataly                  </td><td>1.7                     </td><td>3.6                     </td><td>3.8                     </td><td>2.3                     </td><td>1.4                     </td><td>12.7                    </td><td>12.7                    </td></tr>\n",
       "\t<tr><td>4                       </td><td>Trader Joes Plum        </td><td> 1.49                   </td><td>Trader Joes             </td><td>3.4                     </td><td>3.3                     </td><td>4.0                     </td><td>3.6                     </td><td>3.9                     </td><td>17.8                    </td><td>18.2                    </td></tr>\n",
       "\t<tr><td>4                       </td><td>365 Whole Foods         </td><td> 1.49                   </td><td>Whole Foods             </td><td>2.8                     </td><td>2.7                     </td><td>3.4                     </td><td>3.1                     </td><td>3.1                     </td><td>14.8                    </td><td>15.2                    </td></tr>\n",
       "\t<tr><td>4                       </td><td>Muir Glen Organic       </td><td> 3.19                   </td><td>Whole Foods             </td><td>2.9                     </td><td>2.8                     </td><td>2.7                     </td><td>3.2                     </td><td>3.1                     </td><td>14.8                    </td><td>14.7                    </td></tr>\n",
       "\t<tr><td>4                       </td><td>Bionature Organic       </td><td> 3.39                   </td><td>Whole Foods             </td><td>2.4                     </td><td>3.3                     </td><td>3.4                     </td><td>3.2                     </td><td>2.8                     </td><td>15.1                    </td><td>15.2                    </td></tr>\n",
       "</tbody>\n",
       "</table>\n"
      ],
      "text/latex": [
       "\\begin{tabular}{r|lllllllllll}\n",
       " Round & Tomato & Price & Source & Sweet & Acid & Color & Texture & Overall & Avg.of.Totals & Total.of.Avg\\\\\n",
       "\\hline\n",
       "\t 1                        & Simpson SM               &  3.99                    & Whole Foods              & 2.8                      & 2.8                      & 3.7                      & 3.4                      & 3.4                      & 16.1                     & 16.1                    \\\\\n",
       "\t 1                        & Tuttorosso (blue)        &  2.99                    & Pioneer                  & 3.3                      & 2.8                      & 3.4                      & 3.0                      & 2.9                      & 15.3                     & 15.3                    \\\\\n",
       "\t 1                        & Tuttorosso (green)       &  0.99                    & Pioneer                  & 2.8                      & 2.6                      & 3.3                      & 2.8                      & 2.9                      & 14.3                     & 14.3                    \\\\\n",
       "\t 1                        & La Fede SM DOP           &  3.99                    & Shop Rite                & 2.6                      & 2.8                      & 3.0                      & 2.3                      & 2.8                      & 13.4                     & 13.4                    \\\\\n",
       "\t 2                        & Cento SM DOP             &  5.49                    & D Agostino               & 3.3                      & 3.1                      & 2.9                      & 2.8                      & 3.1                      & 14.4                     & 15.2                    \\\\\n",
       "\t 2                        & Cento Organic            &  4.99                    & D Agostino               & 3.2                      & 2.9                      & 2.9                      & 3.1                      & 2.9                      & 15.5                     & 15.1                    \\\\\n",
       "\t 2                        & La Valle SM              &  3.99                    & Shop Rite                & 2.6                      & 2.8                      & 3.6                      & 3.4                      & 2.6                      & 14.7                     & 14.9                    \\\\\n",
       "\t 2                        & La Valle SM DOP          &  3.99                    & Faicos                   & 2.1                      & 2.7                      & 3.1                      & 2.4                      & 2.2                      & 12.6                     & 12.5                    \\\\\n",
       "\t 3                        & Stanislaus Alta Cucina   &  4.53                    & Restaurant Depot         & 3.4                      & 3.3                      & 4.1                      & 3.2                      & 3.7                      & 17.8                     & 17.7                    \\\\\n",
       "\t 3                        & Ciao                     &    NA                    & Other                    & 2.6                      & 2.9                      & 3.4                      & 3.3                      & 2.9                      & 15.3                     & 15.2                    \\\\\n",
       "\t 3                        & Scotts Backyard SM       &  0.00                    & Home Grown               & 1.6                      & 2.9                      & 3.1                      & 2.4                      & 1.9                      & 11.9                     & 11.9                    \\\\\n",
       "\t 3                        & Di Casa Barone (organic) & 12.80                    & Eataly                   & 1.7                      & 3.6                      & 3.8                      & 2.3                      & 1.4                      & 12.7                     & 12.7                    \\\\\n",
       "\t 4                        & Trader Joes Plum         &  1.49                    & Trader Joes              & 3.4                      & 3.3                      & 4.0                      & 3.6                      & 3.9                      & 17.8                     & 18.2                    \\\\\n",
       "\t 4                        & 365 Whole Foods          &  1.49                    & Whole Foods              & 2.8                      & 2.7                      & 3.4                      & 3.1                      & 3.1                      & 14.8                     & 15.2                    \\\\\n",
       "\t 4                        & Muir Glen Organic        &  3.19                    & Whole Foods              & 2.9                      & 2.8                      & 2.7                      & 3.2                      & 3.1                      & 14.8                     & 14.7                    \\\\\n",
       "\t 4                        & Bionature Organic        &  3.39                    & Whole Foods              & 2.4                      & 3.3                      & 3.4                      & 3.2                      & 2.8                      & 15.1                     & 15.2                    \\\\\n",
       "\\end{tabular}\n"
      ],
      "text/markdown": [
       "\n",
       "Round | Tomato | Price | Source | Sweet | Acid | Color | Texture | Overall | Avg.of.Totals | Total.of.Avg | \n",
       "|---|---|---|---|---|---|---|---|---|---|---|---|---|---|---|---|\n",
       "| 1                        | Simpson SM               |  3.99                    | Whole Foods              | 2.8                      | 2.8                      | 3.7                      | 3.4                      | 3.4                      | 16.1                     | 16.1                     | \n",
       "| 1                        | Tuttorosso (blue)        |  2.99                    | Pioneer                  | 3.3                      | 2.8                      | 3.4                      | 3.0                      | 2.9                      | 15.3                     | 15.3                     | \n",
       "| 1                        | Tuttorosso (green)       |  0.99                    | Pioneer                  | 2.8                      | 2.6                      | 3.3                      | 2.8                      | 2.9                      | 14.3                     | 14.3                     | \n",
       "| 1                        | La Fede SM DOP           |  3.99                    | Shop Rite                | 2.6                      | 2.8                      | 3.0                      | 2.3                      | 2.8                      | 13.4                     | 13.4                     | \n",
       "| 2                        | Cento SM DOP             |  5.49                    | D Agostino               | 3.3                      | 3.1                      | 2.9                      | 2.8                      | 3.1                      | 14.4                     | 15.2                     | \n",
       "| 2                        | Cento Organic            |  4.99                    | D Agostino               | 3.2                      | 2.9                      | 2.9                      | 3.1                      | 2.9                      | 15.5                     | 15.1                     | \n",
       "| 2                        | La Valle SM              |  3.99                    | Shop Rite                | 2.6                      | 2.8                      | 3.6                      | 3.4                      | 2.6                      | 14.7                     | 14.9                     | \n",
       "| 2                        | La Valle SM DOP          |  3.99                    | Faicos                   | 2.1                      | 2.7                      | 3.1                      | 2.4                      | 2.2                      | 12.6                     | 12.5                     | \n",
       "| 3                        | Stanislaus Alta Cucina   |  4.53                    | Restaurant Depot         | 3.4                      | 3.3                      | 4.1                      | 3.2                      | 3.7                      | 17.8                     | 17.7                     | \n",
       "| 3                        | Ciao                     |    NA                    | Other                    | 2.6                      | 2.9                      | 3.4                      | 3.3                      | 2.9                      | 15.3                     | 15.2                     | \n",
       "| 3                        | Scotts Backyard SM       |  0.00                    | Home Grown               | 1.6                      | 2.9                      | 3.1                      | 2.4                      | 1.9                      | 11.9                     | 11.9                     | \n",
       "| 3                        | Di Casa Barone (organic) | 12.80                    | Eataly                   | 1.7                      | 3.6                      | 3.8                      | 2.3                      | 1.4                      | 12.7                     | 12.7                     | \n",
       "| 4                        | Trader Joes Plum         |  1.49                    | Trader Joes              | 3.4                      | 3.3                      | 4.0                      | 3.6                      | 3.9                      | 17.8                     | 18.2                     | \n",
       "| 4                        | 365 Whole Foods          |  1.49                    | Whole Foods              | 2.8                      | 2.7                      | 3.4                      | 3.1                      | 3.1                      | 14.8                     | 15.2                     | \n",
       "| 4                        | Muir Glen Organic        |  3.19                    | Whole Foods              | 2.9                      | 2.8                      | 2.7                      | 3.2                      | 3.1                      | 14.8                     | 14.7                     | \n",
       "| 4                        | Bionature Organic        |  3.39                    | Whole Foods              | 2.4                      | 3.3                      | 3.4                      | 3.2                      | 2.8                      | 15.1                     | 15.2                     | \n",
       "\n",
       "\n"
      ],
      "text/plain": [
       "   Round Tomato                   Price Source           Sweet Acid Color\n",
       "1  1     Simpson SM                3.99 Whole Foods      2.8   2.8  3.7  \n",
       "2  1     Tuttorosso (blue)         2.99 Pioneer          3.3   2.8  3.4  \n",
       "3  1     Tuttorosso (green)        0.99 Pioneer          2.8   2.6  3.3  \n",
       "4  1     La Fede SM DOP            3.99 Shop Rite        2.6   2.8  3.0  \n",
       "5  2     Cento SM DOP              5.49 D Agostino       3.3   3.1  2.9  \n",
       "6  2     Cento Organic             4.99 D Agostino       3.2   2.9  2.9  \n",
       "7  2     La Valle SM               3.99 Shop Rite        2.6   2.8  3.6  \n",
       "8  2     La Valle SM DOP           3.99 Faicos           2.1   2.7  3.1  \n",
       "9  3     Stanislaus Alta Cucina    4.53 Restaurant Depot 3.4   3.3  4.1  \n",
       "10 3     Ciao                        NA Other            2.6   2.9  3.4  \n",
       "11 3     Scotts Backyard SM        0.00 Home Grown       1.6   2.9  3.1  \n",
       "12 3     Di Casa Barone (organic) 12.80 Eataly           1.7   3.6  3.8  \n",
       "13 4     Trader Joes Plum          1.49 Trader Joes      3.4   3.3  4.0  \n",
       "14 4     365 Whole Foods           1.49 Whole Foods      2.8   2.7  3.4  \n",
       "15 4     Muir Glen Organic         3.19 Whole Foods      2.9   2.8  2.7  \n",
       "16 4     Bionature Organic         3.39 Whole Foods      2.4   3.3  3.4  \n",
       "   Texture Overall Avg.of.Totals Total.of.Avg\n",
       "1  3.4     3.4     16.1          16.1        \n",
       "2  3.0     2.9     15.3          15.3        \n",
       "3  2.8     2.9     14.3          14.3        \n",
       "4  2.3     2.8     13.4          13.4        \n",
       "5  2.8     3.1     14.4          15.2        \n",
       "6  3.1     2.9     15.5          15.1        \n",
       "7  3.4     2.6     14.7          14.9        \n",
       "8  2.4     2.2     12.6          12.5        \n",
       "9  3.2     3.7     17.8          17.7        \n",
       "10 3.3     2.9     15.3          15.2        \n",
       "11 2.4     1.9     11.9          11.9        \n",
       "12 2.3     1.4     12.7          12.7        \n",
       "13 3.6     3.9     17.8          18.2        \n",
       "14 3.1     3.1     14.8          15.2        \n",
       "15 3.2     3.1     14.8          14.7        \n",
       "16 3.2     2.8     15.1          15.2        "
      ]
     },
     "metadata": {},
     "output_type": "display_data"
    }
   ],
   "source": [
    "tomato"
   ]
  },
  {
   "cell_type": "code",
   "execution_count": 14,
   "metadata": {},
   "outputs": [],
   "source": [
    "write.csv(tomato, file = \"tomato.txt\")"
   ]
  },
  {
   "cell_type": "code",
   "execution_count": 15,
   "metadata": {},
   "outputs": [
    {
     "data": {
      "text/html": [
       "<ol class=list-inline>\n",
       "\t<li>'Functions.ipynb'</li>\n",
       "\t<li>'functions.R'</li>\n",
       "\t<li>'Objects-Coercion-2.ipynb'</li>\n",
       "\t<li>'Objects-Coercion1.ipynb'</li>\n",
       "\t<li>'plants.txt'</li>\n",
       "\t<li>'R-Notes_1.ipynb'</li>\n",
       "\t<li>'R-notes_2.ipynb'</li>\n",
       "\t<li>'temp.R'</li>\n",
       "\t<li>'testdir'</li>\n",
       "\t<li>'tomato.txt'</li>\n",
       "\t<li>'Vectorization.ipynb'</li>\n",
       "\t<li>'x.R'</li>\n",
       "</ol>\n"
      ],
      "text/latex": [
       "\\begin{enumerate*}\n",
       "\\item 'Functions.ipynb'\n",
       "\\item 'functions.R'\n",
       "\\item 'Objects-Coercion-2.ipynb'\n",
       "\\item 'Objects-Coercion1.ipynb'\n",
       "\\item 'plants.txt'\n",
       "\\item 'R-Notes\\_1.ipynb'\n",
       "\\item 'R-notes\\_2.ipynb'\n",
       "\\item 'temp.R'\n",
       "\\item 'testdir'\n",
       "\\item 'tomato.txt'\n",
       "\\item 'Vectorization.ipynb'\n",
       "\\item 'x.R'\n",
       "\\end{enumerate*}\n"
      ],
      "text/markdown": [
       "1. 'Functions.ipynb'\n",
       "2. 'functions.R'\n",
       "3. 'Objects-Coercion-2.ipynb'\n",
       "4. 'Objects-Coercion1.ipynb'\n",
       "5. 'plants.txt'\n",
       "6. 'R-Notes_1.ipynb'\n",
       "7. 'R-notes_2.ipynb'\n",
       "8. 'temp.R'\n",
       "9. 'testdir'\n",
       "10. 'tomato.txt'\n",
       "11. 'Vectorization.ipynb'\n",
       "12. 'x.R'\n",
       "\n",
       "\n"
      ],
      "text/plain": [
       " [1] \"Functions.ipynb\"          \"functions.R\"             \n",
       " [3] \"Objects-Coercion-2.ipynb\" \"Objects-Coercion1.ipynb\" \n",
       " [5] \"plants.txt\"               \"R-Notes_1.ipynb\"         \n",
       " [7] \"R-notes_2.ipynb\"          \"temp.R\"                  \n",
       " [9] \"testdir\"                  \"tomato.txt\"              \n",
       "[11] \"Vectorization.ipynb\"      \"x.R\"                     "
      ]
     },
     "metadata": {},
     "output_type": "display_data"
    }
   ],
   "source": [
    "list.files()"
   ]
  },
  {
   "cell_type": "code",
   "execution_count": 16,
   "metadata": {},
   "outputs": [],
   "source": [
    "# You could save the object into the memory and then later remove it\n",
    "\n",
    "save(tomato, file = \"tomato.RData\")"
   ]
  },
  {
   "cell_type": "code",
   "execution_count": 17,
   "metadata": {},
   "outputs": [],
   "source": [
    "rm(tomato)"
   ]
  },
  {
   "cell_type": "code",
   "execution_count": 18,
   "metadata": {},
   "outputs": [
    {
     "data": {
      "text/html": [
       "<ol class=list-inline>\n",
       "\t<li>'my_df'</li>\n",
       "\t<li>'mymath'</li>\n",
       "\t<li>'myprod'</li>\n",
       "\t<li>'ncol'</li>\n",
       "\t<li>'plants'</li>\n",
       "\t<li>'test1'</li>\n",
       "\t<li>'tf'</li>\n",
       "\t<li>'urlCSV'</li>\n",
       "</ol>\n"
      ],
      "text/latex": [
       "\\begin{enumerate*}\n",
       "\\item 'my\\_df'\n",
       "\\item 'mymath'\n",
       "\\item 'myprod'\n",
       "\\item 'ncol'\n",
       "\\item 'plants'\n",
       "\\item 'test1'\n",
       "\\item 'tf'\n",
       "\\item 'urlCSV'\n",
       "\\end{enumerate*}\n"
      ],
      "text/markdown": [
       "1. 'my_df'\n",
       "2. 'mymath'\n",
       "3. 'myprod'\n",
       "4. 'ncol'\n",
       "5. 'plants'\n",
       "6. 'test1'\n",
       "7. 'tf'\n",
       "8. 'urlCSV'\n",
       "\n",
       "\n"
      ],
      "text/plain": [
       "[1] \"my_df\"  \"mymath\" \"myprod\" \"ncol\"   \"plants\" \"test1\"  \"tf\"     \"urlCSV\""
      ]
     },
     "metadata": {},
     "output_type": "display_data"
    }
   ],
   "source": [
    "ls()"
   ]
  },
  {
   "cell_type": "code",
   "execution_count": 19,
   "metadata": {},
   "outputs": [
    {
     "ename": "ERROR",
     "evalue": "Error in eval(expr, envir, enclos): object 'tomato' not found\n",
     "output_type": "error",
     "traceback": [
      "Error in eval(expr, envir, enclos): object 'tomato' not found\nTraceback:\n"
     ]
    }
   ],
   "source": [
    "tomato"
   ]
  },
  {
   "cell_type": "code",
   "execution_count": 20,
   "metadata": {},
   "outputs": [],
   "source": [
    "load(\"tomato.RData\")"
   ]
  },
  {
   "cell_type": "code",
   "execution_count": 21,
   "metadata": {},
   "outputs": [
    {
     "data": {
      "text/html": [
       "<table>\n",
       "<thead><tr><th scope=col>Round</th><th scope=col>Tomato</th><th scope=col>Price</th><th scope=col>Source</th><th scope=col>Sweet</th><th scope=col>Acid</th><th scope=col>Color</th><th scope=col>Texture</th><th scope=col>Overall</th><th scope=col>Avg.of.Totals</th><th scope=col>Total.of.Avg</th></tr></thead>\n",
       "<tbody>\n",
       "\t<tr><td>1                       </td><td>Simpson SM              </td><td> 3.99                   </td><td>Whole Foods             </td><td>2.8                     </td><td>2.8                     </td><td>3.7                     </td><td>3.4                     </td><td>3.4                     </td><td>16.1                    </td><td>16.1                    </td></tr>\n",
       "\t<tr><td>1                       </td><td>Tuttorosso (blue)       </td><td> 2.99                   </td><td>Pioneer                 </td><td>3.3                     </td><td>2.8                     </td><td>3.4                     </td><td>3.0                     </td><td>2.9                     </td><td>15.3                    </td><td>15.3                    </td></tr>\n",
       "\t<tr><td>1                       </td><td>Tuttorosso (green)      </td><td> 0.99                   </td><td>Pioneer                 </td><td>2.8                     </td><td>2.6                     </td><td>3.3                     </td><td>2.8                     </td><td>2.9                     </td><td>14.3                    </td><td>14.3                    </td></tr>\n",
       "\t<tr><td>1                       </td><td>La Fede SM DOP          </td><td> 3.99                   </td><td>Shop Rite               </td><td>2.6                     </td><td>2.8                     </td><td>3.0                     </td><td>2.3                     </td><td>2.8                     </td><td>13.4                    </td><td>13.4                    </td></tr>\n",
       "\t<tr><td>2                       </td><td>Cento SM DOP            </td><td> 5.49                   </td><td>D Agostino              </td><td>3.3                     </td><td>3.1                     </td><td>2.9                     </td><td>2.8                     </td><td>3.1                     </td><td>14.4                    </td><td>15.2                    </td></tr>\n",
       "\t<tr><td>2                       </td><td>Cento Organic           </td><td> 4.99                   </td><td>D Agostino              </td><td>3.2                     </td><td>2.9                     </td><td>2.9                     </td><td>3.1                     </td><td>2.9                     </td><td>15.5                    </td><td>15.1                    </td></tr>\n",
       "\t<tr><td>2                       </td><td>La Valle SM             </td><td> 3.99                   </td><td>Shop Rite               </td><td>2.6                     </td><td>2.8                     </td><td>3.6                     </td><td>3.4                     </td><td>2.6                     </td><td>14.7                    </td><td>14.9                    </td></tr>\n",
       "\t<tr><td>2                       </td><td>La Valle SM DOP         </td><td> 3.99                   </td><td>Faicos                  </td><td>2.1                     </td><td>2.7                     </td><td>3.1                     </td><td>2.4                     </td><td>2.2                     </td><td>12.6                    </td><td>12.5                    </td></tr>\n",
       "\t<tr><td>3                       </td><td>Stanislaus Alta Cucina  </td><td> 4.53                   </td><td>Restaurant Depot        </td><td>3.4                     </td><td>3.3                     </td><td>4.1                     </td><td>3.2                     </td><td>3.7                     </td><td>17.8                    </td><td>17.7                    </td></tr>\n",
       "\t<tr><td>3                       </td><td>Ciao                    </td><td>   NA                   </td><td>Other                   </td><td>2.6                     </td><td>2.9                     </td><td>3.4                     </td><td>3.3                     </td><td>2.9                     </td><td>15.3                    </td><td>15.2                    </td></tr>\n",
       "\t<tr><td>3                       </td><td>Scotts Backyard SM      </td><td> 0.00                   </td><td>Home Grown              </td><td>1.6                     </td><td>2.9                     </td><td>3.1                     </td><td>2.4                     </td><td>1.9                     </td><td>11.9                    </td><td>11.9                    </td></tr>\n",
       "\t<tr><td>3                       </td><td>Di Casa Barone (organic)</td><td>12.80                   </td><td>Eataly                  </td><td>1.7                     </td><td>3.6                     </td><td>3.8                     </td><td>2.3                     </td><td>1.4                     </td><td>12.7                    </td><td>12.7                    </td></tr>\n",
       "\t<tr><td>4                       </td><td>Trader Joes Plum        </td><td> 1.49                   </td><td>Trader Joes             </td><td>3.4                     </td><td>3.3                     </td><td>4.0                     </td><td>3.6                     </td><td>3.9                     </td><td>17.8                    </td><td>18.2                    </td></tr>\n",
       "\t<tr><td>4                       </td><td>365 Whole Foods         </td><td> 1.49                   </td><td>Whole Foods             </td><td>2.8                     </td><td>2.7                     </td><td>3.4                     </td><td>3.1                     </td><td>3.1                     </td><td>14.8                    </td><td>15.2                    </td></tr>\n",
       "\t<tr><td>4                       </td><td>Muir Glen Organic       </td><td> 3.19                   </td><td>Whole Foods             </td><td>2.9                     </td><td>2.8                     </td><td>2.7                     </td><td>3.2                     </td><td>3.1                     </td><td>14.8                    </td><td>14.7                    </td></tr>\n",
       "\t<tr><td>4                       </td><td>Bionature Organic       </td><td> 3.39                   </td><td>Whole Foods             </td><td>2.4                     </td><td>3.3                     </td><td>3.4                     </td><td>3.2                     </td><td>2.8                     </td><td>15.1                    </td><td>15.2                    </td></tr>\n",
       "</tbody>\n",
       "</table>\n"
      ],
      "text/latex": [
       "\\begin{tabular}{r|lllllllllll}\n",
       " Round & Tomato & Price & Source & Sweet & Acid & Color & Texture & Overall & Avg.of.Totals & Total.of.Avg\\\\\n",
       "\\hline\n",
       "\t 1                        & Simpson SM               &  3.99                    & Whole Foods              & 2.8                      & 2.8                      & 3.7                      & 3.4                      & 3.4                      & 16.1                     & 16.1                    \\\\\n",
       "\t 1                        & Tuttorosso (blue)        &  2.99                    & Pioneer                  & 3.3                      & 2.8                      & 3.4                      & 3.0                      & 2.9                      & 15.3                     & 15.3                    \\\\\n",
       "\t 1                        & Tuttorosso (green)       &  0.99                    & Pioneer                  & 2.8                      & 2.6                      & 3.3                      & 2.8                      & 2.9                      & 14.3                     & 14.3                    \\\\\n",
       "\t 1                        & La Fede SM DOP           &  3.99                    & Shop Rite                & 2.6                      & 2.8                      & 3.0                      & 2.3                      & 2.8                      & 13.4                     & 13.4                    \\\\\n",
       "\t 2                        & Cento SM DOP             &  5.49                    & D Agostino               & 3.3                      & 3.1                      & 2.9                      & 2.8                      & 3.1                      & 14.4                     & 15.2                    \\\\\n",
       "\t 2                        & Cento Organic            &  4.99                    & D Agostino               & 3.2                      & 2.9                      & 2.9                      & 3.1                      & 2.9                      & 15.5                     & 15.1                    \\\\\n",
       "\t 2                        & La Valle SM              &  3.99                    & Shop Rite                & 2.6                      & 2.8                      & 3.6                      & 3.4                      & 2.6                      & 14.7                     & 14.9                    \\\\\n",
       "\t 2                        & La Valle SM DOP          &  3.99                    & Faicos                   & 2.1                      & 2.7                      & 3.1                      & 2.4                      & 2.2                      & 12.6                     & 12.5                    \\\\\n",
       "\t 3                        & Stanislaus Alta Cucina   &  4.53                    & Restaurant Depot         & 3.4                      & 3.3                      & 4.1                      & 3.2                      & 3.7                      & 17.8                     & 17.7                    \\\\\n",
       "\t 3                        & Ciao                     &    NA                    & Other                    & 2.6                      & 2.9                      & 3.4                      & 3.3                      & 2.9                      & 15.3                     & 15.2                    \\\\\n",
       "\t 3                        & Scotts Backyard SM       &  0.00                    & Home Grown               & 1.6                      & 2.9                      & 3.1                      & 2.4                      & 1.9                      & 11.9                     & 11.9                    \\\\\n",
       "\t 3                        & Di Casa Barone (organic) & 12.80                    & Eataly                   & 1.7                      & 3.6                      & 3.8                      & 2.3                      & 1.4                      & 12.7                     & 12.7                    \\\\\n",
       "\t 4                        & Trader Joes Plum         &  1.49                    & Trader Joes              & 3.4                      & 3.3                      & 4.0                      & 3.6                      & 3.9                      & 17.8                     & 18.2                    \\\\\n",
       "\t 4                        & 365 Whole Foods          &  1.49                    & Whole Foods              & 2.8                      & 2.7                      & 3.4                      & 3.1                      & 3.1                      & 14.8                     & 15.2                    \\\\\n",
       "\t 4                        & Muir Glen Organic        &  3.19                    & Whole Foods              & 2.9                      & 2.8                      & 2.7                      & 3.2                      & 3.1                      & 14.8                     & 14.7                    \\\\\n",
       "\t 4                        & Bionature Organic        &  3.39                    & Whole Foods              & 2.4                      & 3.3                      & 3.4                      & 3.2                      & 2.8                      & 15.1                     & 15.2                    \\\\\n",
       "\\end{tabular}\n"
      ],
      "text/markdown": [
       "\n",
       "Round | Tomato | Price | Source | Sweet | Acid | Color | Texture | Overall | Avg.of.Totals | Total.of.Avg | \n",
       "|---|---|---|---|---|---|---|---|---|---|---|---|---|---|---|---|\n",
       "| 1                        | Simpson SM               |  3.99                    | Whole Foods              | 2.8                      | 2.8                      | 3.7                      | 3.4                      | 3.4                      | 16.1                     | 16.1                     | \n",
       "| 1                        | Tuttorosso (blue)        |  2.99                    | Pioneer                  | 3.3                      | 2.8                      | 3.4                      | 3.0                      | 2.9                      | 15.3                     | 15.3                     | \n",
       "| 1                        | Tuttorosso (green)       |  0.99                    | Pioneer                  | 2.8                      | 2.6                      | 3.3                      | 2.8                      | 2.9                      | 14.3                     | 14.3                     | \n",
       "| 1                        | La Fede SM DOP           |  3.99                    | Shop Rite                | 2.6                      | 2.8                      | 3.0                      | 2.3                      | 2.8                      | 13.4                     | 13.4                     | \n",
       "| 2                        | Cento SM DOP             |  5.49                    | D Agostino               | 3.3                      | 3.1                      | 2.9                      | 2.8                      | 3.1                      | 14.4                     | 15.2                     | \n",
       "| 2                        | Cento Organic            |  4.99                    | D Agostino               | 3.2                      | 2.9                      | 2.9                      | 3.1                      | 2.9                      | 15.5                     | 15.1                     | \n",
       "| 2                        | La Valle SM              |  3.99                    | Shop Rite                | 2.6                      | 2.8                      | 3.6                      | 3.4                      | 2.6                      | 14.7                     | 14.9                     | \n",
       "| 2                        | La Valle SM DOP          |  3.99                    | Faicos                   | 2.1                      | 2.7                      | 3.1                      | 2.4                      | 2.2                      | 12.6                     | 12.5                     | \n",
       "| 3                        | Stanislaus Alta Cucina   |  4.53                    | Restaurant Depot         | 3.4                      | 3.3                      | 4.1                      | 3.2                      | 3.7                      | 17.8                     | 17.7                     | \n",
       "| 3                        | Ciao                     |    NA                    | Other                    | 2.6                      | 2.9                      | 3.4                      | 3.3                      | 2.9                      | 15.3                     | 15.2                     | \n",
       "| 3                        | Scotts Backyard SM       |  0.00                    | Home Grown               | 1.6                      | 2.9                      | 3.1                      | 2.4                      | 1.9                      | 11.9                     | 11.9                     | \n",
       "| 3                        | Di Casa Barone (organic) | 12.80                    | Eataly                   | 1.7                      | 3.6                      | 3.8                      | 2.3                      | 1.4                      | 12.7                     | 12.7                     | \n",
       "| 4                        | Trader Joes Plum         |  1.49                    | Trader Joes              | 3.4                      | 3.3                      | 4.0                      | 3.6                      | 3.9                      | 17.8                     | 18.2                     | \n",
       "| 4                        | 365 Whole Foods          |  1.49                    | Whole Foods              | 2.8                      | 2.7                      | 3.4                      | 3.1                      | 3.1                      | 14.8                     | 15.2                     | \n",
       "| 4                        | Muir Glen Organic        |  3.19                    | Whole Foods              | 2.9                      | 2.8                      | 2.7                      | 3.2                      | 3.1                      | 14.8                     | 14.7                     | \n",
       "| 4                        | Bionature Organic        |  3.39                    | Whole Foods              | 2.4                      | 3.3                      | 3.4                      | 3.2                      | 2.8                      | 15.1                     | 15.2                     | \n",
       "\n",
       "\n"
      ],
      "text/plain": [
       "   Round Tomato                   Price Source           Sweet Acid Color\n",
       "1  1     Simpson SM                3.99 Whole Foods      2.8   2.8  3.7  \n",
       "2  1     Tuttorosso (blue)         2.99 Pioneer          3.3   2.8  3.4  \n",
       "3  1     Tuttorosso (green)        0.99 Pioneer          2.8   2.6  3.3  \n",
       "4  1     La Fede SM DOP            3.99 Shop Rite        2.6   2.8  3.0  \n",
       "5  2     Cento SM DOP              5.49 D Agostino       3.3   3.1  2.9  \n",
       "6  2     Cento Organic             4.99 D Agostino       3.2   2.9  2.9  \n",
       "7  2     La Valle SM               3.99 Shop Rite        2.6   2.8  3.6  \n",
       "8  2     La Valle SM DOP           3.99 Faicos           2.1   2.7  3.1  \n",
       "9  3     Stanislaus Alta Cucina    4.53 Restaurant Depot 3.4   3.3  4.1  \n",
       "10 3     Ciao                        NA Other            2.6   2.9  3.4  \n",
       "11 3     Scotts Backyard SM        0.00 Home Grown       1.6   2.9  3.1  \n",
       "12 3     Di Casa Barone (organic) 12.80 Eataly           1.7   3.6  3.8  \n",
       "13 4     Trader Joes Plum          1.49 Trader Joes      3.4   3.3  4.0  \n",
       "14 4     365 Whole Foods           1.49 Whole Foods      2.8   2.7  3.4  \n",
       "15 4     Muir Glen Organic         3.19 Whole Foods      2.9   2.8  2.7  \n",
       "16 4     Bionature Organic         3.39 Whole Foods      2.4   3.3  3.4  \n",
       "   Texture Overall Avg.of.Totals Total.of.Avg\n",
       "1  3.4     3.4     16.1          16.1        \n",
       "2  3.0     2.9     15.3          15.3        \n",
       "3  2.8     2.9     14.3          14.3        \n",
       "4  2.3     2.8     13.4          13.4        \n",
       "5  2.8     3.1     14.4          15.2        \n",
       "6  3.1     2.9     15.5          15.1        \n",
       "7  3.4     2.6     14.7          14.9        \n",
       "8  2.4     2.2     12.6          12.5        \n",
       "9  3.2     3.7     17.8          17.7        \n",
       "10 3.3     2.9     15.3          15.2        \n",
       "11 2.4     1.9     11.9          11.9        \n",
       "12 2.3     1.4     12.7          12.7        \n",
       "13 3.6     3.9     17.8          18.2        \n",
       "14 3.1     3.1     14.8          15.2        \n",
       "15 3.2     3.1     14.8          14.7        \n",
       "16 3.2     2.8     15.1          15.2        "
      ]
     },
     "metadata": {},
     "output_type": "display_data"
    }
   ],
   "source": [
    "tomato"
   ]
  },
  {
   "cell_type": "code",
   "execution_count": 22,
   "metadata": {},
   "outputs": [],
   "source": [
    "# Multiple objects can be stored insire rdata file\n",
    "\n",
    "save(tomato,plants, file = \"tomato.RData\")"
   ]
  },
  {
   "cell_type": "code",
   "execution_count": 23,
   "metadata": {},
   "outputs": [],
   "source": [
    "rm(tomato)\n",
    "rm(plants)"
   ]
  },
  {
   "cell_type": "code",
   "execution_count": 24,
   "metadata": {},
   "outputs": [],
   "source": [
    "load(\"tomato.RData\")"
   ]
  },
  {
   "cell_type": "code",
   "execution_count": 25,
   "metadata": {},
   "outputs": [
    {
     "data": {
      "text/html": [
       "<table>\n",
       "<thead><tr><th scope=col>Round</th><th scope=col>Tomato</th><th scope=col>Price</th><th scope=col>Source</th><th scope=col>Sweet</th><th scope=col>Acid</th><th scope=col>Color</th><th scope=col>Texture</th><th scope=col>Overall</th><th scope=col>Avg.of.Totals</th><th scope=col>Total.of.Avg</th></tr></thead>\n",
       "<tbody>\n",
       "\t<tr><td>1                       </td><td>Simpson SM              </td><td> 3.99                   </td><td>Whole Foods             </td><td>2.8                     </td><td>2.8                     </td><td>3.7                     </td><td>3.4                     </td><td>3.4                     </td><td>16.1                    </td><td>16.1                    </td></tr>\n",
       "\t<tr><td>1                       </td><td>Tuttorosso (blue)       </td><td> 2.99                   </td><td>Pioneer                 </td><td>3.3                     </td><td>2.8                     </td><td>3.4                     </td><td>3.0                     </td><td>2.9                     </td><td>15.3                    </td><td>15.3                    </td></tr>\n",
       "\t<tr><td>1                       </td><td>Tuttorosso (green)      </td><td> 0.99                   </td><td>Pioneer                 </td><td>2.8                     </td><td>2.6                     </td><td>3.3                     </td><td>2.8                     </td><td>2.9                     </td><td>14.3                    </td><td>14.3                    </td></tr>\n",
       "\t<tr><td>1                       </td><td>La Fede SM DOP          </td><td> 3.99                   </td><td>Shop Rite               </td><td>2.6                     </td><td>2.8                     </td><td>3.0                     </td><td>2.3                     </td><td>2.8                     </td><td>13.4                    </td><td>13.4                    </td></tr>\n",
       "\t<tr><td>2                       </td><td>Cento SM DOP            </td><td> 5.49                   </td><td>D Agostino              </td><td>3.3                     </td><td>3.1                     </td><td>2.9                     </td><td>2.8                     </td><td>3.1                     </td><td>14.4                    </td><td>15.2                    </td></tr>\n",
       "\t<tr><td>2                       </td><td>Cento Organic           </td><td> 4.99                   </td><td>D Agostino              </td><td>3.2                     </td><td>2.9                     </td><td>2.9                     </td><td>3.1                     </td><td>2.9                     </td><td>15.5                    </td><td>15.1                    </td></tr>\n",
       "\t<tr><td>2                       </td><td>La Valle SM             </td><td> 3.99                   </td><td>Shop Rite               </td><td>2.6                     </td><td>2.8                     </td><td>3.6                     </td><td>3.4                     </td><td>2.6                     </td><td>14.7                    </td><td>14.9                    </td></tr>\n",
       "\t<tr><td>2                       </td><td>La Valle SM DOP         </td><td> 3.99                   </td><td>Faicos                  </td><td>2.1                     </td><td>2.7                     </td><td>3.1                     </td><td>2.4                     </td><td>2.2                     </td><td>12.6                    </td><td>12.5                    </td></tr>\n",
       "\t<tr><td>3                       </td><td>Stanislaus Alta Cucina  </td><td> 4.53                   </td><td>Restaurant Depot        </td><td>3.4                     </td><td>3.3                     </td><td>4.1                     </td><td>3.2                     </td><td>3.7                     </td><td>17.8                    </td><td>17.7                    </td></tr>\n",
       "\t<tr><td>3                       </td><td>Ciao                    </td><td>   NA                   </td><td>Other                   </td><td>2.6                     </td><td>2.9                     </td><td>3.4                     </td><td>3.3                     </td><td>2.9                     </td><td>15.3                    </td><td>15.2                    </td></tr>\n",
       "\t<tr><td>3                       </td><td>Scotts Backyard SM      </td><td> 0.00                   </td><td>Home Grown              </td><td>1.6                     </td><td>2.9                     </td><td>3.1                     </td><td>2.4                     </td><td>1.9                     </td><td>11.9                    </td><td>11.9                    </td></tr>\n",
       "\t<tr><td>3                       </td><td>Di Casa Barone (organic)</td><td>12.80                   </td><td>Eataly                  </td><td>1.7                     </td><td>3.6                     </td><td>3.8                     </td><td>2.3                     </td><td>1.4                     </td><td>12.7                    </td><td>12.7                    </td></tr>\n",
       "\t<tr><td>4                       </td><td>Trader Joes Plum        </td><td> 1.49                   </td><td>Trader Joes             </td><td>3.4                     </td><td>3.3                     </td><td>4.0                     </td><td>3.6                     </td><td>3.9                     </td><td>17.8                    </td><td>18.2                    </td></tr>\n",
       "\t<tr><td>4                       </td><td>365 Whole Foods         </td><td> 1.49                   </td><td>Whole Foods             </td><td>2.8                     </td><td>2.7                     </td><td>3.4                     </td><td>3.1                     </td><td>3.1                     </td><td>14.8                    </td><td>15.2                    </td></tr>\n",
       "\t<tr><td>4                       </td><td>Muir Glen Organic       </td><td> 3.19                   </td><td>Whole Foods             </td><td>2.9                     </td><td>2.8                     </td><td>2.7                     </td><td>3.2                     </td><td>3.1                     </td><td>14.8                    </td><td>14.7                    </td></tr>\n",
       "\t<tr><td>4                       </td><td>Bionature Organic       </td><td> 3.39                   </td><td>Whole Foods             </td><td>2.4                     </td><td>3.3                     </td><td>3.4                     </td><td>3.2                     </td><td>2.8                     </td><td>15.1                    </td><td>15.2                    </td></tr>\n",
       "</tbody>\n",
       "</table>\n"
      ],
      "text/latex": [
       "\\begin{tabular}{r|lllllllllll}\n",
       " Round & Tomato & Price & Source & Sweet & Acid & Color & Texture & Overall & Avg.of.Totals & Total.of.Avg\\\\\n",
       "\\hline\n",
       "\t 1                        & Simpson SM               &  3.99                    & Whole Foods              & 2.8                      & 2.8                      & 3.7                      & 3.4                      & 3.4                      & 16.1                     & 16.1                    \\\\\n",
       "\t 1                        & Tuttorosso (blue)        &  2.99                    & Pioneer                  & 3.3                      & 2.8                      & 3.4                      & 3.0                      & 2.9                      & 15.3                     & 15.3                    \\\\\n",
       "\t 1                        & Tuttorosso (green)       &  0.99                    & Pioneer                  & 2.8                      & 2.6                      & 3.3                      & 2.8                      & 2.9                      & 14.3                     & 14.3                    \\\\\n",
       "\t 1                        & La Fede SM DOP           &  3.99                    & Shop Rite                & 2.6                      & 2.8                      & 3.0                      & 2.3                      & 2.8                      & 13.4                     & 13.4                    \\\\\n",
       "\t 2                        & Cento SM DOP             &  5.49                    & D Agostino               & 3.3                      & 3.1                      & 2.9                      & 2.8                      & 3.1                      & 14.4                     & 15.2                    \\\\\n",
       "\t 2                        & Cento Organic            &  4.99                    & D Agostino               & 3.2                      & 2.9                      & 2.9                      & 3.1                      & 2.9                      & 15.5                     & 15.1                    \\\\\n",
       "\t 2                        & La Valle SM              &  3.99                    & Shop Rite                & 2.6                      & 2.8                      & 3.6                      & 3.4                      & 2.6                      & 14.7                     & 14.9                    \\\\\n",
       "\t 2                        & La Valle SM DOP          &  3.99                    & Faicos                   & 2.1                      & 2.7                      & 3.1                      & 2.4                      & 2.2                      & 12.6                     & 12.5                    \\\\\n",
       "\t 3                        & Stanislaus Alta Cucina   &  4.53                    & Restaurant Depot         & 3.4                      & 3.3                      & 4.1                      & 3.2                      & 3.7                      & 17.8                     & 17.7                    \\\\\n",
       "\t 3                        & Ciao                     &    NA                    & Other                    & 2.6                      & 2.9                      & 3.4                      & 3.3                      & 2.9                      & 15.3                     & 15.2                    \\\\\n",
       "\t 3                        & Scotts Backyard SM       &  0.00                    & Home Grown               & 1.6                      & 2.9                      & 3.1                      & 2.4                      & 1.9                      & 11.9                     & 11.9                    \\\\\n",
       "\t 3                        & Di Casa Barone (organic) & 12.80                    & Eataly                   & 1.7                      & 3.6                      & 3.8                      & 2.3                      & 1.4                      & 12.7                     & 12.7                    \\\\\n",
       "\t 4                        & Trader Joes Plum         &  1.49                    & Trader Joes              & 3.4                      & 3.3                      & 4.0                      & 3.6                      & 3.9                      & 17.8                     & 18.2                    \\\\\n",
       "\t 4                        & 365 Whole Foods          &  1.49                    & Whole Foods              & 2.8                      & 2.7                      & 3.4                      & 3.1                      & 3.1                      & 14.8                     & 15.2                    \\\\\n",
       "\t 4                        & Muir Glen Organic        &  3.19                    & Whole Foods              & 2.9                      & 2.8                      & 2.7                      & 3.2                      & 3.1                      & 14.8                     & 14.7                    \\\\\n",
       "\t 4                        & Bionature Organic        &  3.39                    & Whole Foods              & 2.4                      & 3.3                      & 3.4                      & 3.2                      & 2.8                      & 15.1                     & 15.2                    \\\\\n",
       "\\end{tabular}\n"
      ],
      "text/markdown": [
       "\n",
       "Round | Tomato | Price | Source | Sweet | Acid | Color | Texture | Overall | Avg.of.Totals | Total.of.Avg | \n",
       "|---|---|---|---|---|---|---|---|---|---|---|---|---|---|---|---|\n",
       "| 1                        | Simpson SM               |  3.99                    | Whole Foods              | 2.8                      | 2.8                      | 3.7                      | 3.4                      | 3.4                      | 16.1                     | 16.1                     | \n",
       "| 1                        | Tuttorosso (blue)        |  2.99                    | Pioneer                  | 3.3                      | 2.8                      | 3.4                      | 3.0                      | 2.9                      | 15.3                     | 15.3                     | \n",
       "| 1                        | Tuttorosso (green)       |  0.99                    | Pioneer                  | 2.8                      | 2.6                      | 3.3                      | 2.8                      | 2.9                      | 14.3                     | 14.3                     | \n",
       "| 1                        | La Fede SM DOP           |  3.99                    | Shop Rite                | 2.6                      | 2.8                      | 3.0                      | 2.3                      | 2.8                      | 13.4                     | 13.4                     | \n",
       "| 2                        | Cento SM DOP             |  5.49                    | D Agostino               | 3.3                      | 3.1                      | 2.9                      | 2.8                      | 3.1                      | 14.4                     | 15.2                     | \n",
       "| 2                        | Cento Organic            |  4.99                    | D Agostino               | 3.2                      | 2.9                      | 2.9                      | 3.1                      | 2.9                      | 15.5                     | 15.1                     | \n",
       "| 2                        | La Valle SM              |  3.99                    | Shop Rite                | 2.6                      | 2.8                      | 3.6                      | 3.4                      | 2.6                      | 14.7                     | 14.9                     | \n",
       "| 2                        | La Valle SM DOP          |  3.99                    | Faicos                   | 2.1                      | 2.7                      | 3.1                      | 2.4                      | 2.2                      | 12.6                     | 12.5                     | \n",
       "| 3                        | Stanislaus Alta Cucina   |  4.53                    | Restaurant Depot         | 3.4                      | 3.3                      | 4.1                      | 3.2                      | 3.7                      | 17.8                     | 17.7                     | \n",
       "| 3                        | Ciao                     |    NA                    | Other                    | 2.6                      | 2.9                      | 3.4                      | 3.3                      | 2.9                      | 15.3                     | 15.2                     | \n",
       "| 3                        | Scotts Backyard SM       |  0.00                    | Home Grown               | 1.6                      | 2.9                      | 3.1                      | 2.4                      | 1.9                      | 11.9                     | 11.9                     | \n",
       "| 3                        | Di Casa Barone (organic) | 12.80                    | Eataly                   | 1.7                      | 3.6                      | 3.8                      | 2.3                      | 1.4                      | 12.7                     | 12.7                     | \n",
       "| 4                        | Trader Joes Plum         |  1.49                    | Trader Joes              | 3.4                      | 3.3                      | 4.0                      | 3.6                      | 3.9                      | 17.8                     | 18.2                     | \n",
       "| 4                        | 365 Whole Foods          |  1.49                    | Whole Foods              | 2.8                      | 2.7                      | 3.4                      | 3.1                      | 3.1                      | 14.8                     | 15.2                     | \n",
       "| 4                        | Muir Glen Organic        |  3.19                    | Whole Foods              | 2.9                      | 2.8                      | 2.7                      | 3.2                      | 3.1                      | 14.8                     | 14.7                     | \n",
       "| 4                        | Bionature Organic        |  3.39                    | Whole Foods              | 2.4                      | 3.3                      | 3.4                      | 3.2                      | 2.8                      | 15.1                     | 15.2                     | \n",
       "\n",
       "\n"
      ],
      "text/plain": [
       "   Round Tomato                   Price Source           Sweet Acid Color\n",
       "1  1     Simpson SM                3.99 Whole Foods      2.8   2.8  3.7  \n",
       "2  1     Tuttorosso (blue)         2.99 Pioneer          3.3   2.8  3.4  \n",
       "3  1     Tuttorosso (green)        0.99 Pioneer          2.8   2.6  3.3  \n",
       "4  1     La Fede SM DOP            3.99 Shop Rite        2.6   2.8  3.0  \n",
       "5  2     Cento SM DOP              5.49 D Agostino       3.3   3.1  2.9  \n",
       "6  2     Cento Organic             4.99 D Agostino       3.2   2.9  2.9  \n",
       "7  2     La Valle SM               3.99 Shop Rite        2.6   2.8  3.6  \n",
       "8  2     La Valle SM DOP           3.99 Faicos           2.1   2.7  3.1  \n",
       "9  3     Stanislaus Alta Cucina    4.53 Restaurant Depot 3.4   3.3  4.1  \n",
       "10 3     Ciao                        NA Other            2.6   2.9  3.4  \n",
       "11 3     Scotts Backyard SM        0.00 Home Grown       1.6   2.9  3.1  \n",
       "12 3     Di Casa Barone (organic) 12.80 Eataly           1.7   3.6  3.8  \n",
       "13 4     Trader Joes Plum          1.49 Trader Joes      3.4   3.3  4.0  \n",
       "14 4     365 Whole Foods           1.49 Whole Foods      2.8   2.7  3.4  \n",
       "15 4     Muir Glen Organic         3.19 Whole Foods      2.9   2.8  2.7  \n",
       "16 4     Bionature Organic         3.39 Whole Foods      2.4   3.3  3.4  \n",
       "   Texture Overall Avg.of.Totals Total.of.Avg\n",
       "1  3.4     3.4     16.1          16.1        \n",
       "2  3.0     2.9     15.3          15.3        \n",
       "3  2.8     2.9     14.3          14.3        \n",
       "4  2.3     2.8     13.4          13.4        \n",
       "5  2.8     3.1     14.4          15.2        \n",
       "6  3.1     2.9     15.5          15.1        \n",
       "7  3.4     2.6     14.7          14.9        \n",
       "8  2.4     2.2     12.6          12.5        \n",
       "9  3.2     3.7     17.8          17.7        \n",
       "10 3.3     2.9     15.3          15.2        \n",
       "11 2.4     1.9     11.9          11.9        \n",
       "12 2.3     1.4     12.7          12.7        \n",
       "13 3.6     3.9     17.8          18.2        \n",
       "14 3.1     3.1     14.8          15.2        \n",
       "15 3.2     3.1     14.8          14.7        \n",
       "16 3.2     2.8     15.1          15.2        "
      ]
     },
     "metadata": {},
     "output_type": "display_data"
    }
   ],
   "source": [
    "tomato"
   ]
  },
  {
   "cell_type": "code",
   "execution_count": 26,
   "metadata": {},
   "outputs": [
    {
     "data": {
      "text/html": [
       "<table>\n",
       "<thead><tr><th scope=col>Accepted.Symbol</th><th scope=col>Synonym.Symbol</th><th scope=col>Scientific.Name</th><th scope=col>Duration</th><th scope=col>Active.Growth.Period</th><th scope=col>Foliage.Color</th><th scope=col>pH..Minimum.</th><th scope=col>pH..Maximum.</th><th scope=col>Precipitation..Minimum.</th><th scope=col>Precipitation..Maximum.</th><th scope=col>Shade.Tolerance</th><th scope=col>Temperature..Minimum...F.</th></tr></thead>\n",
       "<tbody>\n",
       "\t<tr><td>ABELI                 </td><td>NA                    </td><td>Abelia                </td><td>                      </td><td>                      </td><td>                      </td><td> NA                   </td><td> NA                   </td><td>NA                    </td><td>NA                    </td><td>                      </td><td>NA                    </td></tr>\n",
       "\t<tr><td>ABGR4                 </td><td>NA                    </td><td>Abelia ×grandiflora   </td><td>Perennial             </td><td>Spring, Summer, Fall  </td><td>Dark Green            </td><td>5.5                   </td><td>6.8                   </td><td>35                    </td><td>60                    </td><td>Tolerant              </td><td>-8                    </td></tr>\n",
       "\t<tr><td>ABELM                 </td><td>NA                    </td><td>Abelmoschus           </td><td>                      </td><td>                      </td><td>                      </td><td> NA                   </td><td> NA                   </td><td>NA                    </td><td>NA                    </td><td>                      </td><td>NA                    </td></tr>\n",
       "\t<tr><td>ABES                  </td><td>NA                    </td><td>Abelmoschus esculentus</td><td>Annual, Perennial     </td><td>                      </td><td>                      </td><td> NA                   </td><td> NA                   </td><td>NA                    </td><td>NA                    </td><td>                      </td><td>NA                    </td></tr>\n",
       "\t<tr><td>ABMA9                 </td><td>NA                    </td><td>Abelmoschus manihot   </td><td>                      </td><td>                      </td><td>                      </td><td> NA                   </td><td> NA                   </td><td>NA                    </td><td>NA                    </td><td>                      </td><td>NA                    </td></tr>\n",
       "\t<tr><td>ABMO                  </td><td>NA                    </td><td>Abelmoschus moschatus </td><td>Perennial             </td><td>                      </td><td>                      </td><td> NA                   </td><td> NA                   </td><td>NA                    </td><td>NA                    </td><td>                      </td><td>NA                    </td></tr>\n",
       "</tbody>\n",
       "</table>\n"
      ],
      "text/latex": [
       "\\begin{tabular}{r|llllllllllll}\n",
       " Accepted.Symbol & Synonym.Symbol & Scientific.Name & Duration & Active.Growth.Period & Foliage.Color & pH..Minimum. & pH..Maximum. & Precipitation..Minimum. & Precipitation..Maximum. & Shade.Tolerance & Temperature..Minimum...F.\\\\\n",
       "\\hline\n",
       "\t ABELI                  & NA                     & Abelia                 &                        &                        &                        &  NA                    &  NA                    & NA                     & NA                     &                        & NA                    \\\\\n",
       "\t ABGR4                  & NA                     & Abelia ×grandiflora    & Perennial              & Spring, Summer, Fall   & Dark Green             & 5.5                    & 6.8                    & 35                     & 60                     & Tolerant               & -8                    \\\\\n",
       "\t ABELM                  & NA                     & Abelmoschus            &                        &                        &                        &  NA                    &  NA                    & NA                     & NA                     &                        & NA                    \\\\\n",
       "\t ABES                   & NA                     & Abelmoschus esculentus & Annual, Perennial      &                        &                        &  NA                    &  NA                    & NA                     & NA                     &                        & NA                    \\\\\n",
       "\t ABMA9                  & NA                     & Abelmoschus manihot    &                        &                        &                        &  NA                    &  NA                    & NA                     & NA                     &                        & NA                    \\\\\n",
       "\t ABMO                   & NA                     & Abelmoschus moschatus  & Perennial              &                        &                        &  NA                    &  NA                    & NA                     & NA                     &                        & NA                    \\\\\n",
       "\\end{tabular}\n"
      ],
      "text/markdown": [
       "\n",
       "Accepted.Symbol | Synonym.Symbol | Scientific.Name | Duration | Active.Growth.Period | Foliage.Color | pH..Minimum. | pH..Maximum. | Precipitation..Minimum. | Precipitation..Maximum. | Shade.Tolerance | Temperature..Minimum...F. | \n",
       "|---|---|---|---|---|---|\n",
       "| ABELI                  | NA                     | Abelia                 |                        |                        |                        |  NA                    |  NA                    | NA                     | NA                     |                        | NA                     | \n",
       "| ABGR4                  | NA                     | Abelia ×grandiflora    | Perennial              | Spring, Summer, Fall   | Dark Green             | 5.5                    | 6.8                    | 35                     | 60                     | Tolerant               | -8                     | \n",
       "| ABELM                  | NA                     | Abelmoschus            |                        |                        |                        |  NA                    |  NA                    | NA                     | NA                     |                        | NA                     | \n",
       "| ABES                   | NA                     | Abelmoschus esculentus | Annual, Perennial      |                        |                        |  NA                    |  NA                    | NA                     | NA                     |                        | NA                     | \n",
       "| ABMA9                  | NA                     | Abelmoschus manihot    |                        |                        |                        |  NA                    |  NA                    | NA                     | NA                     |                        | NA                     | \n",
       "| ABMO                   | NA                     | Abelmoschus moschatus  | Perennial              |                        |                        |  NA                    |  NA                    | NA                     | NA                     |                        | NA                     | \n",
       "\n",
       "\n"
      ],
      "text/plain": [
       "  Accepted.Symbol Synonym.Symbol Scientific.Name        Duration         \n",
       "1 ABELI           NA             Abelia                                  \n",
       "2 ABGR4           NA             Abelia ×grandiflora    Perennial        \n",
       "3 ABELM           NA             Abelmoschus                             \n",
       "4 ABES            NA             Abelmoschus esculentus Annual, Perennial\n",
       "5 ABMA9           NA             Abelmoschus manihot                     \n",
       "6 ABMO            NA             Abelmoschus moschatus  Perennial        \n",
       "  Active.Growth.Period Foliage.Color pH..Minimum. pH..Maximum.\n",
       "1                                     NA           NA         \n",
       "2 Spring, Summer, Fall Dark Green    5.5          6.8         \n",
       "3                                     NA           NA         \n",
       "4                                     NA           NA         \n",
       "5                                     NA           NA         \n",
       "6                                     NA           NA         \n",
       "  Precipitation..Minimum. Precipitation..Maximum. Shade.Tolerance\n",
       "1 NA                      NA                                     \n",
       "2 35                      60                      Tolerant       \n",
       "3 NA                      NA                                     \n",
       "4 NA                      NA                                     \n",
       "5 NA                      NA                                     \n",
       "6 NA                      NA                                     \n",
       "  Temperature..Minimum...F.\n",
       "1 NA                       \n",
       "2 -8                       \n",
       "3 NA                       \n",
       "4 NA                       \n",
       "5 NA                       \n",
       "6 NA                       "
      ]
     },
     "metadata": {},
     "output_type": "display_data"
    }
   ],
   "source": [
    "head(plants)"
   ]
  },
  {
   "cell_type": "markdown",
   "metadata": {},
   "source": [
    "Many R packages include data that can be loaded with data() function. Use data() command to load ‘iris’ data set."
   ]
  },
  {
   "cell_type": "code",
   "execution_count": 27,
   "metadata": {},
   "outputs": [],
   "source": [
    "data(iris)"
   ]
  },
  {
   "cell_type": "code",
   "execution_count": 28,
   "metadata": {},
   "outputs": [
    {
     "data": {
      "text/html": [
       "<table>\n",
       "<thead><tr><th scope=col>Sepal.Length</th><th scope=col>Sepal.Width</th><th scope=col>Petal.Length</th><th scope=col>Petal.Width</th><th scope=col>Species</th></tr></thead>\n",
       "<tbody>\n",
       "\t<tr><td>5.1   </td><td>3.5   </td><td>1.4   </td><td>0.2   </td><td>setosa</td></tr>\n",
       "\t<tr><td>4.9   </td><td>3.0   </td><td>1.4   </td><td>0.2   </td><td>setosa</td></tr>\n",
       "\t<tr><td>4.7   </td><td>3.2   </td><td>1.3   </td><td>0.2   </td><td>setosa</td></tr>\n",
       "\t<tr><td>4.6   </td><td>3.1   </td><td>1.5   </td><td>0.2   </td><td>setosa</td></tr>\n",
       "\t<tr><td>5.0   </td><td>3.6   </td><td>1.4   </td><td>0.2   </td><td>setosa</td></tr>\n",
       "\t<tr><td>5.4   </td><td>3.9   </td><td>1.7   </td><td>0.4   </td><td>setosa</td></tr>\n",
       "</tbody>\n",
       "</table>\n"
      ],
      "text/latex": [
       "\\begin{tabular}{r|lllll}\n",
       " Sepal.Length & Sepal.Width & Petal.Length & Petal.Width & Species\\\\\n",
       "\\hline\n",
       "\t 5.1    & 3.5    & 1.4    & 0.2    & setosa\\\\\n",
       "\t 4.9    & 3.0    & 1.4    & 0.2    & setosa\\\\\n",
       "\t 4.7    & 3.2    & 1.3    & 0.2    & setosa\\\\\n",
       "\t 4.6    & 3.1    & 1.5    & 0.2    & setosa\\\\\n",
       "\t 5.0    & 3.6    & 1.4    & 0.2    & setosa\\\\\n",
       "\t 5.4    & 3.9    & 1.7    & 0.4    & setosa\\\\\n",
       "\\end{tabular}\n"
      ],
      "text/markdown": [
       "\n",
       "Sepal.Length | Sepal.Width | Petal.Length | Petal.Width | Species | \n",
       "|---|---|---|---|---|---|\n",
       "| 5.1    | 3.5    | 1.4    | 0.2    | setosa | \n",
       "| 4.9    | 3.0    | 1.4    | 0.2    | setosa | \n",
       "| 4.7    | 3.2    | 1.3    | 0.2    | setosa | \n",
       "| 4.6    | 3.1    | 1.5    | 0.2    | setosa | \n",
       "| 5.0    | 3.6    | 1.4    | 0.2    | setosa | \n",
       "| 5.4    | 3.9    | 1.7    | 0.4    | setosa | \n",
       "\n",
       "\n"
      ],
      "text/plain": [
       "  Sepal.Length Sepal.Width Petal.Length Petal.Width Species\n",
       "1 5.1          3.5         1.4          0.2         setosa \n",
       "2 4.9          3.0         1.4          0.2         setosa \n",
       "3 4.7          3.2         1.3          0.2         setosa \n",
       "4 4.6          3.1         1.5          0.2         setosa \n",
       "5 5.0          3.6         1.4          0.2         setosa \n",
       "6 5.4          3.9         1.7          0.4         setosa "
      ]
     },
     "metadata": {},
     "output_type": "display_data"
    }
   ],
   "source": [
    "head(iris)"
   ]
  },
  {
   "cell_type": "markdown",
   "metadata": {},
   "source": [
    "### Loading data from an XML"
   ]
  },
  {
   "cell_type": "code",
   "execution_count": 29,
   "metadata": {},
   "outputs": [
    {
     "name": "stderr",
     "output_type": "stream",
     "text": [
      "Updating HTML index of packages in '.Library'\n",
      "Making 'packages.html' ... done\n"
     ]
    }
   ],
   "source": [
    "# Install XML packages\n",
    "\n",
    "install.packages('XML')"
   ]
  },
  {
   "cell_type": "code",
   "execution_count": 37,
   "metadata": {},
   "outputs": [],
   "source": [
    "# Load the package\n",
    "\n",
    "library(XML)"
   ]
  },
  {
   "cell_type": "code",
   "execution_count": 38,
   "metadata": {},
   "outputs": [
    {
     "ename": "ERROR",
     "evalue": "Error: failed to load external entity \"http://www.jaredlander.com/2012/02/another-kind-of-super-bowl-pool\"\n\n",
     "output_type": "error",
     "traceback": [
      "Error: failed to load external entity \"http://www.jaredlander.com/2012/02/another-kind-of-super-bowl-pool\"\n\nTraceback:\n",
      "1. readHTMLTable(\"http://www.jaredlander.com/2012/02/another-kind-of-super-bowl-pool\", \n .     which = 1, header = FALSE, stringsAsFactors = FALSE)",
      "2. readHTMLTable(\"http://www.jaredlander.com/2012/02/another-kind-of-super-bowl-pool\", \n .     which = 1, header = FALSE, stringsAsFactors = FALSE)",
      "3. .local(doc, header, colClasses, skip.rows, trim, elFun, as.data.frame, \n .     which, ...)",
      "4. htmlParse(doc, encoding = encoding)",
      "5. (function (msg, code, domain, line, col, level, filename, class = \"XMLError\") \n . {\n .     e = makeXMLError(msg, code, domain, line, col, level, filename, \n .         class)\n .     dom = names(e$domain)\n .     class(e) = c(names(e$code), sprintf(\"%s_Error\", gsub(\"_FROM_\", \n .         \"_\", dom)), class(e))\n .     if (e$code == xmlParserErrors[\"XML_IO_LOAD_ERROR\"]) \n .         stop(e)\n . })(\"failed to load external entity \\\"http://www.jaredlander.com/2012/02/another-kind-of-super-bowl-pool\\\"\\n\", \n .     1549L, 8L, 0L, 0L, 1L, character(0))"
     ]
    }
   ],
   "source": [
    "bowlTable <- readHTMLTable(\"http://www.jaredlander.com/2012/02/another-kind-of-super-bowl-pool\", which=1, header=FALSE, stringsAsFactors=FALSE)"
   ]
  },
  {
   "cell_type": "markdown",
   "metadata": {},
   "source": [
    "# DATA MANAGEMENT"
   ]
  },
  {
   "cell_type": "markdown",
   "metadata": {},
   "source": [
    "In this module, we will cover some core Data Management operations such as aggregation, transposition, merging multiple data sets, sorting, subsetting, etc.\n",
    "\n",
    "Aggregation is a grouping of multiple observations by one or more variables (usually categorical) and applying the aggregation function (e.g., summary statistics) to each group of observations. There are a couple of different ways to aggregate the data using aggregate() function in R"
   ]
  },
  {
   "cell_type": "code",
   "execution_count": 39,
   "metadata": {},
   "outputs": [],
   "source": [
    "attach(mtcars)"
   ]
  },
  {
   "cell_type": "code",
   "execution_count": 41,
   "metadata": {},
   "outputs": [],
   "source": [
    "options(digits = 3)"
   ]
  },
  {
   "cell_type": "code",
   "execution_count": 44,
   "metadata": {},
   "outputs": [
    {
     "data": {
      "text/html": [
       "<table>\n",
       "<thead><tr><th scope=col>cyl.group</th><th scope=col>mpg</th><th scope=col>cyl</th><th scope=col>disp</th><th scope=col>hp</th><th scope=col>drat</th><th scope=col>wt</th><th scope=col>qsec</th><th scope=col>vs</th><th scope=col>am</th><th scope=col>gear</th><th scope=col>carb</th></tr></thead>\n",
       "<tbody>\n",
       "\t<tr><td>4    </td><td>26.7 </td><td>4    </td><td>105  </td><td> 82.6</td><td>4.07 </td><td>2.29 </td><td>19.1 </td><td>0.909</td><td>0.727</td><td>4.09 </td><td>1.55 </td></tr>\n",
       "\t<tr><td>6    </td><td>19.7 </td><td>6    </td><td>183  </td><td>122.3</td><td>3.59 </td><td>3.12 </td><td>18.0 </td><td>0.571</td><td>0.429</td><td>3.86 </td><td>3.43 </td></tr>\n",
       "\t<tr><td>8    </td><td>15.1 </td><td>8    </td><td>353  </td><td>209.2</td><td>3.23 </td><td>4.00 </td><td>16.8 </td><td>0.000</td><td>0.143</td><td>3.29 </td><td>3.50 </td></tr>\n",
       "</tbody>\n",
       "</table>\n"
      ],
      "text/latex": [
       "\\begin{tabular}{r|llllllllllll}\n",
       " cyl.group & mpg & cyl & disp & hp & drat & wt & qsec & vs & am & gear & carb\\\\\n",
       "\\hline\n",
       "\t 4     & 26.7  & 4     & 105   &  82.6 & 4.07  & 2.29  & 19.1  & 0.909 & 0.727 & 4.09  & 1.55 \\\\\n",
       "\t 6     & 19.7  & 6     & 183   & 122.3 & 3.59  & 3.12  & 18.0  & 0.571 & 0.429 & 3.86  & 3.43 \\\\\n",
       "\t 8     & 15.1  & 8     & 353   & 209.2 & 3.23  & 4.00  & 16.8  & 0.000 & 0.143 & 3.29  & 3.50 \\\\\n",
       "\\end{tabular}\n"
      ],
      "text/markdown": [
       "\n",
       "cyl.group | mpg | cyl | disp | hp | drat | wt | qsec | vs | am | gear | carb | \n",
       "|---|---|---|\n",
       "| 4     | 26.7  | 4     | 105   |  82.6 | 4.07  | 2.29  | 19.1  | 0.909 | 0.727 | 4.09  | 1.55  | \n",
       "| 6     | 19.7  | 6     | 183   | 122.3 | 3.59  | 3.12  | 18.0  | 0.571 | 0.429 | 3.86  | 3.43  | \n",
       "| 8     | 15.1  | 8     | 353   | 209.2 | 3.23  | 4.00  | 16.8  | 0.000 | 0.143 | 3.29  | 3.50  | \n",
       "\n",
       "\n"
      ],
      "text/plain": [
       "  cyl.group mpg  cyl disp hp    drat wt   qsec vs    am    gear carb\n",
       "1 4         26.7 4   105   82.6 4.07 2.29 19.1 0.909 0.727 4.09 1.55\n",
       "2 6         19.7 6   183  122.3 3.59 3.12 18.0 0.571 0.429 3.86 3.43\n",
       "3 8         15.1 8   353  209.2 3.23 4.00 16.8 0.000 0.143 3.29 3.50"
      ]
     },
     "metadata": {},
     "output_type": "display_data"
    }
   ],
   "source": [
    "aggregate(x = mtcars, by = list(cyl.group = cyl), FUN = mean, na.rm = TRUE)"
   ]
  },
  {
   "cell_type": "code",
   "execution_count": 46,
   "metadata": {},
   "outputs": [
    {
     "data": {
      "text/html": [
       "<table>\n",
       "<thead><tr><th scope=col>cyl.group</th><th scope=col>gear.group</th><th scope=col>mpg</th><th scope=col>cyl</th><th scope=col>disp</th><th scope=col>hp</th><th scope=col>drat</th><th scope=col>wt</th><th scope=col>qsec</th><th scope=col>vs</th><th scope=col>am</th><th scope=col>gear</th><th scope=col>carb</th></tr></thead>\n",
       "<tbody>\n",
       "\t<tr><td>4    </td><td>3    </td><td>21.5 </td><td>4    </td><td>120.1</td><td> 97  </td><td>3.70 </td><td>2.46 </td><td>20.0 </td><td>1.0  </td><td>0.0  </td><td>3    </td><td>1.0  </td></tr>\n",
       "\t<tr><td>6    </td><td>3    </td><td>19.8 </td><td>6    </td><td>241.5</td><td>108  </td><td>2.92 </td><td>3.34 </td><td>19.8 </td><td>1.0  </td><td>0.0  </td><td>3    </td><td>1.0  </td></tr>\n",
       "\t<tr><td>8    </td><td>3    </td><td>15.2 </td><td>8    </td><td>355.0</td><td>180  </td><td>3.08 </td><td>3.81 </td><td>17.4 </td><td>0.0  </td><td>0.0  </td><td>3    </td><td>3.0  </td></tr>\n",
       "\t<tr><td>4    </td><td>4    </td><td>25.9 </td><td>4    </td><td> 93.5</td><td> 66  </td><td>4.08 </td><td>2.26 </td><td>19.2 </td><td>1.0  </td><td>1.0  </td><td>4    </td><td>1.5  </td></tr>\n",
       "\t<tr><td>6    </td><td>4    </td><td>20.1 </td><td>6    </td><td>163.8</td><td>116  </td><td>3.91 </td><td>3.16 </td><td>17.7 </td><td>0.5  </td><td>0.5  </td><td>4    </td><td>4.0  </td></tr>\n",
       "\t<tr><td>4    </td><td>5    </td><td>28.2 </td><td>4    </td><td>107.7</td><td>102  </td><td>4.10 </td><td>1.83 </td><td>16.8 </td><td>0.5  </td><td>1.0  </td><td>5    </td><td>2.0  </td></tr>\n",
       "\t<tr><td>6    </td><td>5    </td><td>19.7 </td><td>6    </td><td>145.0</td><td>175  </td><td>3.62 </td><td>2.77 </td><td>15.5 </td><td>0.0  </td><td>1.0  </td><td>5    </td><td>6.0  </td></tr>\n",
       "\t<tr><td>8    </td><td>5    </td><td>15.4 </td><td>8    </td><td>326.0</td><td>300  </td><td>3.88 </td><td>3.37 </td><td>14.6 </td><td>0.0  </td><td>1.0  </td><td>5    </td><td>6.0  </td></tr>\n",
       "</tbody>\n",
       "</table>\n"
      ],
      "text/latex": [
       "\\begin{tabular}{r|lllllllllllll}\n",
       " cyl.group & gear.group & mpg & cyl & disp & hp & drat & wt & qsec & vs & am & gear & carb\\\\\n",
       "\\hline\n",
       "\t 4     & 3     & 21.5  & 4     & 120.1 &  97   & 3.70  & 2.46  & 20.0  & 1.0   & 0.0   & 3     & 1.0  \\\\\n",
       "\t 6     & 3     & 19.8  & 6     & 241.5 & 108   & 2.92  & 3.34  & 19.8  & 1.0   & 0.0   & 3     & 1.0  \\\\\n",
       "\t 8     & 3     & 15.2  & 8     & 355.0 & 180   & 3.08  & 3.81  & 17.4  & 0.0   & 0.0   & 3     & 3.0  \\\\\n",
       "\t 4     & 4     & 25.9  & 4     &  93.5 &  66   & 4.08  & 2.26  & 19.2  & 1.0   & 1.0   & 4     & 1.5  \\\\\n",
       "\t 6     & 4     & 20.1  & 6     & 163.8 & 116   & 3.91  & 3.16  & 17.7  & 0.5   & 0.5   & 4     & 4.0  \\\\\n",
       "\t 4     & 5     & 28.2  & 4     & 107.7 & 102   & 4.10  & 1.83  & 16.8  & 0.5   & 1.0   & 5     & 2.0  \\\\\n",
       "\t 6     & 5     & 19.7  & 6     & 145.0 & 175   & 3.62  & 2.77  & 15.5  & 0.0   & 1.0   & 5     & 6.0  \\\\\n",
       "\t 8     & 5     & 15.4  & 8     & 326.0 & 300   & 3.88  & 3.37  & 14.6  & 0.0   & 1.0   & 5     & 6.0  \\\\\n",
       "\\end{tabular}\n"
      ],
      "text/markdown": [
       "\n",
       "cyl.group | gear.group | mpg | cyl | disp | hp | drat | wt | qsec | vs | am | gear | carb | \n",
       "|---|---|---|---|---|---|---|---|\n",
       "| 4     | 3     | 21.5  | 4     | 120.1 |  97   | 3.70  | 2.46  | 20.0  | 1.0   | 0.0   | 3     | 1.0   | \n",
       "| 6     | 3     | 19.8  | 6     | 241.5 | 108   | 2.92  | 3.34  | 19.8  | 1.0   | 0.0   | 3     | 1.0   | \n",
       "| 8     | 3     | 15.2  | 8     | 355.0 | 180   | 3.08  | 3.81  | 17.4  | 0.0   | 0.0   | 3     | 3.0   | \n",
       "| 4     | 4     | 25.9  | 4     |  93.5 |  66   | 4.08  | 2.26  | 19.2  | 1.0   | 1.0   | 4     | 1.5   | \n",
       "| 6     | 4     | 20.1  | 6     | 163.8 | 116   | 3.91  | 3.16  | 17.7  | 0.5   | 0.5   | 4     | 4.0   | \n",
       "| 4     | 5     | 28.2  | 4     | 107.7 | 102   | 4.10  | 1.83  | 16.8  | 0.5   | 1.0   | 5     | 2.0   | \n",
       "| 6     | 5     | 19.7  | 6     | 145.0 | 175   | 3.62  | 2.77  | 15.5  | 0.0   | 1.0   | 5     | 6.0   | \n",
       "| 8     | 5     | 15.4  | 8     | 326.0 | 300   | 3.88  | 3.37  | 14.6  | 0.0   | 1.0   | 5     | 6.0   | \n",
       "\n",
       "\n"
      ],
      "text/plain": [
       "  cyl.group gear.group mpg  cyl disp  hp  drat wt   qsec vs  am  gear carb\n",
       "1 4         3          21.5 4   120.1  97 3.70 2.46 20.0 1.0 0.0 3    1.0 \n",
       "2 6         3          19.8 6   241.5 108 2.92 3.34 19.8 1.0 0.0 3    1.0 \n",
       "3 8         3          15.2 8   355.0 180 3.08 3.81 17.4 0.0 0.0 3    3.0 \n",
       "4 4         4          25.9 4    93.5  66 4.08 2.26 19.2 1.0 1.0 4    1.5 \n",
       "5 6         4          20.1 6   163.8 116 3.91 3.16 17.7 0.5 0.5 4    4.0 \n",
       "6 4         5          28.2 4   107.7 102 4.10 1.83 16.8 0.5 1.0 5    2.0 \n",
       "7 6         5          19.7 6   145.0 175 3.62 2.77 15.5 0.0 1.0 5    6.0 \n",
       "8 8         5          15.4 8   326.0 300 3.88 3.37 14.6 0.0 1.0 5    6.0 "
      ]
     },
     "metadata": {},
     "output_type": "display_data"
    }
   ],
   "source": [
    "aggregate(x = mtcars, by = list(cyl.group = cyl, gear.group = gear), FUN = median, na.rm = TRUE)"
   ]
  },
  {
   "cell_type": "markdown",
   "metadata": {},
   "source": [
    "Suppose you are not interested in applying the function to all the other variables but to a subset of variables. In this case you will utilize the following syntax: aggregate(formula, data, FUN, …), where the left side of the formula represents a variable(s) that you want to make a calculation on and the right side represents one or more variables that you want to group the calculation by."
   ]
  },
  {
   "cell_type": "code",
   "execution_count": 48,
   "metadata": {},
   "outputs": [],
   "source": [
    "data(diamonds, package=\"ggplot2\")"
   ]
  },
  {
   "cell_type": "code",
   "execution_count": 49,
   "metadata": {},
   "outputs": [
    {
     "data": {
      "text/html": [
       "<table>\n",
       "<thead><tr><th scope=col>carat</th><th scope=col>cut</th><th scope=col>color</th><th scope=col>clarity</th><th scope=col>depth</th><th scope=col>table</th><th scope=col>price</th><th scope=col>x</th><th scope=col>y</th><th scope=col>z</th></tr></thead>\n",
       "<tbody>\n",
       "\t<tr><td>0.23     </td><td>Ideal    </td><td>E        </td><td>SI2      </td><td>61.5     </td><td>55       </td><td>326      </td><td>3.95     </td><td>3.98     </td><td>2.43     </td></tr>\n",
       "\t<tr><td>0.21     </td><td>Premium  </td><td>E        </td><td>SI1      </td><td>59.8     </td><td>61       </td><td>326      </td><td>3.89     </td><td>3.84     </td><td>2.31     </td></tr>\n",
       "\t<tr><td>0.23     </td><td>Good     </td><td>E        </td><td>VS1      </td><td>56.9     </td><td>65       </td><td>327      </td><td>4.05     </td><td>4.07     </td><td>2.31     </td></tr>\n",
       "\t<tr><td>0.29     </td><td>Premium  </td><td>I        </td><td>VS2      </td><td>62.4     </td><td>58       </td><td>334      </td><td>4.20     </td><td>4.23     </td><td>2.63     </td></tr>\n",
       "\t<tr><td>0.31     </td><td>Good     </td><td>J        </td><td>SI2      </td><td>63.3     </td><td>58       </td><td>335      </td><td>4.34     </td><td>4.35     </td><td>2.75     </td></tr>\n",
       "\t<tr><td>0.24     </td><td>Very Good</td><td>J        </td><td>VVS2     </td><td>62.8     </td><td>57       </td><td>336      </td><td>3.94     </td><td>3.96     </td><td>2.48     </td></tr>\n",
       "</tbody>\n",
       "</table>\n"
      ],
      "text/latex": [
       "\\begin{tabular}{r|llllllllll}\n",
       " carat & cut & color & clarity & depth & table & price & x & y & z\\\\\n",
       "\\hline\n",
       "\t 0.23      & Ideal     & E         & SI2       & 61.5      & 55        & 326       & 3.95      & 3.98      & 2.43     \\\\\n",
       "\t 0.21      & Premium   & E         & SI1       & 59.8      & 61        & 326       & 3.89      & 3.84      & 2.31     \\\\\n",
       "\t 0.23      & Good      & E         & VS1       & 56.9      & 65        & 327       & 4.05      & 4.07      & 2.31     \\\\\n",
       "\t 0.29      & Premium   & I         & VS2       & 62.4      & 58        & 334       & 4.20      & 4.23      & 2.63     \\\\\n",
       "\t 0.31      & Good      & J         & SI2       & 63.3      & 58        & 335       & 4.34      & 4.35      & 2.75     \\\\\n",
       "\t 0.24      & Very Good & J         & VVS2      & 62.8      & 57        & 336       & 3.94      & 3.96      & 2.48     \\\\\n",
       "\\end{tabular}\n"
      ],
      "text/markdown": [
       "\n",
       "carat | cut | color | clarity | depth | table | price | x | y | z | \n",
       "|---|---|---|---|---|---|\n",
       "| 0.23      | Ideal     | E         | SI2       | 61.5      | 55        | 326       | 3.95      | 3.98      | 2.43      | \n",
       "| 0.21      | Premium   | E         | SI1       | 59.8      | 61        | 326       | 3.89      | 3.84      | 2.31      | \n",
       "| 0.23      | Good      | E         | VS1       | 56.9      | 65        | 327       | 4.05      | 4.07      | 2.31      | \n",
       "| 0.29      | Premium   | I         | VS2       | 62.4      | 58        | 334       | 4.20      | 4.23      | 2.63      | \n",
       "| 0.31      | Good      | J         | SI2       | 63.3      | 58        | 335       | 4.34      | 4.35      | 2.75      | \n",
       "| 0.24      | Very Good | J         | VVS2      | 62.8      | 57        | 336       | 3.94      | 3.96      | 2.48      | \n",
       "\n",
       "\n"
      ],
      "text/plain": [
       "  carat cut       color clarity depth table price x    y    z   \n",
       "1 0.23  Ideal     E     SI2     61.5  55    326   3.95 3.98 2.43\n",
       "2 0.21  Premium   E     SI1     59.8  61    326   3.89 3.84 2.31\n",
       "3 0.23  Good      E     VS1     56.9  65    327   4.05 4.07 2.31\n",
       "4 0.29  Premium   I     VS2     62.4  58    334   4.20 4.23 2.63\n",
       "5 0.31  Good      J     SI2     63.3  58    335   4.34 4.35 2.75\n",
       "6 0.24  Very Good J     VVS2    62.8  57    336   3.94 3.96 2.48"
      ]
     },
     "metadata": {},
     "output_type": "display_data"
    }
   ],
   "source": [
    "head(diamonds)"
   ]
  },
  {
   "cell_type": "code",
   "execution_count": 50,
   "metadata": {},
   "outputs": [
    {
     "data": {
      "text/html": [
       "<table>\n",
       "<thead><tr><th scope=col>cut</th><th scope=col>price</th></tr></thead>\n",
       "<tbody>\n",
       "\t<tr><td>Fair     </td><td>4359     </td></tr>\n",
       "\t<tr><td>Good     </td><td>3929     </td></tr>\n",
       "\t<tr><td>Very Good</td><td>3982     </td></tr>\n",
       "\t<tr><td>Premium  </td><td>4584     </td></tr>\n",
       "\t<tr><td>Ideal    </td><td>3458     </td></tr>\n",
       "</tbody>\n",
       "</table>\n"
      ],
      "text/latex": [
       "\\begin{tabular}{r|ll}\n",
       " cut & price\\\\\n",
       "\\hline\n",
       "\t Fair      & 4359     \\\\\n",
       "\t Good      & 3929     \\\\\n",
       "\t Very Good & 3982     \\\\\n",
       "\t Premium   & 4584     \\\\\n",
       "\t Ideal     & 3458     \\\\\n",
       "\\end{tabular}\n"
      ],
      "text/markdown": [
       "\n",
       "cut | price | \n",
       "|---|---|---|---|---|\n",
       "| Fair      | 4359      | \n",
       "| Good      | 3929      | \n",
       "| Very Good | 3982      | \n",
       "| Premium   | 4584      | \n",
       "| Ideal     | 3458      | \n",
       "\n",
       "\n"
      ],
      "text/plain": [
       "  cut       price\n",
       "1 Fair      4359 \n",
       "2 Good      3929 \n",
       "3 Very Good 3982 \n",
       "4 Premium   4584 \n",
       "5 Ideal     3458 "
      ]
     },
     "metadata": {},
     "output_type": "display_data"
    }
   ],
   "source": [
    "aggregate(price~cut, diamonds, mean)"
   ]
  },
  {
   "cell_type": "code",
   "execution_count": 51,
   "metadata": {},
   "outputs": [
    {
     "data": {
      "text/html": [
       "<table>\n",
       "<thead><tr><th scope=col>cut</th><th scope=col>color</th><th scope=col>price</th></tr></thead>\n",
       "<tbody>\n",
       "\t<tr><td>Fair     </td><td>D        </td><td>4291     </td></tr>\n",
       "\t<tr><td>Good     </td><td>D        </td><td>3405     </td></tr>\n",
       "\t<tr><td>Very Good</td><td>D        </td><td>3470     </td></tr>\n",
       "\t<tr><td>Premium  </td><td>D        </td><td>3631     </td></tr>\n",
       "\t<tr><td>Ideal    </td><td>D        </td><td>2629     </td></tr>\n",
       "\t<tr><td>Fair     </td><td>E        </td><td>3682     </td></tr>\n",
       "\t<tr><td>Good     </td><td>E        </td><td>3424     </td></tr>\n",
       "\t<tr><td>Very Good</td><td>E        </td><td>3215     </td></tr>\n",
       "\t<tr><td>Premium  </td><td>E        </td><td>3539     </td></tr>\n",
       "\t<tr><td>Ideal    </td><td>E        </td><td>2598     </td></tr>\n",
       "\t<tr><td>Fair     </td><td>F        </td><td>3827     </td></tr>\n",
       "\t<tr><td>Good     </td><td>F        </td><td>3496     </td></tr>\n",
       "\t<tr><td>Very Good</td><td>F        </td><td>3779     </td></tr>\n",
       "\t<tr><td>Premium  </td><td>F        </td><td>4325     </td></tr>\n",
       "\t<tr><td>Ideal    </td><td>F        </td><td>3375     </td></tr>\n",
       "\t<tr><td>Fair     </td><td>G        </td><td>4239     </td></tr>\n",
       "\t<tr><td>Good     </td><td>G        </td><td>4123     </td></tr>\n",
       "\t<tr><td>Very Good</td><td>G        </td><td>3873     </td></tr>\n",
       "\t<tr><td>Premium  </td><td>G        </td><td>4501     </td></tr>\n",
       "\t<tr><td>Ideal    </td><td>G        </td><td>3721     </td></tr>\n",
       "\t<tr><td>Fair     </td><td>H        </td><td>5136     </td></tr>\n",
       "\t<tr><td>Good     </td><td>H        </td><td>4276     </td></tr>\n",
       "\t<tr><td>Very Good</td><td>H        </td><td>4535     </td></tr>\n",
       "\t<tr><td>Premium  </td><td>H        </td><td>5217     </td></tr>\n",
       "\t<tr><td>Ideal    </td><td>H        </td><td>3889     </td></tr>\n",
       "\t<tr><td>Fair     </td><td>I        </td><td>4685     </td></tr>\n",
       "\t<tr><td>Good     </td><td>I        </td><td>5079     </td></tr>\n",
       "\t<tr><td>Very Good</td><td>I        </td><td>5256     </td></tr>\n",
       "\t<tr><td>Premium  </td><td>I        </td><td>5946     </td></tr>\n",
       "\t<tr><td>Ideal    </td><td>I        </td><td>4452     </td></tr>\n",
       "\t<tr><td>Fair     </td><td>J        </td><td>4976     </td></tr>\n",
       "\t<tr><td>Good     </td><td>J        </td><td>4574     </td></tr>\n",
       "\t<tr><td>Very Good</td><td>J        </td><td>5104     </td></tr>\n",
       "\t<tr><td>Premium  </td><td>J        </td><td>6295     </td></tr>\n",
       "\t<tr><td>Ideal    </td><td>J        </td><td>4918     </td></tr>\n",
       "</tbody>\n",
       "</table>\n"
      ],
      "text/latex": [
       "\\begin{tabular}{r|lll}\n",
       " cut & color & price\\\\\n",
       "\\hline\n",
       "\t Fair      & D         & 4291     \\\\\n",
       "\t Good      & D         & 3405     \\\\\n",
       "\t Very Good & D         & 3470     \\\\\n",
       "\t Premium   & D         & 3631     \\\\\n",
       "\t Ideal     & D         & 2629     \\\\\n",
       "\t Fair      & E         & 3682     \\\\\n",
       "\t Good      & E         & 3424     \\\\\n",
       "\t Very Good & E         & 3215     \\\\\n",
       "\t Premium   & E         & 3539     \\\\\n",
       "\t Ideal     & E         & 2598     \\\\\n",
       "\t Fair      & F         & 3827     \\\\\n",
       "\t Good      & F         & 3496     \\\\\n",
       "\t Very Good & F         & 3779     \\\\\n",
       "\t Premium   & F         & 4325     \\\\\n",
       "\t Ideal     & F         & 3375     \\\\\n",
       "\t Fair      & G         & 4239     \\\\\n",
       "\t Good      & G         & 4123     \\\\\n",
       "\t Very Good & G         & 3873     \\\\\n",
       "\t Premium   & G         & 4501     \\\\\n",
       "\t Ideal     & G         & 3721     \\\\\n",
       "\t Fair      & H         & 5136     \\\\\n",
       "\t Good      & H         & 4276     \\\\\n",
       "\t Very Good & H         & 4535     \\\\\n",
       "\t Premium   & H         & 5217     \\\\\n",
       "\t Ideal     & H         & 3889     \\\\\n",
       "\t Fair      & I         & 4685     \\\\\n",
       "\t Good      & I         & 5079     \\\\\n",
       "\t Very Good & I         & 5256     \\\\\n",
       "\t Premium   & I         & 5946     \\\\\n",
       "\t Ideal     & I         & 4452     \\\\\n",
       "\t Fair      & J         & 4976     \\\\\n",
       "\t Good      & J         & 4574     \\\\\n",
       "\t Very Good & J         & 5104     \\\\\n",
       "\t Premium   & J         & 6295     \\\\\n",
       "\t Ideal     & J         & 4918     \\\\\n",
       "\\end{tabular}\n"
      ],
      "text/markdown": [
       "\n",
       "cut | color | price | \n",
       "|---|---|---|---|---|---|---|---|---|---|---|---|---|---|---|---|---|---|---|---|---|---|---|---|---|---|---|---|---|---|---|---|---|---|---|\n",
       "| Fair      | D         | 4291      | \n",
       "| Good      | D         | 3405      | \n",
       "| Very Good | D         | 3470      | \n",
       "| Premium   | D         | 3631      | \n",
       "| Ideal     | D         | 2629      | \n",
       "| Fair      | E         | 3682      | \n",
       "| Good      | E         | 3424      | \n",
       "| Very Good | E         | 3215      | \n",
       "| Premium   | E         | 3539      | \n",
       "| Ideal     | E         | 2598      | \n",
       "| Fair      | F         | 3827      | \n",
       "| Good      | F         | 3496      | \n",
       "| Very Good | F         | 3779      | \n",
       "| Premium   | F         | 4325      | \n",
       "| Ideal     | F         | 3375      | \n",
       "| Fair      | G         | 4239      | \n",
       "| Good      | G         | 4123      | \n",
       "| Very Good | G         | 3873      | \n",
       "| Premium   | G         | 4501      | \n",
       "| Ideal     | G         | 3721      | \n",
       "| Fair      | H         | 5136      | \n",
       "| Good      | H         | 4276      | \n",
       "| Very Good | H         | 4535      | \n",
       "| Premium   | H         | 5217      | \n",
       "| Ideal     | H         | 3889      | \n",
       "| Fair      | I         | 4685      | \n",
       "| Good      | I         | 5079      | \n",
       "| Very Good | I         | 5256      | \n",
       "| Premium   | I         | 5946      | \n",
       "| Ideal     | I         | 4452      | \n",
       "| Fair      | J         | 4976      | \n",
       "| Good      | J         | 4574      | \n",
       "| Very Good | J         | 5104      | \n",
       "| Premium   | J         | 6295      | \n",
       "| Ideal     | J         | 4918      | \n",
       "\n",
       "\n"
      ],
      "text/plain": [
       "   cut       color price\n",
       "1  Fair      D     4291 \n",
       "2  Good      D     3405 \n",
       "3  Very Good D     3470 \n",
       "4  Premium   D     3631 \n",
       "5  Ideal     D     2629 \n",
       "6  Fair      E     3682 \n",
       "7  Good      E     3424 \n",
       "8  Very Good E     3215 \n",
       "9  Premium   E     3539 \n",
       "10 Ideal     E     2598 \n",
       "11 Fair      F     3827 \n",
       "12 Good      F     3496 \n",
       "13 Very Good F     3779 \n",
       "14 Premium   F     4325 \n",
       "15 Ideal     F     3375 \n",
       "16 Fair      G     4239 \n",
       "17 Good      G     4123 \n",
       "18 Very Good G     3873 \n",
       "19 Premium   G     4501 \n",
       "20 Ideal     G     3721 \n",
       "21 Fair      H     5136 \n",
       "22 Good      H     4276 \n",
       "23 Very Good H     4535 \n",
       "24 Premium   H     5217 \n",
       "25 Ideal     H     3889 \n",
       "26 Fair      I     4685 \n",
       "27 Good      I     5079 \n",
       "28 Very Good I     5256 \n",
       "29 Premium   I     5946 \n",
       "30 Ideal     I     4452 \n",
       "31 Fair      J     4976 \n",
       "32 Good      J     4574 \n",
       "33 Very Good J     5104 \n",
       "34 Premium   J     6295 \n",
       "35 Ideal     J     4918 "
      ]
     },
     "metadata": {},
     "output_type": "display_data"
    }
   ],
   "source": [
    "# more than one variable, concatenate using +\n",
    "\n",
    "aggregate(price~cut+color, diamonds, mean)"
   ]
  },
  {
   "cell_type": "code",
   "execution_count": 52,
   "metadata": {},
   "outputs": [
    {
     "data": {
      "text/html": [
       "<table>\n",
       "<thead><tr><th scope=col>cut</th><th scope=col>color</th><th scope=col>price</th><th scope=col>carat</th></tr></thead>\n",
       "<tbody>\n",
       "\t<tr><td>Fair     </td><td>D        </td><td>4291     </td><td>0.920    </td></tr>\n",
       "\t<tr><td>Good     </td><td>D        </td><td>3405     </td><td>0.745    </td></tr>\n",
       "\t<tr><td>Very Good</td><td>D        </td><td>3470     </td><td>0.696    </td></tr>\n",
       "\t<tr><td>Premium  </td><td>D        </td><td>3631     </td><td>0.722    </td></tr>\n",
       "\t<tr><td>Ideal    </td><td>D        </td><td>2629     </td><td>0.566    </td></tr>\n",
       "\t<tr><td>Fair     </td><td>E        </td><td>3682     </td><td>0.857    </td></tr>\n",
       "\t<tr><td>Good     </td><td>E        </td><td>3424     </td><td>0.745    </td></tr>\n",
       "\t<tr><td>Very Good</td><td>E        </td><td>3215     </td><td>0.676    </td></tr>\n",
       "\t<tr><td>Premium  </td><td>E        </td><td>3539     </td><td>0.718    </td></tr>\n",
       "\t<tr><td>Ideal    </td><td>E        </td><td>2598     </td><td>0.578    </td></tr>\n",
       "\t<tr><td>Fair     </td><td>F        </td><td>3827     </td><td>0.905    </td></tr>\n",
       "\t<tr><td>Good     </td><td>F        </td><td>3496     </td><td>0.776    </td></tr>\n",
       "\t<tr><td>Very Good</td><td>F        </td><td>3779     </td><td>0.741    </td></tr>\n",
       "\t<tr><td>Premium  </td><td>F        </td><td>4325     </td><td>0.827    </td></tr>\n",
       "\t<tr><td>Ideal    </td><td>F        </td><td>3375     </td><td>0.656    </td></tr>\n",
       "\t<tr><td>Fair     </td><td>G        </td><td>4239     </td><td>1.024    </td></tr>\n",
       "\t<tr><td>Good     </td><td>G        </td><td>4123     </td><td>0.851    </td></tr>\n",
       "\t<tr><td>Very Good</td><td>G        </td><td>3873     </td><td>0.767    </td></tr>\n",
       "\t<tr><td>Premium  </td><td>G        </td><td>4501     </td><td>0.841    </td></tr>\n",
       "\t<tr><td>Ideal    </td><td>G        </td><td>3721     </td><td>0.701    </td></tr>\n",
       "\t<tr><td>Fair     </td><td>H        </td><td>5136     </td><td>1.219    </td></tr>\n",
       "\t<tr><td>Good     </td><td>H        </td><td>4276     </td><td>0.915    </td></tr>\n",
       "\t<tr><td>Very Good</td><td>H        </td><td>4535     </td><td>0.916    </td></tr>\n",
       "\t<tr><td>Premium  </td><td>H        </td><td>5217     </td><td>1.016    </td></tr>\n",
       "\t<tr><td>Ideal    </td><td>H        </td><td>3889     </td><td>0.800    </td></tr>\n",
       "\t<tr><td>Fair     </td><td>I        </td><td>4685     </td><td>1.198    </td></tr>\n",
       "\t<tr><td>Good     </td><td>I        </td><td>5079     </td><td>1.057    </td></tr>\n",
       "\t<tr><td>Very Good</td><td>I        </td><td>5256     </td><td>1.047    </td></tr>\n",
       "\t<tr><td>Premium  </td><td>I        </td><td>5946     </td><td>1.145    </td></tr>\n",
       "\t<tr><td>Ideal    </td><td>I        </td><td>4452     </td><td>0.913    </td></tr>\n",
       "\t<tr><td>Fair     </td><td>J        </td><td>4976     </td><td>1.341    </td></tr>\n",
       "\t<tr><td>Good     </td><td>J        </td><td>4574     </td><td>1.100    </td></tr>\n",
       "\t<tr><td>Very Good</td><td>J        </td><td>5104     </td><td>1.133    </td></tr>\n",
       "\t<tr><td>Premium  </td><td>J        </td><td>6295     </td><td>1.293    </td></tr>\n",
       "\t<tr><td>Ideal    </td><td>J        </td><td>4918     </td><td>1.064    </td></tr>\n",
       "</tbody>\n",
       "</table>\n"
      ],
      "text/latex": [
       "\\begin{tabular}{r|llll}\n",
       " cut & color & price & carat\\\\\n",
       "\\hline\n",
       "\t Fair      & D         & 4291      & 0.920    \\\\\n",
       "\t Good      & D         & 3405      & 0.745    \\\\\n",
       "\t Very Good & D         & 3470      & 0.696    \\\\\n",
       "\t Premium   & D         & 3631      & 0.722    \\\\\n",
       "\t Ideal     & D         & 2629      & 0.566    \\\\\n",
       "\t Fair      & E         & 3682      & 0.857    \\\\\n",
       "\t Good      & E         & 3424      & 0.745    \\\\\n",
       "\t Very Good & E         & 3215      & 0.676    \\\\\n",
       "\t Premium   & E         & 3539      & 0.718    \\\\\n",
       "\t Ideal     & E         & 2598      & 0.578    \\\\\n",
       "\t Fair      & F         & 3827      & 0.905    \\\\\n",
       "\t Good      & F         & 3496      & 0.776    \\\\\n",
       "\t Very Good & F         & 3779      & 0.741    \\\\\n",
       "\t Premium   & F         & 4325      & 0.827    \\\\\n",
       "\t Ideal     & F         & 3375      & 0.656    \\\\\n",
       "\t Fair      & G         & 4239      & 1.024    \\\\\n",
       "\t Good      & G         & 4123      & 0.851    \\\\\n",
       "\t Very Good & G         & 3873      & 0.767    \\\\\n",
       "\t Premium   & G         & 4501      & 0.841    \\\\\n",
       "\t Ideal     & G         & 3721      & 0.701    \\\\\n",
       "\t Fair      & H         & 5136      & 1.219    \\\\\n",
       "\t Good      & H         & 4276      & 0.915    \\\\\n",
       "\t Very Good & H         & 4535      & 0.916    \\\\\n",
       "\t Premium   & H         & 5217      & 1.016    \\\\\n",
       "\t Ideal     & H         & 3889      & 0.800    \\\\\n",
       "\t Fair      & I         & 4685      & 1.198    \\\\\n",
       "\t Good      & I         & 5079      & 1.057    \\\\\n",
       "\t Very Good & I         & 5256      & 1.047    \\\\\n",
       "\t Premium   & I         & 5946      & 1.145    \\\\\n",
       "\t Ideal     & I         & 4452      & 0.913    \\\\\n",
       "\t Fair      & J         & 4976      & 1.341    \\\\\n",
       "\t Good      & J         & 4574      & 1.100    \\\\\n",
       "\t Very Good & J         & 5104      & 1.133    \\\\\n",
       "\t Premium   & J         & 6295      & 1.293    \\\\\n",
       "\t Ideal     & J         & 4918      & 1.064    \\\\\n",
       "\\end{tabular}\n"
      ],
      "text/markdown": [
       "\n",
       "cut | color | price | carat | \n",
       "|---|---|---|---|---|---|---|---|---|---|---|---|---|---|---|---|---|---|---|---|---|---|---|---|---|---|---|---|---|---|---|---|---|---|---|\n",
       "| Fair      | D         | 4291      | 0.920     | \n",
       "| Good      | D         | 3405      | 0.745     | \n",
       "| Very Good | D         | 3470      | 0.696     | \n",
       "| Premium   | D         | 3631      | 0.722     | \n",
       "| Ideal     | D         | 2629      | 0.566     | \n",
       "| Fair      | E         | 3682      | 0.857     | \n",
       "| Good      | E         | 3424      | 0.745     | \n",
       "| Very Good | E         | 3215      | 0.676     | \n",
       "| Premium   | E         | 3539      | 0.718     | \n",
       "| Ideal     | E         | 2598      | 0.578     | \n",
       "| Fair      | F         | 3827      | 0.905     | \n",
       "| Good      | F         | 3496      | 0.776     | \n",
       "| Very Good | F         | 3779      | 0.741     | \n",
       "| Premium   | F         | 4325      | 0.827     | \n",
       "| Ideal     | F         | 3375      | 0.656     | \n",
       "| Fair      | G         | 4239      | 1.024     | \n",
       "| Good      | G         | 4123      | 0.851     | \n",
       "| Very Good | G         | 3873      | 0.767     | \n",
       "| Premium   | G         | 4501      | 0.841     | \n",
       "| Ideal     | G         | 3721      | 0.701     | \n",
       "| Fair      | H         | 5136      | 1.219     | \n",
       "| Good      | H         | 4276      | 0.915     | \n",
       "| Very Good | H         | 4535      | 0.916     | \n",
       "| Premium   | H         | 5217      | 1.016     | \n",
       "| Ideal     | H         | 3889      | 0.800     | \n",
       "| Fair      | I         | 4685      | 1.198     | \n",
       "| Good      | I         | 5079      | 1.057     | \n",
       "| Very Good | I         | 5256      | 1.047     | \n",
       "| Premium   | I         | 5946      | 1.145     | \n",
       "| Ideal     | I         | 4452      | 0.913     | \n",
       "| Fair      | J         | 4976      | 1.341     | \n",
       "| Good      | J         | 4574      | 1.100     | \n",
       "| Very Good | J         | 5104      | 1.133     | \n",
       "| Premium   | J         | 6295      | 1.293     | \n",
       "| Ideal     | J         | 4918      | 1.064     | \n",
       "\n",
       "\n"
      ],
      "text/plain": [
       "   cut       color price carat\n",
       "1  Fair      D     4291  0.920\n",
       "2  Good      D     3405  0.745\n",
       "3  Very Good D     3470  0.696\n",
       "4  Premium   D     3631  0.722\n",
       "5  Ideal     D     2629  0.566\n",
       "6  Fair      E     3682  0.857\n",
       "7  Good      E     3424  0.745\n",
       "8  Very Good E     3215  0.676\n",
       "9  Premium   E     3539  0.718\n",
       "10 Ideal     E     2598  0.578\n",
       "11 Fair      F     3827  0.905\n",
       "12 Good      F     3496  0.776\n",
       "13 Very Good F     3779  0.741\n",
       "14 Premium   F     4325  0.827\n",
       "15 Ideal     F     3375  0.656\n",
       "16 Fair      G     4239  1.024\n",
       "17 Good      G     4123  0.851\n",
       "18 Very Good G     3873  0.767\n",
       "19 Premium   G     4501  0.841\n",
       "20 Ideal     G     3721  0.701\n",
       "21 Fair      H     5136  1.219\n",
       "22 Good      H     4276  0.915\n",
       "23 Very Good H     4535  0.916\n",
       "24 Premium   H     5217  1.016\n",
       "25 Ideal     H     3889  0.800\n",
       "26 Fair      I     4685  1.198\n",
       "27 Good      I     5079  1.057\n",
       "28 Very Good I     5256  1.047\n",
       "29 Premium   I     5946  1.145\n",
       "30 Ideal     I     4452  0.913\n",
       "31 Fair      J     4976  1.341\n",
       "32 Good      J     4574  1.100\n",
       "33 Very Good J     5104  1.133\n",
       "34 Premium   J     6295  1.293\n",
       "35 Ideal     J     4918  1.064"
      ]
     },
     "metadata": {},
     "output_type": "display_data"
    }
   ],
   "source": [
    "# Apply calculations to more than one variables, use cbind\n",
    "\n",
    "aggregate(cbind(price,carat)~cut+color, diamonds, mean)"
   ]
  },
  {
   "cell_type": "markdown",
   "metadata": {},
   "source": [
    "### Transposition - reverses rows and columns"
   ]
  },
  {
   "cell_type": "code",
   "execution_count": 53,
   "metadata": {},
   "outputs": [
    {
     "data": {
      "text/html": [
       "<ol class=list-inline>\n",
       "\t<li>32</li>\n",
       "\t<li>11</li>\n",
       "</ol>\n"
      ],
      "text/latex": [
       "\\begin{enumerate*}\n",
       "\\item 32\n",
       "\\item 11\n",
       "\\end{enumerate*}\n"
      ],
      "text/markdown": [
       "1. 32\n",
       "2. 11\n",
       "\n",
       "\n"
      ],
      "text/plain": [
       "[1] 32 11"
      ]
     },
     "metadata": {},
     "output_type": "display_data"
    }
   ],
   "source": [
    "dim(mtcars)"
   ]
  },
  {
   "cell_type": "code",
   "execution_count": 54,
   "metadata": {},
   "outputs": [
    {
     "data": {
      "text/html": [
       "<ol class=list-inline>\n",
       "\t<li>11</li>\n",
       "\t<li>32</li>\n",
       "</ol>\n"
      ],
      "text/latex": [
       "\\begin{enumerate*}\n",
       "\\item 11\n",
       "\\item 32\n",
       "\\end{enumerate*}\n"
      ],
      "text/markdown": [
       "1. 11\n",
       "2. 32\n",
       "\n",
       "\n"
      ],
      "text/plain": [
       "[1] 11 32"
      ]
     },
     "metadata": {},
     "output_type": "display_data"
    }
   ],
   "source": [
    "dim(t(mtcars))"
   ]
  },
  {
   "cell_type": "markdown",
   "metadata": {},
   "source": [
    "### MERGING multiple datasets"
   ]
  },
  {
   "cell_type": "markdown",
   "metadata": {},
   "source": [
    "Suppose that both data frames have the same number of columns, the same order of the columns and the same column names. To merge these two frames by rows, i.e., you are joining two frames VERTICALLY, you will use rbind(dfA, dfB) command. Basically, you are adding rows to your data, keeping the same number of columns."
   ]
  },
  {
   "cell_type": "code",
   "execution_count": 70,
   "metadata": {},
   "outputs": [],
   "source": [
    "dfA <- data.frame(matrix(rep(1,6), nrow=3))"
   ]
  },
  {
   "cell_type": "code",
   "execution_count": 57,
   "metadata": {},
   "outputs": [],
   "source": [
    "dfB <- data.frame(matrix(rep(2,6), nrow=3))"
   ]
  },
  {
   "cell_type": "code",
   "execution_count": 59,
   "metadata": {},
   "outputs": [
    {
     "data": {
      "text/html": [
       "<table>\n",
       "<thead><tr><th scope=col>X1</th><th scope=col>X2</th></tr></thead>\n",
       "<tbody>\n",
       "\t<tr><td>1</td><td>1</td></tr>\n",
       "\t<tr><td>1</td><td>1</td></tr>\n",
       "\t<tr><td>1</td><td>1</td></tr>\n",
       "\t<tr><td>2</td><td>2</td></tr>\n",
       "\t<tr><td>2</td><td>2</td></tr>\n",
       "\t<tr><td>2</td><td>2</td></tr>\n",
       "</tbody>\n",
       "</table>\n"
      ],
      "text/latex": [
       "\\begin{tabular}{r|ll}\n",
       " X1 & X2\\\\\n",
       "\\hline\n",
       "\t 1 & 1\\\\\n",
       "\t 1 & 1\\\\\n",
       "\t 1 & 1\\\\\n",
       "\t 2 & 2\\\\\n",
       "\t 2 & 2\\\\\n",
       "\t 2 & 2\\\\\n",
       "\\end{tabular}\n"
      ],
      "text/markdown": [
       "\n",
       "X1 | X2 | \n",
       "|---|---|---|---|---|---|\n",
       "| 1 | 1 | \n",
       "| 1 | 1 | \n",
       "| 1 | 1 | \n",
       "| 2 | 2 | \n",
       "| 2 | 2 | \n",
       "| 2 | 2 | \n",
       "\n",
       "\n"
      ],
      "text/plain": [
       "  X1 X2\n",
       "1 1  1 \n",
       "2 1  1 \n",
       "3 1  1 \n",
       "4 2  2 \n",
       "5 2  2 \n",
       "6 2  2 "
      ]
     },
     "metadata": {},
     "output_type": "display_data"
    }
   ],
   "source": [
    "rbind(dfA, dfB)"
   ]
  },
  {
   "cell_type": "code",
   "execution_count": 60,
   "metadata": {},
   "outputs": [
    {
     "data": {
      "text/html": [
       "<table>\n",
       "<thead><tr><th scope=col>X1</th><th scope=col>X2</th><th scope=col>X1</th><th scope=col>X2</th></tr></thead>\n",
       "<tbody>\n",
       "\t<tr><td>1</td><td>1</td><td>2</td><td>2</td></tr>\n",
       "\t<tr><td>1</td><td>1</td><td>2</td><td>2</td></tr>\n",
       "\t<tr><td>1</td><td>1</td><td>2</td><td>2</td></tr>\n",
       "</tbody>\n",
       "</table>\n"
      ],
      "text/latex": [
       "\\begin{tabular}{r|llll}\n",
       " X1 & X2 & X1 & X2\\\\\n",
       "\\hline\n",
       "\t 1 & 1 & 2 & 2\\\\\n",
       "\t 1 & 1 & 2 & 2\\\\\n",
       "\t 1 & 1 & 2 & 2\\\\\n",
       "\\end{tabular}\n"
      ],
      "text/markdown": [
       "\n",
       "X1 | X2 | X1 | X2 | \n",
       "|---|---|---|\n",
       "| 1 | 1 | 2 | 2 | \n",
       "| 1 | 1 | 2 | 2 | \n",
       "| 1 | 1 | 2 | 2 | \n",
       "\n",
       "\n"
      ],
      "text/plain": [
       "  X1 X2 X1 X2\n",
       "1 1  1  2  2 \n",
       "2 1  1  2  2 \n",
       "3 1  1  2  2 "
      ]
     },
     "metadata": {},
     "output_type": "display_data"
    }
   ],
   "source": [
    "cbind(dfA, dfB)"
   ]
  },
  {
   "cell_type": "markdown",
   "metadata": {},
   "source": [
    "Consider a very different situation: two or more data frames have one or more variables in common. Suppose you want to join (column-wise) these frames by these common variables. You can accomplish that task using merge(x=dfA, y=dfB, by=vector_of_common_vars) function."
   ]
  },
  {
   "cell_type": "code",
   "execution_count": 77,
   "metadata": {},
   "outputs": [],
   "source": [
    "colnames(dfA)<-c(\"ID\",\"Age\")"
   ]
  },
  {
   "cell_type": "code",
   "execution_count": 78,
   "metadata": {},
   "outputs": [],
   "source": [
    "colnames(dfB)<-c(\"Weight\",\"ID\")"
   ]
  },
  {
   "cell_type": "code",
   "execution_count": 79,
   "metadata": {},
   "outputs": [
    {
     "data": {
      "text/html": [
       "<table>\n",
       "<thead><tr><th scope=col>ID</th><th scope=col>Age</th><th scope=col>Weight</th></tr></thead>\n",
       "<tbody>\n",
       "\t<tr><td>2</td><td>1</td><td>2</td></tr>\n",
       "\t<tr><td>2</td><td>1</td><td>2</td></tr>\n",
       "\t<tr><td>2</td><td>1</td><td>2</td></tr>\n",
       "</tbody>\n",
       "</table>\n"
      ],
      "text/latex": [
       "\\begin{tabular}{r|lll}\n",
       " ID & Age & Weight\\\\\n",
       "\\hline\n",
       "\t 2 & 1 & 2\\\\\n",
       "\t 2 & 1 & 2\\\\\n",
       "\t 2 & 1 & 2\\\\\n",
       "\\end{tabular}\n"
      ],
      "text/markdown": [
       "\n",
       "ID | Age | Weight | \n",
       "|---|---|---|\n",
       "| 2 | 1 | 2 | \n",
       "| 2 | 1 | 2 | \n",
       "| 2 | 1 | 2 | \n",
       "\n",
       "\n"
      ],
      "text/plain": [
       "  ID Age Weight\n",
       "1 2  1   2     \n",
       "2 2  1   2     \n",
       "3 2  1   2     "
      ]
     },
     "metadata": {},
     "output_type": "display_data"
    }
   ],
   "source": [
    "merge(dfA, dfB, by=\"ID\")"
   ]
  },
  {
   "cell_type": "code",
   "execution_count": 80,
   "metadata": {},
   "outputs": [],
   "source": [
    "dfA[2,1]<-2"
   ]
  },
  {
   "cell_type": "code",
   "execution_count": 71,
   "metadata": {},
   "outputs": [
    {
     "data": {
      "text/html": [
       "<table>\n",
       "<thead><tr><th scope=col>X1</th><th scope=col>X2</th></tr></thead>\n",
       "<tbody>\n",
       "\t<tr><td>1</td><td>1</td></tr>\n",
       "\t<tr><td>1</td><td>1</td></tr>\n",
       "\t<tr><td>1</td><td>1</td></tr>\n",
       "</tbody>\n",
       "</table>\n"
      ],
      "text/latex": [
       "\\begin{tabular}{r|ll}\n",
       " X1 & X2\\\\\n",
       "\\hline\n",
       "\t 1 & 1\\\\\n",
       "\t 1 & 1\\\\\n",
       "\t 1 & 1\\\\\n",
       "\\end{tabular}\n"
      ],
      "text/markdown": [
       "\n",
       "X1 | X2 | \n",
       "|---|---|---|\n",
       "| 1 | 1 | \n",
       "| 1 | 1 | \n",
       "| 1 | 1 | \n",
       "\n",
       "\n"
      ],
      "text/plain": [
       "  X1 X2\n",
       "1 1  1 \n",
       "2 1  1 \n",
       "3 1  1 "
      ]
     },
     "metadata": {},
     "output_type": "display_data"
    }
   ],
   "source": [
    "dfA"
   ]
  },
  {
   "cell_type": "markdown",
   "metadata": {},
   "source": [
    "### SORT"
   ]
  },
  {
   "cell_type": "code",
   "execution_count": 83,
   "metadata": {},
   "outputs": [
    {
     "data": {
      "text/html": [
       "<table>\n",
       "<thead><tr><th></th><th scope=col>mpg</th><th scope=col>cyl</th><th scope=col>disp</th><th scope=col>hp</th><th scope=col>drat</th><th scope=col>wt</th><th scope=col>qsec</th><th scope=col>vs</th><th scope=col>am</th><th scope=col>gear</th><th scope=col>carb</th></tr></thead>\n",
       "<tbody>\n",
       "\t<tr><th scope=row>Cadillac Fleetwood</th><td>10.4 </td><td>8    </td><td>472.0</td><td>205  </td><td>2.93 </td><td>5.25 </td><td>18.0 </td><td>0    </td><td>0    </td><td>3    </td><td>4    </td></tr>\n",
       "\t<tr><th scope=row>Lincoln Continental</th><td>10.4 </td><td>8    </td><td>460.0</td><td>215  </td><td>3.00 </td><td>5.42 </td><td>17.8 </td><td>0    </td><td>0    </td><td>3    </td><td>4    </td></tr>\n",
       "\t<tr><th scope=row>Camaro Z28</th><td>13.3 </td><td>8    </td><td>350.0</td><td>245  </td><td>3.73 </td><td>3.84 </td><td>15.4 </td><td>0    </td><td>0    </td><td>3    </td><td>4    </td></tr>\n",
       "\t<tr><th scope=row>Duster 360</th><td>14.3 </td><td>8    </td><td>360.0</td><td>245  </td><td>3.21 </td><td>3.57 </td><td>15.8 </td><td>0    </td><td>0    </td><td>3    </td><td>4    </td></tr>\n",
       "\t<tr><th scope=row>Chrysler Imperial</th><td>14.7 </td><td>8    </td><td>440.0</td><td>230  </td><td>3.23 </td><td>5.34 </td><td>17.4 </td><td>0    </td><td>0    </td><td>3    </td><td>4    </td></tr>\n",
       "\t<tr><th scope=row>Maserati Bora</th><td>15.0 </td><td>8    </td><td>301.0</td><td>335  </td><td>3.54 </td><td>3.57 </td><td>14.6 </td><td>0    </td><td>1    </td><td>5    </td><td>8    </td></tr>\n",
       "\t<tr><th scope=row>Merc 450SLC</th><td>15.2 </td><td>8    </td><td>275.8</td><td>180  </td><td>3.07 </td><td>3.78 </td><td>18.0 </td><td>0    </td><td>0    </td><td>3    </td><td>3    </td></tr>\n",
       "\t<tr><th scope=row>AMC Javelin</th><td>15.2 </td><td>8    </td><td>304.0</td><td>150  </td><td>3.15 </td><td>3.44 </td><td>17.3 </td><td>0    </td><td>0    </td><td>3    </td><td>2    </td></tr>\n",
       "\t<tr><th scope=row>Dodge Challenger</th><td>15.5 </td><td>8    </td><td>318.0</td><td>150  </td><td>2.76 </td><td>3.52 </td><td>16.9 </td><td>0    </td><td>0    </td><td>3    </td><td>2    </td></tr>\n",
       "\t<tr><th scope=row>Ford Pantera L</th><td>15.8 </td><td>8    </td><td>351.0</td><td>264  </td><td>4.22 </td><td>3.17 </td><td>14.5 </td><td>0    </td><td>1    </td><td>5    </td><td>4    </td></tr>\n",
       "\t<tr><th scope=row>Merc 450SE</th><td>16.4 </td><td>8    </td><td>275.8</td><td>180  </td><td>3.07 </td><td>4.07 </td><td>17.4 </td><td>0    </td><td>0    </td><td>3    </td><td>3    </td></tr>\n",
       "\t<tr><th scope=row>Merc 450SL</th><td>17.3 </td><td>8    </td><td>275.8</td><td>180  </td><td>3.07 </td><td>3.73 </td><td>17.6 </td><td>0    </td><td>0    </td><td>3    </td><td>3    </td></tr>\n",
       "\t<tr><th scope=row>Merc 280C</th><td>17.8 </td><td>6    </td><td>167.6</td><td>123  </td><td>3.92 </td><td>3.44 </td><td>18.9 </td><td>1    </td><td>0    </td><td>4    </td><td>4    </td></tr>\n",
       "\t<tr><th scope=row>Valiant</th><td>18.1 </td><td>6    </td><td>225.0</td><td>105  </td><td>2.76 </td><td>3.46 </td><td>20.2 </td><td>1    </td><td>0    </td><td>3    </td><td>1    </td></tr>\n",
       "\t<tr><th scope=row>Hornet Sportabout</th><td>18.7 </td><td>8    </td><td>360.0</td><td>175  </td><td>3.15 </td><td>3.44 </td><td>17.0 </td><td>0    </td><td>0    </td><td>3    </td><td>2    </td></tr>\n",
       "\t<tr><th scope=row>Merc 280</th><td>19.2 </td><td>6    </td><td>167.6</td><td>123  </td><td>3.92 </td><td>3.44 </td><td>18.3 </td><td>1    </td><td>0    </td><td>4    </td><td>4    </td></tr>\n",
       "\t<tr><th scope=row>Pontiac Firebird</th><td>19.2 </td><td>8    </td><td>400.0</td><td>175  </td><td>3.08 </td><td>3.85 </td><td>17.1 </td><td>0    </td><td>0    </td><td>3    </td><td>2    </td></tr>\n",
       "\t<tr><th scope=row>Ferrari Dino</th><td>19.7 </td><td>6    </td><td>145.0</td><td>175  </td><td>3.62 </td><td>2.77 </td><td>15.5 </td><td>0    </td><td>1    </td><td>5    </td><td>6    </td></tr>\n",
       "\t<tr><th scope=row>Mazda RX4</th><td>21.0 </td><td>6    </td><td>160.0</td><td>110  </td><td>3.90 </td><td>2.62 </td><td>16.5 </td><td>0    </td><td>1    </td><td>4    </td><td>4    </td></tr>\n",
       "\t<tr><th scope=row>Mazda RX4 Wag</th><td>21.0 </td><td>6    </td><td>160.0</td><td>110  </td><td>3.90 </td><td>2.88 </td><td>17.0 </td><td>0    </td><td>1    </td><td>4    </td><td>4    </td></tr>\n",
       "\t<tr><th scope=row>Hornet 4 Drive</th><td>21.4 </td><td>6    </td><td>258.0</td><td>110  </td><td>3.08 </td><td>3.21 </td><td>19.4 </td><td>1    </td><td>0    </td><td>3    </td><td>1    </td></tr>\n",
       "\t<tr><th scope=row>Volvo 142E</th><td>21.4 </td><td>4    </td><td>121.0</td><td>109  </td><td>4.11 </td><td>2.78 </td><td>18.6 </td><td>1    </td><td>1    </td><td>4    </td><td>2    </td></tr>\n",
       "\t<tr><th scope=row>Toyota Corona</th><td>21.5 </td><td>4    </td><td>120.1</td><td> 97  </td><td>3.70 </td><td>2.46 </td><td>20.0 </td><td>1    </td><td>0    </td><td>3    </td><td>1    </td></tr>\n",
       "\t<tr><th scope=row>Datsun 710</th><td>22.8 </td><td>4    </td><td>108.0</td><td> 93  </td><td>3.85 </td><td>2.32 </td><td>18.6 </td><td>1    </td><td>1    </td><td>4    </td><td>1    </td></tr>\n",
       "\t<tr><th scope=row>Merc 230</th><td>22.8 </td><td>4    </td><td>140.8</td><td> 95  </td><td>3.92 </td><td>3.15 </td><td>22.9 </td><td>1    </td><td>0    </td><td>4    </td><td>2    </td></tr>\n",
       "\t<tr><th scope=row>Merc 240D</th><td>24.4 </td><td>4    </td><td>146.7</td><td> 62  </td><td>3.69 </td><td>3.19 </td><td>20.0 </td><td>1    </td><td>0    </td><td>4    </td><td>2    </td></tr>\n",
       "\t<tr><th scope=row>Porsche 914-2</th><td>26.0 </td><td>4    </td><td>120.3</td><td> 91  </td><td>4.43 </td><td>2.14 </td><td>16.7 </td><td>0    </td><td>1    </td><td>5    </td><td>2    </td></tr>\n",
       "\t<tr><th scope=row>Fiat X1-9</th><td>27.3 </td><td>4    </td><td> 79.0</td><td> 66  </td><td>4.08 </td><td>1.94 </td><td>18.9 </td><td>1    </td><td>1    </td><td>4    </td><td>1    </td></tr>\n",
       "\t<tr><th scope=row>Honda Civic</th><td>30.4 </td><td>4    </td><td> 75.7</td><td> 52  </td><td>4.93 </td><td>1.61 </td><td>18.5 </td><td>1    </td><td>1    </td><td>4    </td><td>2    </td></tr>\n",
       "\t<tr><th scope=row>Lotus Europa</th><td>30.4 </td><td>4    </td><td> 95.1</td><td>113  </td><td>3.77 </td><td>1.51 </td><td>16.9 </td><td>1    </td><td>1    </td><td>5    </td><td>2    </td></tr>\n",
       "\t<tr><th scope=row>Fiat 128</th><td>32.4 </td><td>4    </td><td> 78.7</td><td> 66  </td><td>4.08 </td><td>2.20 </td><td>19.5 </td><td>1    </td><td>1    </td><td>4    </td><td>1    </td></tr>\n",
       "\t<tr><th scope=row>Toyota Corolla</th><td>33.9 </td><td>4    </td><td> 71.1</td><td> 65  </td><td>4.22 </td><td>1.83 </td><td>19.9 </td><td>1    </td><td>1    </td><td>4    </td><td>1    </td></tr>\n",
       "</tbody>\n",
       "</table>\n"
      ],
      "text/latex": [
       "\\begin{tabular}{r|lllllllllll}\n",
       "  & mpg & cyl & disp & hp & drat & wt & qsec & vs & am & gear & carb\\\\\n",
       "\\hline\n",
       "\tCadillac Fleetwood & 10.4  & 8     & 472.0 & 205   & 2.93  & 5.25  & 18.0  & 0     & 0     & 3     & 4    \\\\\n",
       "\tLincoln Continental & 10.4  & 8     & 460.0 & 215   & 3.00  & 5.42  & 17.8  & 0     & 0     & 3     & 4    \\\\\n",
       "\tCamaro Z28 & 13.3  & 8     & 350.0 & 245   & 3.73  & 3.84  & 15.4  & 0     & 0     & 3     & 4    \\\\\n",
       "\tDuster 360 & 14.3  & 8     & 360.0 & 245   & 3.21  & 3.57  & 15.8  & 0     & 0     & 3     & 4    \\\\\n",
       "\tChrysler Imperial & 14.7  & 8     & 440.0 & 230   & 3.23  & 5.34  & 17.4  & 0     & 0     & 3     & 4    \\\\\n",
       "\tMaserati Bora & 15.0  & 8     & 301.0 & 335   & 3.54  & 3.57  & 14.6  & 0     & 1     & 5     & 8    \\\\\n",
       "\tMerc 450SLC & 15.2  & 8     & 275.8 & 180   & 3.07  & 3.78  & 18.0  & 0     & 0     & 3     & 3    \\\\\n",
       "\tAMC Javelin & 15.2  & 8     & 304.0 & 150   & 3.15  & 3.44  & 17.3  & 0     & 0     & 3     & 2    \\\\\n",
       "\tDodge Challenger & 15.5  & 8     & 318.0 & 150   & 2.76  & 3.52  & 16.9  & 0     & 0     & 3     & 2    \\\\\n",
       "\tFord Pantera L & 15.8  & 8     & 351.0 & 264   & 4.22  & 3.17  & 14.5  & 0     & 1     & 5     & 4    \\\\\n",
       "\tMerc 450SE & 16.4  & 8     & 275.8 & 180   & 3.07  & 4.07  & 17.4  & 0     & 0     & 3     & 3    \\\\\n",
       "\tMerc 450SL & 17.3  & 8     & 275.8 & 180   & 3.07  & 3.73  & 17.6  & 0     & 0     & 3     & 3    \\\\\n",
       "\tMerc 280C & 17.8  & 6     & 167.6 & 123   & 3.92  & 3.44  & 18.9  & 1     & 0     & 4     & 4    \\\\\n",
       "\tValiant & 18.1  & 6     & 225.0 & 105   & 2.76  & 3.46  & 20.2  & 1     & 0     & 3     & 1    \\\\\n",
       "\tHornet Sportabout & 18.7  & 8     & 360.0 & 175   & 3.15  & 3.44  & 17.0  & 0     & 0     & 3     & 2    \\\\\n",
       "\tMerc 280 & 19.2  & 6     & 167.6 & 123   & 3.92  & 3.44  & 18.3  & 1     & 0     & 4     & 4    \\\\\n",
       "\tPontiac Firebird & 19.2  & 8     & 400.0 & 175   & 3.08  & 3.85  & 17.1  & 0     & 0     & 3     & 2    \\\\\n",
       "\tFerrari Dino & 19.7  & 6     & 145.0 & 175   & 3.62  & 2.77  & 15.5  & 0     & 1     & 5     & 6    \\\\\n",
       "\tMazda RX4 & 21.0  & 6     & 160.0 & 110   & 3.90  & 2.62  & 16.5  & 0     & 1     & 4     & 4    \\\\\n",
       "\tMazda RX4 Wag & 21.0  & 6     & 160.0 & 110   & 3.90  & 2.88  & 17.0  & 0     & 1     & 4     & 4    \\\\\n",
       "\tHornet 4 Drive & 21.4  & 6     & 258.0 & 110   & 3.08  & 3.21  & 19.4  & 1     & 0     & 3     & 1    \\\\\n",
       "\tVolvo 142E & 21.4  & 4     & 121.0 & 109   & 4.11  & 2.78  & 18.6  & 1     & 1     & 4     & 2    \\\\\n",
       "\tToyota Corona & 21.5  & 4     & 120.1 &  97   & 3.70  & 2.46  & 20.0  & 1     & 0     & 3     & 1    \\\\\n",
       "\tDatsun 710 & 22.8  & 4     & 108.0 &  93   & 3.85  & 2.32  & 18.6  & 1     & 1     & 4     & 1    \\\\\n",
       "\tMerc 230 & 22.8  & 4     & 140.8 &  95   & 3.92  & 3.15  & 22.9  & 1     & 0     & 4     & 2    \\\\\n",
       "\tMerc 240D & 24.4  & 4     & 146.7 &  62   & 3.69  & 3.19  & 20.0  & 1     & 0     & 4     & 2    \\\\\n",
       "\tPorsche 914-2 & 26.0  & 4     & 120.3 &  91   & 4.43  & 2.14  & 16.7  & 0     & 1     & 5     & 2    \\\\\n",
       "\tFiat X1-9 & 27.3  & 4     &  79.0 &  66   & 4.08  & 1.94  & 18.9  & 1     & 1     & 4     & 1    \\\\\n",
       "\tHonda Civic & 30.4  & 4     &  75.7 &  52   & 4.93  & 1.61  & 18.5  & 1     & 1     & 4     & 2    \\\\\n",
       "\tLotus Europa & 30.4  & 4     &  95.1 & 113   & 3.77  & 1.51  & 16.9  & 1     & 1     & 5     & 2    \\\\\n",
       "\tFiat 128 & 32.4  & 4     &  78.7 &  66   & 4.08  & 2.20  & 19.5  & 1     & 1     & 4     & 1    \\\\\n",
       "\tToyota Corolla & 33.9  & 4     &  71.1 &  65   & 4.22  & 1.83  & 19.9  & 1     & 1     & 4     & 1    \\\\\n",
       "\\end{tabular}\n"
      ],
      "text/markdown": [
       "\n",
       "| <!--/--> | mpg | cyl | disp | hp | drat | wt | qsec | vs | am | gear | carb | \n",
       "|---|---|---|---|---|---|---|---|---|---|---|---|---|---|---|---|---|---|---|---|---|---|---|---|---|---|---|---|---|---|---|---|\n",
       "| Cadillac Fleetwood | 10.4  | 8     | 472.0 | 205   | 2.93  | 5.25  | 18.0  | 0     | 0     | 3     | 4     | \n",
       "| Lincoln Continental | 10.4  | 8     | 460.0 | 215   | 3.00  | 5.42  | 17.8  | 0     | 0     | 3     | 4     | \n",
       "| Camaro Z28 | 13.3  | 8     | 350.0 | 245   | 3.73  | 3.84  | 15.4  | 0     | 0     | 3     | 4     | \n",
       "| Duster 360 | 14.3  | 8     | 360.0 | 245   | 3.21  | 3.57  | 15.8  | 0     | 0     | 3     | 4     | \n",
       "| Chrysler Imperial | 14.7  | 8     | 440.0 | 230   | 3.23  | 5.34  | 17.4  | 0     | 0     | 3     | 4     | \n",
       "| Maserati Bora | 15.0  | 8     | 301.0 | 335   | 3.54  | 3.57  | 14.6  | 0     | 1     | 5     | 8     | \n",
       "| Merc 450SLC | 15.2  | 8     | 275.8 | 180   | 3.07  | 3.78  | 18.0  | 0     | 0     | 3     | 3     | \n",
       "| AMC Javelin | 15.2  | 8     | 304.0 | 150   | 3.15  | 3.44  | 17.3  | 0     | 0     | 3     | 2     | \n",
       "| Dodge Challenger | 15.5  | 8     | 318.0 | 150   | 2.76  | 3.52  | 16.9  | 0     | 0     | 3     | 2     | \n",
       "| Ford Pantera L | 15.8  | 8     | 351.0 | 264   | 4.22  | 3.17  | 14.5  | 0     | 1     | 5     | 4     | \n",
       "| Merc 450SE | 16.4  | 8     | 275.8 | 180   | 3.07  | 4.07  | 17.4  | 0     | 0     | 3     | 3     | \n",
       "| Merc 450SL | 17.3  | 8     | 275.8 | 180   | 3.07  | 3.73  | 17.6  | 0     | 0     | 3     | 3     | \n",
       "| Merc 280C | 17.8  | 6     | 167.6 | 123   | 3.92  | 3.44  | 18.9  | 1     | 0     | 4     | 4     | \n",
       "| Valiant | 18.1  | 6     | 225.0 | 105   | 2.76  | 3.46  | 20.2  | 1     | 0     | 3     | 1     | \n",
       "| Hornet Sportabout | 18.7  | 8     | 360.0 | 175   | 3.15  | 3.44  | 17.0  | 0     | 0     | 3     | 2     | \n",
       "| Merc 280 | 19.2  | 6     | 167.6 | 123   | 3.92  | 3.44  | 18.3  | 1     | 0     | 4     | 4     | \n",
       "| Pontiac Firebird | 19.2  | 8     | 400.0 | 175   | 3.08  | 3.85  | 17.1  | 0     | 0     | 3     | 2     | \n",
       "| Ferrari Dino | 19.7  | 6     | 145.0 | 175   | 3.62  | 2.77  | 15.5  | 0     | 1     | 5     | 6     | \n",
       "| Mazda RX4 | 21.0  | 6     | 160.0 | 110   | 3.90  | 2.62  | 16.5  | 0     | 1     | 4     | 4     | \n",
       "| Mazda RX4 Wag | 21.0  | 6     | 160.0 | 110   | 3.90  | 2.88  | 17.0  | 0     | 1     | 4     | 4     | \n",
       "| Hornet 4 Drive | 21.4  | 6     | 258.0 | 110   | 3.08  | 3.21  | 19.4  | 1     | 0     | 3     | 1     | \n",
       "| Volvo 142E | 21.4  | 4     | 121.0 | 109   | 4.11  | 2.78  | 18.6  | 1     | 1     | 4     | 2     | \n",
       "| Toyota Corona | 21.5  | 4     | 120.1 |  97   | 3.70  | 2.46  | 20.0  | 1     | 0     | 3     | 1     | \n",
       "| Datsun 710 | 22.8  | 4     | 108.0 |  93   | 3.85  | 2.32  | 18.6  | 1     | 1     | 4     | 1     | \n",
       "| Merc 230 | 22.8  | 4     | 140.8 |  95   | 3.92  | 3.15  | 22.9  | 1     | 0     | 4     | 2     | \n",
       "| Merc 240D | 24.4  | 4     | 146.7 |  62   | 3.69  | 3.19  | 20.0  | 1     | 0     | 4     | 2     | \n",
       "| Porsche 914-2 | 26.0  | 4     | 120.3 |  91   | 4.43  | 2.14  | 16.7  | 0     | 1     | 5     | 2     | \n",
       "| Fiat X1-9 | 27.3  | 4     |  79.0 |  66   | 4.08  | 1.94  | 18.9  | 1     | 1     | 4     | 1     | \n",
       "| Honda Civic | 30.4  | 4     |  75.7 |  52   | 4.93  | 1.61  | 18.5  | 1     | 1     | 4     | 2     | \n",
       "| Lotus Europa | 30.4  | 4     |  95.1 | 113   | 3.77  | 1.51  | 16.9  | 1     | 1     | 5     | 2     | \n",
       "| Fiat 128 | 32.4  | 4     |  78.7 |  66   | 4.08  | 2.20  | 19.5  | 1     | 1     | 4     | 1     | \n",
       "| Toyota Corolla | 33.9  | 4     |  71.1 |  65   | 4.22  | 1.83  | 19.9  | 1     | 1     | 4     | 1     | \n",
       "\n",
       "\n"
      ],
      "text/plain": [
       "                    mpg  cyl disp  hp  drat wt   qsec vs am gear carb\n",
       "Cadillac Fleetwood  10.4 8   472.0 205 2.93 5.25 18.0 0  0  3    4   \n",
       "Lincoln Continental 10.4 8   460.0 215 3.00 5.42 17.8 0  0  3    4   \n",
       "Camaro Z28          13.3 8   350.0 245 3.73 3.84 15.4 0  0  3    4   \n",
       "Duster 360          14.3 8   360.0 245 3.21 3.57 15.8 0  0  3    4   \n",
       "Chrysler Imperial   14.7 8   440.0 230 3.23 5.34 17.4 0  0  3    4   \n",
       "Maserati Bora       15.0 8   301.0 335 3.54 3.57 14.6 0  1  5    8   \n",
       "Merc 450SLC         15.2 8   275.8 180 3.07 3.78 18.0 0  0  3    3   \n",
       "AMC Javelin         15.2 8   304.0 150 3.15 3.44 17.3 0  0  3    2   \n",
       "Dodge Challenger    15.5 8   318.0 150 2.76 3.52 16.9 0  0  3    2   \n",
       "Ford Pantera L      15.8 8   351.0 264 4.22 3.17 14.5 0  1  5    4   \n",
       "Merc 450SE          16.4 8   275.8 180 3.07 4.07 17.4 0  0  3    3   \n",
       "Merc 450SL          17.3 8   275.8 180 3.07 3.73 17.6 0  0  3    3   \n",
       "Merc 280C           17.8 6   167.6 123 3.92 3.44 18.9 1  0  4    4   \n",
       "Valiant             18.1 6   225.0 105 2.76 3.46 20.2 1  0  3    1   \n",
       "Hornet Sportabout   18.7 8   360.0 175 3.15 3.44 17.0 0  0  3    2   \n",
       "Merc 280            19.2 6   167.6 123 3.92 3.44 18.3 1  0  4    4   \n",
       "Pontiac Firebird    19.2 8   400.0 175 3.08 3.85 17.1 0  0  3    2   \n",
       "Ferrari Dino        19.7 6   145.0 175 3.62 2.77 15.5 0  1  5    6   \n",
       "Mazda RX4           21.0 6   160.0 110 3.90 2.62 16.5 0  1  4    4   \n",
       "Mazda RX4 Wag       21.0 6   160.0 110 3.90 2.88 17.0 0  1  4    4   \n",
       "Hornet 4 Drive      21.4 6   258.0 110 3.08 3.21 19.4 1  0  3    1   \n",
       "Volvo 142E          21.4 4   121.0 109 4.11 2.78 18.6 1  1  4    2   \n",
       "Toyota Corona       21.5 4   120.1  97 3.70 2.46 20.0 1  0  3    1   \n",
       "Datsun 710          22.8 4   108.0  93 3.85 2.32 18.6 1  1  4    1   \n",
       "Merc 230            22.8 4   140.8  95 3.92 3.15 22.9 1  0  4    2   \n",
       "Merc 240D           24.4 4   146.7  62 3.69 3.19 20.0 1  0  4    2   \n",
       "Porsche 914-2       26.0 4   120.3  91 4.43 2.14 16.7 0  1  5    2   \n",
       "Fiat X1-9           27.3 4    79.0  66 4.08 1.94 18.9 1  1  4    1   \n",
       "Honda Civic         30.4 4    75.7  52 4.93 1.61 18.5 1  1  4    2   \n",
       "Lotus Europa        30.4 4    95.1 113 3.77 1.51 16.9 1  1  5    2   \n",
       "Fiat 128            32.4 4    78.7  66 4.08 2.20 19.5 1  1  4    1   \n",
       "Toyota Corolla      33.9 4    71.1  65 4.22 1.83 19.9 1  1  4    1   "
      ]
     },
     "metadata": {},
     "output_type": "display_data"
    }
   ],
   "source": [
    "# Ascending order of mpg\n",
    "mtcars[order(mpg),]"
   ]
  },
  {
   "cell_type": "code",
   "execution_count": 84,
   "metadata": {},
   "outputs": [
    {
     "data": {
      "text/html": [
       "<table>\n",
       "<thead><tr><th></th><th scope=col>mpg</th><th scope=col>cyl</th><th scope=col>disp</th><th scope=col>hp</th><th scope=col>drat</th><th scope=col>wt</th><th scope=col>qsec</th><th scope=col>vs</th><th scope=col>am</th><th scope=col>gear</th><th scope=col>carb</th></tr></thead>\n",
       "<tbody>\n",
       "\t<tr><th scope=row>Lincoln Continental</th><td>10.4 </td><td>8    </td><td>460.0</td><td>215  </td><td>3.00 </td><td>5.42 </td><td>17.8 </td><td>0    </td><td>0    </td><td>3    </td><td>4    </td></tr>\n",
       "\t<tr><th scope=row>Cadillac Fleetwood</th><td>10.4 </td><td>8    </td><td>472.0</td><td>205  </td><td>2.93 </td><td>5.25 </td><td>18.0 </td><td>0    </td><td>0    </td><td>3    </td><td>4    </td></tr>\n",
       "\t<tr><th scope=row>Camaro Z28</th><td>13.3 </td><td>8    </td><td>350.0</td><td>245  </td><td>3.73 </td><td>3.84 </td><td>15.4 </td><td>0    </td><td>0    </td><td>3    </td><td>4    </td></tr>\n",
       "\t<tr><th scope=row>Duster 360</th><td>14.3 </td><td>8    </td><td>360.0</td><td>245  </td><td>3.21 </td><td>3.57 </td><td>15.8 </td><td>0    </td><td>0    </td><td>3    </td><td>4    </td></tr>\n",
       "\t<tr><th scope=row>Chrysler Imperial</th><td>14.7 </td><td>8    </td><td>440.0</td><td>230  </td><td>3.23 </td><td>5.34 </td><td>17.4 </td><td>0    </td><td>0    </td><td>3    </td><td>4    </td></tr>\n",
       "\t<tr><th scope=row>Maserati Bora</th><td>15.0 </td><td>8    </td><td>301.0</td><td>335  </td><td>3.54 </td><td>3.57 </td><td>14.6 </td><td>0    </td><td>1    </td><td>5    </td><td>8    </td></tr>\n",
       "\t<tr><th scope=row>Merc 450SLC</th><td>15.2 </td><td>8    </td><td>275.8</td><td>180  </td><td>3.07 </td><td>3.78 </td><td>18.0 </td><td>0    </td><td>0    </td><td>3    </td><td>3    </td></tr>\n",
       "\t<tr><th scope=row>AMC Javelin</th><td>15.2 </td><td>8    </td><td>304.0</td><td>150  </td><td>3.15 </td><td>3.44 </td><td>17.3 </td><td>0    </td><td>0    </td><td>3    </td><td>2    </td></tr>\n",
       "\t<tr><th scope=row>Dodge Challenger</th><td>15.5 </td><td>8    </td><td>318.0</td><td>150  </td><td>2.76 </td><td>3.52 </td><td>16.9 </td><td>0    </td><td>0    </td><td>3    </td><td>2    </td></tr>\n",
       "\t<tr><th scope=row>Ford Pantera L</th><td>15.8 </td><td>8    </td><td>351.0</td><td>264  </td><td>4.22 </td><td>3.17 </td><td>14.5 </td><td>0    </td><td>1    </td><td>5    </td><td>4    </td></tr>\n",
       "\t<tr><th scope=row>Merc 450SE</th><td>16.4 </td><td>8    </td><td>275.8</td><td>180  </td><td>3.07 </td><td>4.07 </td><td>17.4 </td><td>0    </td><td>0    </td><td>3    </td><td>3    </td></tr>\n",
       "\t<tr><th scope=row>Merc 450SL</th><td>17.3 </td><td>8    </td><td>275.8</td><td>180  </td><td>3.07 </td><td>3.73 </td><td>17.6 </td><td>0    </td><td>0    </td><td>3    </td><td>3    </td></tr>\n",
       "\t<tr><th scope=row>Merc 280C</th><td>17.8 </td><td>6    </td><td>167.6</td><td>123  </td><td>3.92 </td><td>3.44 </td><td>18.9 </td><td>1    </td><td>0    </td><td>4    </td><td>4    </td></tr>\n",
       "\t<tr><th scope=row>Valiant</th><td>18.1 </td><td>6    </td><td>225.0</td><td>105  </td><td>2.76 </td><td>3.46 </td><td>20.2 </td><td>1    </td><td>0    </td><td>3    </td><td>1    </td></tr>\n",
       "\t<tr><th scope=row>Hornet Sportabout</th><td>18.7 </td><td>8    </td><td>360.0</td><td>175  </td><td>3.15 </td><td>3.44 </td><td>17.0 </td><td>0    </td><td>0    </td><td>3    </td><td>2    </td></tr>\n",
       "\t<tr><th scope=row>Pontiac Firebird</th><td>19.2 </td><td>8    </td><td>400.0</td><td>175  </td><td>3.08 </td><td>3.85 </td><td>17.1 </td><td>0    </td><td>0    </td><td>3    </td><td>2    </td></tr>\n",
       "\t<tr><th scope=row>Merc 280</th><td>19.2 </td><td>6    </td><td>167.6</td><td>123  </td><td>3.92 </td><td>3.44 </td><td>18.3 </td><td>1    </td><td>0    </td><td>4    </td><td>4    </td></tr>\n",
       "\t<tr><th scope=row>Ferrari Dino</th><td>19.7 </td><td>6    </td><td>145.0</td><td>175  </td><td>3.62 </td><td>2.77 </td><td>15.5 </td><td>0    </td><td>1    </td><td>5    </td><td>6    </td></tr>\n",
       "\t<tr><th scope=row>Mazda RX4</th><td>21.0 </td><td>6    </td><td>160.0</td><td>110  </td><td>3.90 </td><td>2.62 </td><td>16.5 </td><td>0    </td><td>1    </td><td>4    </td><td>4    </td></tr>\n",
       "\t<tr><th scope=row>Mazda RX4 Wag</th><td>21.0 </td><td>6    </td><td>160.0</td><td>110  </td><td>3.90 </td><td>2.88 </td><td>17.0 </td><td>0    </td><td>1    </td><td>4    </td><td>4    </td></tr>\n",
       "\t<tr><th scope=row>Hornet 4 Drive</th><td>21.4 </td><td>6    </td><td>258.0</td><td>110  </td><td>3.08 </td><td>3.21 </td><td>19.4 </td><td>1    </td><td>0    </td><td>3    </td><td>1    </td></tr>\n",
       "\t<tr><th scope=row>Volvo 142E</th><td>21.4 </td><td>4    </td><td>121.0</td><td>109  </td><td>4.11 </td><td>2.78 </td><td>18.6 </td><td>1    </td><td>1    </td><td>4    </td><td>2    </td></tr>\n",
       "\t<tr><th scope=row>Toyota Corona</th><td>21.5 </td><td>4    </td><td>120.1</td><td> 97  </td><td>3.70 </td><td>2.46 </td><td>20.0 </td><td>1    </td><td>0    </td><td>3    </td><td>1    </td></tr>\n",
       "\t<tr><th scope=row>Merc 230</th><td>22.8 </td><td>4    </td><td>140.8</td><td> 95  </td><td>3.92 </td><td>3.15 </td><td>22.9 </td><td>1    </td><td>0    </td><td>4    </td><td>2    </td></tr>\n",
       "\t<tr><th scope=row>Datsun 710</th><td>22.8 </td><td>4    </td><td>108.0</td><td> 93  </td><td>3.85 </td><td>2.32 </td><td>18.6 </td><td>1    </td><td>1    </td><td>4    </td><td>1    </td></tr>\n",
       "\t<tr><th scope=row>Merc 240D</th><td>24.4 </td><td>4    </td><td>146.7</td><td> 62  </td><td>3.69 </td><td>3.19 </td><td>20.0 </td><td>1    </td><td>0    </td><td>4    </td><td>2    </td></tr>\n",
       "\t<tr><th scope=row>Porsche 914-2</th><td>26.0 </td><td>4    </td><td>120.3</td><td> 91  </td><td>4.43 </td><td>2.14 </td><td>16.7 </td><td>0    </td><td>1    </td><td>5    </td><td>2    </td></tr>\n",
       "\t<tr><th scope=row>Fiat X1-9</th><td>27.3 </td><td>4    </td><td> 79.0</td><td> 66  </td><td>4.08 </td><td>1.94 </td><td>18.9 </td><td>1    </td><td>1    </td><td>4    </td><td>1    </td></tr>\n",
       "\t<tr><th scope=row>Lotus Europa</th><td>30.4 </td><td>4    </td><td> 95.1</td><td>113  </td><td>3.77 </td><td>1.51 </td><td>16.9 </td><td>1    </td><td>1    </td><td>5    </td><td>2    </td></tr>\n",
       "\t<tr><th scope=row>Honda Civic</th><td>30.4 </td><td>4    </td><td> 75.7</td><td> 52  </td><td>4.93 </td><td>1.61 </td><td>18.5 </td><td>1    </td><td>1    </td><td>4    </td><td>2    </td></tr>\n",
       "\t<tr><th scope=row>Fiat 128</th><td>32.4 </td><td>4    </td><td> 78.7</td><td> 66  </td><td>4.08 </td><td>2.20 </td><td>19.5 </td><td>1    </td><td>1    </td><td>4    </td><td>1    </td></tr>\n",
       "\t<tr><th scope=row>Toyota Corolla</th><td>33.9 </td><td>4    </td><td> 71.1</td><td> 65  </td><td>4.22 </td><td>1.83 </td><td>19.9 </td><td>1    </td><td>1    </td><td>4    </td><td>1    </td></tr>\n",
       "</tbody>\n",
       "</table>\n"
      ],
      "text/latex": [
       "\\begin{tabular}{r|lllllllllll}\n",
       "  & mpg & cyl & disp & hp & drat & wt & qsec & vs & am & gear & carb\\\\\n",
       "\\hline\n",
       "\tLincoln Continental & 10.4  & 8     & 460.0 & 215   & 3.00  & 5.42  & 17.8  & 0     & 0     & 3     & 4    \\\\\n",
       "\tCadillac Fleetwood & 10.4  & 8     & 472.0 & 205   & 2.93  & 5.25  & 18.0  & 0     & 0     & 3     & 4    \\\\\n",
       "\tCamaro Z28 & 13.3  & 8     & 350.0 & 245   & 3.73  & 3.84  & 15.4  & 0     & 0     & 3     & 4    \\\\\n",
       "\tDuster 360 & 14.3  & 8     & 360.0 & 245   & 3.21  & 3.57  & 15.8  & 0     & 0     & 3     & 4    \\\\\n",
       "\tChrysler Imperial & 14.7  & 8     & 440.0 & 230   & 3.23  & 5.34  & 17.4  & 0     & 0     & 3     & 4    \\\\\n",
       "\tMaserati Bora & 15.0  & 8     & 301.0 & 335   & 3.54  & 3.57  & 14.6  & 0     & 1     & 5     & 8    \\\\\n",
       "\tMerc 450SLC & 15.2  & 8     & 275.8 & 180   & 3.07  & 3.78  & 18.0  & 0     & 0     & 3     & 3    \\\\\n",
       "\tAMC Javelin & 15.2  & 8     & 304.0 & 150   & 3.15  & 3.44  & 17.3  & 0     & 0     & 3     & 2    \\\\\n",
       "\tDodge Challenger & 15.5  & 8     & 318.0 & 150   & 2.76  & 3.52  & 16.9  & 0     & 0     & 3     & 2    \\\\\n",
       "\tFord Pantera L & 15.8  & 8     & 351.0 & 264   & 4.22  & 3.17  & 14.5  & 0     & 1     & 5     & 4    \\\\\n",
       "\tMerc 450SE & 16.4  & 8     & 275.8 & 180   & 3.07  & 4.07  & 17.4  & 0     & 0     & 3     & 3    \\\\\n",
       "\tMerc 450SL & 17.3  & 8     & 275.8 & 180   & 3.07  & 3.73  & 17.6  & 0     & 0     & 3     & 3    \\\\\n",
       "\tMerc 280C & 17.8  & 6     & 167.6 & 123   & 3.92  & 3.44  & 18.9  & 1     & 0     & 4     & 4    \\\\\n",
       "\tValiant & 18.1  & 6     & 225.0 & 105   & 2.76  & 3.46  & 20.2  & 1     & 0     & 3     & 1    \\\\\n",
       "\tHornet Sportabout & 18.7  & 8     & 360.0 & 175   & 3.15  & 3.44  & 17.0  & 0     & 0     & 3     & 2    \\\\\n",
       "\tPontiac Firebird & 19.2  & 8     & 400.0 & 175   & 3.08  & 3.85  & 17.1  & 0     & 0     & 3     & 2    \\\\\n",
       "\tMerc 280 & 19.2  & 6     & 167.6 & 123   & 3.92  & 3.44  & 18.3  & 1     & 0     & 4     & 4    \\\\\n",
       "\tFerrari Dino & 19.7  & 6     & 145.0 & 175   & 3.62  & 2.77  & 15.5  & 0     & 1     & 5     & 6    \\\\\n",
       "\tMazda RX4 & 21.0  & 6     & 160.0 & 110   & 3.90  & 2.62  & 16.5  & 0     & 1     & 4     & 4    \\\\\n",
       "\tMazda RX4 Wag & 21.0  & 6     & 160.0 & 110   & 3.90  & 2.88  & 17.0  & 0     & 1     & 4     & 4    \\\\\n",
       "\tHornet 4 Drive & 21.4  & 6     & 258.0 & 110   & 3.08  & 3.21  & 19.4  & 1     & 0     & 3     & 1    \\\\\n",
       "\tVolvo 142E & 21.4  & 4     & 121.0 & 109   & 4.11  & 2.78  & 18.6  & 1     & 1     & 4     & 2    \\\\\n",
       "\tToyota Corona & 21.5  & 4     & 120.1 &  97   & 3.70  & 2.46  & 20.0  & 1     & 0     & 3     & 1    \\\\\n",
       "\tMerc 230 & 22.8  & 4     & 140.8 &  95   & 3.92  & 3.15  & 22.9  & 1     & 0     & 4     & 2    \\\\\n",
       "\tDatsun 710 & 22.8  & 4     & 108.0 &  93   & 3.85  & 2.32  & 18.6  & 1     & 1     & 4     & 1    \\\\\n",
       "\tMerc 240D & 24.4  & 4     & 146.7 &  62   & 3.69  & 3.19  & 20.0  & 1     & 0     & 4     & 2    \\\\\n",
       "\tPorsche 914-2 & 26.0  & 4     & 120.3 &  91   & 4.43  & 2.14  & 16.7  & 0     & 1     & 5     & 2    \\\\\n",
       "\tFiat X1-9 & 27.3  & 4     &  79.0 &  66   & 4.08  & 1.94  & 18.9  & 1     & 1     & 4     & 1    \\\\\n",
       "\tLotus Europa & 30.4  & 4     &  95.1 & 113   & 3.77  & 1.51  & 16.9  & 1     & 1     & 5     & 2    \\\\\n",
       "\tHonda Civic & 30.4  & 4     &  75.7 &  52   & 4.93  & 1.61  & 18.5  & 1     & 1     & 4     & 2    \\\\\n",
       "\tFiat 128 & 32.4  & 4     &  78.7 &  66   & 4.08  & 2.20  & 19.5  & 1     & 1     & 4     & 1    \\\\\n",
       "\tToyota Corolla & 33.9  & 4     &  71.1 &  65   & 4.22  & 1.83  & 19.9  & 1     & 1     & 4     & 1    \\\\\n",
       "\\end{tabular}\n"
      ],
      "text/markdown": [
       "\n",
       "| <!--/--> | mpg | cyl | disp | hp | drat | wt | qsec | vs | am | gear | carb | \n",
       "|---|---|---|---|---|---|---|---|---|---|---|---|---|---|---|---|---|---|---|---|---|---|---|---|---|---|---|---|---|---|---|---|\n",
       "| Lincoln Continental | 10.4  | 8     | 460.0 | 215   | 3.00  | 5.42  | 17.8  | 0     | 0     | 3     | 4     | \n",
       "| Cadillac Fleetwood | 10.4  | 8     | 472.0 | 205   | 2.93  | 5.25  | 18.0  | 0     | 0     | 3     | 4     | \n",
       "| Camaro Z28 | 13.3  | 8     | 350.0 | 245   | 3.73  | 3.84  | 15.4  | 0     | 0     | 3     | 4     | \n",
       "| Duster 360 | 14.3  | 8     | 360.0 | 245   | 3.21  | 3.57  | 15.8  | 0     | 0     | 3     | 4     | \n",
       "| Chrysler Imperial | 14.7  | 8     | 440.0 | 230   | 3.23  | 5.34  | 17.4  | 0     | 0     | 3     | 4     | \n",
       "| Maserati Bora | 15.0  | 8     | 301.0 | 335   | 3.54  | 3.57  | 14.6  | 0     | 1     | 5     | 8     | \n",
       "| Merc 450SLC | 15.2  | 8     | 275.8 | 180   | 3.07  | 3.78  | 18.0  | 0     | 0     | 3     | 3     | \n",
       "| AMC Javelin | 15.2  | 8     | 304.0 | 150   | 3.15  | 3.44  | 17.3  | 0     | 0     | 3     | 2     | \n",
       "| Dodge Challenger | 15.5  | 8     | 318.0 | 150   | 2.76  | 3.52  | 16.9  | 0     | 0     | 3     | 2     | \n",
       "| Ford Pantera L | 15.8  | 8     | 351.0 | 264   | 4.22  | 3.17  | 14.5  | 0     | 1     | 5     | 4     | \n",
       "| Merc 450SE | 16.4  | 8     | 275.8 | 180   | 3.07  | 4.07  | 17.4  | 0     | 0     | 3     | 3     | \n",
       "| Merc 450SL | 17.3  | 8     | 275.8 | 180   | 3.07  | 3.73  | 17.6  | 0     | 0     | 3     | 3     | \n",
       "| Merc 280C | 17.8  | 6     | 167.6 | 123   | 3.92  | 3.44  | 18.9  | 1     | 0     | 4     | 4     | \n",
       "| Valiant | 18.1  | 6     | 225.0 | 105   | 2.76  | 3.46  | 20.2  | 1     | 0     | 3     | 1     | \n",
       "| Hornet Sportabout | 18.7  | 8     | 360.0 | 175   | 3.15  | 3.44  | 17.0  | 0     | 0     | 3     | 2     | \n",
       "| Pontiac Firebird | 19.2  | 8     | 400.0 | 175   | 3.08  | 3.85  | 17.1  | 0     | 0     | 3     | 2     | \n",
       "| Merc 280 | 19.2  | 6     | 167.6 | 123   | 3.92  | 3.44  | 18.3  | 1     | 0     | 4     | 4     | \n",
       "| Ferrari Dino | 19.7  | 6     | 145.0 | 175   | 3.62  | 2.77  | 15.5  | 0     | 1     | 5     | 6     | \n",
       "| Mazda RX4 | 21.0  | 6     | 160.0 | 110   | 3.90  | 2.62  | 16.5  | 0     | 1     | 4     | 4     | \n",
       "| Mazda RX4 Wag | 21.0  | 6     | 160.0 | 110   | 3.90  | 2.88  | 17.0  | 0     | 1     | 4     | 4     | \n",
       "| Hornet 4 Drive | 21.4  | 6     | 258.0 | 110   | 3.08  | 3.21  | 19.4  | 1     | 0     | 3     | 1     | \n",
       "| Volvo 142E | 21.4  | 4     | 121.0 | 109   | 4.11  | 2.78  | 18.6  | 1     | 1     | 4     | 2     | \n",
       "| Toyota Corona | 21.5  | 4     | 120.1 |  97   | 3.70  | 2.46  | 20.0  | 1     | 0     | 3     | 1     | \n",
       "| Merc 230 | 22.8  | 4     | 140.8 |  95   | 3.92  | 3.15  | 22.9  | 1     | 0     | 4     | 2     | \n",
       "| Datsun 710 | 22.8  | 4     | 108.0 |  93   | 3.85  | 2.32  | 18.6  | 1     | 1     | 4     | 1     | \n",
       "| Merc 240D | 24.4  | 4     | 146.7 |  62   | 3.69  | 3.19  | 20.0  | 1     | 0     | 4     | 2     | \n",
       "| Porsche 914-2 | 26.0  | 4     | 120.3 |  91   | 4.43  | 2.14  | 16.7  | 0     | 1     | 5     | 2     | \n",
       "| Fiat X1-9 | 27.3  | 4     |  79.0 |  66   | 4.08  | 1.94  | 18.9  | 1     | 1     | 4     | 1     | \n",
       "| Lotus Europa | 30.4  | 4     |  95.1 | 113   | 3.77  | 1.51  | 16.9  | 1     | 1     | 5     | 2     | \n",
       "| Honda Civic | 30.4  | 4     |  75.7 |  52   | 4.93  | 1.61  | 18.5  | 1     | 1     | 4     | 2     | \n",
       "| Fiat 128 | 32.4  | 4     |  78.7 |  66   | 4.08  | 2.20  | 19.5  | 1     | 1     | 4     | 1     | \n",
       "| Toyota Corolla | 33.9  | 4     |  71.1 |  65   | 4.22  | 1.83  | 19.9  | 1     | 1     | 4     | 1     | \n",
       "\n",
       "\n"
      ],
      "text/plain": [
       "                    mpg  cyl disp  hp  drat wt   qsec vs am gear carb\n",
       "Lincoln Continental 10.4 8   460.0 215 3.00 5.42 17.8 0  0  3    4   \n",
       "Cadillac Fleetwood  10.4 8   472.0 205 2.93 5.25 18.0 0  0  3    4   \n",
       "Camaro Z28          13.3 8   350.0 245 3.73 3.84 15.4 0  0  3    4   \n",
       "Duster 360          14.3 8   360.0 245 3.21 3.57 15.8 0  0  3    4   \n",
       "Chrysler Imperial   14.7 8   440.0 230 3.23 5.34 17.4 0  0  3    4   \n",
       "Maserati Bora       15.0 8   301.0 335 3.54 3.57 14.6 0  1  5    8   \n",
       "Merc 450SLC         15.2 8   275.8 180 3.07 3.78 18.0 0  0  3    3   \n",
       "AMC Javelin         15.2 8   304.0 150 3.15 3.44 17.3 0  0  3    2   \n",
       "Dodge Challenger    15.5 8   318.0 150 2.76 3.52 16.9 0  0  3    2   \n",
       "Ford Pantera L      15.8 8   351.0 264 4.22 3.17 14.5 0  1  5    4   \n",
       "Merc 450SE          16.4 8   275.8 180 3.07 4.07 17.4 0  0  3    3   \n",
       "Merc 450SL          17.3 8   275.8 180 3.07 3.73 17.6 0  0  3    3   \n",
       "Merc 280C           17.8 6   167.6 123 3.92 3.44 18.9 1  0  4    4   \n",
       "Valiant             18.1 6   225.0 105 2.76 3.46 20.2 1  0  3    1   \n",
       "Hornet Sportabout   18.7 8   360.0 175 3.15 3.44 17.0 0  0  3    2   \n",
       "Pontiac Firebird    19.2 8   400.0 175 3.08 3.85 17.1 0  0  3    2   \n",
       "Merc 280            19.2 6   167.6 123 3.92 3.44 18.3 1  0  4    4   \n",
       "Ferrari Dino        19.7 6   145.0 175 3.62 2.77 15.5 0  1  5    6   \n",
       "Mazda RX4           21.0 6   160.0 110 3.90 2.62 16.5 0  1  4    4   \n",
       "Mazda RX4 Wag       21.0 6   160.0 110 3.90 2.88 17.0 0  1  4    4   \n",
       "Hornet 4 Drive      21.4 6   258.0 110 3.08 3.21 19.4 1  0  3    1   \n",
       "Volvo 142E          21.4 4   121.0 109 4.11 2.78 18.6 1  1  4    2   \n",
       "Toyota Corona       21.5 4   120.1  97 3.70 2.46 20.0 1  0  3    1   \n",
       "Merc 230            22.8 4   140.8  95 3.92 3.15 22.9 1  0  4    2   \n",
       "Datsun 710          22.8 4   108.0  93 3.85 2.32 18.6 1  1  4    1   \n",
       "Merc 240D           24.4 4   146.7  62 3.69 3.19 20.0 1  0  4    2   \n",
       "Porsche 914-2       26.0 4   120.3  91 4.43 2.14 16.7 0  1  5    2   \n",
       "Fiat X1-9           27.3 4    79.0  66 4.08 1.94 18.9 1  1  4    1   \n",
       "Lotus Europa        30.4 4    95.1 113 3.77 1.51 16.9 1  1  5    2   \n",
       "Honda Civic         30.4 4    75.7  52 4.93 1.61 18.5 1  1  4    2   \n",
       "Fiat 128            32.4 4    78.7  66 4.08 2.20 19.5 1  1  4    1   \n",
       "Toyota Corolla      33.9 4    71.1  65 4.22 1.83 19.9 1  1  4    1   "
      ]
     },
     "metadata": {},
     "output_type": "display_data"
    }
   ],
   "source": [
    "# Ascending order of mpg and descending order of hp\n",
    "mtcars[order(mpg, -hp),]"
   ]
  },
  {
   "cell_type": "markdown",
   "metadata": {},
   "source": [
    "### SUBSET"
   ]
  },
  {
   "cell_type": "code",
   "execution_count": 87,
   "metadata": {
    "scrolled": true
   },
   "outputs": [
    {
     "data": {
      "text/html": [
       "<table>\n",
       "<thead><tr><th></th><th scope=col>mpg</th><th scope=col>hp</th><th scope=col>cyl</th><th scope=col>wt</th></tr></thead>\n",
       "<tbody>\n",
       "\t<tr><th scope=row>Fiat 128</th><td>32.4</td><td> 66 </td><td>4   </td><td>2.20</td></tr>\n",
       "\t<tr><th scope=row>Fiat X1-9</th><td>27.3</td><td> 66 </td><td>4   </td><td>1.94</td></tr>\n",
       "\t<tr><th scope=row>Porsche 914-2</th><td>26.0</td><td> 91 </td><td>4   </td><td>2.14</td></tr>\n",
       "\t<tr><th scope=row>Lotus Europa</th><td>30.4</td><td>113 </td><td>4   </td><td>1.51</td></tr>\n",
       "</tbody>\n",
       "</table>\n"
      ],
      "text/latex": [
       "\\begin{tabular}{r|llll}\n",
       "  & mpg & hp & cyl & wt\\\\\n",
       "\\hline\n",
       "\tFiat 128 & 32.4 &  66  & 4    & 2.20\\\\\n",
       "\tFiat X1-9 & 27.3 &  66  & 4    & 1.94\\\\\n",
       "\tPorsche 914-2 & 26.0 &  91  & 4    & 2.14\\\\\n",
       "\tLotus Europa & 30.4 & 113  & 4    & 1.51\\\\\n",
       "\\end{tabular}\n"
      ],
      "text/markdown": [
       "\n",
       "| <!--/--> | mpg | hp | cyl | wt | \n",
       "|---|---|---|---|\n",
       "| Fiat 128 | 32.4 |  66  | 4    | 2.20 | \n",
       "| Fiat X1-9 | 27.3 |  66  | 4    | 1.94 | \n",
       "| Porsche 914-2 | 26.0 |  91  | 4    | 2.14 | \n",
       "| Lotus Europa | 30.4 | 113  | 4    | 1.51 | \n",
       "\n",
       "\n"
      ],
      "text/plain": [
       "              mpg  hp  cyl wt  \n",
       "Fiat 128      32.4  66 4   2.20\n",
       "Fiat X1-9     27.3  66 4   1.94\n",
       "Porsche 914-2 26.0  91 4   2.14\n",
       "Lotus Europa  30.4 113 4   1.51"
      ]
     },
     "metadata": {},
     "output_type": "display_data"
    }
   ],
   "source": [
    "subset(mtcars, mpg>=26 & mpg <= 33 & hp >=65, select=c(mpg,hp,cyl,wt))"
   ]
  },
  {
   "cell_type": "code",
   "execution_count": 88,
   "metadata": {},
   "outputs": [
    {
     "data": {
      "text/html": [
       "<table>\n",
       "<thead><tr><th></th><th scope=col>mpg</th><th scope=col>cyl</th><th scope=col>disp</th><th scope=col>hp</th><th scope=col>drat</th><th scope=col>wt</th><th scope=col>qsec</th><th scope=col>vs</th><th scope=col>am</th><th scope=col>gear</th><th scope=col>carb</th></tr></thead>\n",
       "<tbody>\n",
       "\t<tr><th scope=row>Fiat 128</th><td>32.4 </td><td>4    </td><td> 78.7</td><td> 66  </td><td>4.08 </td><td>2.20 </td><td>19.5 </td><td>1    </td><td>1    </td><td>4    </td><td>1    </td></tr>\n",
       "\t<tr><th scope=row>Fiat X1-9</th><td>27.3 </td><td>4    </td><td> 79.0</td><td> 66  </td><td>4.08 </td><td>1.94 </td><td>18.9 </td><td>1    </td><td>1    </td><td>4    </td><td>1    </td></tr>\n",
       "\t<tr><th scope=row>Porsche 914-2</th><td>26.0 </td><td>4    </td><td>120.3</td><td> 91  </td><td>4.43 </td><td>2.14 </td><td>16.7 </td><td>0    </td><td>1    </td><td>5    </td><td>2    </td></tr>\n",
       "\t<tr><th scope=row>Lotus Europa</th><td>30.4 </td><td>4    </td><td> 95.1</td><td>113  </td><td>3.77 </td><td>1.51 </td><td>16.9 </td><td>1    </td><td>1    </td><td>5    </td><td>2    </td></tr>\n",
       "</tbody>\n",
       "</table>\n"
      ],
      "text/latex": [
       "\\begin{tabular}{r|lllllllllll}\n",
       "  & mpg & cyl & disp & hp & drat & wt & qsec & vs & am & gear & carb\\\\\n",
       "\\hline\n",
       "\tFiat 128 & 32.4  & 4     &  78.7 &  66   & 4.08  & 2.20  & 19.5  & 1     & 1     & 4     & 1    \\\\\n",
       "\tFiat X1-9 & 27.3  & 4     &  79.0 &  66   & 4.08  & 1.94  & 18.9  & 1     & 1     & 4     & 1    \\\\\n",
       "\tPorsche 914-2 & 26.0  & 4     & 120.3 &  91   & 4.43  & 2.14  & 16.7  & 0     & 1     & 5     & 2    \\\\\n",
       "\tLotus Europa & 30.4  & 4     &  95.1 & 113   & 3.77  & 1.51  & 16.9  & 1     & 1     & 5     & 2    \\\\\n",
       "\\end{tabular}\n"
      ],
      "text/markdown": [
       "\n",
       "| <!--/--> | mpg | cyl | disp | hp | drat | wt | qsec | vs | am | gear | carb | \n",
       "|---|---|---|---|\n",
       "| Fiat 128 | 32.4  | 4     |  78.7 |  66   | 4.08  | 2.20  | 19.5  | 1     | 1     | 4     | 1     | \n",
       "| Fiat X1-9 | 27.3  | 4     |  79.0 |  66   | 4.08  | 1.94  | 18.9  | 1     | 1     | 4     | 1     | \n",
       "| Porsche 914-2 | 26.0  | 4     | 120.3 |  91   | 4.43  | 2.14  | 16.7  | 0     | 1     | 5     | 2     | \n",
       "| Lotus Europa | 30.4  | 4     |  95.1 | 113   | 3.77  | 1.51  | 16.9  | 1     | 1     | 5     | 2     | \n",
       "\n",
       "\n"
      ],
      "text/plain": [
       "              mpg  cyl disp  hp  drat wt   qsec vs am gear carb\n",
       "Fiat 128      32.4 4    78.7  66 4.08 2.20 19.5 1  1  4    1   \n",
       "Fiat X1-9     27.3 4    79.0  66 4.08 1.94 18.9 1  1  4    1   \n",
       "Porsche 914-2 26.0 4   120.3  91 4.43 2.14 16.7 0  1  5    2   \n",
       "Lotus Europa  30.4 4    95.1 113 3.77 1.51 16.9 1  1  5    2   "
      ]
     },
     "metadata": {},
     "output_type": "display_data"
    }
   ],
   "source": [
    "subset(mtcars, mpg>=26 & mpg <= 33 & hp >=65)"
   ]
  },
  {
   "cell_type": "code",
   "execution_count": null,
   "metadata": {},
   "outputs": [],
   "source": []
  }
 ],
 "metadata": {
  "kernelspec": {
   "display_name": "R",
   "language": "R",
   "name": "ir"
  },
  "language_info": {
   "codemirror_mode": "r",
   "file_extension": ".r",
   "mimetype": "text/x-r-source",
   "name": "R",
   "pygments_lexer": "r",
   "version": "3.5.1"
  }
 },
 "nbformat": 4,
 "nbformat_minor": 2
}
